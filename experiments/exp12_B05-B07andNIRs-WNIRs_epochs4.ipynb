{
 "cells": [
  {
   "cell_type": "markdown",
   "metadata": {},
   "source": [
    "## Resnet50v2 with B05-B07 (vegetation red edges) and B08, B8A, B11, and B12, scaled to 60 x 60 pixels, and with 4 epochs"
   ]
  },
  {
   "cell_type": "markdown",
   "metadata": {},
   "source": [
    "The notebook contains a custom setup of the Resnet50v2 model, which allows for users to configure the input such that (i) the list of remote sensing channels can be flexible and (ii) the dimension of image patches can be uniformaly adjusted (e.g., 20x20, 60x60, and 120x120). Each remote sensing channel input is stacked up and fed into the model all at once."
   ]
  },
  {
   "cell_type": "markdown",
   "metadata": {},
   "source": [
    "### Environment and library settings"
   ]
  },
  {
   "cell_type": "code",
   "execution_count": 1,
   "metadata": {},
   "outputs": [
    {
     "name": "stdout",
     "output_type": "stream",
     "text": [
      "Num GPUs Available:  1\n"
     ]
    }
   ],
   "source": [
    "import tensorflow as tf\n",
    "print(\"Num GPUs Available: \", len(tf.config.experimental.list_physical_devices('GPU')))"
   ]
  },
  {
   "cell_type": "code",
   "execution_count": 2,
   "metadata": {},
   "outputs": [
    {
     "name": "stdout",
     "output_type": "stream",
     "text": [
      "Default GPU Device: /device:GPU:0\n"
     ]
    }
   ],
   "source": [
    "if tf.test.gpu_device_name():\n",
    "    print('Default GPU Device: {}'.format(tf.test.gpu_device_name()))\n",
    "else:\n",
    "    print(\"Please install GPU version of TF\")"
   ]
  },
  {
   "cell_type": "code",
   "execution_count": 3,
   "metadata": {},
   "outputs": [],
   "source": [
    "from pathlib import Path\n",
    "from PIL import Image, ImageShow\n",
    "import numpy as np\n",
    "import matplotlib.pyplot as plt\n",
    "import json\n",
    "import pandas as pd\n",
    "import cv2\n",
    "from skimage.transform import resize\n",
    "from tifffile import imread\n",
    "import time"
   ]
  },
  {
   "cell_type": "code",
   "execution_count": 4,
   "metadata": {},
   "outputs": [
    {
     "data": {
      "text/plain": [
       "'2.3.1'"
      ]
     },
     "execution_count": 4,
     "metadata": {},
     "output_type": "execute_result"
    }
   ],
   "source": [
    "import tensorflow as tf\n",
    "tf.__version__"
   ]
  },
  {
   "cell_type": "code",
   "execution_count": 5,
   "metadata": {},
   "outputs": [
    {
     "name": "stdout",
     "output_type": "stream",
     "text": [
      "/home/jupyter\n"
     ]
    }
   ],
   "source": [
    "!pwd"
   ]
  },
  {
   "cell_type": "code",
   "execution_count": 6,
   "metadata": {},
   "outputs": [
    {
     "data": {
      "text/plain": [
       "['.docker',\n",
       " '.jupyter',\n",
       " '.keras',\n",
       " '.ipython',\n",
       " 'bigearthnet_model_Resnet50v2_B05-B07_epochs4.ipynb',\n",
       " '.ipynb_checkpoints',\n",
       " '.local',\n",
       " 'data',\n",
       " '.config',\n",
       " '.bash_history',\n",
       " '.nv',\n",
       " 'bigearthnet_model_Resnet50v2_B05-B07andNIRs-WNIRs_epochs4.ipynb',\n",
       " 'bigearthnet_model_Resnet50v2_B01_B05-B07_epochs4.ipynb',\n",
       " 'bigearthnet_model_Resnet50v2_B05-B07andB09_epochs4.ipynb',\n",
       " 'tutorials',\n",
       " '.cache']"
      ]
     },
     "execution_count": 6,
     "metadata": {},
     "output_type": "execute_result"
    }
   ],
   "source": [
    "import os\n",
    "os.listdir('/home/jupyter')"
   ]
  },
  {
   "cell_type": "code",
   "execution_count": 20,
   "metadata": {},
   "outputs": [
    {
     "data": {
      "text/plain": [
       "'S2A_MSIL2A_20180506T100031_85_83'"
      ]
     },
     "execution_count": 20,
     "metadata": {},
     "output_type": "execute_result"
    }
   ],
   "source": [
    "next(os.walk('/home/jupyter/data/BigEarthNet-v1.0'))[1][0]"
   ]
  },
  {
   "cell_type": "code",
   "execution_count": 21,
   "metadata": {},
   "outputs": [
    {
     "data": {
      "text/plain": [
       "['S2A_MSIL2A_20170613T101032_77_22_B12.tif',\n",
       " 'S2A_MSIL2A_20170613T101032_77_22_B07.tif',\n",
       " 'S2A_MSIL2A_20170613T101032_77_22_B02.tif',\n",
       " 'S2A_MSIL2A_20170613T101032_77_22_B04.tif',\n",
       " 'S2A_MSIL2A_20170613T101032_77_22_B09.tif',\n",
       " 'S2A_MSIL2A_20170613T101032_77_22_labels_metadata.json',\n",
       " 'S2A_MSIL2A_20170613T101032_77_22_B05.tif',\n",
       " 'S2A_MSIL2A_20170613T101032_77_22_B11.tif',\n",
       " 'S2A_MSIL2A_20170613T101032_77_22_B06.tif',\n",
       " 'S2A_MSIL2A_20170613T101032_77_22_B08.tif',\n",
       " 'S2A_MSIL2A_20170613T101032_77_22_B01.tif',\n",
       " 'S2A_MSIL2A_20170613T101032_77_22_B8A.tif',\n",
       " 'S2A_MSIL2A_20170613T101032_77_22_B03.tif']"
      ]
     },
     "execution_count": 21,
     "metadata": {},
     "output_type": "execute_result"
    }
   ],
   "source": [
    "os.listdir('/home/jupyter/data/BigEarthNet-v1.0/S2A_MSIL2A_20170613T101032_77_22/')"
   ]
  },
  {
   "cell_type": "code",
   "execution_count": 7,
   "metadata": {},
   "outputs": [],
   "source": [
    "data_dir = \"/home/jupyter/data/BigEarthNet-v1.0\""
   ]
  },
  {
   "cell_type": "code",
   "execution_count": 8,
   "metadata": {},
   "outputs": [
    {
     "data": {
      "text/plain": [
       "['S2A_MSIL2A_20180506T100031_85_83',\n",
       " 'S2B_MSIL2A_20180515T094029_34_51',\n",
       " 'S2A_MSIL2A_20170613T101031_29_73',\n",
       " 'S2B_MSIL2A_20170930T095019_85_57',\n",
       " 'S2B_MSIL2A_20180204T94160_63_62',\n",
       " 'S2A_MSIL2A_20171208T093351_67_52',\n",
       " 'S2B_MSIL2A_20170817T101019_41_90',\n",
       " 'S2A_MSIL2A_20171002T112111_23_41',\n",
       " 'S2B_MSIL2A_20180421T100029_28_81',\n",
       " 'S2B_MSIL2A_20170930T095019_25_58']"
      ]
     },
     "execution_count": 8,
     "metadata": {},
     "output_type": "execute_result"
    }
   ],
   "source": [
    "img_list = os.listdir(data_dir)\n",
    "img_list[0:10]"
   ]
  },
  {
   "cell_type": "code",
   "execution_count": 9,
   "metadata": {},
   "outputs": [
    {
     "data": {
      "text/plain": [
       "590326"
      ]
     },
     "execution_count": 9,
     "metadata": {},
     "output_type": "execute_result"
    }
   ],
   "source": [
    "len(os.listdir(data_dir))"
   ]
  },
  {
   "cell_type": "markdown",
   "metadata": {},
   "source": [
    "### Configuring the model parameters and constant variables"
   ]
  },
  {
   "cell_type": "code",
   "execution_count": 10,
   "metadata": {},
   "outputs": [],
   "source": [
    "PIXEL = 60\n",
    "BATCH_SIZE = 32\n",
    "BATCH_COUNT = len(img_list)//BATCH_SIZE\n",
    "CHANNELS = [\"B05\",\"B06\",\"B07\",\"B08\",\"B8A\",\"B11\",\"B12\"]\n",
    "EPOCH = 4\n",
    "\n",
    "# B01: Coastal aerosol; 60m\n",
    "# B02: Blue; 10m\n",
    "# B03: Green; 10m\n",
    "# B04: Red; 10m\n",
    "# B05: Vegetation red edge; 20m\n",
    "# B06: Vegetation red edge; 20m\n",
    "# B07: Vegetation red edge; 20m\n",
    "# B08: NIR; 10m\n",
    "# B09: Water vapor; 60m\n",
    "# B11: SWIR; 20m\n",
    "# B12: SWIR; 20m\n",
    "# B8A: Narrow NIR; 20m\n",
    "# Reference: https://developers.google.com/earth-engine/datasets/catalog/TUBerlin_BigEarthNet_v1#bands\n",
    "\n",
    "LABEL_MAP = {'Agro-forestry areas':1,\n",
    "           'Airports':0,\n",
    "           'Annual crops associated with permanent crops':1,\n",
    "           'Bare rock':0,\n",
    "           'Beaches, dunes, sands':0,\n",
    "           'Broad-leaved forest':0,\n",
    "           'Burnt areas':0,\n",
    "           'Coastal lagoons':0,\n",
    "           'Complex cultivation patterns':1,\n",
    "           'Coniferous forest':0,\n",
    "           'Construction sites':0,\n",
    "           'Continuous urban fabric':0,\n",
    "           'Discontinuous urban fabric':0,\n",
    "           'Dump sites':0,\n",
    "           'Estuaries':0,\n",
    "           'Fruit trees and berry plantations':1,\n",
    "           'Green urban areas':0,\n",
    "           'Industrial or commercial units':0,\n",
    "           'Inland marshes':0,\n",
    "           'Intertidal flats':0,\n",
    "           'Land principally occupied by agriculture, with significant areas of natural vegetation':1,\n",
    "           'Mineral extraction sites':0,\n",
    "           'Mixed forest':0,\n",
    "           'Moors and heathland':0,\n",
    "           'Natural grassland':0,\n",
    "           'Non-irrigated arable land':0,\n",
    "           'Olive groves':1,\n",
    "           'Pastures':1,\n",
    "           'Peatbogs':0,\n",
    "           'Permanently irrigated land':1,\n",
    "           'Port areas':0,\n",
    "           'Rice fields':1,\n",
    "           'Road and rail networks and associated land':0,\n",
    "           'Salines':0,\n",
    "           'Salt marshes':0,\n",
    "           'Sclerophyllous vegetation':0,\n",
    "           'Sea and ocean':0,\n",
    "           'Sparsely vegetated areas':0,\n",
    "           'Sport and leisure facilities':0,\n",
    "           'Transitional woodland/shrub':0,\n",
    "           'Vineyards':1,\n",
    "           'Water bodies':0,\n",
    "           'Water courses':0\n",
    "           }"
   ]
  },
  {
   "cell_type": "markdown",
   "metadata": {},
   "source": [
    "### Custom data generator and model building"
   ]
  },
  {
   "cell_type": "code",
   "execution_count": 11,
   "metadata": {},
   "outputs": [],
   "source": [
    "### custom data generator to be used for the stacking approach\n",
    "\n",
    "class Dataset(tf.keras.utils.Sequence):\n",
    "    def __init__(self, data_dir, img_list, label_map, shuffle, channels, batch_size, pixel):\n",
    "        self.img_list = img_list\n",
    "        self.data_dir = data_dir\n",
    "        self.shuffle = shuffle\n",
    "        self.batch_size = batch_size\n",
    "        self.label_map = label_map\n",
    "        self.__on_epoch_end()\n",
    "        self.channels = channels\n",
    "        self.pixel = pixel\n",
    "        # print(channels)\n",
    "\n",
    "    def __len__(self):\n",
    "        # denote the number of batches in an epoch\n",
    "        return int(np.floor(len(self.img_list))/self.batch_size)\n",
    "\n",
    "    def __on_epoch_end(self):\n",
    "        'create and update index of the images in each epoch'\n",
    "        self.indexes = np.arange(len(self.img_list))\n",
    "        if self.shuffle == True:\n",
    "            np.random.shuffle(self.indexes)\n",
    "\n",
    "    def __getitem__(self, index):\n",
    "        indexes = self.indexes[index * self.batch_size: (index + 1) * self.batch_size]\n",
    "\n",
    "        img_list = [self.img_list[i] for i in indexes]\n",
    "        imgs = [self.__load_img(img_path) for img_path in img_list]\n",
    "        # label = [1 for img_path in img_list]\n",
    "        labels =[]\n",
    "\n",
    "        for img_path in img_list:\n",
    "            label = self.__generate_label(img_path, self.data_dir, self.label_map)\n",
    "            labels.append(label)\n",
    "\n",
    "        imgs = np.array(imgs)\n",
    "        labels = np.array(labels)\n",
    "\n",
    "        return imgs, labels\n",
    "\n",
    "\n",
    "    def __generate_label(self, img_path, data_dir, label_map):\n",
    "  \n",
    "        # unroll Json to get label\n",
    "        label_path = os.path.join(data_dir, img_path, img_path + '_labels_metadata.json')\n",
    "        label_data = json.load(open(label_path))\n",
    "\n",
    "        for i in label_data[\"labels\"]:\n",
    "            if label_map[i]==1:\n",
    "                return 1\n",
    "\n",
    "        return 0\n",
    "\n",
    "\n",
    "    def __load_img(self, img_path):\n",
    "\n",
    "        ch_img_list = []\n",
    "\n",
    "        for ch in self.channels:\n",
    "            ch_path = os.path.join(data_dir, img_path, img_path + '_' + ch + '.tif')\n",
    "            ch_img_list.append(imread(ch_path))\n",
    "\n",
    "        img = self.__preprocess(ch_img_list)\n",
    "\n",
    "        return img\n",
    "\n",
    "    def __preprocess(self, channels):\n",
    "\n",
    "        'preprocess and resize channels'\n",
    "\n",
    "        # dimension\n",
    "        dim = (self.pixel,self.pixel)\n",
    "        list_of_ch = []\n",
    "\n",
    "        for k in channels:\n",
    "            mat = cv2.resize(np.array(k), dim)\n",
    "\n",
    "            #print(np.array(k).shape)\n",
    "            list_of_ch.append(mat)\n",
    "\n",
    "        img = np.dstack(list_of_ch)\n",
    "\n",
    "        return img"
   ]
  },
  {
   "cell_type": "code",
   "execution_count": 12,
   "metadata": {},
   "outputs": [],
   "source": [
    "data_gen = Dataset(data_dir, img_list, LABEL_MAP, True, CHANNELS, BATCH_SIZE, PIXEL)"
   ]
  },
  {
   "cell_type": "code",
   "execution_count": 13,
   "metadata": {
    "collapsed": true,
    "jupyter": {
     "outputs_hidden": true
    }
   },
   "outputs": [
    {
     "data": {
      "text/plain": [
       "(array([[[[  330,   272,   263],\n",
       "          [  335,   271,   270],\n",
       "          [  323,   279,   273],\n",
       "          ...,\n",
       "          [  280,   234,   217],\n",
       "          [  275,   225,   211],\n",
       "          [  287,   235,   233]],\n",
       " \n",
       "         [[  317,   262,   261],\n",
       "          [  311,   263,   273],\n",
       "          [  319,   295,   262],\n",
       "          ...,\n",
       "          [  284,   225,   230],\n",
       "          [  273,   218,   220],\n",
       "          [  276,   220,   214]],\n",
       " \n",
       "         [[  328,   262,   274],\n",
       "          [  353,   272,   306],\n",
       "          [  331,   277,   273],\n",
       "          ...,\n",
       "          [  286,   226,   228],\n",
       "          [  287,   246,   227],\n",
       "          [  283,   235,   217]],\n",
       " \n",
       "         ...,\n",
       " \n",
       "         [[  310,   279,   273],\n",
       "          [  331,   275,   258],\n",
       "          [  322,   282,   264],\n",
       "          ...,\n",
       "          [  252,   214,   200],\n",
       "          [  258,   222,   208],\n",
       "          [  246,   233,   219]],\n",
       " \n",
       "         [[  337,   279,   279],\n",
       "          [  337,   297,   277],\n",
       "          [  325,   306,   278],\n",
       "          ...,\n",
       "          [  265,   224,   238],\n",
       "          [  262,   218,   206],\n",
       "          [  267,   222,   212]],\n",
       " \n",
       "         [[  326,   279,   273],\n",
       "          [  342,   274,   266],\n",
       "          [  335,   272,   271],\n",
       "          ...,\n",
       "          [  269,   242,   222],\n",
       "          [  256,   201,   175],\n",
       "          [  255,   198,   199]]],\n",
       " \n",
       " \n",
       "        [[[  364,  1187,  1441],\n",
       "          [  400,  1153,  1331],\n",
       "          [  449,  1337,  1611],\n",
       "          ...,\n",
       "          [  474,  1381,  1683],\n",
       "          [  450,  1355,  1632],\n",
       "          [  420,  1351,  1681]],\n",
       " \n",
       "         [[  243,   848,  1022],\n",
       "          [  364,   981,  1277],\n",
       "          [  329,   880,  1097],\n",
       "          ...,\n",
       "          [  559,  1404,  1633],\n",
       "          [  517,  1443,  1736],\n",
       "          [  438,  1337,  1656]],\n",
       " \n",
       "         [[  268,   952,  1224],\n",
       "          [  441,  1359,  1677],\n",
       "          [  341,   997,  1306],\n",
       "          ...,\n",
       "          [  438,  1191,  1491],\n",
       "          [  431,  1339,  1685],\n",
       "          [  441,  1093,  1393]],\n",
       " \n",
       "         ...,\n",
       " \n",
       "         [[ 1226,  1626,  1823],\n",
       "          [ 1285,  1704,  1927],\n",
       "          [ 1314,  1841,  1999],\n",
       "          ...,\n",
       "          [  535,  1362,  1647],\n",
       "          [  481,  1257,  1533],\n",
       "          [  533,  1377,  1682]],\n",
       " \n",
       "         [[ 1303,  1798,  1956],\n",
       "          [ 1321,  1805,  1973],\n",
       "          [ 1322,  1812,  2019],\n",
       "          ...,\n",
       "          [  536,  1422,  1698],\n",
       "          [  544,  1397,  1652],\n",
       "          [  573,  1411,  1706]],\n",
       " \n",
       "         [[ 1257,  1777,  2003],\n",
       "          [ 1300,  1779,  1993],\n",
       "          [ 1187,  1759,  1922],\n",
       "          ...,\n",
       "          [  520,  1396,  1736],\n",
       "          [  482,  1280,  1636],\n",
       "          [  473,  1238,  1477]]],\n",
       " \n",
       " \n",
       "        [[[ 3400,  4449,  5007],\n",
       "          [ 3418,  4535,  4950],\n",
       "          [ 2655,  4386,  4359],\n",
       "          ...,\n",
       "          [ 1004,  1729,  2158],\n",
       "          [ 1107,  2097,  2308],\n",
       "          [ 1123,  2218,  2512]],\n",
       " \n",
       "         [[ 2775,  3913,  4368],\n",
       "          [ 3217,  4422,  4730],\n",
       "          [ 3341,  4654,  5183],\n",
       "          ...,\n",
       "          [ 1109,  1724,  2095],\n",
       "          [ 1113,  1920,  2221],\n",
       "          [ 1114,  2142,  2387]],\n",
       " \n",
       "         [[ 3667,  5580,  5682],\n",
       "          [ 3678,  4609,  5386],\n",
       "          [ 3439,  4393,  4901],\n",
       "          ...,\n",
       "          [ 1086,  1882,  1929],\n",
       "          [ 1135,  1955,  2031],\n",
       "          [ 1266,  2281,  2501]],\n",
       " \n",
       "         ...,\n",
       " \n",
       "         [[15936, 15801, 15711],\n",
       "          [15935, 15801, 15711],\n",
       "          [15721, 14928, 15042],\n",
       "          ...,\n",
       "          [ 1274,  2191,  2614],\n",
       "          [ 1676,  2386,  2936],\n",
       "          [ 2040,  2526,  3207]],\n",
       " \n",
       "         [[15938, 15803, 15713],\n",
       "          [15470, 15324, 14559],\n",
       "          [14996, 14290, 14226],\n",
       "          ...,\n",
       "          [ 1648,  2538,  3335],\n",
       "          [ 1733,  3343,  3668],\n",
       "          [ 1570,  2394,  2833]],\n",
       " \n",
       "         [[13907, 13867, 13103],\n",
       "          [13857, 13497, 13221],\n",
       "          [15940, 15333, 15285],\n",
       "          ...,\n",
       "          [ 1980,  3487,  4146],\n",
       "          [ 1966,  3643,  4137],\n",
       "          [ 1441,  2001,  2454]]],\n",
       " \n",
       " \n",
       "        ...,\n",
       " \n",
       " \n",
       "        [[[  359,   212,   202],\n",
       "          [  393,   233,   233],\n",
       "          [  453,   247,   300],\n",
       "          ...,\n",
       "          [  323,   166,   177],\n",
       "          [  319,   161,   176],\n",
       "          [  320,   193,   183]],\n",
       " \n",
       "         [[  390,   199,   231],\n",
       "          [  374,   204,   220],\n",
       "          [  393,   245,   238],\n",
       "          ...,\n",
       "          [  300,   150,   182],\n",
       "          [  326,   177,   190],\n",
       "          [  334,   204,   168]],\n",
       " \n",
       "         [[  402,   251,   236],\n",
       "          [  391,   213,   219],\n",
       "          [  401,   241,   254],\n",
       "          ...,\n",
       "          [  329,   163,   165],\n",
       "          [  342,   143,   176],\n",
       "          [  338,   205,   197]],\n",
       " \n",
       "         ...,\n",
       " \n",
       "         [[  356,   198,   221],\n",
       "          [  379,   215,   198],\n",
       "          [  407,   224,   261],\n",
       "          ...,\n",
       "          [  386,   210,   206],\n",
       "          [  441,   208,   264],\n",
       "          [  450,   277,   326]],\n",
       " \n",
       "         [[  358,   183,   227],\n",
       "          [  391,   196,   224],\n",
       "          [  412,   225,   239],\n",
       "          ...,\n",
       "          [  377,   207,   178],\n",
       "          [  458,   284,   285],\n",
       "          [  463,   343,   329]],\n",
       " \n",
       "         [[  366,   169,   171],\n",
       "          [  366,   181,   216],\n",
       "          [  357,   200,   167],\n",
       "          ...,\n",
       "          [  431,   251,   252],\n",
       "          [  528,   328,   347],\n",
       "          [  479,   301,   308]]],\n",
       " \n",
       " \n",
       "        [[[  609,  1577,  1836],\n",
       "          [  551,  1603,  1936],\n",
       "          [  554,  1826,  2188],\n",
       "          ...,\n",
       "          [  526,  1745,  1994],\n",
       "          [  502,  1661,  2080],\n",
       "          [  509,  1571,  1877]],\n",
       " \n",
       "         [[  529,  1588,  1869],\n",
       "          [  504,  1601,  1948],\n",
       "          [  608,  1936,  2329],\n",
       "          ...,\n",
       "          [  509,  1734,  2005],\n",
       "          [  488,  1754,  2182],\n",
       "          [  522,  1708,  2031]],\n",
       " \n",
       "         [[  548,  1830,  2215],\n",
       "          [  537,  1906,  2298],\n",
       "          [  629,  2030,  2392],\n",
       "          ...,\n",
       "          [  599,  1956,  2303],\n",
       "          [  577,  1828,  2261],\n",
       "          [  658,  1905,  2167]],\n",
       " \n",
       "         ...,\n",
       " \n",
       "         [[  695,  1520,  1788],\n",
       "          [  725,  1489,  1712],\n",
       "          [  658,  1500,  1767],\n",
       "          ...,\n",
       "          [  492,  1311,  1545],\n",
       "          [  491,  1292,  1535],\n",
       "          [  517,  1373,  1594]],\n",
       " \n",
       "         [[  726,  1601,  1823],\n",
       "          [  697,  1505,  1731],\n",
       "          [  655,  1412,  1669],\n",
       "          ...,\n",
       "          [  524,  1500,  1777],\n",
       "          [  573,  1577,  1829],\n",
       "          [  544,  1416,  1657]],\n",
       " \n",
       "         [[  695,  1531,  1749],\n",
       "          [  631,  1365,  1613],\n",
       "          [  672,  1435,  1693],\n",
       "          ...,\n",
       "          [  721,  1930,  2259],\n",
       "          [  879,  2072,  2411],\n",
       "          [  759,  1688,  1951]]],\n",
       " \n",
       " \n",
       "        [[[ 1158,  1453,  1539],\n",
       "          [ 1252,  1560,  1635],\n",
       "          [ 1481,  1745,  1872],\n",
       "          ...,\n",
       "          [ 1265,  1479,  1637],\n",
       "          [ 1260,  1498,  1634],\n",
       "          [ 1258,  1511,  1661]],\n",
       " \n",
       "         [[ 1321,  1588,  1704],\n",
       "          [ 1499,  1807,  1910],\n",
       "          [ 1736,  2002,  2129],\n",
       "          ...,\n",
       "          [ 1294,  1384,  1525],\n",
       "          [ 1276,  1412,  1524],\n",
       "          [ 1308,  1375,  1540]],\n",
       " \n",
       "         [[ 1466,  1726,  1812],\n",
       "          [ 1718,  1937,  2064],\n",
       "          [ 1754,  2049,  2149],\n",
       "          ...,\n",
       "          [ 1247,  1413,  1502],\n",
       "          [ 1213,  1391,  1427],\n",
       "          [ 1233,  1367,  1527]],\n",
       " \n",
       "         ...,\n",
       " \n",
       "         [[ 1601,  1962,  2125],\n",
       "          [ 1708,  2046,  2200],\n",
       "          [ 1626,  1979,  2153],\n",
       "          ...,\n",
       "          [ 1490,  1699,  1852],\n",
       "          [ 1567,  1925,  2223],\n",
       "          [ 1152,  2296,  2687]],\n",
       " \n",
       "         [[ 1643,  1958,  2170],\n",
       "          [ 1629,  2011,  2197],\n",
       "          [ 1570,  2008,  2166],\n",
       "          ...,\n",
       "          [ 1413,  1683,  1823],\n",
       "          [ 1622,  1879,  2141],\n",
       "          [  940,  2089,  2275]],\n",
       " \n",
       "         [[ 1537,  2001,  2200],\n",
       "          [ 1645,  2044,  2238],\n",
       "          [ 1515,  2023,  2203],\n",
       "          ...,\n",
       "          [ 1382,  1629,  1736],\n",
       "          [ 1511,  1751,  2020],\n",
       "          [  820,  1765,  1924]]]], dtype=uint16),\n",
       " array([0, 0, 1, 1, 1, 1, 1, 0, 1, 1, 1, 1, 1, 1, 1, 0, 0, 0, 0, 1, 1, 0,\n",
       "        0, 0, 0, 0, 0, 0, 1, 0, 1, 0]))"
      ]
     },
     "execution_count": 13,
     "metadata": {},
     "output_type": "execute_result"
    }
   ],
   "source": [
    "data_gen.__getitem__(0)"
   ]
  },
  {
   "cell_type": "code",
   "execution_count": 13,
   "metadata": {},
   "outputs": [],
   "source": [
    "img, label = data_gen.__getitem__(0)"
   ]
  },
  {
   "cell_type": "code",
   "execution_count": 14,
   "metadata": {},
   "outputs": [
    {
     "name": "stdout",
     "output_type": "stream",
     "text": [
      "(32, 60, 60, 7)\n",
      "(32,)\n"
     ]
    }
   ],
   "source": [
    "print(img.shape)\n",
    "print(label.shape)"
   ]
  },
  {
   "cell_type": "code",
   "execution_count": 15,
   "metadata": {},
   "outputs": [
    {
     "name": "stdout",
     "output_type": "stream",
     "text": [
      "WARNING:tensorflow:Model was constructed with shape (None, 224, 224, 3) for input Tensor(\"input_1:0\", shape=(None, 224, 224, 3), dtype=float32), but it was called on an input with incompatible shape (None, 60, 60, 3).\n",
      "Model: \"functional_1\"\n",
      "_________________________________________________________________\n",
      "Layer (type)                 Output Shape              Param #   \n",
      "=================================================================\n",
      "input_2 (InputLayer)         [(None, 60, 60, 7)]       0         \n",
      "_________________________________________________________________\n",
      "conv2d (Conv2D)              (None, 60, 60, 3)         192       \n",
      "_________________________________________________________________\n",
      "resnet50v2 (Functional)      (None, 1)                 23566849  \n",
      "=================================================================\n",
      "Total params: 23,567,041\n",
      "Trainable params: 23,521,601\n",
      "Non-trainable params: 45,440\n",
      "_________________________________________________________________\n"
     ]
    }
   ],
   "source": [
    "## Model setup\n",
    "\n",
    "orig_model = tf.keras.applications.ResNet50V2(include_top=True, weights=None, pooling = \"avg\", classes=1, classifier_activation='sigmoid')\n",
    "if len(CHANNELS) >= 9:\n",
    "\n",
    "  # apply 2 additional feature maps (i.e., conv layers) to\n",
    "  # graudally step down the informational filtering\n",
    "  # why >= 9? because it's 3^2 \n",
    "    dense_input = tf.keras.layers.Input(shape=(PIXEL, PIXEL, len(CHANNELS)))\n",
    "    dense_filter = tf.keras.layers.Conv2D(6, 3, padding='same')(dense_input)\n",
    "    dense_filter = tf.keras.layers.Conv2D(3, 3, padding='same')(dense_input)\n",
    "    out = orig_model(dense_filter)\n",
    "elif len(CHANNELS) > 3:\n",
    "    dense_input = tf.keras.layers.Input(shape=(PIXEL, PIXEL, len(CHANNELS)))\n",
    "    dense_filter = tf.keras.layers.Conv2D(3, 3, padding='same')(dense_input)\n",
    "    out = orig_model(dense_filter)\n",
    "else:\n",
    "    dense_input = tf.keras.layers.Input(shape=(PIXEL, PIXEL, 3))\n",
    "    out = orig_model(dense_input)\n",
    "\n",
    "model = tf.keras.Model(dense_input, out)\n",
    "model.summary()"
   ]
  },
  {
   "cell_type": "code",
   "execution_count": 16,
   "metadata": {},
   "outputs": [],
   "source": [
    "# compile the model\n",
    "model.compile(optimizer='adam', loss='binary_crossentropy', metrics=['accuracy','Precision','Recall'])"
   ]
  },
  {
   "cell_type": "markdown",
   "metadata": {},
   "source": [
    "### Data split and model training"
   ]
  },
  {
   "cell_type": "code",
   "execution_count": 17,
   "metadata": {},
   "outputs": [],
   "source": [
    "# split train and test datasets\n",
    "train_list = img_list[:int(len(img_list)*0.8)]\n",
    "test_list = img_list[int(len(img_list)*0.8):]\n",
    "\n",
    "data_train = Dataset(data_dir, train_list, LABEL_MAP, True, CHANNELS, BATCH_SIZE, PIXEL)\n",
    "data_test = Dataset(data_dir, test_list, LABEL_MAP, False, CHANNELS, BATCH_SIZE, PIXEL)"
   ]
  },
  {
   "cell_type": "code",
   "execution_count": null,
   "metadata": {},
   "outputs": [
    {
     "name": "stdout",
     "output_type": "stream",
     "text": [
      "Epoch 1/4\n",
      "WARNING:tensorflow:Model was constructed with shape (None, 224, 224, 3) for input Tensor(\"input_1:0\", shape=(None, 224, 224, 3), dtype=float32), but it was called on an input with incompatible shape (None, 60, 60, 3).\n",
      "WARNING:tensorflow:Model was constructed with shape (None, 224, 224, 3) for input Tensor(\"input_1:0\", shape=(None, 224, 224, 3), dtype=float32), but it was called on an input with incompatible shape (None, 60, 60, 3).\n",
      "14758/14758 [==============================] - ETA: 0s - loss: 0.4164 - accuracy: 0.8092 - precision: 0.7913 - recall: 0.8312WARNING:tensorflow:Model was constructed with shape (None, 224, 224, 3) for input Tensor(\"input_1:0\", shape=(None, 224, 224, 3), dtype=float32), but it was called on an input with incompatible shape (None, 60, 60, 3).\n",
      "14758/14758 [==============================] - 4662s 316ms/step - loss: 0.4164 - accuracy: 0.8092 - precision: 0.7913 - recall: 0.8312 - val_loss: 0.3990 - val_accuracy: 0.8149 - val_precision: 0.8589 - val_recall: 0.7431\n",
      "Epoch 2/4\n",
      " 1731/14758 [==>...........................] - ETA: 53:35 - loss: 0.3861 - accuracy: 0.8249 - precision: 0.8058 - recall: 0.8473"
     ]
    }
   ],
   "source": [
    "start_time = time.time()\n",
    "history = model.fit(data_train, validation_data=data_test, epochs=EPOCH)"
   ]
  },
  {
   "cell_type": "code",
   "execution_count": 20,
   "metadata": {},
   "outputs": [
    {
     "name": "stdout",
     "output_type": "stream",
     "text": [
      "--- 44519.6709625721 seconds ---\n",
      "training completed\n"
     ]
    }
   ],
   "source": [
    "end_time = time.time()\n",
    "print(\"--- %s seconds ---\" % (end_time - start_time))\n",
    "print(\"training completed\")"
   ]
  },
  {
   "cell_type": "code",
   "execution_count": 21,
   "metadata": {},
   "outputs": [
    {
     "name": "stdout",
     "output_type": "stream",
     "text": [
      "3689/3689 [==============================] - 884s 240ms/step - loss: 0.3481 - accuracy: 0.8419 - precision: 0.8147 - recall: 0.8755\n"
     ]
    }
   ],
   "source": [
    "start_time = time.time()\n",
    "evaluation = model.evaluate(data_test, batch_size=BATCH_SIZE)"
   ]
  },
  {
   "cell_type": "code",
   "execution_count": 22,
   "metadata": {},
   "outputs": [
    {
     "name": "stdout",
     "output_type": "stream",
     "text": [
      "--- 884.8765413761139 seconds ---\n",
      "evaluation completed\n"
     ]
    }
   ],
   "source": [
    "end_time = time.time()\n",
    "print(\"--- %s seconds ---\" % (end_time - start_time))\n",
    "print(\"evaluation completed\")"
   ]
  },
  {
   "cell_type": "markdown",
   "metadata": {},
   "source": [
    "### Training outcome"
   ]
  },
  {
   "cell_type": "code",
   "execution_count": 23,
   "metadata": {},
   "outputs": [
    {
     "name": "stdout",
     "output_type": "stream",
     "text": [
      "dict_keys(['loss', 'accuracy', 'precision', 'recall', 'val_loss', 'val_accuracy', 'val_precision', 'val_recall'])\n"
     ]
    },
    {
     "data": {
      "image/png": "[encoded data removed]",
      "text/plain": [
       "<Figure size 432x288 with 1 Axes>"
      ]
     },
     "metadata": {
      "needs_background": "light"
     },
     "output_type": "display_data"
    },
    {
     "data": {
      "image/png": "[encoded data removed]",
      "text/plain": [
       "<Figure size 432x288 with 1 Axes>"
      ]
     },
     "metadata": {
      "needs_background": "light"
     },
     "output_type": "display_data"
    }
   ],
   "source": [
    "# list all data in history\n",
    "print(history.history.keys())\n",
    "# summarize history for accuracy\n",
    "plt.plot(history.history['accuracy'])\n",
    "plt.plot(history.history['val_accuracy'])\n",
    "plt.title('model accuracy')\n",
    "plt.ylabel('accuracy')\n",
    "plt.xlabel('epoch')\n",
    "plt.legend(['train', 'test'], loc='upper left')\n",
    "plt.show()\n",
    "# summarize history for loss\n",
    "plt.plot(history.history['loss'])\n",
    "plt.plot(history.history['val_loss'])\n",
    "plt.title('model loss')\n",
    "plt.ylabel('loss')\n",
    "plt.xlabel('epoch')\n",
    "plt.legend(['train', 'test'], loc='upper left')\n",
    "plt.show()"
   ]
  },
  {
   "cell_type": "code",
   "execution_count": 24,
   "metadata": {},
   "outputs": [
    {
     "name": "stdout",
     "output_type": "stream",
     "text": [
      "Training Output\n",
      "accuracy:  [0.8092454075813293, 0.8273817300796509, 0.8352524638175964, 0.8408511281013489]\n",
      "precision:  [0.7913463711738586, 0.8105750679969788, 0.8200070261955261, 0.826903760433197]\n",
      "recall:  [0.8312346935272217, 0.8468495011329651, 0.851961076259613, 0.855401873588562]\n",
      "loss:  [0.4164198637008667, 0.3783145844936371, 0.36035072803497314, 0.34821030497550964]\n"
     ]
    }
   ],
   "source": [
    "print(\"Training Output\")\n",
    "print(\"accuracy: \", history.history['accuracy'])\n",
    "print(\"precision: \", history.history['precision'])\n",
    "print(\"recall: \", history.history['recall'])\n",
    "print(\"loss: \", history.history['loss'])"
   ]
  },
  {
   "cell_type": "code",
   "execution_count": 25,
   "metadata": {},
   "outputs": [
    {
     "name": "stdout",
     "output_type": "stream",
     "text": [
      "Validation Output\n",
      "accuracy:  0.841911792755127\n",
      "precision:  0.8146970272064209\n",
      "recall:  0.8754552602767944\n",
      "loss:  0.3480866551399231\n"
     ]
    }
   ],
   "source": [
    "print(\"Validation Output\")\n",
    "print(\"accuracy: \", evaluation[1])\n",
    "print(\"precision: \", evaluation[2])\n",
    "print(\"recall: \", evaluation[3])\n",
    "print(\"loss: \", evaluation[0])"
   ]
  },
  {
   "cell_type": "markdown",
   "metadata": {},
   "source": [
    "### Agricultural Label Counts"
   ]
  },
  {
   "cell_type": "code",
   "execution_count": 34,
   "metadata": {},
   "outputs": [],
   "source": [
    "def count_label(data_gen, batch_count):\n",
    "    agri_count = 0\n",
    "    for i in range(batch_count):\n",
    "        _, label = data_gen.__getitem__(i)\n",
    "        batch_agri_count = np.sum(label)\n",
    "        agri_count += batch_agri_count\n",
    "        if i%1000 == 0:\n",
    "              print('Accumulated counts of the agicultural label in batch ', i, ' is ', agri_count)\n",
    "\n",
    "    return agri_count"
   ]
  },
  {
   "cell_type": "code",
   "execution_count": 35,
   "metadata": {},
   "outputs": [
    {
     "name": "stdout",
     "output_type": "stream",
     "text": [
      "Total batches to be counted is  18447\n"
     ]
    }
   ],
   "source": [
    "print(\"Total batches to be counted is \", BATCH_COUNT)"
   ]
  },
  {
   "cell_type": "code",
   "execution_count": 36,
   "metadata": {},
   "outputs": [
    {
     "name": "stdout",
     "output_type": "stream",
     "text": [
      "Accumulated counts of the agicultural label in batch  0  is  16\n",
      "Accumulated counts of the agicultural label in batch  1000  is  15694\n",
      "Accumulated counts of the agicultural label in batch  2000  is  31414\n",
      "Accumulated counts of the agicultural label in batch  4000  is  62929\n",
      "Accumulated counts of the agicultural label in batch  5000  is  78623\n",
      "Accumulated counts of the agicultural label in batch  6000  is  94358\n",
      "Accumulated counts of the agicultural label in batch  8000  is  125674\n",
      "Accumulated counts of the agicultural label in batch  9000  is  141431\n",
      "Accumulated counts of the agicultural label in batch  10000  is  157135\n",
      "Accumulated counts of the agicultural label in batch  11000  is  172876\n",
      "Accumulated counts of the agicultural label in batch  12000  is  188536\n",
      "Accumulated counts of the agicultural label in batch  13000  is  204386\n",
      "Accumulated counts of the agicultural label in batch  15000  is  235850\n",
      "Accumulated counts of the agicultural label in batch  16000  is  251628\n",
      "Accumulated counts of the agicultural label in batch  17000  is  267197\n",
      "Accumulated counts of the agicultural label in batch  18000  is  282819\n",
      "Total agricultural labels in the data set is  289872\n",
      "The total image patches  590326\n"
     ]
    }
   ],
   "source": [
    "print(\"Total agricultural labels in the data set is \", count_label(data_gen, BATCH_COUNT))\n",
    "print(\"The total image patches \", len(os.listdir(data_dir)))"
   ]
  }
 ],
 "metadata": {
  "environment": {
   "name": "tf2-2-3-gpu.2-3.m58",
   "type": "gcloud",
   "uri": "gcr.io/deeplearning-platform-release/tf2-2-3-gpu.2-3:m58"
  },
  "kernelspec": {
   "display_name": "Python 3",
   "language": "python",
   "name": "python3"
  },
  "language_info": {
   "codemirror_mode": {
    "name": "ipython",
    "version": 3
   },
   "file_extension": ".py",
   "mimetype": "text/x-python",
   "name": "python",
   "nbconvert_exporter": "python",
   "pygments_lexer": "ipython3",
   "version": "3.7.8"
  }
 },
 "nbformat": 4,
 "nbformat_minor": 4
}
