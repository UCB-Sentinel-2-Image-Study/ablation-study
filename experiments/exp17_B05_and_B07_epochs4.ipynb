{
  "nbformat": 4,
  "nbformat_minor": 0,
  "metadata": {
    "environment": {
      "name": "tf2-2-3-gpu.2-3.m58",
      "type": "gcloud",
      "uri": "gcr.io/deeplearning-platform-release/tf2-2-3-gpu.2-3:m58"
    },
    "kernelspec": {
      "display_name": "Python 3",
      "language": "python",
      "name": "python3"
    },
    "language_info": {
      "codemirror_mode": {
        "name": "ipython",
        "version": 3
      },
      "file_extension": ".py",
      "mimetype": "text/x-python",
      "name": "python",
      "nbconvert_exporter": "python",
      "pygments_lexer": "ipython3",
      "version": "3.7.8"
    },
    "colab": {
      "name": "exp17_B05_and_B07.ipynb",
      "provenance": [],
      "collapsed_sections": [],
      "toc_visible": true
    },
    "accelerator": "GPU"
  },
  "cells": [
    {
      "cell_type": "markdown",
      "metadata": {
        "id": "Ovvxtb3oAl8i"
      },
      "source": [
        "## Resnet50v2 with B05-B07 channels (excluding RGB), scaled to 60 x 60 pixels, and with 4 epochs"
      ]
    },
    {
      "cell_type": "markdown",
      "metadata": {
        "id": "cLeCvib8Al8i"
      },
      "source": [
        "The notebook contains a custom setup of the Resnet50v2 model, which allows for users to configure the input such that (i) the list of remote sensing channels can be flexible and (ii) the dimension of image patches can be uniformaly adjusted (e.g., 20x20, 60x60, and 120x120). Each remote sensing channel input is stacked up and fed into the model all at once."
      ]
    },
    {
      "cell_type": "markdown",
      "metadata": {
        "id": "5b5BnvMEAl8i"
      },
      "source": [
        "### Environment and library settings"
      ]
    },
    {
      "cell_type": "code",
      "metadata": {
        "colab": {
          "base_uri": "https://localhost:8080/"
        },
        "id": "BVaU__nNFgLE",
        "outputId": "63c67a8b-de4d-4942-c7a6-da851c380982"
      },
      "source": [
        "# Data download, comment once complete\n",
        "%env DATA_DIR=/content\n",
        "%env DOWNLOAD_URL=http://bigearth.net/downloads/BigEarthNet-v1.0.tar.gz\n",
        "\n",
        "!rm -rf /content\n",
        "!mkdir -p $DATA_DIR\n",
        "!wget -qO- $DOWNLOAD_URL  | tar xz -C $DATA_DIR"
      ],
      "execution_count": 1,
      "outputs": [
        {
          "output_type": "stream",
          "text": [
            "env: DATA_DIR=/content\n",
            "env: DOWNLOAD_URL=http://bigearth.net/downloads/BigEarthNet-v1.0.tar.gz\n",
            "shell-init: error retrieving current directory: getcwd: cannot access parent directories: No such file or directory\n",
            "shell-init: error retrieving current directory: getcwd: cannot access parent directories: No such file or directory\n"
          ],
          "name": "stdout"
        }
      ]
    },
    {
      "cell_type": "code",
      "metadata": {
        "id": "qLAJJTmIAl8i",
        "colab": {
          "base_uri": "https://localhost:8080/"
        },
        "outputId": "946809b0-24ee-46f7-b8f7-8cb6c04c53de"
      },
      "source": [
        "import tensorflow as tf\n",
        "print(\"Num GPUs Available: \", len(tf.config.experimental.list_physical_devices('GPU')))"
      ],
      "execution_count": 2,
      "outputs": [
        {
          "output_type": "stream",
          "text": [
            "Num GPUs Available:  1\n"
          ],
          "name": "stdout"
        }
      ]
    },
    {
      "cell_type": "code",
      "metadata": {
        "id": "3EQPp2oEAl8j",
        "colab": {
          "base_uri": "https://localhost:8080/"
        },
        "outputId": "e1481160-1a34-46f3-9db4-526b841996e3"
      },
      "source": [
        "if tf.test.gpu_device_name():\n",
        "    print('Default GPU Device: {}'.format(tf.test.gpu_device_name()))\n",
        "else:\n",
        "    print(\"Please install GPU version of TF\")"
      ],
      "execution_count": 3,
      "outputs": [
        {
          "output_type": "stream",
          "text": [
            "Default GPU Device: /device:GPU:0\n"
          ],
          "name": "stdout"
        }
      ]
    },
    {
      "cell_type": "code",
      "metadata": {
        "id": "2COKKH0fAl8j",
        "colab": {
          "base_uri": "https://localhost:8080/",
          "height": 35
        },
        "outputId": "061d5fec-805a-49d2-ef50-e19dc8357a13"
      },
      "source": [
        "from pathlib import Path\n",
        "from PIL import Image, ImageShow\n",
        "import numpy as np\n",
        "import matplotlib.pyplot as plt\n",
        "import json\n",
        "import pandas as pd\n",
        "import cv2\n",
        "from skimage.transform import resize\n",
        "from tifffile import imread\n",
        "import time\n",
        "import tensorflow as tf\n",
        "\n",
        "tf.__version__"
      ],
      "execution_count": 4,
      "outputs": [
        {
          "output_type": "execute_result",
          "data": {
            "application/vnd.google.colaboratory.intrinsic+json": {
              "type": "string"
            },
            "text/plain": [
              "'2.3.0'"
            ]
          },
          "metadata": {
            "tags": []
          },
          "execution_count": 4
        }
      ]
    },
    {
      "cell_type": "code",
      "metadata": {
        "id": "6oxLnfn2Al8j"
      },
      "source": [
        "import os\n",
        "data_dir = os.environ.get(\"DATA_DIR\")"
      ],
      "execution_count": 5,
      "outputs": []
    },
    {
      "cell_type": "code",
      "metadata": {
        "id": "tpPx4ms5Al8j",
        "colab": {
          "base_uri": "https://localhost:8080/"
        },
        "outputId": "b042e005-811a-4d9f-bae6-c92a4603c967"
      },
      "source": [
        "data_dir=os.path.join(data_dir, os.listdir(data_dir)[0])\n",
        "print(data_dir)"
      ],
      "execution_count": 6,
      "outputs": [
        {
          "output_type": "stream",
          "text": [
            "/content/BigEarthNet-v1.0\n"
          ],
          "name": "stdout"
        }
      ]
    },
    {
      "cell_type": "code",
      "metadata": {
        "id": "bwDACAssAl8k",
        "colab": {
          "base_uri": "https://localhost:8080/"
        },
        "outputId": "5dee0807-f463-4cbf-ff0e-4b5e35b4575b"
      },
      "source": [
        "os.listdir(os.path.join(data_dir,'S2A_MSIL2A_20170613T101032_77_22'))"
      ],
      "execution_count": 7,
      "outputs": [
        {
          "output_type": "execute_result",
          "data": {
            "text/plain": [
              "['S2A_MSIL2A_20170613T101032_77_22_labels_metadata.json',\n",
              " 'S2A_MSIL2A_20170613T101032_77_22_B02.tif',\n",
              " 'S2A_MSIL2A_20170613T101032_77_22_B08.tif',\n",
              " 'S2A_MSIL2A_20170613T101032_77_22_B09.tif',\n",
              " 'S2A_MSIL2A_20170613T101032_77_22_B04.tif',\n",
              " 'S2A_MSIL2A_20170613T101032_77_22_B03.tif',\n",
              " 'S2A_MSIL2A_20170613T101032_77_22_B05.tif',\n",
              " 'S2A_MSIL2A_20170613T101032_77_22_B11.tif',\n",
              " 'S2A_MSIL2A_20170613T101032_77_22_B12.tif',\n",
              " 'S2A_MSIL2A_20170613T101032_77_22_B06.tif',\n",
              " 'S2A_MSIL2A_20170613T101032_77_22_B07.tif',\n",
              " 'S2A_MSIL2A_20170613T101032_77_22_B01.tif',\n",
              " 'S2A_MSIL2A_20170613T101032_77_22_B8A.tif']"
            ]
          },
          "metadata": {
            "tags": []
          },
          "execution_count": 7
        }
      ]
    },
    {
      "cell_type": "code",
      "metadata": {
        "id": "NAHpAqwLAl8k",
        "colab": {
          "base_uri": "https://localhost:8080/"
        },
        "outputId": "dd746c08-3a0e-472c-8f9b-6f587a5b82ef"
      },
      "source": [
        "img_list = os.listdir(data_dir)\n",
        "img_list[0:10]"
      ],
      "execution_count": 8,
      "outputs": [
        {
          "output_type": "execute_result",
          "data": {
            "text/plain": [
              "['S2A_MSIL2A_20170813T112121_84_36',\n",
              " 'S2B_MSIL2A_20180509T092029_32_8',\n",
              " 'S2A_MSIL2A_20170717T113321_26_32',\n",
              " 'S2B_MSIL2A_20170814T100029_73_22',\n",
              " 'S2B_MSIL2A_20180506T105029_20_0',\n",
              " 'S2A_MSIL2A_20180529T115401_74_45',\n",
              " 'S2B_MSIL2A_20170924T93014_11_43',\n",
              " 'S2B_MSIL2A_20180515T112109_89_74',\n",
              " 'S2B_MSIL2A_20180515T112109_72_50',\n",
              " 'S2A_MSIL2A_20180225T114351_18_20']"
            ]
          },
          "metadata": {
            "tags": []
          },
          "execution_count": 8
        }
      ]
    },
    {
      "cell_type": "code",
      "metadata": {
        "id": "SIxsc_eNAl8k",
        "colab": {
          "base_uri": "https://localhost:8080/"
        },
        "outputId": "37fe20b6-9a0f-438a-a8ad-5c3553ea051a"
      },
      "source": [
        "len(os.listdir(data_dir))"
      ],
      "execution_count": 9,
      "outputs": [
        {
          "output_type": "execute_result",
          "data": {
            "text/plain": [
              "590326"
            ]
          },
          "metadata": {
            "tags": []
          },
          "execution_count": 9
        }
      ]
    },
    {
      "cell_type": "markdown",
      "metadata": {
        "id": "pVCe04yLAl8k"
      },
      "source": [
        "### Configuring the model parameters and constant variables"
      ]
    },
    {
      "cell_type": "code",
      "metadata": {
        "id": "35j7So5MAl8k"
      },
      "source": [
        "PIXEL = 60\n",
        "BATCH_SIZE = 32\n",
        "BATCH_COUNT = len(img_list)//BATCH_SIZE\n",
        "CHANNELS = [\"B05\",\"B07\"]#,\"B07\"]\n",
        "EPOCH = 4\n",
        "\n",
        "# B01: Coastal aerosol; 60m\n",
        "# B02: Blue; 10m\n",
        "# B03: Green; 10m\n",
        "# B04: Red; 10m\n",
        "# B05: Vegetation red edge; 20m\n",
        "# B06: Vegetation red edge; 20m\n",
        "# B07: Vegetation red edge; 20m\n",
        "# B08: NIR; 10m\n",
        "# B09: Water vapor; 60m\n",
        "# B11: SWIR; 20m\n",
        "# B12: SWIR; 20m\n",
        "# B8A: Narrow NIR; 20m\n",
        "# Reference: https://developers.google.com/earth-engine/datasets/catalog/TUBerlin_BigEarthNet_v1#bands\n",
        "\n",
        "LABEL_MAP = {'Agro-forestry areas':1,\n",
        "           'Airports':0,\n",
        "           'Annual crops associated with permanent crops':1,\n",
        "           'Bare rock':0,\n",
        "           'Beaches, dunes, sands':0,\n",
        "           'Broad-leaved forest':0,\n",
        "           'Burnt areas':0,\n",
        "           'Coastal lagoons':0,\n",
        "           'Complex cultivation patterns':1,\n",
        "           'Coniferous forest':0,\n",
        "           'Construction sites':0,\n",
        "           'Continuous urban fabric':0,\n",
        "           'Discontinuous urban fabric':0,\n",
        "           'Dump sites':0,\n",
        "           'Estuaries':0,\n",
        "           'Fruit trees and berry plantations':1,\n",
        "           'Green urban areas':0,\n",
        "           'Industrial or commercial units':0,\n",
        "           'Inland marshes':0,\n",
        "           'Intertidal flats':0,\n",
        "           'Land principally occupied by agriculture, with significant areas of natural vegetation':1,\n",
        "           'Mineral extraction sites':0,\n",
        "           'Mixed forest':0,\n",
        "           'Moors and heathland':0,\n",
        "           'Natural grassland':0,\n",
        "           'Non-irrigated arable land':0,\n",
        "           'Olive groves':1,\n",
        "           'Pastures':1,\n",
        "           'Peatbogs':0,\n",
        "           'Permanently irrigated land':1,\n",
        "           'Port areas':0,\n",
        "           'Rice fields':1,\n",
        "           'Road and rail networks and associated land':0,\n",
        "           'Salines':0,\n",
        "           'Salt marshes':0,\n",
        "           'Sclerophyllous vegetation':0,\n",
        "           'Sea and ocean':0,\n",
        "           'Sparsely vegetated areas':0,\n",
        "           'Sport and leisure facilities':0,\n",
        "           'Transitional woodland/shrub':0,\n",
        "           'Vineyards':1,\n",
        "           'Water bodies':0,\n",
        "           'Water courses':0\n",
        "           }"
      ],
      "execution_count": 10,
      "outputs": []
    },
    {
      "cell_type": "markdown",
      "metadata": {
        "id": "AHuTIa8DAl8k"
      },
      "source": [
        "### Custom data generator and model building"
      ]
    },
    {
      "cell_type": "code",
      "metadata": {
        "id": "qw-UTde7Al8k"
      },
      "source": [
        "### custom data generator to be used for the stacking approach\n",
        "\n",
        "class Dataset(tf.keras.utils.Sequence):\n",
        "    def __init__(self, data_dir, img_list, label_map, shuffle, channels, batch_size, pixel):\n",
        "        self.img_list = img_list\n",
        "        self.data_dir = data_dir\n",
        "        self.shuffle = shuffle\n",
        "        self.batch_size = batch_size\n",
        "        self.label_map = label_map\n",
        "        self.__on_epoch_end()\n",
        "        self.channels = channels\n",
        "        self.pixel = pixel\n",
        "        # print(channels)\n",
        "\n",
        "    def __len__(self):\n",
        "        # denote the number of batches in an epoch\n",
        "        return int(np.floor(len(self.img_list))/self.batch_size)\n",
        "\n",
        "    def __on_epoch_end(self):\n",
        "        'create and update index of the images in each epoch'\n",
        "        self.indexes = np.arange(len(self.img_list))\n",
        "        if self.shuffle == True:\n",
        "            np.random.shuffle(self.indexes)\n",
        "\n",
        "    def __getitem__(self, index):\n",
        "        indexes = self.indexes[index * self.batch_size: (index + 1) * self.batch_size]\n",
        "\n",
        "        img_list = [self.img_list[i] for i in indexes]\n",
        "        imgs = [self.__load_img(img_path) for img_path in img_list]\n",
        "        # label = [1 for img_path in img_list]\n",
        "        labels =[]\n",
        "\n",
        "        for img_path in img_list:\n",
        "            label = self.__generate_label(img_path, self.data_dir, self.label_map)\n",
        "            labels.append(label)\n",
        "\n",
        "        imgs = np.array(imgs)\n",
        "        labels = np.array(labels)\n",
        "\n",
        "        return imgs, labels\n",
        "\n",
        "\n",
        "    def __generate_label(self, img_path, data_dir, label_map):\n",
        "  \n",
        "        # unroll Json to get label\n",
        "        label_path = os.path.join(data_dir, img_path, img_path + '_labels_metadata.json')\n",
        "        label_data = json.load(open(label_path))\n",
        "\n",
        "        for i in label_data[\"labels\"]:\n",
        "            if label_map[i]==1:\n",
        "                return 1\n",
        "\n",
        "        return 0\n",
        "\n",
        "\n",
        "    def __load_img(self, img_path):\n",
        "\n",
        "        ch_img_list = []\n",
        "\n",
        "        for ch in self.channels:\n",
        "            ch_path = os.path.join(data_dir, img_path, img_path + '_' + ch + '.tif')\n",
        "            ch_img_list.append(imread(ch_path))\n",
        "\n",
        "        img = self.__preprocess(ch_img_list)\n",
        "\n",
        "        return img\n",
        "\n",
        "    def __preprocess(self, channels):\n",
        "\n",
        "        'preprocess and resize channels'\n",
        "\n",
        "        # dimension\n",
        "        dim = (self.pixel,self.pixel)\n",
        "        list_of_ch = []\n",
        "\n",
        "        for k in channels:\n",
        "            mat = cv2.resize(np.array(k), dim)\n",
        "\n",
        "            #print(np.array(k).shape)\n",
        "            list_of_ch.append(mat)\n",
        "\n",
        "        img = np.dstack(list_of_ch)\n",
        "\n",
        "        return img"
      ],
      "execution_count": 11,
      "outputs": []
    },
    {
      "cell_type": "code",
      "metadata": {
        "id": "LVAFhEM_Al8k"
      },
      "source": [
        "data_gen = Dataset(data_dir, img_list, LABEL_MAP, True, CHANNELS, BATCH_SIZE, PIXEL)"
      ],
      "execution_count": 12,
      "outputs": []
    },
    {
      "cell_type": "code",
      "metadata": {
        "jupyter": {
          "outputs_hidden": true
        },
        "id": "nK2jvtFDAl8k",
        "colab": {
          "base_uri": "https://localhost:8080/"
        },
        "outputId": "6b426785-3d16-44b9-837a-e421bbe7c88c"
      },
      "source": [
        "data_gen.__getitem__(0)"
      ],
      "execution_count": 13,
      "outputs": [
        {
          "output_type": "execute_result",
          "data": {
            "text/plain": [
              "(array([[[[ 782, 2250],\n",
              "          [ 788, 2238],\n",
              "          [ 690, 1982],\n",
              "          ...,\n",
              "          [ 674, 3027],\n",
              "          [ 690, 2975],\n",
              "          [ 710, 2981]],\n",
              " \n",
              "         [[ 798, 2227],\n",
              "          [ 825, 2358],\n",
              "          [ 716, 2167],\n",
              "          ...,\n",
              "          [ 592, 2580],\n",
              "          [ 578, 2651],\n",
              "          [ 559, 2425]],\n",
              " \n",
              "         [[ 773, 2147],\n",
              "          [ 796, 2301],\n",
              "          [ 725, 2053],\n",
              "          ...,\n",
              "          [ 578, 2624],\n",
              "          [ 549, 2495],\n",
              "          [ 568, 2342]],\n",
              " \n",
              "         ...,\n",
              " \n",
              "         [[1692, 3595],\n",
              "          [1805, 3609],\n",
              "          [1608, 3298],\n",
              "          ...,\n",
              "          [ 375, 1475],\n",
              "          [ 369, 1421],\n",
              "          [ 391, 1533]],\n",
              " \n",
              "         [[1368, 3276],\n",
              "          [1727, 3735],\n",
              "          [1741, 3592],\n",
              "          ...,\n",
              "          [ 544, 1974],\n",
              "          [ 493, 1922],\n",
              "          [ 565, 2051]],\n",
              " \n",
              "         [[ 892, 2252],\n",
              "          [1391, 3127],\n",
              "          [1720, 3539],\n",
              "          ...,\n",
              "          [ 632, 2171],\n",
              "          [ 662, 2316],\n",
              "          [ 772, 2429]]],\n",
              " \n",
              " \n",
              "        [[[  59,   45],\n",
              "          [  57,   39],\n",
              "          [  54,   61],\n",
              "          ...,\n",
              "          [ 672, 2063],\n",
              "          [ 766, 2052],\n",
              "          [ 734, 1919]],\n",
              " \n",
              "         [[  59,   46],\n",
              "          [  57,   45],\n",
              "          [  52,   44],\n",
              "          ...,\n",
              "          [ 711, 2022],\n",
              "          [ 863, 2092],\n",
              "          [ 839, 1921]],\n",
              " \n",
              "         [[  58,   41],\n",
              "          [  59,   45],\n",
              "          [  64,   48],\n",
              "          ...,\n",
              "          [1054, 2239],\n",
              "          [1174, 2262],\n",
              "          [ 998, 1980]],\n",
              " \n",
              "         ...,\n",
              " \n",
              "         [[ 955, 2434],\n",
              "          [ 713, 1563],\n",
              "          [ 147,  309],\n",
              "          ...,\n",
              "          [ 397,  921],\n",
              "          [ 559, 1411],\n",
              "          [ 640, 2134]],\n",
              " \n",
              "         [[ 822, 2461],\n",
              "          [ 830, 1803],\n",
              "          [ 442,  762],\n",
              "          ...,\n",
              "          [ 123,  216],\n",
              "          [ 351,  805],\n",
              "          [ 762, 2296]],\n",
              " \n",
              "         [[ 710, 2057],\n",
              "          [ 552, 1493],\n",
              "          [ 624, 1330],\n",
              "          ...,\n",
              "          [ 117,  100],\n",
              "          [ 225,  267],\n",
              "          [ 725, 1501]]],\n",
              " \n",
              " \n",
              "        [[[1059, 2605],\n",
              "          [ 972, 2717],\n",
              "          [ 968, 2813],\n",
              "          ...,\n",
              "          [ 921, 3185],\n",
              "          [ 973, 2881],\n",
              "          [ 940, 2775]],\n",
              " \n",
              "         [[1135, 2553],\n",
              "          [1033, 2635],\n",
              "          [ 966, 2887],\n",
              "          ...,\n",
              "          [ 898, 3256],\n",
              "          [ 862, 2972],\n",
              "          [ 809, 2688]],\n",
              " \n",
              "         [[1213, 2565],\n",
              "          [1132, 2730],\n",
              "          [1012, 2990],\n",
              "          ...,\n",
              "          [ 864, 3135],\n",
              "          [ 809, 3115],\n",
              "          [ 807, 2881]],\n",
              " \n",
              "         ...,\n",
              " \n",
              "         [[ 893, 2781],\n",
              "          [ 882, 3153],\n",
              "          [ 851, 3073],\n",
              "          ...,\n",
              "          [1455, 2449],\n",
              "          [1568, 2563],\n",
              "          [1579, 2300]],\n",
              " \n",
              "         [[ 882, 2931],\n",
              "          [ 909, 3173],\n",
              "          [ 863, 3119],\n",
              "          ...,\n",
              "          [1575, 2500],\n",
              "          [1631, 2646],\n",
              "          [1558, 2246]],\n",
              " \n",
              "         [[ 893, 3080],\n",
              "          [ 928, 3207],\n",
              "          [ 909, 3134],\n",
              "          ...,\n",
              "          [1553, 2484],\n",
              "          [1626, 2560],\n",
              "          [1440, 2040]]],\n",
              " \n",
              " \n",
              "        ...,\n",
              " \n",
              " \n",
              "        [[[ 875, 1860],\n",
              "          [ 927, 2084],\n",
              "          [1023, 2115],\n",
              "          ...,\n",
              "          [1518, 2238],\n",
              "          [1477, 2246],\n",
              "          [1276, 1906]],\n",
              " \n",
              "         [[ 617, 2135],\n",
              "          [ 762, 2546],\n",
              "          [1000, 2385],\n",
              "          ...,\n",
              "          [1586, 2257],\n",
              "          [1584, 2258],\n",
              "          [1368, 2008]],\n",
              " \n",
              "         [[ 640, 2797],\n",
              "          [ 897, 2786],\n",
              "          [1099, 2261],\n",
              "          ...,\n",
              "          [1595, 2301],\n",
              "          [1636, 2264],\n",
              "          [1443, 2104]],\n",
              " \n",
              "         ...,\n",
              " \n",
              "         [[1231, 1899],\n",
              "          [1088, 1980],\n",
              "          [1139, 2081],\n",
              "          ...,\n",
              "          [1055, 1750],\n",
              "          [1109, 1661],\n",
              "          [1094, 1562]],\n",
              " \n",
              "         [[1170, 1651],\n",
              "          [1054, 1862],\n",
              "          [1089, 1863],\n",
              "          ...,\n",
              "          [1087, 2076],\n",
              "          [1126, 1514],\n",
              "          [1123, 1549]],\n",
              " \n",
              "         [[1154, 1444],\n",
              "          [1083, 1709],\n",
              "          [1039, 1964],\n",
              "          ...,\n",
              "          [1089, 2081],\n",
              "          [1210, 1648],\n",
              "          [1257, 1708]]],\n",
              " \n",
              " \n",
              "        [[[  17,    1],\n",
              "          [  24,   16],\n",
              "          [  38,   27],\n",
              "          ...,\n",
              "          [  47,   21],\n",
              "          [  42,   33],\n",
              "          [  35,   21]],\n",
              " \n",
              "         [[   5,   14],\n",
              "          [  40,   21],\n",
              "          [  38,   19],\n",
              "          ...,\n",
              "          [  46,   41],\n",
              "          [  65,   45],\n",
              "          [  47,   40]],\n",
              " \n",
              "         [[  47,   19],\n",
              "          [  27,   22],\n",
              "          [  21,    8],\n",
              "          ...,\n",
              "          [  60,   53],\n",
              "          [  65,   49],\n",
              "          [  38,   39]],\n",
              " \n",
              "         ...,\n",
              " \n",
              "         [[  49,   34],\n",
              "          [  49,   34],\n",
              "          [  43,   47],\n",
              "          ...,\n",
              "          [  61,   60],\n",
              "          [  31,   29],\n",
              "          [  38,   22]],\n",
              " \n",
              "         [[  61,   64],\n",
              "          [  62,   57],\n",
              "          [  52,   42],\n",
              "          ...,\n",
              "          [  60,   33],\n",
              "          [  48,   23],\n",
              "          [  55,   49]],\n",
              " \n",
              "         [[  53,   43],\n",
              "          [  65,   43],\n",
              "          [  34,   55],\n",
              "          ...,\n",
              "          [  85,   64],\n",
              "          [  61,   66],\n",
              "          [  52,   47]]],\n",
              " \n",
              " \n",
              "        [[[1047, 4715],\n",
              "          [ 979, 4517],\n",
              "          [ 855, 3510],\n",
              "          ...,\n",
              "          [ 745, 2642],\n",
              "          [ 914, 3478],\n",
              "          [ 911, 3647]],\n",
              " \n",
              "         [[ 985, 4292],\n",
              "          [ 956, 4618],\n",
              "          [ 836, 3551],\n",
              "          ...,\n",
              "          [ 587, 2020],\n",
              "          [ 939, 3555],\n",
              "          [ 950, 3903]],\n",
              " \n",
              "         [[ 865, 3491],\n",
              "          [ 823, 3443],\n",
              "          [ 685, 2858],\n",
              "          ...,\n",
              "          [ 493, 1963],\n",
              "          [ 923, 3207],\n",
              "          [ 934, 3830]],\n",
              " \n",
              "         ...,\n",
              " \n",
              "         [[ 824, 4270],\n",
              "          [ 768, 3029],\n",
              "          [ 649, 2150],\n",
              "          ...,\n",
              "          [ 780, 3299],\n",
              "          [ 777, 3310],\n",
              "          [ 950, 3610]],\n",
              " \n",
              "         [[ 840, 3662],\n",
              "          [ 670, 2601],\n",
              "          [ 632, 2080],\n",
              "          ...,\n",
              "          [ 726, 3114],\n",
              "          [ 735, 3197],\n",
              "          [ 873, 3327]],\n",
              " \n",
              "         [[ 611, 2480],\n",
              "          [ 626, 2405],\n",
              "          [ 584, 2140],\n",
              "          ...,\n",
              "          [ 829, 3638],\n",
              "          [ 776, 3473],\n",
              "          [ 815, 3236]]]], dtype=uint16),\n",
              " array([0, 1, 1, 1, 0, 0, 1, 0, 0, 1, 0, 0, 1, 0, 0, 1, 1, 0, 0, 1, 0, 1,\n",
              "        0, 0, 1, 0, 1, 1, 0, 1, 0, 1]))"
            ]
          },
          "metadata": {
            "tags": []
          },
          "execution_count": 13
        }
      ]
    },
    {
      "cell_type": "code",
      "metadata": {
        "id": "1N0cigaOAl8k"
      },
      "source": [
        "img, label = data_gen.__getitem__(0)"
      ],
      "execution_count": 14,
      "outputs": []
    },
    {
      "cell_type": "code",
      "metadata": {
        "id": "ygxbK9nnAl8k",
        "colab": {
          "base_uri": "https://localhost:8080/"
        },
        "outputId": "ab1c5217-e99e-4b2a-a667-de3c3afacf50"
      },
      "source": [
        "print(img.shape)\n",
        "print(label.shape)"
      ],
      "execution_count": 15,
      "outputs": [
        {
          "output_type": "stream",
          "text": [
            "(32, 60, 60, 2)\n",
            "(32,)\n"
          ],
          "name": "stdout"
        }
      ]
    },
    {
      "cell_type": "code",
      "metadata": {
        "id": "pvJnluIUAl8k",
        "colab": {
          "base_uri": "https://localhost:8080/"
        },
        "outputId": "2c07f33d-3581-4a79-a784-eef5694cbbdc"
      },
      "source": [
        "## Model setup\n",
        "\n",
        "orig_model = tf.keras.applications.ResNet50V2(include_top=True, weights=None, pooling = \"avg\", classes=1, classifier_activation='sigmoid')\n",
        "\n",
        "dense_input = None\n",
        "out = None\n",
        "\n",
        "if len(CHANNELS) >= 9:\n",
        "    # apply 2 additional feature maps (i.e., conv layers) to\n",
        "    # graudally step down the informational filtering\n",
        "    # why >= 9? because it's 3^2 \n",
        "    dense_input = tf.keras.layers.Input(shape=(PIXEL, PIXEL, len(CHANNELS)))\n",
        "    dense_filter = tf.keras.layers.Conv2D(6, 3, padding='same')(dense_input)\n",
        "    dense_filter = tf.keras.layers.Conv2D(3, 3, padding='same')(dense_input)\n",
        "    out = orig_model(dense_filter)\n",
        "elif len(CHANNELS) == 3:\n",
        "    dense_input = tf.keras.layers.Input(shape=(PIXEL, PIXEL, 3))\n",
        "    out = orig_model(dense_input)\n",
        "else:\n",
        "    dense_input = tf.keras.layers.Input(shape=(PIXEL, PIXEL, len(CHANNELS)))\n",
        "    dense_filter = tf.keras.layers.Conv2D(3, 3, padding='same')(dense_input)\n",
        "    out = orig_model(dense_filter)\n",
        "\n",
        "model = tf.keras.Model(dense_input, out)\n",
        "model.summary()"
      ],
      "execution_count": 16,
      "outputs": [
        {
          "output_type": "stream",
          "text": [
            "WARNING:tensorflow:Model was constructed with shape (None, 224, 224, 3) for input Tensor(\"input_1:0\", shape=(None, 224, 224, 3), dtype=float32), but it was called on an input with incompatible shape (None, 60, 60, 3).\n",
            "Model: \"functional_1\"\n",
            "_________________________________________________________________\n",
            "Layer (type)                 Output Shape              Param #   \n",
            "=================================================================\n",
            "input_2 (InputLayer)         [(None, 60, 60, 2)]       0         \n",
            "_________________________________________________________________\n",
            "conv2d (Conv2D)              (None, 60, 60, 3)         57        \n",
            "_________________________________________________________________\n",
            "resnet50v2 (Functional)      (None, 1)                 23566849  \n",
            "=================================================================\n",
            "Total params: 23,566,906\n",
            "Trainable params: 23,521,466\n",
            "Non-trainable params: 45,440\n",
            "_________________________________________________________________\n"
          ],
          "name": "stdout"
        }
      ]
    },
    {
      "cell_type": "code",
      "metadata": {
        "id": "PmS40B_hAl8k"
      },
      "source": [
        "# compile the model\n",
        "model.compile(optimizer='adam', loss='binary_crossentropy', metrics=['accuracy','Precision','Recall'])"
      ],
      "execution_count": 17,
      "outputs": []
    },
    {
      "cell_type": "markdown",
      "metadata": {
        "id": "KLKTu3ChAl8k"
      },
      "source": [
        "### Data split and model training"
      ]
    },
    {
      "cell_type": "code",
      "metadata": {
        "id": "TPWimAGIAl8k"
      },
      "source": [
        "# split train and test datasets\n",
        "train_list = img_list[:int(len(img_list)*0.8)]\n",
        "test_list = img_list[int(len(img_list)*0.8):]\n",
        "\n",
        "data_train = Dataset(data_dir, train_list, LABEL_MAP, True, CHANNELS, BATCH_SIZE, PIXEL)\n",
        "data_test = Dataset(data_dir, test_list, LABEL_MAP, False, CHANNELS, BATCH_SIZE, PIXEL)"
      ],
      "execution_count": 18,
      "outputs": []
    },
    {
      "cell_type": "code",
      "metadata": {
        "id": "ZRqFnMWFAl8k",
        "colab": {
          "base_uri": "https://localhost:8080/"
        },
        "outputId": "923654bf-6b8a-4255-a1f7-ac2dea22ab95"
      },
      "source": [
        "start_time = time.time()\n",
        "history = model.fit(data_train, validation_data=data_test, epochs=EPOCH)"
      ],
      "execution_count": 19,
      "outputs": [
        {
          "output_type": "stream",
          "text": [
            "Epoch 1/4\n",
            "WARNING:tensorflow:Model was constructed with shape (None, 224, 224, 3) for input Tensor(\"input_1:0\", shape=(None, 224, 224, 3), dtype=float32), but it was called on an input with incompatible shape (None, 60, 60, 3).\n",
            "WARNING:tensorflow:Model was constructed with shape (None, 224, 224, 3) for input Tensor(\"input_1:0\", shape=(None, 224, 224, 3), dtype=float32), but it was called on an input with incompatible shape (None, 60, 60, 3).\n",
            "14758/14758 [==============================] - ETA: 0s - loss: 0.4493 - accuracy: 0.7880 - precision: 0.7698 - recall: 0.8113WARNING:tensorflow:Model was constructed with shape (None, 224, 224, 3) for input Tensor(\"input_1:0\", shape=(None, 224, 224, 3), dtype=float32), but it was called on an input with incompatible shape (None, 60, 60, 3).\n",
            "14758/14758 [==============================] - 3315s 225ms/step - loss: 0.4493 - accuracy: 0.7880 - precision: 0.7698 - recall: 0.8113 - val_loss: 0.4724 - val_accuracy: 0.7844 - val_precision: 0.7143 - val_recall: 0.9328\n",
            "Epoch 2/4\n",
            "14758/14758 [==============================] - 3413s 231ms/step - loss: 0.4032 - accuracy: 0.8124 - precision: 0.7937 - recall: 0.8354 - val_loss: 0.3824 - val_accuracy: 0.8227 - val_precision: 0.8326 - val_recall: 0.7983\n",
            "Epoch 3/4\n",
            "14758/14758 [==============================] - 3423s 232ms/step - loss: 0.3787 - accuracy: 0.8248 - precision: 0.8064 - recall: 0.8469 - val_loss: 0.4815 - val_accuracy: 0.7511 - val_precision: 0.8367 - val_recall: 0.6108\n",
            "Epoch 4/4\n",
            "14758/14758 [==============================] - 3440s 233ms/step - loss: 0.3639 - accuracy: 0.8326 - precision: 0.8154 - recall: 0.8524 - val_loss: 0.3844 - val_accuracy: 0.8193 - val_precision: 0.8331 - val_recall: 0.7890\n"
          ],
          "name": "stdout"
        }
      ]
    },
    {
      "cell_type": "code",
      "metadata": {
        "id": "UxcOh7UCAl8l",
        "colab": {
          "base_uri": "https://localhost:8080/"
        },
        "outputId": "1f80f0a1-577f-4c37-9486-41f1e27359e2"
      },
      "source": [
        "end_time = time.time()\n",
        "print(\"--- %s seconds ---\" % (end_time - start_time))\n",
        "print(\"training completed\")"
      ],
      "execution_count": 20,
      "outputs": [
        {
          "output_type": "stream",
          "text": [
            "--- 13603.583134174347 seconds ---\n",
            "training completed\n"
          ],
          "name": "stdout"
        }
      ]
    },
    {
      "cell_type": "code",
      "metadata": {
        "id": "p3xHqWTWAl8l",
        "colab": {
          "base_uri": "https://localhost:8080/"
        },
        "outputId": "071696cd-b851-4a57-c5d5-44a9e91731f6"
      },
      "source": [
        "start_time = time.time()\n",
        "evaluation = model.evaluate(data_test, batch_size=BATCH_SIZE)"
      ],
      "execution_count": 21,
      "outputs": [
        {
          "output_type": "stream",
          "text": [
            "3689/3689 [==============================] - 584s 158ms/step - loss: 0.3844 - accuracy: 0.8193 - precision: 0.8331 - recall: 0.7890\n"
          ],
          "name": "stdout"
        }
      ]
    },
    {
      "cell_type": "code",
      "metadata": {
        "id": "SM4i-1ImAl8l",
        "colab": {
          "base_uri": "https://localhost:8080/"
        },
        "outputId": "b5fc5025-324a-423f-9123-290e6cbcfd84"
      },
      "source": [
        "end_time = time.time()\n",
        "print(\"--- %s seconds ---\" % (end_time - start_time))\n",
        "print(\"evaluation completed\")"
      ],
      "execution_count": 22,
      "outputs": [
        {
          "output_type": "stream",
          "text": [
            "--- 585.1168477535248 seconds ---\n",
            "evaluation completed\n"
          ],
          "name": "stdout"
        }
      ]
    },
    {
      "cell_type": "markdown",
      "metadata": {
        "id": "yDMHvkejAl8l"
      },
      "source": [
        "### Training outcome"
      ]
    },
    {
      "cell_type": "code",
      "metadata": {
        "id": "dgFTYLz4Al8l",
        "colab": {
          "base_uri": "https://localhost:8080/",
          "height": 590
        },
        "outputId": "8e5f0acb-e3e5-4104-eb39-4d2da64550a1"
      },
      "source": [
        "# list all data in history\n",
        "print(history.history.keys())\n",
        "# summarize history for accuracy\n",
        "plt.plot(history.history['accuracy'])\n",
        "plt.plot(history.history['val_accuracy'])\n",
        "plt.title('model accuracy')\n",
        "plt.ylabel('accuracy')\n",
        "plt.xlabel('epoch')\n",
        "plt.legend(['train', 'test'], loc='upper left')\n",
        "plt.show()\n",
        "# summarize history for loss\n",
        "plt.plot(history.history['loss'])\n",
        "plt.plot(history.history['val_loss'])\n",
        "plt.title('model loss')\n",
        "plt.ylabel('loss')\n",
        "plt.xlabel('epoch')\n",
        "plt.legend(['train', 'test'], loc='upper left')\n",
        "plt.show()"
      ],
      "execution_count": 23,
      "outputs": [
        {
          "output_type": "stream",
          "text": [
            "dict_keys(['loss', 'accuracy', 'precision', 'recall', 'val_loss', 'val_accuracy', 'val_precision', 'val_recall'])\n"
          ],
          "name": "stdout"
        },
        {
          "output_type": "display_data",
          "data": {
            "image/png": "[encoded data removed]",
            "text/plain": [
              "<Figure size 432x288 with 1 Axes>"
            ]
          },
          "metadata": {
            "tags": [],
            "needs_background": "light"
          }
        },
        {
          "output_type": "display_data",
          "data": {
            "image/png": "[encoded data removed]",
            "text/plain": [
              "<Figure size 432x288 with 1 Axes>"
            ]
          },
          "metadata": {
            "tags": [],
            "needs_background": "light"
          }
        }
      ]
    },
    {
      "cell_type": "code",
      "metadata": {
        "id": "vz-f-6Z-Al8l",
        "colab": {
          "base_uri": "https://localhost:8080/"
        },
        "outputId": "ba216b08-d9a7-40c5-e7ad-2a34991dbb59"
      },
      "source": [
        "print(\"Training Output\")\n",
        "print(\"accuracy: \", history.history['accuracy'])\n",
        "print(\"precision: \", history.history['precision'])\n",
        "print(\"recall: \", history.history['recall'])\n",
        "print(\"loss: \", history.history['loss'])"
      ],
      "execution_count": 24,
      "outputs": [
        {
          "output_type": "stream",
          "text": [
            "Training Output\n",
            "accuracy:  [0.7879942059516907, 0.8123750686645508, 0.8248005509376526, 0.8326035141944885]\n",
            "precision:  [0.769761323928833, 0.7936512231826782, 0.8063608407974243, 0.815380871295929]\n",
            "recall:  [0.8112502098083496, 0.8354223370552063, 0.8468621373176575, 0.8523687720298767]\n",
            "loss:  [0.44926148653030396, 0.4032307267189026, 0.3786674439907074, 0.36392152309417725]\n"
          ],
          "name": "stdout"
        }
      ]
    },
    {
      "cell_type": "code",
      "metadata": {
        "id": "tbvaYkmQAl8l",
        "colab": {
          "base_uri": "https://localhost:8080/"
        },
        "outputId": "421adcd2-3f7d-43f5-b3a2-d4ca2631a770"
      },
      "source": [
        "print(\"Validation Output\")\n",
        "print(\"accuracy: \", evaluation[1])\n",
        "print(\"precision: \", evaluation[2])\n",
        "print(\"recall: \", evaluation[3])\n",
        "print(\"loss: \", evaluation[0])"
      ],
      "execution_count": 25,
      "outputs": [
        {
          "output_type": "stream",
          "text": [
            "Validation Output\n",
            "accuracy:  0.819327712059021\n",
            "precision:  0.8331262469291687\n",
            "recall:  0.7889527082443237\n",
            "loss:  0.3844374120235443\n"
          ],
          "name": "stdout"
        }
      ]
    },
    {
      "cell_type": "markdown",
      "metadata": {
        "id": "a8yE5l7GAl8l"
      },
      "source": [
        "### Agricultural Label Counts"
      ]
    },
    {
      "cell_type": "code",
      "metadata": {
        "id": "ZivcADGoAl8l"
      },
      "source": [
        "def count_label(data_gen, batch_count):\n",
        "    agri_count = 0\n",
        "    for i in range(batch_count):\n",
        "        _, label = data_gen.__getitem__(i)\n",
        "        batch_agri_count = np.sum(label)\n",
        "        agri_count += batch_agri_count\n",
        "        if i%1000 == 0:\n",
        "              print('Accumulated counts of the agicultural label in batch ', i, ' is ', agri_count)\n",
        "\n",
        "    return agri_count"
      ],
      "execution_count": 26,
      "outputs": []
    },
    {
      "cell_type": "code",
      "metadata": {
        "id": "B3r4FPSwAl8l",
        "colab": {
          "base_uri": "https://localhost:8080/"
        },
        "outputId": "67ad0f6e-eaed-4980-a011-283d3b3d59da"
      },
      "source": [
        "print(\"Total batches to be counted is \", BATCH_COUNT)"
      ],
      "execution_count": 27,
      "outputs": [
        {
          "output_type": "stream",
          "text": [
            "Total batches to be counted is  18447\n"
          ],
          "name": "stdout"
        }
      ]
    },
    {
      "cell_type": "code",
      "metadata": {
        "id": "VupiC0WmAl8l",
        "colab": {
          "base_uri": "https://localhost:8080/"
        },
        "outputId": "6bb6e2f2-e3df-4c12-b0a6-5e13f7b30b78"
      },
      "source": [
        "print(\"Total agricultural labels in the data set is \", count_label(data_gen, BATCH_COUNT))\n",
        "print(\"The total image patches \", len(os.listdir(data_dir)))"
      ],
      "execution_count": null,
      "outputs": [
        {
          "output_type": "stream",
          "text": [
            "Accumulated counts of the agicultural label in batch  0  is  15\n"
          ],
          "name": "stdout"
        }
      ]
    }
  ]
}