{
 "cells": [
  {
   "cell_type": "markdown",
   "metadata": {},
   "source": [
    "## Resnet50v2 with the RGB channels only, scaled down to 60 x 60 pixels, and with 2 epochs"
   ]
  },
  {
   "cell_type": "markdown",
   "metadata": {},
   "source": [
    "The notebook contains a custom setup of the Resnet50v2 model, which allows for users to configure the input such that (i) the list of remote sensing channels can be flexible and (ii) the dimension of image patches can be uniformaly adjusted (e.g., 20x20, 60x60, and 120x120). Each remote sensing channel input is stacked up and fed into the model all at once."
   ]
  },
  {
   "cell_type": "markdown",
   "metadata": {},
   "source": [
    "### Environment and library settings"
   ]
  },
  {
   "cell_type": "code",
   "execution_count": 1,
   "metadata": {},
   "outputs": [
    {
     "name": "stdout",
     "output_type": "stream",
     "text": [
      "Num GPUs Available:  1\n"
     ]
    }
   ],
   "source": [
    "import tensorflow as tf\n",
    "print(\"Num GPUs Available: \", len(tf.config.experimental.list_physical_devices('GPU')))"
   ]
  },
  {
   "cell_type": "code",
   "execution_count": 2,
   "metadata": {},
   "outputs": [
    {
     "name": "stdout",
     "output_type": "stream",
     "text": [
      "Default GPU Device: /device:GPU:0\n"
     ]
    }
   ],
   "source": [
    "import tensorflow as tf\n",
    "if tf.test.gpu_device_name():\n",
    "    print('Default GPU Device: {}'.format(tf.test.gpu_device_name()))\n",
    "else:\n",
    "    print(\"Please install GPU version of TF\")"
   ]
  },
  {
   "cell_type": "code",
   "execution_count": 5,
   "metadata": {},
   "outputs": [],
   "source": [
    "from pathlib import Path\n",
    "from PIL import Image, ImageShow\n",
    "import numpy as np\n",
    "import matplotlib.pyplot as plt\n",
    "import json\n",
    "import pandas as pd\n",
    "import cv2\n",
    "from skimage.transform import resize\n",
    "from tifffile import imread\n",
    "import time"
   ]
  },
  {
   "cell_type": "code",
   "execution_count": 6,
   "metadata": {},
   "outputs": [
    {
     "data": {
      "text/plain": [
       "'2.3.0'"
      ]
     },
     "execution_count": 6,
     "metadata": {},
     "output_type": "execute_result"
    }
   ],
   "source": [
    "import tensorflow as tf\n",
    "tf.__version__"
   ]
  },
  {
   "cell_type": "code",
   "execution_count": 7,
   "metadata": {},
   "outputs": [
    {
     "name": "stdout",
     "output_type": "stream",
     "text": [
      "/home/jupyter\n"
     ]
    }
   ],
   "source": [
    "!pwd"
   ]
  },
  {
   "cell_type": "code",
   "execution_count": 8,
   "metadata": {},
   "outputs": [
    {
     "data": {
      "text/plain": [
       "['.config',\n",
       " '.nv',\n",
       " '.ipython',\n",
       " 'bigearthnet_model_Resnet50v2-RGB60_epochs2.ipynb',\n",
       " '.cache',\n",
       " '.jupyter',\n",
       " 'bigearthnet_model_Resnet50v2.ipynb',\n",
       " 'data',\n",
       " 'tutorials',\n",
       " '.ipynb_checkpoints',\n",
       " '.local',\n",
       " '.keras',\n",
       " 'exploration.ipynb',\n",
       " 'bigearthnet_model.ipynb',\n",
       " 'check_gpu.ipynb',\n",
       " '.docker']"
      ]
     },
     "execution_count": 8,
     "metadata": {},
     "output_type": "execute_result"
    }
   ],
   "source": [
    "import os\n",
    "os.listdir('/home/jupyter')"
   ]
  },
  {
   "cell_type": "code",
   "execution_count": 9,
   "metadata": {},
   "outputs": [
    {
     "data": {
      "text/plain": [
       "'S2A_MSIL2A_20170617T113321_26_63'"
      ]
     },
     "execution_count": 9,
     "metadata": {},
     "output_type": "execute_result"
    }
   ],
   "source": [
    "next(os.walk('/home/jupyter/data/BigEarthNet-v1.0'))[1][0]"
   ]
  },
  {
   "cell_type": "code",
   "execution_count": 10,
   "metadata": {},
   "outputs": [
    {
     "data": {
      "text/plain": [
       "['S2A_MSIL2A_20170613T101032_77_22_B03.tif',\n",
       " 'S2A_MSIL2A_20170613T101032_77_22_B04.tif',\n",
       " 'S2A_MSIL2A_20170613T101032_77_22_B09.tif',\n",
       " 'S2A_MSIL2A_20170613T101032_77_22_B8A.tif',\n",
       " 'S2A_MSIL2A_20170613T101032_77_22_B06.tif',\n",
       " 'S2A_MSIL2A_20170613T101032_77_22_B05.tif',\n",
       " 'S2A_MSIL2A_20170613T101032_77_22_B12.tif',\n",
       " 'S2A_MSIL2A_20170613T101032_77_22_B08.tif',\n",
       " 'S2A_MSIL2A_20170613T101032_77_22_B01.tif',\n",
       " 'S2A_MSIL2A_20170613T101032_77_22_B11.tif',\n",
       " 'S2A_MSIL2A_20170613T101032_77_22_B02.tif',\n",
       " 'S2A_MSIL2A_20170613T101032_77_22_B07.tif',\n",
       " 'S2A_MSIL2A_20170613T101032_77_22_labels_metadata.json']"
      ]
     },
     "execution_count": 10,
     "metadata": {},
     "output_type": "execute_result"
    }
   ],
   "source": [
    "os.listdir('/home/jupyter/data/BigEarthNet-v1.0/S2A_MSIL2A_20170613T101032_77_22/')"
   ]
  },
  {
   "cell_type": "code",
   "execution_count": 11,
   "metadata": {},
   "outputs": [],
   "source": [
    "data_dir = \"/home/jupyter/data/BigEarthNet-v1.0\""
   ]
  },
  {
   "cell_type": "code",
   "execution_count": 12,
   "metadata": {},
   "outputs": [
    {
     "data": {
      "text/plain": [
       "['S2A_MSIL2A_20170617T113321_26_63',\n",
       " 'S2B_MSIL2A_20170930T095019_61_18',\n",
       " 'S2B_MSIL2A_20180421T100030_47_74',\n",
       " 'S2A_MSIL2A_20171002T094031_82_49',\n",
       " 'S2B_MSIL2A_20180511T100029_37_18',\n",
       " 'S2A_MSIL2A_20171002T112111_36_14',\n",
       " 'S2B_MSIL2A_20180525T94030_55_37',\n",
       " 'S2A_MSIL2A_20180225T114351_15_84',\n",
       " 'S2A_MSIL2A_20180506T100031_85_20',\n",
       " 'S2A_MSIL2A_20171101T094131_25_54']"
      ]
     },
     "execution_count": 12,
     "metadata": {},
     "output_type": "execute_result"
    }
   ],
   "source": [
    "img_list = os.listdir(data_dir)\n",
    "img_list[0:10]"
   ]
  },
  {
   "cell_type": "markdown",
   "metadata": {},
   "source": [
    "### Configuring the model parameters and constant variables"
   ]
  },
  {
   "cell_type": "code",
   "execution_count": 13,
   "metadata": {},
   "outputs": [],
   "source": [
    "PIXEL = 60\n",
    "BATCH_SIZE = 32\n",
    "BATCH_COUNT = len(img_list)//BATCH_SIZE\n",
    "CHANNELS = [\"B04\",\"B03\",\"B02\"]\n",
    "\n",
    "# B01: Coastal aerosol; 60m\n",
    "# B02: Blue; 10m\n",
    "# B03: Green; 10m\n",
    "# B04: Red; 10m\n",
    "# B05: Vegetation red edge; 20m\n",
    "# B06: Vegetation red edge; 20m\n",
    "# B07: Vegetation red edge; 20m\n",
    "# B08: NIR; 10m\n",
    "# B09: Water vapor; 60m\n",
    "# B11: SWIR; 20m\n",
    "# B12: SWIR; 20m\n",
    "# B8A: Narrow NIR; 20m\n",
    "\n",
    "LABEL_MAP = {'Agro-forestry areas':1,\n",
    "           'Airports':0,\n",
    "           'Annual crops associated with permanent crops':1,\n",
    "           'Bare rock':0,\n",
    "           'Beaches, dunes, sands':0,\n",
    "           'Broad-leaved forest':0,\n",
    "           'Burnt areas':0,\n",
    "           'Coastal lagoons':0,\n",
    "           'Complex cultivation patterns':1,\n",
    "           'Coniferous forest':0,\n",
    "           'Construction sites':0,\n",
    "           'Continuous urban fabric':0,\n",
    "           'Discontinuous urban fabric':0,\n",
    "           'Dump sites':0,\n",
    "           'Estuaries':0,\n",
    "           'Fruit trees and berry plantations':1,\n",
    "           'Green urban areas':0,\n",
    "           'Industrial or commercial units':0,\n",
    "           'Inland marshes':0,\n",
    "           'Intertidal flats':0,\n",
    "           'Land principally occupied by agriculture, with significant areas of natural vegetation':1,\n",
    "           'Mineral extraction sites':0,\n",
    "           'Mixed forest':0,\n",
    "           'Moors and heathland':0,\n",
    "           'Natural grassland':0,\n",
    "           'Non-irrigated arable land':0,\n",
    "           'Olive groves':1,\n",
    "           'Pastures':1,\n",
    "           'Peatbogs':0,\n",
    "           'Permanently irrigated land':1,\n",
    "           'Port areas':0,\n",
    "           'Rice fields':1,\n",
    "           'Road and rail networks and associated land':0,\n",
    "           'Salines':0,\n",
    "           'Salt marshes':0,\n",
    "           'Sclerophyllous vegetation':0,\n",
    "           'Sea and ocean':0,\n",
    "           'Sparsely vegetated areas':0,\n",
    "           'Sport and leisure facilities':0,\n",
    "           'Transitional woodland/shrub':0,\n",
    "           'Vineyards':1,\n",
    "           'Water bodies':0,\n",
    "           'Water courses':0\n",
    "           }"
   ]
  },
  {
   "cell_type": "markdown",
   "metadata": {},
   "source": [
    "### Custom data generator and model building"
   ]
  },
  {
   "cell_type": "code",
   "execution_count": 14,
   "metadata": {},
   "outputs": [],
   "source": [
    "### custom data generator to be used for the stacking approach\n",
    "\n",
    "class Dataset(tf.keras.utils.Sequence):\n",
    "    def __init__(self, data_dir, img_list, label_map, shuffle, channels, batch_size, pixel):\n",
    "        self.img_list = img_list\n",
    "        self.data_dir = data_dir\n",
    "        self.shuffle = shuffle\n",
    "        self.batch_size = batch_size\n",
    "        self.label_map = label_map\n",
    "        self.__on_epoch_end()\n",
    "        self.channels = channels\n",
    "        self.pixel = pixel\n",
    "        # print(channels)\n",
    "\n",
    "    def __len__(self):\n",
    "        # denote the number of batches in an epoch\n",
    "        return int(np.floor(len(self.img_list))/self.batch_size)\n",
    "\n",
    "    def __on_epoch_end(self):\n",
    "        'create and update index of the images in each epoch'\n",
    "        self.indexes = np.arange(len(self.img_list))\n",
    "        if self.shuffle == True:\n",
    "            np.random.shuffle(self.indexes)\n",
    "\n",
    "    def __getitem__(self, index):\n",
    "        indexes = self.indexes[index * self.batch_size: (index + 1) * self.batch_size]\n",
    "\n",
    "        img_list = [self.img_list[i] for i in indexes]\n",
    "        imgs = [self.__load_img(img_path) for img_path in img_list]\n",
    "        # label = [1 for img_path in img_list]\n",
    "        labels =[]\n",
    "\n",
    "        for img_path in img_list:\n",
    "            label = self.__generate_label(img_path, self.data_dir, self.label_map)\n",
    "            labels.append(label)\n",
    "\n",
    "        imgs = np.array(imgs)\n",
    "        labels = np.array(labels)\n",
    "\n",
    "        return imgs, labels\n",
    "\n",
    "\n",
    "    def __generate_label(self, img_path, data_dir, label_map):\n",
    "  \n",
    "        # unroll Json to get label\n",
    "        label_path = os.path.join(data_dir, img_path, img_path + '_labels_metadata.json')\n",
    "        label_data = json.load(open(label_path))\n",
    "\n",
    "        for i in label_data[\"labels\"]:\n",
    "            if label_map[i]==1:\n",
    "                return 1\n",
    "\n",
    "        return 0\n",
    "\n",
    "\n",
    "    def __load_img(self, img_path):\n",
    "\n",
    "        ch_img_list = []\n",
    "\n",
    "        for ch in self.channels:\n",
    "            ch_path = os.path.join(data_dir, img_path, img_path + '_' + ch + '.tif')\n",
    "            ch_img_list.append(imread(ch_path))\n",
    "\n",
    "        img = self.__preprocess(ch_img_list)\n",
    "\n",
    "        return img\n",
    "\n",
    "    def __preprocess(self, channels):\n",
    "\n",
    "        'preprocess and resize channels'\n",
    "\n",
    "        # dimension\n",
    "        dim = (self.pixel,self.pixel)\n",
    "        list_of_ch = []\n",
    "\n",
    "        for k in channels:\n",
    "            mat = cv2.resize(np.array(k), dim)\n",
    "\n",
    "            #print(np.array(k).shape)\n",
    "            list_of_ch.append(mat)\n",
    "\n",
    "        img = np.dstack(list_of_ch)\n",
    "\n",
    "        return img"
   ]
  },
  {
   "cell_type": "code",
   "execution_count": 15,
   "metadata": {},
   "outputs": [],
   "source": [
    "data_gen = Dataset(data_dir, img_list, LABEL_MAP, True, CHANNELS, BATCH_SIZE, PIXEL)"
   ]
  },
  {
   "cell_type": "code",
   "execution_count": 16,
   "metadata": {
    "collapsed": true,
    "jupyter": {
     "outputs_hidden": true
    }
   },
   "outputs": [
    {
     "data": {
      "text/plain": [
       "(array([[[[ 739,  894,  851],\n",
       "          [ 673,  844,  792],\n",
       "          [ 736,  885,  876],\n",
       "          ...,\n",
       "          [ 358,  349,  306],\n",
       "          [ 186,  183,  237],\n",
       "          [ 140,  178,  161]],\n",
       " \n",
       "         [[ 859,  990,  909],\n",
       "          [ 830,  998,  906],\n",
       "          [ 804,  982,  970],\n",
       "          ...,\n",
       "          [ 137,  135,  194],\n",
       "          [ 104,  107,  156],\n",
       "          [  86,  108,  101]],\n",
       " \n",
       "         [[1015, 1181, 1072],\n",
       "          [ 726,  891,  842],\n",
       "          [ 665,  778,  775],\n",
       "          ...,\n",
       "          [ 114,  120,  180],\n",
       "          [  84,  106,  126],\n",
       "          [  78,  104,  114]],\n",
       " \n",
       "         ...,\n",
       " \n",
       "         [[ 226,  258,  267],\n",
       "          [  77,  107,  135],\n",
       "          [  66,  120,  136],\n",
       "          ...,\n",
       "          [  43,   68,  118],\n",
       "          [  33,   82,  117],\n",
       "          [  37,   97,  102]],\n",
       " \n",
       "         [[  95,  143,  128],\n",
       "          [  64,  118,  121],\n",
       "          [  67,  120,  146],\n",
       "          ...,\n",
       "          [  34,  113,   85],\n",
       "          [  27,   96,  128],\n",
       "          [  27,   96,   57]],\n",
       " \n",
       "         [[  46,  109,  114],\n",
       "          [  66,  100,  138],\n",
       "          [  45,   98,  126],\n",
       "          ...,\n",
       "          [  52,   79,  138],\n",
       "          [  53,   95,  101],\n",
       "          [  48,   87,  121]]],\n",
       " \n",
       " \n",
       "        [[[ 224,  287,  148],\n",
       "          [ 348,  389,  202],\n",
       "          [ 487,  525,  288],\n",
       "          ...,\n",
       "          [  38,   41,   66],\n",
       "          [  34,   45,   62],\n",
       "          [  27,   41,   57]],\n",
       " \n",
       "         [[ 196,  246,  145],\n",
       "          [ 197,  241,  130],\n",
       "          [ 325,  389,  199],\n",
       "          ...,\n",
       "          [  38,   45,   65],\n",
       "          [  26,   39,   65],\n",
       "          [  36,   38,   69]],\n",
       " \n",
       "         [[ 186,  253,  129],\n",
       "          [ 181,  256,  134],\n",
       "          [ 217,  272,  138],\n",
       "          ...,\n",
       "          [  38,   34,   74],\n",
       "          [  25,   38,   63],\n",
       "          [  32,   43,   56]],\n",
       " \n",
       "         ...,\n",
       " \n",
       "         [[  36,   46,   63],\n",
       "          [  37,   43,   64],\n",
       "          [  39,   54,   73],\n",
       "          ...,\n",
       "          [ 175,  270,  136],\n",
       "          [ 141,  201,  117],\n",
       "          [  86,   86,   64]],\n",
       " \n",
       "         [[  35,   40,   66],\n",
       "          [  32,   32,   65],\n",
       "          [  33,   39,   70],\n",
       "          ...,\n",
       "          [ 168,  298,  140],\n",
       "          [ 149,  198,  115],\n",
       "          [  52,   50,   43]],\n",
       " \n",
       "         [[  30,   47,   58],\n",
       "          [  28,   31,   58],\n",
       "          [  23,   38,   55],\n",
       "          ...,\n",
       "          [ 230,  410,  186],\n",
       "          [ 115,  186,  102],\n",
       "          [  45,   64,   46]]],\n",
       " \n",
       " \n",
       "        [[[5391, 5275, 5363],\n",
       "          [5624, 5526, 5696],\n",
       "          [5085, 5028, 5076],\n",
       "          ...,\n",
       "          [ 662,  753,  704],\n",
       "          [ 596,  715,  694],\n",
       "          [ 560,  754,  739]],\n",
       " \n",
       "         [[5080, 4929, 4976],\n",
       "          [5416, 5329, 5406],\n",
       "          [5540, 5434, 5612],\n",
       "          ...,\n",
       "          [ 891, 1005,  898],\n",
       "          [ 758,  866,  877],\n",
       "          [ 681,  853,  829]],\n",
       " \n",
       "         [[6816, 6533, 6428],\n",
       "          [5508, 5363, 5465],\n",
       "          [6249, 5974, 5936],\n",
       "          ...,\n",
       "          [ 898, 1081, 1193],\n",
       "          [ 841,  981,  915],\n",
       "          [ 628,  787,  776]],\n",
       " \n",
       "         ...,\n",
       " \n",
       "         [[1885, 1960, 2031],\n",
       "          [2222, 2309, 2299],\n",
       "          [2374, 2409, 2357],\n",
       "          ...,\n",
       "          [ 996, 1169, 1210],\n",
       "          [1204, 1388, 1376],\n",
       "          [1084, 1314, 1352]],\n",
       " \n",
       "         [[2172, 2170, 2142],\n",
       "          [2290, 2344, 2259],\n",
       "          [2042, 2036, 2048],\n",
       "          ...,\n",
       "          [ 996, 1189, 1308],\n",
       "          [1576, 1796, 1779],\n",
       "          [1086, 1376, 1556]],\n",
       " \n",
       "         [[2286, 2340, 2274],\n",
       "          [2106, 2128, 2078],\n",
       "          [2219, 2278, 2212],\n",
       "          ...,\n",
       "          [1623, 1739, 1656],\n",
       "          [2615, 2688, 2777],\n",
       "          [2148, 2170, 2144]]],\n",
       " \n",
       " \n",
       "        ...,\n",
       " \n",
       " \n",
       "        [[[ 312,  765,  271],\n",
       "          [ 220,  500,  204],\n",
       "          [ 232,  490,  184],\n",
       "          ...,\n",
       "          [ 226,  455,  177],\n",
       "          [ 218,  424,  189],\n",
       "          [ 208,  370,  173]],\n",
       " \n",
       "         [[ 311,  728,  262],\n",
       "          [ 215,  531,  192],\n",
       "          [ 216,  504,  179],\n",
       "          ...,\n",
       "          [ 215,  437,  182],\n",
       "          [ 168,  326,  136],\n",
       "          [ 191,  406,  176]],\n",
       " \n",
       "         [[ 265,  626,  228],\n",
       "          [ 192,  437,  170],\n",
       "          [ 210,  444,  182],\n",
       "          ...,\n",
       "          [ 227,  421,  172],\n",
       "          [ 401,  482,  239],\n",
       "          [ 287,  457,  206]],\n",
       " \n",
       "         ...,\n",
       " \n",
       "         [[ 177,  400,  155],\n",
       "          [ 180,  378,  143],\n",
       "          [ 189,  388,  156],\n",
       "          ...,\n",
       "          [ 195,  455,  186],\n",
       "          [ 188,  439,  174],\n",
       "          [ 198,  444,  175]],\n",
       " \n",
       "         [[ 221,  472,  172],\n",
       "          [ 232,  496,  183],\n",
       "          [ 196,  425,  156],\n",
       "          ...,\n",
       "          [ 182,  380,  167],\n",
       "          [ 212,  462,  186],\n",
       "          [ 192,  398,  165]],\n",
       " \n",
       "         [[ 231,  466,  185],\n",
       "          [ 213,  446,  182],\n",
       "          [ 192,  403,  171],\n",
       "          ...,\n",
       "          [ 250,  527,  213],\n",
       "          [ 181,  358,  164],\n",
       "          [ 176,  350,  152]]],\n",
       " \n",
       " \n",
       "        [[[ 234,  376,  325],\n",
       "          [ 240,  379,  334],\n",
       "          [ 230,  362,  327],\n",
       "          ...,\n",
       "          [ 247,  408,  341],\n",
       "          [ 240,  385,  328],\n",
       "          [ 236,  395,  325]],\n",
       " \n",
       "         [[ 240,  378,  338],\n",
       "          [ 231,  370,  330],\n",
       "          [ 241,  368,  339],\n",
       "          ...,\n",
       "          [ 232,  397,  319],\n",
       "          [ 237,  392,  323],\n",
       "          [ 244,  393,  309]],\n",
       " \n",
       "         [[ 230,  372,  332],\n",
       "          [ 233,  379,  326],\n",
       "          [ 230,  371,  314],\n",
       "          ...,\n",
       "          [ 236,  388,  326],\n",
       "          [ 246,  380,  330],\n",
       "          [ 253,  403,  322]],\n",
       " \n",
       "         ...,\n",
       " \n",
       "         [[ 245,  378,  332],\n",
       "          [ 249,  384,  333],\n",
       "          [ 254,  370,  330],\n",
       "          ...,\n",
       "          [ 296,  487,  358],\n",
       "          [ 292,  483,  363],\n",
       "          [ 298,  488,  372]],\n",
       " \n",
       "         [[ 252,  392,  353],\n",
       "          [ 244,  385,  340],\n",
       "          [ 243,  386,  339],\n",
       "          ...,\n",
       "          [ 297,  478,  357],\n",
       "          [ 295,  496,  366],\n",
       "          [ 295,  499,  352]],\n",
       " \n",
       "         [[ 251,  390,  351],\n",
       "          [ 239,  382,  335],\n",
       "          [ 250,  389,  338],\n",
       "          ...,\n",
       "          [ 295,  482,  348],\n",
       "          [ 296,  500,  373],\n",
       "          [ 293,  486,  362]]],\n",
       " \n",
       " \n",
       "        [[[ 500,  616,  691],\n",
       "          [ 374,  454,  434],\n",
       "          [  20,   71,   46],\n",
       "          ...,\n",
       "          [1322, 1458, 1608],\n",
       "          [1609, 1676, 1812],\n",
       "          [2505, 2564, 2638]],\n",
       " \n",
       "         [[ 596,  696,  770],\n",
       "          [ 458,  546,  694],\n",
       "          [  75,  147,  128],\n",
       "          ...,\n",
       "          [2223, 2247, 2306],\n",
       "          [3040, 2965, 2955],\n",
       "          [3324, 3355, 3276]],\n",
       " \n",
       "         [[ 794,  850,  930],\n",
       "          [ 442,  594,  717],\n",
       "          [ 329,  412,  385],\n",
       "          ...,\n",
       "          [3244, 3186, 3028],\n",
       "          [4960, 4618, 4398],\n",
       "          [3530, 3640, 3327]],\n",
       " \n",
       "         ...,\n",
       " \n",
       "         [[8851, 8714, 9027],\n",
       "          [9035, 8900, 9268],\n",
       "          [8994, 8922, 9189],\n",
       "          ...,\n",
       "          [1796, 2052, 2296],\n",
       "          [1114, 1414, 1754],\n",
       "          [1188, 1488, 1901]],\n",
       " \n",
       "         [[8789, 8698, 8972],\n",
       "          [9013, 8909, 9206],\n",
       "          [8144, 8179, 8590],\n",
       "          ...,\n",
       "          [1194, 1477, 1723],\n",
       "          [1280, 1631, 2030],\n",
       "          [1453, 1898, 2202]],\n",
       " \n",
       "         [[8342, 8214, 8625],\n",
       "          [6712, 6986, 7400],\n",
       "          [3042, 3696, 4244],\n",
       "          ...,\n",
       "          [1596, 1854, 2100],\n",
       "          [2812, 3049, 3300],\n",
       "          [2431, 2745, 3130]]]], dtype=uint16),\n",
       " array([0, 0, 0, 1, 0, 1, 1, 1, 0, 1, 0, 1, 1, 1, 0, 1, 1, 0, 0, 0, 0, 1,\n",
       "        0, 1, 1, 0, 0, 1, 1, 1, 0, 0]))"
      ]
     },
     "execution_count": 16,
     "metadata": {},
     "output_type": "execute_result"
    }
   ],
   "source": [
    "data_gen.__getitem__(0)"
   ]
  },
  {
   "cell_type": "code",
   "execution_count": 18,
   "metadata": {},
   "outputs": [],
   "source": [
    "img, label = data_gen.__getitem__(0)"
   ]
  },
  {
   "cell_type": "code",
   "execution_count": 19,
   "metadata": {},
   "outputs": [
    {
     "name": "stdout",
     "output_type": "stream",
     "text": [
      "(32, 60, 60, 3)\n",
      "(32,)\n"
     ]
    }
   ],
   "source": [
    "print(img.shape)\n",
    "print(label.shape)"
   ]
  },
  {
   "cell_type": "code",
   "execution_count": 20,
   "metadata": {},
   "outputs": [
    {
     "name": "stdout",
     "output_type": "stream",
     "text": [
      "WARNING:tensorflow:Model was constructed with shape (None, 224, 224, 3) for input Tensor(\"input_1:0\", shape=(None, 224, 224, 3), dtype=float32), but it was called on an input with incompatible shape (None, 60, 60, 3).\n",
      "Model: \"functional_1\"\n",
      "_________________________________________________________________\n",
      "Layer (type)                 Output Shape              Param #   \n",
      "=================================================================\n",
      "input_2 (InputLayer)         [(None, 60, 60, 3)]       0         \n",
      "_________________________________________________________________\n",
      "resnet50v2 (Functional)      (None, 1)                 23566849  \n",
      "=================================================================\n",
      "Total params: 23,566,849\n",
      "Trainable params: 23,521,409\n",
      "Non-trainable params: 45,440\n",
      "_________________________________________________________________\n"
     ]
    }
   ],
   "source": [
    "## Model setup\n",
    "\n",
    "orig_model = tf.keras.applications.ResNet50V2(include_top=True, weights=None, pooling = \"avg\", classes=1, classifier_activation='sigmoid')\n",
    "if len(CHANNELS) >= 9:\n",
    "\n",
    "  # apply 2 additional feature maps (i.e., conv layers) to\n",
    "  # graudally step down the informational filtering\n",
    "  # why >= 9? because it's 3^2 \n",
    "    dense_input = tf.keras.layers.Input(shape=(PIXEL, PIXEL, len(CHANNELS)))\n",
    "    dense_filter = tf.keras.layers.Conv2D(6, 3, padding='same')(dense_input)\n",
    "    dense_filter = tf.keras.layers.Conv2D(3, 3, padding='same')(dense_input)\n",
    "    out = orig_model(dense_filter)\n",
    "elif len(CHANNELS) > 3:\n",
    "    dense_input = tf.keras.layers.Input(shape=(PIXEL, PIXEL, len(CHANNELS)))\n",
    "    dense_filter = tf.keras.layers.Conv2D(3, 3, padding='same')(dense_input)\n",
    "    out = orig_model(dense_filter)\n",
    "else:\n",
    "    dense_input = tf.keras.layers.Input(shape=(PIXEL, PIXEL, 3))\n",
    "    out = orig_model(dense_input)\n",
    "\n",
    "model = tf.keras.Model(dense_input, out)\n",
    "model.summary()"
   ]
  },
  {
   "cell_type": "code",
   "execution_count": 21,
   "metadata": {},
   "outputs": [],
   "source": [
    "# compile the model\n",
    "model.compile(optimizer='adam', loss='binary_crossentropy', metrics=['accuracy','Precision','Recall'])"
   ]
  },
  {
   "cell_type": "markdown",
   "metadata": {},
   "source": [
    "### Data split and model training"
   ]
  },
  {
   "cell_type": "code",
   "execution_count": 22,
   "metadata": {},
   "outputs": [],
   "source": [
    "# split train and test datasets\n",
    "train_list = img_list[:int(len(img_list)*0.8)]\n",
    "test_list = img_list[int(len(img_list)*0.8):]\n",
    "\n",
    "data_train = Dataset(data_dir, train_list, LABEL_MAP, True, CHANNELS, BATCH_SIZE, PIXEL)\n",
    "data_test = Dataset(data_dir, test_list, LABEL_MAP, False, CHANNELS, BATCH_SIZE, PIXEL)"
   ]
  },
  {
   "cell_type": "code",
   "execution_count": null,
   "metadata": {},
   "outputs": [
    {
     "name": "stdout",
     "output_type": "stream",
     "text": [
      "Epoch 1/2\n",
      "WARNING:tensorflow:Model was constructed with shape (None, 224, 224, 3) for input Tensor(\"input_1:0\", shape=(None, 224, 224, 3), dtype=float32), but it was called on an input with incompatible shape (None, 60, 60, 3).\n",
      "WARNING:tensorflow:Model was constructed with shape (None, 224, 224, 3) for input Tensor(\"input_1:0\", shape=(None, 224, 224, 3), dtype=float32), but it was called on an input with incompatible shape (None, 60, 60, 3).\n",
      "  561/14758 [>.............................] - ETA: 5:10:06 - loss: 0.5859 - accuracy: 0.7195 - precision: 0.6891 - recall: 0.7880"
     ]
    }
   ],
   "source": [
    "start_time = time.time()\n",
    "history = model.fit(data_train, validation_data=data_test, epochs=2)"
   ]
  },
  {
   "cell_type": "code",
   "execution_count": 26,
   "metadata": {},
   "outputs": [
    {
     "name": "stdout",
     "output_type": "stream",
     "text": [
      "--- 52859.990244627 seconds ---\n",
      "training completed\n"
     ]
    }
   ],
   "source": [
    "end_time = time.time()\n",
    "print(\"--- %s seconds ---\" % (end_time - start_time))\n",
    "print(\"training completed\")"
   ]
  },
  {
   "cell_type": "code",
   "execution_count": 27,
   "metadata": {},
   "outputs": [
    {
     "name": "stdout",
     "output_type": "stream",
     "text": [
      "3689/3689 [==============================] - 5062s 1s/step - loss: 0.4758 - accuracy: 0.7745 - precision: 0.7313 - recall: 0.8542\n"
     ]
    }
   ],
   "source": [
    "start_time = time.time()\n",
    "evaluation = model.evaluate(data_test, batch_size=BATCH_SIZE)"
   ]
  },
  {
   "cell_type": "code",
   "execution_count": 28,
   "metadata": {},
   "outputs": [
    {
     "name": "stdout",
     "output_type": "stream",
     "text": [
      "--- 5063.644137382507 seconds ---\n",
      "evaluation completed\n"
     ]
    }
   ],
   "source": [
    "end_time = time.time()\n",
    "print(\"--- %s seconds ---\" % (end_time - start_time))\n",
    "print(\"evaluation completed\")"
   ]
  },
  {
   "cell_type": "markdown",
   "metadata": {},
   "source": [
    "### Training outcome"
   ]
  },
  {
   "cell_type": "code",
   "execution_count": 29,
   "metadata": {},
   "outputs": [
    {
     "name": "stdout",
     "output_type": "stream",
     "text": [
      "dict_keys(['loss', 'accuracy', 'precision', 'recall', 'val_loss', 'val_accuracy', 'val_precision', 'val_recall'])\n"
     ]
    },
    {
     "data": {
      "image/png": "[encoded data removed]",
      "text/plain": [
       "<Figure size 432x288 with 1 Axes>"
      ]
     },
     "metadata": {
      "needs_background": "light"
     },
     "output_type": "display_data"
    },
    {
     "data": {
      "image/png": "[encoded data removed]",
      "text/plain": [
       "<Figure size 432x288 with 1 Axes>"
      ]
     },
     "metadata": {
      "needs_background": "light"
     },
     "output_type": "display_data"
    }
   ],
   "source": [
    "# list all data in history\n",
    "print(history.history.keys())\n",
    "# summarize history for accuracy\n",
    "plt.plot(history.history['accuracy'])\n",
    "plt.plot(history.history['val_accuracy'])\n",
    "plt.title('model accuracy')\n",
    "plt.ylabel('accuracy')\n",
    "plt.xlabel('epoch')\n",
    "plt.legend(['train', 'test'], loc='upper left')\n",
    "plt.show()\n",
    "# summarize history for loss\n",
    "plt.plot(history.history['loss'])\n",
    "plt.plot(history.history['val_loss'])\n",
    "plt.title('model loss')\n",
    "plt.ylabel('loss')\n",
    "plt.xlabel('epoch')\n",
    "plt.legend(['train', 'test'], loc='upper left')\n",
    "plt.show()"
   ]
  },
  {
   "cell_type": "code",
   "execution_count": 37,
   "metadata": {},
   "outputs": [
    {
     "name": "stdout",
     "output_type": "stream",
     "text": [
      "accuracy:  [0.7750309109687805, 0.8008114099502563]\n",
      "precision:  [0.7488006353378296, 0.7790866494178772]\n",
      "recall:  [0.8155574798583984, 0.829724133014679]\n",
      "loss:  [0.4798397123813629, 0.427162230014801]\n"
     ]
    }
   ],
   "source": [
    "print(\"accuracy: \", history.history['accuracy'])\n",
    "print(\"precision: \", history.history['precision'])\n",
    "print(\"recall: \", history.history['recall'])\n",
    "print(\"loss: \", history.history['loss'])"
   ]
  },
  {
   "cell_type": "markdown",
   "metadata": {},
   "source": [
    "### Agricultural Label Counts"
   ]
  },
  {
   "cell_type": "code",
   "execution_count": 34,
   "metadata": {},
   "outputs": [],
   "source": [
    "def count_label(data_gen, batch_count):\n",
    "    agri_count = 0\n",
    "    for i in range(batch_count):\n",
    "        _, label = data_gen.__getitem__(i)\n",
    "        batch_agri_count = np.sum(label)\n",
    "        agri_count += batch_agri_count\n",
    "        if i%1000 == 0:\n",
    "              print('Accumulated counts of the agicultural label in batch ', i, ' is ', agri_count)\n",
    "\n",
    "    return agri_count"
   ]
  },
  {
   "cell_type": "code",
   "execution_count": 35,
   "metadata": {},
   "outputs": [
    {
     "name": "stdout",
     "output_type": "stream",
     "text": [
      "Total batches to be counted is  18447\n"
     ]
    }
   ],
   "source": [
    "print(\"Total batches to be counted is \", BATCH_COUNT)"
   ]
  },
  {
   "cell_type": "code",
   "execution_count": 36,
   "metadata": {},
   "outputs": [
    {
     "name": "stdout",
     "output_type": "stream",
     "text": [
      "Accumulated counts of the agicultural label in batch  0  is  16\n",
      "Accumulated counts of the agicultural label in batch  1000  is  15694\n",
      "Accumulated counts of the agicultural label in batch  2000  is  31414\n",
      "Accumulated counts of the agicultural label in batch  4000  is  62929\n",
      "Accumulated counts of the agicultural label in batch  5000  is  78623\n",
      "Accumulated counts of the agicultural label in batch  6000  is  94358\n",
      "Accumulated counts of the agicultural label in batch  8000  is  125674\n",
      "Accumulated counts of the agicultural label in batch  9000  is  141431\n",
      "Accumulated counts of the agicultural label in batch  10000  is  157135\n",
      "Accumulated counts of the agicultural label in batch  11000  is  172876\n",
      "Accumulated counts of the agicultural label in batch  12000  is  188536\n",
      "Accumulated counts of the agicultural label in batch  13000  is  204386\n",
      "Accumulated counts of the agicultural label in batch  15000  is  235850\n",
      "Accumulated counts of the agicultural label in batch  16000  is  251628\n",
      "Accumulated counts of the agicultural label in batch  17000  is  267197\n",
      "Accumulated counts of the agicultural label in batch  18000  is  282819\n",
      "Total agricultural labels in the data set is  289872\n",
      "The total image patches  590326\n"
     ]
    }
   ],
   "source": [
    "print(\"Total agricultural labels in the data set is \", count_label(data_gen, BATCH_COUNT))\n",
    "print(\"The total image patches \", len(os.listdir(data_dir)))"
   ]
  }
 ],
 "metadata": {
  "environment": {
   "name": "tf2-2-3-gpu.2-3.m56",
   "type": "gcloud",
   "uri": "gcr.io/deeplearning-platform-release/tf2-2-3-gpu.2-3:m56"
  },
  "kernelspec": {
   "display_name": "Python 3",
   "language": "python",
   "name": "python3"
  },
  "language_info": {
   "codemirror_mode": {
    "name": "ipython",
    "version": 3
   },
   "file_extension": ".py",
   "mimetype": "text/x-python",
   "name": "python",
   "nbconvert_exporter": "python",
   "pygments_lexer": "ipython3",
   "version": "3.7.8"
  }
 },
 "nbformat": 4,
 "nbformat_minor": 4
}
