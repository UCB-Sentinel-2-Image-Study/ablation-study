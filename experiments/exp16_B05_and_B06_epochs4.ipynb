{
  "nbformat": 4,
  "nbformat_minor": 0,
  "metadata": {
    "environment": {
      "name": "tf2-2-3-gpu.2-3.m58",
      "type": "gcloud",
      "uri": "gcr.io/deeplearning-platform-release/tf2-2-3-gpu.2-3:m58"
    },
    "kernelspec": {
      "display_name": "Python 3",
      "language": "python",
      "name": "python3"
    },
    "language_info": {
      "codemirror_mode": {
        "name": "ipython",
        "version": 3
      },
      "file_extension": ".py",
      "mimetype": "text/x-python",
      "name": "python",
      "nbconvert_exporter": "python",
      "pygments_lexer": "ipython3",
      "version": "3.7.8"
    },
    "colab": {
      "name": "bigearthnet_model_Resnet50v2_B05-B07_epochs4.ipynb",
      "provenance": []
    },
    "accelerator": "GPU"
  },
  "cells": [
    {
      "cell_type": "markdown",
      "metadata": {
        "id": "Ovvxtb3oAl8i"
      },
      "source": [
        "## Resnet50v2 with B05-B07 channels (excluding RGB), scaled to 60 x 60 pixels, and with 4 epochs"
      ]
    },
    {
      "cell_type": "markdown",
      "metadata": {
        "id": "cLeCvib8Al8i"
      },
      "source": [
        "The notebook contains a custom setup of the Resnet50v2 model, which allows for users to configure the input such that (i) the list of remote sensing channels can be flexible and (ii) the dimension of image patches can be uniformaly adjusted (e.g., 20x20, 60x60, and 120x120). Each remote sensing channel input is stacked up and fed into the model all at once."
      ]
    },
    {
      "cell_type": "markdown",
      "metadata": {
        "id": "5b5BnvMEAl8i"
      },
      "source": [
        "### Environment and library settings"
      ]
    },
    {
      "cell_type": "code",
      "metadata": {
        "colab": {
          "base_uri": "https://localhost:8080/"
        },
        "id": "BVaU__nNFgLE",
        "outputId": "9e50a390-1022-4f87-f21e-bd3ed611879e"
      },
      "source": [
        "# Data download, comment once complete\n",
        "%env DATA_DIR=/content\n",
        "%env DOWNLOAD_URL=http://bigearth.net/downloads/BigEarthNet-v1.0.tar.gz\n",
        "\n",
        "#!rm -rf /content\n",
        "#!mkdir -p $DATA_DIR\n",
        "#!wget -qO- $DOWNLOAD_URL  | tar xz -C $DATA_DIR"
      ],
      "execution_count": 1,
      "outputs": [
        {
          "output_type": "stream",
          "text": [
            "env: DATA_DIR=/content\n",
            "env: DOWNLOAD_URL=http://bigearth.net/downloads/BigEarthNet-v1.0.tar.gz\n"
          ],
          "name": "stdout"
        }
      ]
    },
    {
      "cell_type": "code",
      "metadata": {
        "id": "qLAJJTmIAl8i",
        "colab": {
          "base_uri": "https://localhost:8080/"
        },
        "outputId": "48227876-0afc-43f7-da02-2c457b84dd7b"
      },
      "source": [
        "import tensorflow as tf\n",
        "print(\"Num GPUs Available: \", len(tf.config.experimental.list_physical_devices('GPU')))"
      ],
      "execution_count": 2,
      "outputs": [
        {
          "output_type": "stream",
          "text": [
            "Num GPUs Available:  1\n"
          ],
          "name": "stdout"
        }
      ]
    },
    {
      "cell_type": "code",
      "metadata": {
        "id": "3EQPp2oEAl8j",
        "colab": {
          "base_uri": "https://localhost:8080/"
        },
        "outputId": "53974ab0-ca02-4b88-f744-e96b19e0f4f5"
      },
      "source": [
        "if tf.test.gpu_device_name():\n",
        "    print('Default GPU Device: {}'.format(tf.test.gpu_device_name()))\n",
        "else:\n",
        "    print(\"Please install GPU version of TF\")"
      ],
      "execution_count": 3,
      "outputs": [
        {
          "output_type": "stream",
          "text": [
            "Default GPU Device: /device:GPU:0\n"
          ],
          "name": "stdout"
        }
      ]
    },
    {
      "cell_type": "code",
      "metadata": {
        "id": "2COKKH0fAl8j",
        "colab": {
          "base_uri": "https://localhost:8080/",
          "height": 35
        },
        "outputId": "b94d60f8-ae22-4171-dd5d-78d8c6791139"
      },
      "source": [
        "from pathlib import Path\n",
        "from PIL import Image, ImageShow\n",
        "import numpy as np\n",
        "import matplotlib.pyplot as plt\n",
        "import json\n",
        "import pandas as pd\n",
        "import cv2\n",
        "from skimage.transform import resize\n",
        "from tifffile import imread\n",
        "import time\n",
        "import tensorflow as tf\n",
        "\n",
        "tf.__version__"
      ],
      "execution_count": 4,
      "outputs": [
        {
          "output_type": "execute_result",
          "data": {
            "application/vnd.google.colaboratory.intrinsic+json": {
              "type": "string"
            },
            "text/plain": [
              "'2.3.0'"
            ]
          },
          "metadata": {
            "tags": []
          },
          "execution_count": 4
        }
      ]
    },
    {
      "cell_type": "code",
      "metadata": {
        "id": "6oxLnfn2Al8j"
      },
      "source": [
        "import os\n",
        "data_dir = os.environ.get(\"DATA_DIR\")"
      ],
      "execution_count": 5,
      "outputs": []
    },
    {
      "cell_type": "code",
      "metadata": {
        "id": "tpPx4ms5Al8j",
        "colab": {
          "base_uri": "https://localhost:8080/"
        },
        "outputId": "a8899a57-5886-416f-f0e4-645209134917"
      },
      "source": [
        "data_dir=os.path.join(data_dir, os.listdir(data_dir)[0])\n",
        "print(data_dir)"
      ],
      "execution_count": 6,
      "outputs": [
        {
          "output_type": "stream",
          "text": [
            "/content/BigEarthNet-v1.0\n"
          ],
          "name": "stdout"
        }
      ]
    },
    {
      "cell_type": "code",
      "metadata": {
        "id": "bwDACAssAl8k",
        "colab": {
          "base_uri": "https://localhost:8080/"
        },
        "outputId": "5cdb7afc-c093-4461-9f40-b5a379a3b9ca"
      },
      "source": [
        "os.listdir(os.path.join(data_dir,'S2A_MSIL2A_20170613T101032_77_22'))"
      ],
      "execution_count": 7,
      "outputs": [
        {
          "output_type": "execute_result",
          "data": {
            "text/plain": [
              "['S2A_MSIL2A_20170613T101032_77_22_labels_metadata.json',\n",
              " 'S2A_MSIL2A_20170613T101032_77_22_B02.tif',\n",
              " 'S2A_MSIL2A_20170613T101032_77_22_B08.tif',\n",
              " 'S2A_MSIL2A_20170613T101032_77_22_B09.tif',\n",
              " 'S2A_MSIL2A_20170613T101032_77_22_B04.tif',\n",
              " 'S2A_MSIL2A_20170613T101032_77_22_B03.tif',\n",
              " 'S2A_MSIL2A_20170613T101032_77_22_B05.tif',\n",
              " 'S2A_MSIL2A_20170613T101032_77_22_B11.tif',\n",
              " 'S2A_MSIL2A_20170613T101032_77_22_B12.tif',\n",
              " 'S2A_MSIL2A_20170613T101032_77_22_B06.tif',\n",
              " 'S2A_MSIL2A_20170613T101032_77_22_B07.tif',\n",
              " 'S2A_MSIL2A_20170613T101032_77_22_B01.tif',\n",
              " 'S2A_MSIL2A_20170613T101032_77_22_B8A.tif']"
            ]
          },
          "metadata": {
            "tags": []
          },
          "execution_count": 7
        }
      ]
    },
    {
      "cell_type": "code",
      "metadata": {
        "id": "NAHpAqwLAl8k",
        "colab": {
          "base_uri": "https://localhost:8080/"
        },
        "outputId": "7b5db202-bbff-4ecd-a184-2cc8558b9210"
      },
      "source": [
        "img_list = os.listdir(data_dir)\n",
        "img_list[0:10]"
      ],
      "execution_count": 8,
      "outputs": [
        {
          "output_type": "execute_result",
          "data": {
            "text/plain": [
              "['S2A_MSIL2A_20170813T112121_84_36',\n",
              " 'S2B_MSIL2A_20180509T092029_32_8',\n",
              " 'S2A_MSIL2A_20170717T113321_26_32',\n",
              " 'S2B_MSIL2A_20170814T100029_73_22',\n",
              " 'S2B_MSIL2A_20180506T105029_20_0',\n",
              " 'S2A_MSIL2A_20180529T115401_74_45',\n",
              " 'S2B_MSIL2A_20170924T93014_11_43',\n",
              " 'S2B_MSIL2A_20180515T112109_89_74',\n",
              " 'S2B_MSIL2A_20180515T112109_72_50',\n",
              " 'S2A_MSIL2A_20180225T114351_18_20']"
            ]
          },
          "metadata": {
            "tags": []
          },
          "execution_count": 8
        }
      ]
    },
    {
      "cell_type": "code",
      "metadata": {
        "id": "SIxsc_eNAl8k",
        "colab": {
          "base_uri": "https://localhost:8080/"
        },
        "outputId": "0def49d7-0486-4cab-e403-b4c1ec38d7d5"
      },
      "source": [
        "len(os.listdir(data_dir))"
      ],
      "execution_count": 9,
      "outputs": [
        {
          "output_type": "execute_result",
          "data": {
            "text/plain": [
              "590326"
            ]
          },
          "metadata": {
            "tags": []
          },
          "execution_count": 9
        }
      ]
    },
    {
      "cell_type": "markdown",
      "metadata": {
        "id": "pVCe04yLAl8k"
      },
      "source": [
        "### Configuring the model parameters and constant variables"
      ]
    },
    {
      "cell_type": "code",
      "metadata": {
        "id": "35j7So5MAl8k"
      },
      "source": [
        "PIXEL = 60\n",
        "BATCH_SIZE = 32\n",
        "BATCH_COUNT = len(img_list)//BATCH_SIZE\n",
        "CHANNELS = [\"B05\",\"B06\"]#,\"B07\"]\n",
        "EPOCH = 4\n",
        "\n",
        "# B01: Coastal aerosol; 60m\n",
        "# B02: Blue; 10m\n",
        "# B03: Green; 10m\n",
        "# B04: Red; 10m\n",
        "# B05: Vegetation red edge; 20m\n",
        "# B06: Vegetation red edge; 20m\n",
        "# B07: Vegetation red edge; 20m\n",
        "# B08: NIR; 10m\n",
        "# B09: Water vapor; 60m\n",
        "# B11: SWIR; 20m\n",
        "# B12: SWIR; 20m\n",
        "# B8A: Narrow NIR; 20m\n",
        "# Reference: https://developers.google.com/earth-engine/datasets/catalog/TUBerlin_BigEarthNet_v1#bands\n",
        "\n",
        "LABEL_MAP = {'Agro-forestry areas':1,\n",
        "           'Airports':0,\n",
        "           'Annual crops associated with permanent crops':1,\n",
        "           'Bare rock':0,\n",
        "           'Beaches, dunes, sands':0,\n",
        "           'Broad-leaved forest':0,\n",
        "           'Burnt areas':0,\n",
        "           'Coastal lagoons':0,\n",
        "           'Complex cultivation patterns':1,\n",
        "           'Coniferous forest':0,\n",
        "           'Construction sites':0,\n",
        "           'Continuous urban fabric':0,\n",
        "           'Discontinuous urban fabric':0,\n",
        "           'Dump sites':0,\n",
        "           'Estuaries':0,\n",
        "           'Fruit trees and berry plantations':1,\n",
        "           'Green urban areas':0,\n",
        "           'Industrial or commercial units':0,\n",
        "           'Inland marshes':0,\n",
        "           'Intertidal flats':0,\n",
        "           'Land principally occupied by agriculture, with significant areas of natural vegetation':1,\n",
        "           'Mineral extraction sites':0,\n",
        "           'Mixed forest':0,\n",
        "           'Moors and heathland':0,\n",
        "           'Natural grassland':0,\n",
        "           'Non-irrigated arable land':0,\n",
        "           'Olive groves':1,\n",
        "           'Pastures':1,\n",
        "           'Peatbogs':0,\n",
        "           'Permanently irrigated land':1,\n",
        "           'Port areas':0,\n",
        "           'Rice fields':1,\n",
        "           'Road and rail networks and associated land':0,\n",
        "           'Salines':0,\n",
        "           'Salt marshes':0,\n",
        "           'Sclerophyllous vegetation':0,\n",
        "           'Sea and ocean':0,\n",
        "           'Sparsely vegetated areas':0,\n",
        "           'Sport and leisure facilities':0,\n",
        "           'Transitional woodland/shrub':0,\n",
        "           'Vineyards':1,\n",
        "           'Water bodies':0,\n",
        "           'Water courses':0\n",
        "           }"
      ],
      "execution_count": 10,
      "outputs": []
    },
    {
      "cell_type": "markdown",
      "metadata": {
        "id": "AHuTIa8DAl8k"
      },
      "source": [
        "### Custom data generator and model building"
      ]
    },
    {
      "cell_type": "code",
      "metadata": {
        "id": "qw-UTde7Al8k"
      },
      "source": [
        "### custom data generator to be used for the stacking approach\n",
        "\n",
        "class Dataset(tf.keras.utils.Sequence):\n",
        "    def __init__(self, data_dir, img_list, label_map, shuffle, channels, batch_size, pixel):\n",
        "        self.img_list = img_list\n",
        "        self.data_dir = data_dir\n",
        "        self.shuffle = shuffle\n",
        "        self.batch_size = batch_size\n",
        "        self.label_map = label_map\n",
        "        self.__on_epoch_end()\n",
        "        self.channels = channels\n",
        "        self.pixel = pixel\n",
        "        # print(channels)\n",
        "\n",
        "    def __len__(self):\n",
        "        # denote the number of batches in an epoch\n",
        "        return int(np.floor(len(self.img_list))/self.batch_size)\n",
        "\n",
        "    def __on_epoch_end(self):\n",
        "        'create and update index of the images in each epoch'\n",
        "        self.indexes = np.arange(len(self.img_list))\n",
        "        if self.shuffle == True:\n",
        "            np.random.shuffle(self.indexes)\n",
        "\n",
        "    def __getitem__(self, index):\n",
        "        indexes = self.indexes[index * self.batch_size: (index + 1) * self.batch_size]\n",
        "\n",
        "        img_list = [self.img_list[i] for i in indexes]\n",
        "        imgs = [self.__load_img(img_path) for img_path in img_list]\n",
        "        # label = [1 for img_path in img_list]\n",
        "        labels =[]\n",
        "\n",
        "        for img_path in img_list:\n",
        "            label = self.__generate_label(img_path, self.data_dir, self.label_map)\n",
        "            labels.append(label)\n",
        "\n",
        "        imgs = np.array(imgs)\n",
        "        labels = np.array(labels)\n",
        "\n",
        "        return imgs, labels\n",
        "\n",
        "\n",
        "    def __generate_label(self, img_path, data_dir, label_map):\n",
        "  \n",
        "        # unroll Json to get label\n",
        "        label_path = os.path.join(data_dir, img_path, img_path + '_labels_metadata.json')\n",
        "        label_data = json.load(open(label_path))\n",
        "\n",
        "        for i in label_data[\"labels\"]:\n",
        "            if label_map[i]==1:\n",
        "                return 1\n",
        "\n",
        "        return 0\n",
        "\n",
        "\n",
        "    def __load_img(self, img_path):\n",
        "\n",
        "        ch_img_list = []\n",
        "\n",
        "        for ch in self.channels:\n",
        "            ch_path = os.path.join(data_dir, img_path, img_path + '_' + ch + '.tif')\n",
        "            ch_img_list.append(imread(ch_path))\n",
        "\n",
        "        img = self.__preprocess(ch_img_list)\n",
        "\n",
        "        return img\n",
        "\n",
        "    def __preprocess(self, channels):\n",
        "\n",
        "        'preprocess and resize channels'\n",
        "\n",
        "        # dimension\n",
        "        dim = (self.pixel,self.pixel)\n",
        "        list_of_ch = []\n",
        "\n",
        "        for k in channels:\n",
        "            mat = cv2.resize(np.array(k), dim)\n",
        "\n",
        "            #print(np.array(k).shape)\n",
        "            list_of_ch.append(mat)\n",
        "\n",
        "        img = np.dstack(list_of_ch)\n",
        "\n",
        "        return img"
      ],
      "execution_count": 11,
      "outputs": []
    },
    {
      "cell_type": "code",
      "metadata": {
        "id": "LVAFhEM_Al8k"
      },
      "source": [
        "data_gen = Dataset(data_dir, img_list, LABEL_MAP, True, CHANNELS, BATCH_SIZE, PIXEL)"
      ],
      "execution_count": 12,
      "outputs": []
    },
    {
      "cell_type": "code",
      "metadata": {
        "jupyter": {
          "outputs_hidden": true
        },
        "id": "nK2jvtFDAl8k",
        "colab": {
          "base_uri": "https://localhost:8080/"
        },
        "outputId": "b66225c9-2b50-4acb-a3c1-3ac231f178f1"
      },
      "source": [
        "data_gen.__getitem__(0)"
      ],
      "execution_count": 13,
      "outputs": [
        {
          "output_type": "execute_result",
          "data": {
            "text/plain": [
              "(array([[[[ 911, 1013],\n",
              "          [ 932, 1002],\n",
              "          [ 943, 1020],\n",
              "          ...,\n",
              "          [1336, 1437],\n",
              "          [1350, 1477],\n",
              "          [1303, 1419]],\n",
              " \n",
              "         [[ 920, 1046],\n",
              "          [ 931, 1018],\n",
              "          [ 884, 1040],\n",
              "          ...,\n",
              "          [1335, 1445],\n",
              "          [1350, 1515],\n",
              "          [1190, 1323]],\n",
              " \n",
              "         [[ 924, 1045],\n",
              "          [ 933,  969],\n",
              "          [ 880, 1179],\n",
              "          ...,\n",
              "          [1339, 1493],\n",
              "          [1147, 1315],\n",
              "          [1024, 1132]],\n",
              " \n",
              "         ...,\n",
              " \n",
              "         [[1118, 2511],\n",
              "          [1019, 3292],\n",
              "          [ 997, 3514],\n",
              "          ...,\n",
              "          [1429, 1949],\n",
              "          [1134, 1993],\n",
              "          [ 983, 1828]],\n",
              " \n",
              "         [[1011, 3357],\n",
              "          [1010, 3327],\n",
              "          [1024, 2578],\n",
              "          ...,\n",
              "          [1345, 2177],\n",
              "          [1108, 1974],\n",
              "          [1048, 1871]],\n",
              " \n",
              "         [[1021, 3050],\n",
              "          [1042, 2124],\n",
              "          [1051, 1562],\n",
              "          ...,\n",
              "          [1150, 1920],\n",
              "          [1024, 1811],\n",
              "          [1023, 1816]]],\n",
              " \n",
              " \n",
              "        [[[3218, 3443],\n",
              "          [3151, 3127],\n",
              "          [2899, 3241],\n",
              "          ...,\n",
              "          [1215, 1815],\n",
              "          [1757, 2155],\n",
              "          [2456, 2899]],\n",
              " \n",
              "         [[3312, 3629],\n",
              "          [3635, 3745],\n",
              "          [3270, 3584],\n",
              "          ...,\n",
              "          [2304, 2586],\n",
              "          [2100, 2732],\n",
              "          [1796, 2242]],\n",
              " \n",
              "         [[3179, 3508],\n",
              "          [3917, 4039],\n",
              "          [4305, 4117],\n",
              "          ...,\n",
              "          [2448, 3083],\n",
              "          [2573, 3114],\n",
              "          [1673, 2142]],\n",
              " \n",
              "         ...,\n",
              " \n",
              "         [[2153, 2481],\n",
              "          [2830, 2690],\n",
              "          [2722, 3015],\n",
              "          ...,\n",
              "          [1954, 2406],\n",
              "          [1415, 2067],\n",
              "          [1496, 1950]],\n",
              " \n",
              "         [[1614, 1944],\n",
              "          [1855, 1958],\n",
              "          [1950, 2197],\n",
              "          ...,\n",
              "          [1899, 2276],\n",
              "          [1460, 1929],\n",
              "          [2049, 2531]],\n",
              " \n",
              "         [[1086, 1536],\n",
              "          [ 993, 1407],\n",
              "          [ 792, 1318],\n",
              "          ...,\n",
              "          [1584, 2157],\n",
              "          [1797, 2173],\n",
              "          [2146, 2825]]],\n",
              " \n",
              " \n",
              "        [[[1228, 1967],\n",
              "          [1228, 1684],\n",
              "          [1253, 1703],\n",
              "          ...,\n",
              "          [1717, 2204],\n",
              "          [1470, 2284],\n",
              "          [1233, 2395]],\n",
              " \n",
              "         [[1509, 1992],\n",
              "          [1142, 1601],\n",
              "          [1571, 1934],\n",
              "          ...,\n",
              "          [1767, 2085],\n",
              "          [1707, 2189],\n",
              "          [1653, 2287]],\n",
              " \n",
              "         [[1881, 2343],\n",
              "          [1754, 2075],\n",
              "          [1922, 2199],\n",
              "          ...,\n",
              "          [1848, 2231],\n",
              "          [1366, 2255],\n",
              "          [1509, 2354]],\n",
              " \n",
              "         ...,\n",
              " \n",
              "         [[2303, 2589],\n",
              "          [2181, 2594],\n",
              "          [1750, 2135],\n",
              "          ...,\n",
              "          [3197, 3278],\n",
              "          [2672, 2763],\n",
              "          [2453, 2631]],\n",
              " \n",
              "         [[2024, 2473],\n",
              "          [2204, 2527],\n",
              "          [1977, 2246],\n",
              "          ...,\n",
              "          [2644, 2823],\n",
              "          [2143, 2420],\n",
              "          [2261, 2446]],\n",
              " \n",
              "         [[2174, 2594],\n",
              "          [2256, 2555],\n",
              "          [1852, 2297],\n",
              "          ...,\n",
              "          [2366, 2572],\n",
              "          [2238, 2488],\n",
              "          [2444, 2647]]],\n",
              " \n",
              " \n",
              "        ...,\n",
              " \n",
              " \n",
              "        [[[8297, 8058],\n",
              "          [8252, 8100],\n",
              "          [7977, 7933],\n",
              "          ...,\n",
              "          [7224, 7088],\n",
              "          [7517, 7545],\n",
              "          [7590, 7464]],\n",
              " \n",
              "         [[8049, 7949],\n",
              "          [8161, 7994],\n",
              "          [7900, 7797],\n",
              "          ...,\n",
              "          [7493, 7235],\n",
              "          [7634, 7733],\n",
              "          [7364, 7126]],\n",
              " \n",
              "         [[8009, 7809],\n",
              "          [7932, 7826],\n",
              "          [7900, 7752],\n",
              "          ...,\n",
              "          [7556, 7317],\n",
              "          [7544, 7376],\n",
              "          [7262, 6954]],\n",
              " \n",
              "         ...,\n",
              " \n",
              "         [[7988, 7930],\n",
              "          [7931, 7631],\n",
              "          [7808, 7739],\n",
              "          ...,\n",
              "          [8157, 7994],\n",
              "          [8285, 8076],\n",
              "          [7996, 7905]],\n",
              " \n",
              "         [[7548, 7357],\n",
              "          [8008, 7622],\n",
              "          [8140, 8017],\n",
              "          ...,\n",
              "          [7866, 7758],\n",
              "          [8112, 8028],\n",
              "          [7969, 7793]],\n",
              " \n",
              "         [[7717, 7440],\n",
              "          [7982, 7749],\n",
              "          [8183, 8017],\n",
              "          ...,\n",
              "          [7989, 7859],\n",
              "          [7985, 7836],\n",
              "          [8040, 7660]]],\n",
              " \n",
              " \n",
              "        [[[ 492, 1229],\n",
              "          [ 578, 1359],\n",
              "          [ 611, 1443],\n",
              "          ...,\n",
              "          [ 682, 1389],\n",
              "          [ 762, 1489],\n",
              "          [ 795, 1562]],\n",
              " \n",
              "         [[ 612, 1694],\n",
              "          [ 614, 1546],\n",
              "          [ 643, 1473],\n",
              "          ...,\n",
              "          [ 658, 1341],\n",
              "          [ 745, 1409],\n",
              "          [ 707, 1474]],\n",
              " \n",
              "         [[ 781, 1821],\n",
              "          [ 645, 1690],\n",
              "          [ 785, 1702],\n",
              "          ...,\n",
              "          [ 713, 1417],\n",
              "          [ 639, 1356],\n",
              "          [ 691, 1416]],\n",
              " \n",
              "         ...,\n",
              " \n",
              "         [[ 759, 1603],\n",
              "          [ 647, 1388],\n",
              "          [1058, 1951],\n",
              "          ...,\n",
              "          [1131, 1735],\n",
              "          [1101, 1812],\n",
              "          [1088, 1942]],\n",
              " \n",
              "         [[ 546, 1181],\n",
              "          [ 476, 1246],\n",
              "          [1143, 1925],\n",
              "          ...,\n",
              "          [1017, 1663],\n",
              "          [1040, 1703],\n",
              "          [1041, 1762]],\n",
              " \n",
              "         [[ 550, 1312],\n",
              "          [ 630, 1489],\n",
              "          [1270, 2021],\n",
              "          ...,\n",
              "          [ 974, 1752],\n",
              "          [1010, 1877],\n",
              "          [1147, 1844]]],\n",
              " \n",
              " \n",
              "        [[[1198, 3877],\n",
              "          [1187, 3874],\n",
              "          [1197, 3893],\n",
              "          ...,\n",
              "          [ 684, 2679],\n",
              "          [ 615, 2207],\n",
              "          [ 663, 1684]],\n",
              " \n",
              "         [[1257, 4096],\n",
              "          [1219, 3930],\n",
              "          [1194, 3970],\n",
              "          ...,\n",
              "          [ 702, 2137],\n",
              "          [ 614, 1606],\n",
              "          [ 614, 1346]],\n",
              " \n",
              "         [[1280, 4248],\n",
              "          [1271, 4181],\n",
              "          [1259, 4159],\n",
              "          ...,\n",
              "          [ 823, 2050],\n",
              "          [ 801, 2439],\n",
              "          [ 803, 2253]],\n",
              " \n",
              "         ...,\n",
              " \n",
              "         [[1116, 1990],\n",
              "          [1021, 1784],\n",
              "          [1073, 2017],\n",
              "          ...,\n",
              "          [1685, 2794],\n",
              "          [1513, 2698],\n",
              "          [1316, 1922]],\n",
              " \n",
              "         [[1130, 2164],\n",
              "          [1081, 2152],\n",
              "          [1109, 2270],\n",
              "          ...,\n",
              "          [1478, 2137],\n",
              "          [1471, 2743],\n",
              "          [1264, 2204]],\n",
              " \n",
              "         [[1139, 2236],\n",
              "          [1133, 2341],\n",
              "          [1203, 2523],\n",
              "          ...,\n",
              "          [1520, 2289],\n",
              "          [1353, 2784],\n",
              "          [1360, 2468]]]], dtype=uint16),\n",
              " array([1, 0, 0, 1, 0, 1, 1, 1, 0, 1, 1, 0, 1, 1, 1, 0, 0, 0, 0, 1, 1, 1,\n",
              "        1, 0, 1, 1, 1, 1, 0, 0, 0, 1]))"
            ]
          },
          "metadata": {
            "tags": []
          },
          "execution_count": 13
        }
      ]
    },
    {
      "cell_type": "code",
      "metadata": {
        "id": "1N0cigaOAl8k"
      },
      "source": [
        "img, label = data_gen.__getitem__(0)"
      ],
      "execution_count": 14,
      "outputs": []
    },
    {
      "cell_type": "code",
      "metadata": {
        "id": "ygxbK9nnAl8k",
        "colab": {
          "base_uri": "https://localhost:8080/"
        },
        "outputId": "9d844892-0d7c-4d78-ca19-6003473c123b"
      },
      "source": [
        "print(img.shape)\n",
        "print(label.shape)"
      ],
      "execution_count": 15,
      "outputs": [
        {
          "output_type": "stream",
          "text": [
            "(32, 60, 60, 2)\n",
            "(32,)\n"
          ],
          "name": "stdout"
        }
      ]
    },
    {
      "cell_type": "code",
      "metadata": {
        "id": "pvJnluIUAl8k",
        "colab": {
          "base_uri": "https://localhost:8080/"
        },
        "outputId": "3eb92062-b7df-4412-97ff-d0948fd32505"
      },
      "source": [
        "## Model setup\n",
        "\n",
        "orig_model = tf.keras.applications.ResNet50V2(include_top=True, weights=None, pooling = \"avg\", classes=1, classifier_activation='sigmoid')\n",
        "\n",
        "dense_input = None\n",
        "out = None\n",
        "\n",
        "if len(CHANNELS) >= 9:\n",
        "    # apply 2 additional feature maps (i.e., conv layers) to\n",
        "    # graudally step down the informational filtering\n",
        "    # why >= 9? because it's 3^2 \n",
        "    dense_input = tf.keras.layers.Input(shape=(PIXEL, PIXEL, len(CHANNELS)))\n",
        "    dense_filter = tf.keras.layers.Conv2D(6, 3, padding='same')(dense_input)\n",
        "    dense_filter = tf.keras.layers.Conv2D(3, 3, padding='same')(dense_input)\n",
        "    out = orig_model(dense_filter)\n",
        "elif len(CHANNELS) == 3:\n",
        "    dense_input = tf.keras.layers.Input(shape=(PIXEL, PIXEL, 3))\n",
        "    out = orig_model(dense_input)\n",
        "else:\n",
        "    dense_input = tf.keras.layers.Input(shape=(PIXEL, PIXEL, len(CHANNELS)))\n",
        "    dense_filter = tf.keras.layers.Conv2D(3, 3, padding='same')(dense_input)\n",
        "    out = orig_model(dense_filter)\n",
        "\n",
        "model = tf.keras.Model(dense_input, out)\n",
        "model.summary()"
      ],
      "execution_count": 25,
      "outputs": [
        {
          "output_type": "stream",
          "text": [
            "WARNING:tensorflow:Model was constructed with shape (None, 224, 224, 3) for input Tensor(\"input_13:0\", shape=(None, 224, 224, 3), dtype=float32), but it was called on an input with incompatible shape (None, 60, 60, 3).\n",
            "Model: \"functional_5\"\n",
            "_________________________________________________________________\n",
            "Layer (type)                 Output Shape              Param #   \n",
            "=================================================================\n",
            "input_14 (InputLayer)        [(None, 60, 60, 2)]       0         \n",
            "_________________________________________________________________\n",
            "conv2d_1 (Conv2D)            (None, 60, 60, 3)         57        \n",
            "_________________________________________________________________\n",
            "resnet50v2 (Functional)      (None, 1)                 23566849  \n",
            "=================================================================\n",
            "Total params: 23,566,906\n",
            "Trainable params: 23,521,466\n",
            "Non-trainable params: 45,440\n",
            "_________________________________________________________________\n"
          ],
          "name": "stdout"
        }
      ]
    },
    {
      "cell_type": "code",
      "metadata": {
        "id": "PmS40B_hAl8k"
      },
      "source": [
        "# compile the model\n",
        "model.compile(optimizer='adam', loss='binary_crossentropy', metrics=['accuracy','Precision','Recall'])"
      ],
      "execution_count": 26,
      "outputs": []
    },
    {
      "cell_type": "markdown",
      "metadata": {
        "id": "KLKTu3ChAl8k"
      },
      "source": [
        "### Data split and model training"
      ]
    },
    {
      "cell_type": "code",
      "metadata": {
        "id": "TPWimAGIAl8k"
      },
      "source": [
        "# split train and test datasets\n",
        "train_list = img_list[:int(len(img_list)*0.8)]\n",
        "test_list = img_list[int(len(img_list)*0.8):]\n",
        "\n",
        "data_train = Dataset(data_dir, train_list, LABEL_MAP, True, CHANNELS, BATCH_SIZE, PIXEL)\n",
        "data_test = Dataset(data_dir, test_list, LABEL_MAP, False, CHANNELS, BATCH_SIZE, PIXEL)"
      ],
      "execution_count": 27,
      "outputs": []
    },
    {
      "cell_type": "code",
      "metadata": {
        "id": "ZRqFnMWFAl8k",
        "colab": {
          "base_uri": "https://localhost:8080/"
        },
        "outputId": "544b127a-9a2b-48b5-e897-9d45eb7e35f2"
      },
      "source": [
        "start_time = time.time()\n",
        "history = model.fit(data_train, validation_data=data_test, epochs=EPOCH)"
      ],
      "execution_count": 28,
      "outputs": [
        {
          "output_type": "stream",
          "text": [
            "Epoch 1/4\n",
            "WARNING:tensorflow:Model was constructed with shape (None, 224, 224, 3) for input Tensor(\"input_13:0\", shape=(None, 224, 224, 3), dtype=float32), but it was called on an input with incompatible shape (None, 60, 60, 3).\n",
            "WARNING:tensorflow:Model was constructed with shape (None, 224, 224, 3) for input Tensor(\"input_13:0\", shape=(None, 224, 224, 3), dtype=float32), but it was called on an input with incompatible shape (None, 60, 60, 3).\n",
            "14758/14758 [==============================] - ETA: 0s - loss: 0.4497 - accuracy: 0.7900 - precision: 0.7685 - recall: 0.8196WARNING:tensorflow:Model was constructed with shape (None, 224, 224, 3) for input Tensor(\"input_13:0\", shape=(None, 224, 224, 3), dtype=float32), but it was called on an input with incompatible shape (None, 60, 60, 3).\n",
            "14758/14758 [==============================] - 3490s 236ms/step - loss: 0.4497 - accuracy: 0.7900 - precision: 0.7685 - recall: 0.8196 - val_loss: 0.6505 - val_accuracy: 0.6198 - val_precision: 0.7473 - val_recall: 0.3374\n",
            "Epoch 2/4\n",
            "14758/14758 [==============================] - 3450s 234ms/step - loss: 0.4066 - accuracy: 0.8114 - precision: 0.7899 - recall: 0.8395 - val_loss: 0.4400 - val_accuracy: 0.7939 - val_precision: 0.8513 - val_recall: 0.7015\n",
            "Epoch 3/4\n",
            "14758/14758 [==============================] - 3454s 234ms/step - loss: 0.3841 - accuracy: 0.8223 - precision: 0.8037 - recall: 0.8446 - val_loss: 0.3782 - val_accuracy: 0.8244 - val_precision: 0.8068 - val_recall: 0.8432\n",
            "Epoch 4/4\n",
            "14758/14758 [==============================] - 3425s 232ms/step - loss: 0.3698 - accuracy: 0.8299 - precision: 0.8129 - recall: 0.8494 - val_loss: 0.4564 - val_accuracy: 0.8138 - val_precision: 0.7617 - val_recall: 0.9018\n"
          ],
          "name": "stdout"
        }
      ]
    },
    {
      "cell_type": "code",
      "metadata": {
        "id": "UxcOh7UCAl8l",
        "colab": {
          "base_uri": "https://localhost:8080/"
        },
        "outputId": "9c3c31ac-b62b-4dfe-dc2d-6d769c88726d"
      },
      "source": [
        "end_time = time.time()\n",
        "print(\"--- %s seconds ---\" % (end_time - start_time))\n",
        "print(\"training completed\")"
      ],
      "execution_count": 29,
      "outputs": [
        {
          "output_type": "stream",
          "text": [
            "--- 13831.061534404755 seconds ---\n",
            "training completed\n"
          ],
          "name": "stdout"
        }
      ]
    },
    {
      "cell_type": "code",
      "metadata": {
        "id": "p3xHqWTWAl8l",
        "colab": {
          "base_uri": "https://localhost:8080/"
        },
        "outputId": "381af342-942f-4f11-f279-41354c09d8d9"
      },
      "source": [
        "start_time = time.time()\n",
        "evaluation = model.evaluate(data_test, batch_size=BATCH_SIZE)"
      ],
      "execution_count": 30,
      "outputs": [
        {
          "output_type": "stream",
          "text": [
            "3689/3689 [==============================] - 670s 182ms/step - loss: 0.4564 - accuracy: 0.8138 - precision: 0.7617 - recall: 0.9018\n"
          ],
          "name": "stdout"
        }
      ]
    },
    {
      "cell_type": "code",
      "metadata": {
        "id": "SM4i-1ImAl8l",
        "colab": {
          "base_uri": "https://localhost:8080/"
        },
        "outputId": "bd3cdc2c-5361-4ac1-ff71-812810dec1f8"
      },
      "source": [
        "end_time = time.time()\n",
        "print(\"--- %s seconds ---\" % (end_time - start_time))\n",
        "print(\"evaluation completed\")"
      ],
      "execution_count": 31,
      "outputs": [
        {
          "output_type": "stream",
          "text": [
            "--- 670.4384348392487 seconds ---\n",
            "evaluation completed\n"
          ],
          "name": "stdout"
        }
      ]
    },
    {
      "cell_type": "markdown",
      "metadata": {
        "id": "yDMHvkejAl8l"
      },
      "source": [
        "### Training outcome"
      ]
    },
    {
      "cell_type": "code",
      "metadata": {
        "id": "dgFTYLz4Al8l",
        "colab": {
          "base_uri": "https://localhost:8080/",
          "height": 590
        },
        "outputId": "35fa1359-1934-417a-d06b-6c3d1b2c0716"
      },
      "source": [
        "# list all data in history\n",
        "print(history.history.keys())\n",
        "# summarize history for accuracy\n",
        "plt.plot(history.history['accuracy'])\n",
        "plt.plot(history.history['val_accuracy'])\n",
        "plt.title('model accuracy')\n",
        "plt.ylabel('accuracy')\n",
        "plt.xlabel('epoch')\n",
        "plt.legend(['train', 'test'], loc='upper left')\n",
        "plt.show()\n",
        "# summarize history for loss\n",
        "plt.plot(history.history['loss'])\n",
        "plt.plot(history.history['val_loss'])\n",
        "plt.title('model loss')\n",
        "plt.ylabel('loss')\n",
        "plt.xlabel('epoch')\n",
        "plt.legend(['train', 'test'], loc='upper left')\n",
        "plt.show()"
      ],
      "execution_count": 32,
      "outputs": [
        {
          "output_type": "stream",
          "text": [
            "dict_keys(['loss', 'accuracy', 'precision', 'recall', 'val_loss', 'val_accuracy', 'val_precision', 'val_recall'])\n"
          ],
          "name": "stdout"
        },
        {
          "output_type": "display_data",
          "data": {
            "image/png": "[encoded data removed]",
            "text/plain": [
              "<Figure size 432x288 with 1 Axes>"
            ]
          },
          "metadata": {
            "tags": [],
            "needs_background": "light"
          }
        },
        {
          "output_type": "display_data",
          "data": {
            "image/png": "[encoded data removed]",
            "text/plain": [
              "<Figure size 432x288 with 1 Axes>"
            ]
          },
          "metadata": {
            "tags": [],
            "needs_background": "light"
          }
        }
      ]
    },
    {
      "cell_type": "code",
      "metadata": {
        "id": "vz-f-6Z-Al8l",
        "colab": {
          "base_uri": "https://localhost:8080/"
        },
        "outputId": "4bbc10e6-efca-4bd0-8b69-12872363cba5"
      },
      "source": [
        "print(\"Training Output\")\n",
        "print(\"accuracy: \", history.history['accuracy'])\n",
        "print(\"precision: \", history.history['precision'])\n",
        "print(\"recall: \", history.history['recall'])\n",
        "print(\"loss: \", history.history['loss'])"
      ],
      "execution_count": 33,
      "outputs": [
        {
          "output_type": "stream",
          "text": [
            "Training Output\n",
            "accuracy:  [0.7899783253669739, 0.8114094734191895, 0.8222849369049072, 0.8298740386962891]\n",
            "precision:  [0.7684556841850281, 0.7899438142776489, 0.8037228584289551, 0.8128608465194702]\n",
            "recall:  [0.8195860981941223, 0.8394712209701538, 0.8446460962295532, 0.849359929561615]\n",
            "loss:  [0.44973161816596985, 0.40662693977355957, 0.3840843439102173, 0.3697829842567444]\n"
          ],
          "name": "stdout"
        }
      ]
    },
    {
      "cell_type": "code",
      "metadata": {
        "id": "tbvaYkmQAl8l",
        "colab": {
          "base_uri": "https://localhost:8080/"
        },
        "outputId": "ac9442cf-24bd-46eb-a5ef-7add7970a2c7"
      },
      "source": [
        "print(\"Validation Output\")\n",
        "print(\"accuracy: \", evaluation[1])\n",
        "print(\"precision: \", evaluation[2])\n",
        "print(\"recall: \", evaluation[3])\n",
        "print(\"loss: \", evaluation[0])"
      ],
      "execution_count": 34,
      "outputs": [
        {
          "output_type": "stream",
          "text": [
            "Validation Output\n",
            "accuracy:  0.8138299584388733\n",
            "precision:  0.7616959810256958\n",
            "recall:  0.9018481373786926\n",
            "loss:  0.45642781257629395\n"
          ],
          "name": "stdout"
        }
      ]
    },
    {
      "cell_type": "markdown",
      "metadata": {
        "id": "a8yE5l7GAl8l"
      },
      "source": [
        "### Agricultural Label Counts"
      ]
    },
    {
      "cell_type": "code",
      "metadata": {
        "id": "ZivcADGoAl8l"
      },
      "source": [
        "def count_label(data_gen, batch_count):\n",
        "    agri_count = 0\n",
        "    for i in range(batch_count):\n",
        "        _, label = data_gen.__getitem__(i)\n",
        "        batch_agri_count = np.sum(label)\n",
        "        agri_count += batch_agri_count\n",
        "        if i%1000 == 0:\n",
        "              print('Accumulated counts of the agicultural label in batch ', i, ' is ', agri_count)\n",
        "\n",
        "    return agri_count"
      ],
      "execution_count": 35,
      "outputs": []
    },
    {
      "cell_type": "code",
      "metadata": {
        "id": "B3r4FPSwAl8l",
        "colab": {
          "base_uri": "https://localhost:8080/"
        },
        "outputId": "217bc3ea-df40-46f1-ff5e-db017a19f1a1"
      },
      "source": [
        "print(\"Total batches to be counted is \", BATCH_COUNT)"
      ],
      "execution_count": 36,
      "outputs": [
        {
          "output_type": "stream",
          "text": [
            "Total batches to be counted is  18447\n"
          ],
          "name": "stdout"
        }
      ]
    },
    {
      "cell_type": "code",
      "metadata": {
        "id": "VupiC0WmAl8l",
        "colab": {
          "base_uri": "https://localhost:8080/"
        },
        "outputId": "7fa56c94-9f82-4247-eb1a-d0ea16a95269"
      },
      "source": [
        "print(\"Total agricultural labels in the data set is \", count_label(data_gen, BATCH_COUNT))\n",
        "print(\"The total image patches \", len(os.listdir(data_dir)))"
      ],
      "execution_count": null,
      "outputs": [
        {
          "output_type": "stream",
          "text": [
            "Accumulated counts of the agicultural label in batch  0  is  19\n",
            "Accumulated counts of the agicultural label in batch  1000  is  15560\n",
            "Accumulated counts of the agicultural label in batch  2000  is  31256\n",
            "Accumulated counts of the agicultural label in batch  3000  is  46936\n",
            "Accumulated counts of the agicultural label in batch  4000  is  62580\n",
            "Accumulated counts of the agicultural label in batch  5000  is  78320\n",
            "Accumulated counts of the agicultural label in batch  6000  is  94048\n",
            "Accumulated counts of the agicultural label in batch  7000  is  109701\n"
          ],
          "name": "stdout"
        }
      ]
    }
  ]
}