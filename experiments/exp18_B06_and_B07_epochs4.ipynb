{
  "nbformat": 4,
  "nbformat_minor": 0,
  "metadata": {
    "environment": {
      "name": "tf2-2-3-gpu.2-3.m58",
      "type": "gcloud",
      "uri": "gcr.io/deeplearning-platform-release/tf2-2-3-gpu.2-3:m58"
    },
    "kernelspec": {
      "display_name": "Python 3",
      "language": "python",
      "name": "python3"
    },
    "language_info": {
      "codemirror_mode": {
        "name": "ipython",
        "version": 3
      },
      "file_extension": ".py",
      "mimetype": "text/x-python",
      "name": "python",
      "nbconvert_exporter": "python",
      "pygments_lexer": "ipython3",
      "version": "3.7.8"
    },
    "colab": {
      "name": "exp18_B06_and_B07.ipynb",
      "provenance": [],
      "collapsed_sections": []
    },
    "accelerator": "GPU"
  },
  "cells": [
    {
      "cell_type": "markdown",
      "metadata": {
        "id": "Ovvxtb3oAl8i"
      },
      "source": [
        "## Resnet50v2 with B05-B07 channels (excluding RGB), scaled to 60 x 60 pixels, and with 4 epochs"
      ]
    },
    {
      "cell_type": "markdown",
      "metadata": {
        "id": "cLeCvib8Al8i"
      },
      "source": [
        "The notebook contains a custom setup of the Resnet50v2 model, which allows for users to configure the input such that (i) the list of remote sensing channels can be flexible and (ii) the dimension of image patches can be uniformaly adjusted (e.g., 20x20, 60x60, and 120x120). Each remote sensing channel input is stacked up and fed into the model all at once."
      ]
    },
    {
      "cell_type": "markdown",
      "metadata": {
        "id": "5b5BnvMEAl8i"
      },
      "source": [
        "### Environment and library settings"
      ]
    },
    {
      "cell_type": "code",
      "metadata": {
        "colab": {
          "base_uri": "https://localhost:8080/"
        },
        "id": "BVaU__nNFgLE",
        "outputId": "b44581de-92f3-4b2c-f250-1181d5aa1444"
      },
      "source": [
        "# Data download, comment once complete\n",
        "%env DATA_DIR=/content\n",
        "%env DOWNLOAD_URL=http://bigearth.net/downloads/BigEarthNet-v1.0.tar.gz\n",
        "\n",
        "!rm -rf /content\n",
        "!mkdir -p $DATA_DIR\n",
        "!wget -qO- $DOWNLOAD_URL  | tar xz -C $DATA_DIR"
      ],
      "execution_count": 1,
      "outputs": [
        {
          "output_type": "stream",
          "text": [
            "env: DATA_DIR=/content\n",
            "env: DOWNLOAD_URL=http://bigearth.net/downloads/BigEarthNet-v1.0.tar.gz\n",
            "shell-init: error retrieving current directory: getcwd: cannot access parent directories: No such file or directory\n",
            "shell-init: error retrieving current directory: getcwd: cannot access parent directories: No such file or directory\n"
          ],
          "name": "stdout"
        }
      ]
    },
    {
      "cell_type": "code",
      "metadata": {
        "id": "qLAJJTmIAl8i",
        "colab": {
          "base_uri": "https://localhost:8080/"
        },
        "outputId": "a9ccae97-7555-475f-a761-21bf5072859f"
      },
      "source": [
        "import tensorflow as tf\n",
        "print(\"Num GPUs Available: \", len(tf.config.experimental.list_physical_devices('GPU')))"
      ],
      "execution_count": 2,
      "outputs": [
        {
          "output_type": "stream",
          "text": [
            "Num GPUs Available:  1\n"
          ],
          "name": "stdout"
        }
      ]
    },
    {
      "cell_type": "code",
      "metadata": {
        "id": "3EQPp2oEAl8j",
        "colab": {
          "base_uri": "https://localhost:8080/"
        },
        "outputId": "476934ec-5de1-4d3f-93ff-2431087bedde"
      },
      "source": [
        "if tf.test.gpu_device_name():\n",
        "    print('Default GPU Device: {}'.format(tf.test.gpu_device_name()))\n",
        "else:\n",
        "    print(\"Please install GPU version of TF\")"
      ],
      "execution_count": 3,
      "outputs": [
        {
          "output_type": "stream",
          "text": [
            "Default GPU Device: /device:GPU:0\n"
          ],
          "name": "stdout"
        }
      ]
    },
    {
      "cell_type": "code",
      "metadata": {
        "id": "2COKKH0fAl8j",
        "colab": {
          "base_uri": "https://localhost:8080/",
          "height": 35
        },
        "outputId": "6d0ee28c-4406-48bb-97df-9a1bbcf89f4f"
      },
      "source": [
        "from pathlib import Path\n",
        "from PIL import Image, ImageShow\n",
        "import numpy as np\n",
        "import matplotlib.pyplot as plt\n",
        "import json\n",
        "import pandas as pd\n",
        "import cv2\n",
        "from skimage.transform import resize\n",
        "from tifffile import imread\n",
        "import time\n",
        "import tensorflow as tf\n",
        "\n",
        "tf.__version__"
      ],
      "execution_count": 4,
      "outputs": [
        {
          "output_type": "execute_result",
          "data": {
            "application/vnd.google.colaboratory.intrinsic+json": {
              "type": "string"
            },
            "text/plain": [
              "'2.3.0'"
            ]
          },
          "metadata": {
            "tags": []
          },
          "execution_count": 4
        }
      ]
    },
    {
      "cell_type": "code",
      "metadata": {
        "id": "6oxLnfn2Al8j"
      },
      "source": [
        "import os\n",
        "data_dir = os.environ.get(\"DATA_DIR\")"
      ],
      "execution_count": 5,
      "outputs": []
    },
    {
      "cell_type": "code",
      "metadata": {
        "id": "tpPx4ms5Al8j",
        "colab": {
          "base_uri": "https://localhost:8080/"
        },
        "outputId": "0822d692-c1bf-4dcb-9a0c-3e2a1c59ad15"
      },
      "source": [
        "data_dir=os.path.join(data_dir, os.listdir(data_dir)[0])\n",
        "print(data_dir)"
      ],
      "execution_count": 6,
      "outputs": [
        {
          "output_type": "stream",
          "text": [
            "/content/BigEarthNet-v1.0\n"
          ],
          "name": "stdout"
        }
      ]
    },
    {
      "cell_type": "code",
      "metadata": {
        "id": "bwDACAssAl8k",
        "colab": {
          "base_uri": "https://localhost:8080/"
        },
        "outputId": "6ea8320d-c464-46ab-e70d-b992596bbc14"
      },
      "source": [
        "os.listdir(os.path.join(data_dir,'S2A_MSIL2A_20170613T101032_77_22'))"
      ],
      "execution_count": 7,
      "outputs": [
        {
          "output_type": "execute_result",
          "data": {
            "text/plain": [
              "['S2A_MSIL2A_20170613T101032_77_22_labels_metadata.json',\n",
              " 'S2A_MSIL2A_20170613T101032_77_22_B02.tif',\n",
              " 'S2A_MSIL2A_20170613T101032_77_22_B08.tif',\n",
              " 'S2A_MSIL2A_20170613T101032_77_22_B09.tif',\n",
              " 'S2A_MSIL2A_20170613T101032_77_22_B04.tif',\n",
              " 'S2A_MSIL2A_20170613T101032_77_22_B03.tif',\n",
              " 'S2A_MSIL2A_20170613T101032_77_22_B05.tif',\n",
              " 'S2A_MSIL2A_20170613T101032_77_22_B11.tif',\n",
              " 'S2A_MSIL2A_20170613T101032_77_22_B12.tif',\n",
              " 'S2A_MSIL2A_20170613T101032_77_22_B06.tif',\n",
              " 'S2A_MSIL2A_20170613T101032_77_22_B07.tif',\n",
              " 'S2A_MSIL2A_20170613T101032_77_22_B01.tif',\n",
              " 'S2A_MSIL2A_20170613T101032_77_22_B8A.tif']"
            ]
          },
          "metadata": {
            "tags": []
          },
          "execution_count": 7
        }
      ]
    },
    {
      "cell_type": "code",
      "metadata": {
        "id": "NAHpAqwLAl8k",
        "colab": {
          "base_uri": "https://localhost:8080/"
        },
        "outputId": "1944eee8-270f-418b-c116-199b38cd5e8d"
      },
      "source": [
        "img_list = os.listdir(data_dir)\n",
        "img_list[0:10]"
      ],
      "execution_count": 8,
      "outputs": [
        {
          "output_type": "execute_result",
          "data": {
            "text/plain": [
              "['S2A_MSIL2A_20170813T112121_84_36',\n",
              " 'S2B_MSIL2A_20180509T092029_32_8',\n",
              " 'S2A_MSIL2A_20170717T113321_26_32',\n",
              " 'S2B_MSIL2A_20170814T100029_73_22',\n",
              " 'S2B_MSIL2A_20180506T105029_20_0',\n",
              " 'S2A_MSIL2A_20180529T115401_74_45',\n",
              " 'S2B_MSIL2A_20170924T93014_11_43',\n",
              " 'S2B_MSIL2A_20180515T112109_89_74',\n",
              " 'S2B_MSIL2A_20180515T112109_72_50',\n",
              " 'S2A_MSIL2A_20180225T114351_18_20']"
            ]
          },
          "metadata": {
            "tags": []
          },
          "execution_count": 8
        }
      ]
    },
    {
      "cell_type": "code",
      "metadata": {
        "id": "SIxsc_eNAl8k",
        "colab": {
          "base_uri": "https://localhost:8080/"
        },
        "outputId": "84e098dc-709a-42b1-f97e-7b967dd84430"
      },
      "source": [
        "len(os.listdir(data_dir))"
      ],
      "execution_count": 29,
      "outputs": [
        {
          "output_type": "execute_result",
          "data": {
            "text/plain": [
              "590326"
            ]
          },
          "metadata": {
            "tags": []
          },
          "execution_count": 29
        }
      ]
    },
    {
      "cell_type": "markdown",
      "metadata": {
        "id": "pVCe04yLAl8k"
      },
      "source": [
        "### Configuring the model parameters and constant variables"
      ]
    },
    {
      "cell_type": "code",
      "metadata": {
        "id": "35j7So5MAl8k"
      },
      "source": [
        "PIXEL = 60\n",
        "BATCH_SIZE = 32\n",
        "BATCH_COUNT = len(img_list)//BATCH_SIZE\n",
        "CHANNELS = [\"B06\",\"B07\"]\n",
        "EPOCH = 4\n",
        "\n",
        "# B01: Coastal aerosol; 60m\n",
        "# B02: Blue; 10m\n",
        "# B03: Green; 10m\n",
        "# B04: Red; 10m\n",
        "# B05: Vegetation red edge; 20m\n",
        "# B06: Vegetation red edge; 20m\n",
        "# B07: Vegetation red edge; 20m\n",
        "# B08: NIR; 10m\n",
        "# B09: Water vapor; 60m\n",
        "# B11: SWIR; 20m\n",
        "# B12: SWIR; 20m\n",
        "# B8A: Narrow NIR; 20m\n",
        "# Reference: https://developers.google.com/earth-engine/datasets/catalog/TUBerlin_BigEarthNet_v1#bands\n",
        "\n",
        "LABEL_MAP = {'Agro-forestry areas':1,\n",
        "           'Airports':0,\n",
        "           'Annual crops associated with permanent crops':1,\n",
        "           'Bare rock':0,\n",
        "           'Beaches, dunes, sands':0,\n",
        "           'Broad-leaved forest':0,\n",
        "           'Burnt areas':0,\n",
        "           'Coastal lagoons':0,\n",
        "           'Complex cultivation patterns':1,\n",
        "           'Coniferous forest':0,\n",
        "           'Construction sites':0,\n",
        "           'Continuous urban fabric':0,\n",
        "           'Discontinuous urban fabric':0,\n",
        "           'Dump sites':0,\n",
        "           'Estuaries':0,\n",
        "           'Fruit trees and berry plantations':1,\n",
        "           'Green urban areas':0,\n",
        "           'Industrial or commercial units':0,\n",
        "           'Inland marshes':0,\n",
        "           'Intertidal flats':0,\n",
        "           'Land principally occupied by agriculture, with significant areas of natural vegetation':1,\n",
        "           'Mineral extraction sites':0,\n",
        "           'Mixed forest':0,\n",
        "           'Moors and heathland':0,\n",
        "           'Natural grassland':0,\n",
        "           'Non-irrigated arable land':0,\n",
        "           'Olive groves':1,\n",
        "           'Pastures':1,\n",
        "           'Peatbogs':0,\n",
        "           'Permanently irrigated land':1,\n",
        "           'Port areas':0,\n",
        "           'Rice fields':1,\n",
        "           'Road and rail networks and associated land':0,\n",
        "           'Salines':0,\n",
        "           'Salt marshes':0,\n",
        "           'Sclerophyllous vegetation':0,\n",
        "           'Sea and ocean':0,\n",
        "           'Sparsely vegetated areas':0,\n",
        "           'Sport and leisure facilities':0,\n",
        "           'Transitional woodland/shrub':0,\n",
        "           'Vineyards':1,\n",
        "           'Water bodies':0,\n",
        "           'Water courses':0\n",
        "           }"
      ],
      "execution_count": 39,
      "outputs": []
    },
    {
      "cell_type": "markdown",
      "metadata": {
        "id": "AHuTIa8DAl8k"
      },
      "source": [
        "### Custom data generator and model building"
      ]
    },
    {
      "cell_type": "code",
      "metadata": {
        "id": "qw-UTde7Al8k"
      },
      "source": [
        "### custom data generator to be used for the stacking approach\n",
        "\n",
        "class Dataset(tf.keras.utils.Sequence):\n",
        "    def __init__(self, data_dir, img_list, label_map, shuffle, channels, batch_size, pixel):\n",
        "        self.img_list = img_list\n",
        "        self.data_dir = data_dir\n",
        "        self.shuffle = shuffle\n",
        "        self.batch_size = batch_size\n",
        "        self.label_map = label_map\n",
        "        self.__on_epoch_end()\n",
        "        self.channels = channels\n",
        "        self.pixel = pixel\n",
        "        # print(channels)\n",
        "\n",
        "    def __len__(self):\n",
        "        # denote the number of batches in an epoch\n",
        "        return int(np.floor(len(self.img_list))/self.batch_size)\n",
        "\n",
        "    def __on_epoch_end(self):\n",
        "        'create and update index of the images in each epoch'\n",
        "        self.indexes = np.arange(len(self.img_list))\n",
        "        if self.shuffle == True:\n",
        "            np.random.shuffle(self.indexes)\n",
        "\n",
        "    def __getitem__(self, index):\n",
        "        indexes = self.indexes[index * self.batch_size: (index + 1) * self.batch_size]\n",
        "\n",
        "        img_list = [self.img_list[i] for i in indexes]\n",
        "        imgs = [self.__load_img(img_path) for img_path in img_list]\n",
        "        # label = [1 for img_path in img_list]\n",
        "        labels =[]\n",
        "\n",
        "        for img_path in img_list:\n",
        "            label = self.__generate_label(img_path, self.data_dir, self.label_map)\n",
        "            labels.append(label)\n",
        "\n",
        "        imgs = np.array(imgs)\n",
        "        labels = np.array(labels)\n",
        "\n",
        "        return imgs, labels\n",
        "\n",
        "\n",
        "    def __generate_label(self, img_path, data_dir, label_map):\n",
        "  \n",
        "        # unroll Json to get label\n",
        "        label_path = os.path.join(data_dir, img_path, img_path + '_labels_metadata.json')\n",
        "        label_data = json.load(open(label_path))\n",
        "\n",
        "        for i in label_data[\"labels\"]:\n",
        "            if label_map[i]==1:\n",
        "                return 1\n",
        "\n",
        "        return 0\n",
        "\n",
        "\n",
        "    def __load_img(self, img_path):\n",
        "\n",
        "        ch_img_list = []\n",
        "\n",
        "        for ch in self.channels:\n",
        "            ch_path = os.path.join(data_dir, img_path, img_path + '_' + ch + '.tif')\n",
        "            ch_img_list.append(imread(ch_path))\n",
        "\n",
        "        img = self.__preprocess(ch_img_list)\n",
        "\n",
        "        return img\n",
        "\n",
        "    def __preprocess(self, channels):\n",
        "\n",
        "        'preprocess and resize channels'\n",
        "\n",
        "        # dimension\n",
        "        dim = (self.pixel,self.pixel)\n",
        "        list_of_ch = []\n",
        "\n",
        "        for k in channels:\n",
        "            mat = cv2.resize(np.array(k), dim)\n",
        "\n",
        "            #print(np.array(k).shape)\n",
        "            list_of_ch.append(mat)\n",
        "\n",
        "        img = np.dstack(list_of_ch)\n",
        "\n",
        "        return img"
      ],
      "execution_count": 40,
      "outputs": []
    },
    {
      "cell_type": "code",
      "metadata": {
        "id": "LVAFhEM_Al8k"
      },
      "source": [
        "data_gen = Dataset(data_dir, img_list, LABEL_MAP, True, CHANNELS, BATCH_SIZE, PIXEL)"
      ],
      "execution_count": 41,
      "outputs": []
    },
    {
      "cell_type": "code",
      "metadata": {
        "jupyter": {
          "outputs_hidden": true
        },
        "id": "nK2jvtFDAl8k",
        "colab": {
          "base_uri": "https://localhost:8080/"
        },
        "outputId": "eafd67b4-466d-4e1a-af96-1b7dd75fddb6"
      },
      "source": [
        "data_gen.__getitem__(0)"
      ],
      "execution_count": 42,
      "outputs": [
        {
          "output_type": "execute_result",
          "data": {
            "text/plain": [
              "(array([[[[1789, 2172],\n",
              "          [1777, 2106],\n",
              "          [1913, 2162],\n",
              "          ...,\n",
              "          [2155, 2522],\n",
              "          [2486, 3171],\n",
              "          [2390, 2935]],\n",
              " \n",
              "         [[1913, 2211],\n",
              "          [1776, 2080],\n",
              "          [2120, 2410],\n",
              "          ...,\n",
              "          [2305, 2643],\n",
              "          [2226, 2700],\n",
              "          [2075, 2411]],\n",
              " \n",
              "         [[1633, 1932],\n",
              "          [1536, 1966],\n",
              "          [1988, 2267],\n",
              "          ...,\n",
              "          [1844, 2278],\n",
              "          [1728, 2297],\n",
              "          [2148, 2548]],\n",
              " \n",
              "         ...,\n",
              " \n",
              "         [[2253, 2606],\n",
              "          [2257, 2819],\n",
              "          [2339, 2831],\n",
              "          ...,\n",
              "          [2280, 2583],\n",
              "          [2094, 2477],\n",
              "          [2104, 2274]],\n",
              " \n",
              "         [[2754, 3590],\n",
              "          [2841, 3879],\n",
              "          [2988, 4151],\n",
              "          ...,\n",
              "          [1980, 2267],\n",
              "          [2013, 2124],\n",
              "          [2062, 2385]],\n",
              " \n",
              "         [[2837, 3770],\n",
              "          [2883, 4007],\n",
              "          [2980, 4167],\n",
              "          ...,\n",
              "          [ 932, 1301],\n",
              "          [1223, 1325],\n",
              "          [1341, 1429]]],\n",
              " \n",
              " \n",
              "        [[[1130, 1420],\n",
              "          [1181, 1479],\n",
              "          [1207, 1561],\n",
              "          ...,\n",
              "          [1952, 2354],\n",
              "          [2430, 2836],\n",
              "          [2139, 2565]],\n",
              " \n",
              "         [[1535, 1742],\n",
              "          [1402, 1723],\n",
              "          [1266, 1620],\n",
              "          ...,\n",
              "          [1610, 1979],\n",
              "          [2154, 2565],\n",
              "          [1974, 2460]],\n",
              " \n",
              "         [[1317, 1664],\n",
              "          [1477, 1765],\n",
              "          [1533, 1770],\n",
              "          ...,\n",
              "          [1180, 1634],\n",
              "          [1546, 1871],\n",
              "          [1944, 2377]],\n",
              " \n",
              "         ...,\n",
              " \n",
              "         [[1906, 2166],\n",
              "          [2018, 2329],\n",
              "          [1937, 2345],\n",
              "          ...,\n",
              "          [2622, 3159],\n",
              "          [2473, 3004],\n",
              "          [3064, 3547]],\n",
              " \n",
              "         [[1718, 2016],\n",
              "          [1946, 2268],\n",
              "          [1615, 1953],\n",
              "          ...,\n",
              "          [2798, 3262],\n",
              "          [2037, 2356],\n",
              "          [1569, 1850]],\n",
              " \n",
              "         [[1893, 2180],\n",
              "          [2079, 2421],\n",
              "          [1895, 2295],\n",
              "          ...,\n",
              "          [2929, 3403],\n",
              "          [1891, 2230],\n",
              "          [1197, 1499]]],\n",
              " \n",
              " \n",
              "        [[[ 119,  177],\n",
              "          [ 693,  665],\n",
              "          [2141, 2332],\n",
              "          ...,\n",
              "          [2074, 2228],\n",
              "          [2056, 2207],\n",
              "          [1983, 2117]],\n",
              " \n",
              "         [[  85,  113],\n",
              "          [ 434,  422],\n",
              "          [1875, 2001],\n",
              "          ...,\n",
              "          [1678, 1942],\n",
              "          [1813, 2001],\n",
              "          [1726, 1971]],\n",
              " \n",
              "         [[ 155,  154],\n",
              "          [  96,  195],\n",
              "          [1506, 1515],\n",
              "          ...,\n",
              "          [1563, 1655],\n",
              "          [1427, 1617],\n",
              "          [1485, 1643]],\n",
              " \n",
              "         ...,\n",
              " \n",
              "         [[2799, 3077],\n",
              "          [2726, 2941],\n",
              "          [2707, 2946],\n",
              "          ...,\n",
              "          [2194, 2410],\n",
              "          [2127, 2351],\n",
              "          [2135, 2339]],\n",
              " \n",
              "         [[2864, 3135],\n",
              "          [2805, 3055],\n",
              "          [2742, 2993],\n",
              "          ...,\n",
              "          [2007, 2297],\n",
              "          [2204, 2454],\n",
              "          [2141, 2367]],\n",
              " \n",
              "         [[2788, 3018],\n",
              "          [2836, 3085],\n",
              "          [2831, 3135],\n",
              "          ...,\n",
              "          [1931, 2132],\n",
              "          [2034, 2231],\n",
              "          [2139, 2349]]],\n",
              " \n",
              " \n",
              "        ...,\n",
              " \n",
              " \n",
              "        [[[2782, 3415],\n",
              "          [2806, 3460],\n",
              "          [2775, 3407],\n",
              "          ...,\n",
              "          [1953, 2178],\n",
              "          [1769, 2002],\n",
              "          [1681, 1828]],\n",
              " \n",
              "         [[2750, 3338],\n",
              "          [2819, 3428],\n",
              "          [2773, 3423],\n",
              "          ...,\n",
              "          [1904, 2246],\n",
              "          [1704, 1932],\n",
              "          [1702, 1883]],\n",
              " \n",
              "         [[2731, 3335],\n",
              "          [2759, 3370],\n",
              "          [2753, 3379],\n",
              "          ...,\n",
              "          [1950, 2243],\n",
              "          [1753, 1922],\n",
              "          [1853, 2116]],\n",
              " \n",
              "         ...,\n",
              " \n",
              "         [[2597, 3041],\n",
              "          [2679, 2994],\n",
              "          [2641, 2998],\n",
              "          ...,\n",
              "          [2094, 2327],\n",
              "          [2204, 2471],\n",
              "          [2229, 2475]],\n",
              " \n",
              "         [[2410, 2812],\n",
              "          [2483, 2759],\n",
              "          [2379, 2665],\n",
              "          ...,\n",
              "          [1938, 2132],\n",
              "          [1835, 2094],\n",
              "          [2023, 2233]],\n",
              " \n",
              "         [[2421, 2776],\n",
              "          [2323, 2648],\n",
              "          [2233, 2548],\n",
              "          ...,\n",
              "          [1773, 1968],\n",
              "          [1852, 2078],\n",
              "          [2026, 2232]]],\n",
              " \n",
              " \n",
              "        [[[3074, 3637],\n",
              "          [3086, 3771],\n",
              "          [3263, 4016],\n",
              "          ...,\n",
              "          [3797, 4510],\n",
              "          [3200, 4010],\n",
              "          [2628, 3374]],\n",
              " \n",
              "         [[4005, 4798],\n",
              "          [3700, 4417],\n",
              "          [3359, 4136],\n",
              "          ...,\n",
              "          [3886, 4615],\n",
              "          [3451, 4171],\n",
              "          [3145, 3945]],\n",
              " \n",
              "         [[4406, 5402],\n",
              "          [4390, 5356],\n",
              "          [4174, 5141],\n",
              "          ...,\n",
              "          [3715, 4405],\n",
              "          [3143, 3701],\n",
              "          [3014, 3975]],\n",
              " \n",
              "         ...,\n",
              " \n",
              "         [[3261, 3768],\n",
              "          [3448, 4127],\n",
              "          [4106, 5068],\n",
              "          ...,\n",
              "          [1847, 2078],\n",
              "          [3583, 3994],\n",
              "          [4144, 4796]],\n",
              " \n",
              "         [[5159, 6330],\n",
              "          [3959, 5047],\n",
              "          [4153, 4840],\n",
              "          ...,\n",
              "          [1953, 2409],\n",
              "          [3407, 3755],\n",
              "          [3010, 3756]],\n",
              " \n",
              "         [[5326, 6687],\n",
              "          [4412, 5155],\n",
              "          [3937, 4789],\n",
              "          ...,\n",
              "          [3034, 3542],\n",
              "          [3683, 4865],\n",
              "          [2662, 3040]]],\n",
              " \n",
              " \n",
              "        [[[1059, 1137],\n",
              "          [1046, 1127],\n",
              "          [1035, 1091],\n",
              "          ...,\n",
              "          [2746, 3156],\n",
              "          [2591, 3022],\n",
              "          [2100, 2572]],\n",
              " \n",
              "         [[1059, 1144],\n",
              "          [1045, 1144],\n",
              "          [1051, 1140],\n",
              "          ...,\n",
              "          [2757, 3199],\n",
              "          [2204, 2275],\n",
              "          [2475, 2928]],\n",
              " \n",
              "         [[1053, 1169],\n",
              "          [1069, 1175],\n",
              "          [1070, 1131],\n",
              "          ...,\n",
              "          [2514, 2975],\n",
              "          [2343, 2599],\n",
              "          [2963, 3545]],\n",
              " \n",
              "         ...,\n",
              " \n",
              "         [[1361, 1485],\n",
              "          [1419, 1583],\n",
              "          [1348, 1531],\n",
              "          ...,\n",
              "          [1579, 1777],\n",
              "          [1551, 1714],\n",
              "          [1543, 1657]],\n",
              " \n",
              "         [[1411, 1482],\n",
              "          [1389, 1562],\n",
              "          [1396, 1542],\n",
              "          ...,\n",
              "          [1595, 1740],\n",
              "          [1525, 1683],\n",
              "          [1467, 1595]],\n",
              " \n",
              "         [[1303, 1385],\n",
              "          [1311, 1408],\n",
              "          [1276, 1370],\n",
              "          ...,\n",
              "          [1629, 1723],\n",
              "          [1520, 1614],\n",
              "          [1387, 1499]]]], dtype=uint16),\n",
              " array([1, 0, 1, 0, 0, 0, 1, 1, 1, 1, 1, 0, 0, 0, 1, 1, 0, 0, 1, 0, 0, 0,\n",
              "        1, 0, 0, 1, 1, 0, 0, 1, 1, 0]))"
            ]
          },
          "metadata": {
            "tags": []
          },
          "execution_count": 42
        }
      ]
    },
    {
      "cell_type": "code",
      "metadata": {
        "id": "1N0cigaOAl8k"
      },
      "source": [
        "img, label = data_gen.__getitem__(0)"
      ],
      "execution_count": 43,
      "outputs": []
    },
    {
      "cell_type": "code",
      "metadata": {
        "id": "ygxbK9nnAl8k",
        "colab": {
          "base_uri": "https://localhost:8080/"
        },
        "outputId": "d78f3385-85f7-4d93-f1fb-bf43766d3b91"
      },
      "source": [
        "print(img.shape)\n",
        "print(label.shape)"
      ],
      "execution_count": 44,
      "outputs": [
        {
          "output_type": "stream",
          "text": [
            "(32, 60, 60, 2)\n",
            "(32,)\n"
          ],
          "name": "stdout"
        }
      ]
    },
    {
      "cell_type": "code",
      "metadata": {
        "id": "pvJnluIUAl8k",
        "colab": {
          "base_uri": "https://localhost:8080/"
        },
        "outputId": "65957353-2c16-46d8-c9f0-67374cae2791"
      },
      "source": [
        "## Model setup\n",
        "\n",
        "orig_model = tf.keras.applications.ResNet50V2(include_top=True, weights=None, pooling = \"avg\", classes=1, classifier_activation='sigmoid')\n",
        "\n",
        "dense_input = None\n",
        "out = None\n",
        "\n",
        "if len(CHANNELS) >= 9:\n",
        "    # apply 2 additional feature maps (i.e., conv layers) to\n",
        "    # graudally step down the informational filtering\n",
        "    # why >= 9? because it's 3^2 \n",
        "    dense_input = tf.keras.layers.Input(shape=(PIXEL, PIXEL, len(CHANNELS)))\n",
        "    dense_filter = tf.keras.layers.Conv2D(6, 3, padding='same')(dense_input)\n",
        "    dense_filter = tf.keras.layers.Conv2D(3, 3, padding='same')(dense_input)\n",
        "    out = orig_model(dense_filter)\n",
        "elif len(CHANNELS) == 3:\n",
        "    dense_input = tf.keras.layers.Input(shape=(PIXEL, PIXEL, 3))\n",
        "    out = orig_model(dense_input)\n",
        "else:\n",
        "    dense_input = tf.keras.layers.Input(shape=(PIXEL, PIXEL, len(CHANNELS)))\n",
        "    dense_filter = tf.keras.layers.Conv2D(3, 3, padding='same')(dense_input)\n",
        "    out = orig_model(dense_filter)\n",
        "\n",
        "model = tf.keras.Model(dense_input, out)\n",
        "model.summary()"
      ],
      "execution_count": 45,
      "outputs": [
        {
          "output_type": "stream",
          "text": [
            "WARNING:tensorflow:Model was constructed with shape (None, 224, 224, 3) for input Tensor(\"input_5:0\", shape=(None, 224, 224, 3), dtype=float32), but it was called on an input with incompatible shape (None, 60, 60, 3).\n",
            "Model: \"functional_5\"\n",
            "_________________________________________________________________\n",
            "Layer (type)                 Output Shape              Param #   \n",
            "=================================================================\n",
            "input_6 (InputLayer)         [(None, 60, 60, 2)]       0         \n",
            "_________________________________________________________________\n",
            "conv2d_2 (Conv2D)            (None, 60, 60, 3)         57        \n",
            "_________________________________________________________________\n",
            "resnet50v2 (Functional)      (None, 1)                 23566849  \n",
            "=================================================================\n",
            "Total params: 23,566,906\n",
            "Trainable params: 23,521,466\n",
            "Non-trainable params: 45,440\n",
            "_________________________________________________________________\n"
          ],
          "name": "stdout"
        }
      ]
    },
    {
      "cell_type": "code",
      "metadata": {
        "id": "PmS40B_hAl8k"
      },
      "source": [
        "# compile the model\n",
        "model.compile(optimizer='adam', loss='binary_crossentropy', metrics=['accuracy','Precision','Recall'])"
      ],
      "execution_count": 46,
      "outputs": []
    },
    {
      "cell_type": "markdown",
      "metadata": {
        "id": "KLKTu3ChAl8k"
      },
      "source": [
        "### Data split and model training"
      ]
    },
    {
      "cell_type": "code",
      "metadata": {
        "id": "TPWimAGIAl8k"
      },
      "source": [
        "# split train and test datasets\n",
        "train_list = img_list[:int(len(img_list)*0.8)]\n",
        "test_list = img_list[int(len(img_list)*0.8):]\n",
        "\n",
        "data_train = Dataset(data_dir, train_list, LABEL_MAP, True, CHANNELS, BATCH_SIZE, PIXEL)\n",
        "data_test = Dataset(data_dir, test_list, LABEL_MAP, False, CHANNELS, BATCH_SIZE, PIXEL)"
      ],
      "execution_count": 47,
      "outputs": []
    },
    {
      "cell_type": "code",
      "metadata": {
        "id": "ZRqFnMWFAl8k",
        "colab": {
          "base_uri": "https://localhost:8080/"
        },
        "outputId": "6359af90-0668-4710-de2a-be95d2fcbc1a"
      },
      "source": [
        "start_time = time.time()\n",
        "history = model.fit(data_train, validation_data=data_test, epochs=EPOCH)"
      ],
      "execution_count": 48,
      "outputs": [
        {
          "output_type": "stream",
          "text": [
            "Epoch 1/4\n",
            "WARNING:tensorflow:Model was constructed with shape (None, 224, 224, 3) for input Tensor(\"input_5:0\", shape=(None, 224, 224, 3), dtype=float32), but it was called on an input with incompatible shape (None, 60, 60, 3).\n",
            "WARNING:tensorflow:Model was constructed with shape (None, 224, 224, 3) for input Tensor(\"input_5:0\", shape=(None, 224, 224, 3), dtype=float32), but it was called on an input with incompatible shape (None, 60, 60, 3).\n",
            "14758/14758 [==============================] - ETA: 0s - loss: 0.4640 - accuracy: 0.7776 - precision: 0.7549 - recall: 0.8106WARNING:tensorflow:Model was constructed with shape (None, 224, 224, 3) for input Tensor(\"input_5:0\", shape=(None, 224, 224, 3), dtype=float32), but it was called on an input with incompatible shape (None, 60, 60, 3).\n",
            "14758/14758 [==============================] - 3179s 215ms/step - loss: 0.4640 - accuracy: 0.7776 - precision: 0.7549 - recall: 0.8106 - val_loss: 0.4151 - val_accuracy: 0.8066 - val_precision: 0.7747 - val_recall: 0.8531\n",
            "Epoch 2/4\n",
            "14758/14758 [==============================] - 3201s 217ms/step - loss: 0.4174 - accuracy: 0.8045 - precision: 0.7828 - recall: 0.8335 - val_loss: 1.1748 - val_accuracy: 0.7532 - val_precision: 0.7483 - val_recall: 0.7473\n",
            "Epoch 3/4\n",
            "14758/14758 [==============================] - 3221s 218ms/step - loss: 0.3982 - accuracy: 0.8149 - precision: 0.7954 - recall: 0.8394 - val_loss: 0.6062 - val_accuracy: 0.6940 - val_precision: 0.6496 - val_recall: 0.8140\n",
            "Epoch 4/4\n",
            "14758/14758 [==============================] - 3205s 217ms/step - loss: 0.3872 - accuracy: 0.8204 - precision: 0.8019 - recall: 0.8429 - val_loss: 0.4170 - val_accuracy: 0.8000 - val_precision: 0.7692 - val_recall: 0.8452\n"
          ],
          "name": "stdout"
        }
      ]
    },
    {
      "cell_type": "code",
      "metadata": {
        "id": "UxcOh7UCAl8l",
        "colab": {
          "base_uri": "https://localhost:8080/"
        },
        "outputId": "fe51c373-f77b-4306-acfd-986b0b26e445"
      },
      "source": [
        "end_time = time.time()\n",
        "print(\"--- %s seconds ---\" % (end_time - start_time))\n",
        "print(\"training completed\")"
      ],
      "execution_count": 49,
      "outputs": [
        {
          "output_type": "stream",
          "text": [
            "--- 12814.059600830078 seconds ---\n",
            "training completed\n"
          ],
          "name": "stdout"
        }
      ]
    },
    {
      "cell_type": "code",
      "metadata": {
        "id": "p3xHqWTWAl8l",
        "colab": {
          "base_uri": "https://localhost:8080/"
        },
        "outputId": "bcb3c38b-a069-413d-ac0b-65078be5aa54"
      },
      "source": [
        "start_time = time.time()\n",
        "evaluation = model.evaluate(data_test, batch_size=BATCH_SIZE)"
      ],
      "execution_count": 50,
      "outputs": [
        {
          "output_type": "stream",
          "text": [
            "3689/3689 [==============================] - 623s 169ms/step - loss: 0.4170 - accuracy: 0.8000 - precision: 0.7692 - recall: 0.8452\n"
          ],
          "name": "stdout"
        }
      ]
    },
    {
      "cell_type": "code",
      "metadata": {
        "id": "SM4i-1ImAl8l",
        "colab": {
          "base_uri": "https://localhost:8080/"
        },
        "outputId": "4c85c2fd-11c9-45f8-be93-ad825475174d"
      },
      "source": [
        "end_time = time.time()\n",
        "print(\"--- %s seconds ---\" % (end_time - start_time))\n",
        "print(\"evaluation completed\")"
      ],
      "execution_count": 51,
      "outputs": [
        {
          "output_type": "stream",
          "text": [
            "--- 623.6822490692139 seconds ---\n",
            "evaluation completed\n"
          ],
          "name": "stdout"
        }
      ]
    },
    {
      "cell_type": "markdown",
      "metadata": {
        "id": "yDMHvkejAl8l"
      },
      "source": [
        "### Training outcome"
      ]
    },
    {
      "cell_type": "code",
      "metadata": {
        "id": "dgFTYLz4Al8l",
        "colab": {
          "base_uri": "https://localhost:8080/",
          "height": 590
        },
        "outputId": "63e0ccd7-7a59-421a-f0af-2d21117288fc"
      },
      "source": [
        "# list all data in history\n",
        "print(history.history.keys())\n",
        "# summarize history for accuracy\n",
        "plt.plot(history.history['accuracy'])\n",
        "plt.plot(history.history['val_accuracy'])\n",
        "plt.title('model accuracy')\n",
        "plt.ylabel('accuracy')\n",
        "plt.xlabel('epoch')\n",
        "plt.legend(['train', 'test'], loc='upper left')\n",
        "plt.show()\n",
        "# summarize history for loss\n",
        "plt.plot(history.history['loss'])\n",
        "plt.plot(history.history['val_loss'])\n",
        "plt.title('model loss')\n",
        "plt.ylabel('loss')\n",
        "plt.xlabel('epoch')\n",
        "plt.legend(['train', 'test'], loc='upper left')\n",
        "plt.show()"
      ],
      "execution_count": 52,
      "outputs": [
        {
          "output_type": "stream",
          "text": [
            "dict_keys(['loss', 'accuracy', 'precision', 'recall', 'val_loss', 'val_accuracy', 'val_precision', 'val_recall'])\n"
          ],
          "name": "stdout"
        },
        {
          "output_type": "display_data",
          "data": {
            "image/png": "[encoded data removed]",
            "text/plain": [
              "<Figure size 432x288 with 1 Axes>"
            ]
          },
          "metadata": {
            "tags": [],
            "needs_background": "light"
          }
        },
        {
          "output_type": "display_data",
          "data": {
            "image/png": "[encoded data removed]",
            "text/plain": [
              "<Figure size 432x288 with 1 Axes>"
            ]
          },
          "metadata": {
            "tags": [],
            "needs_background": "light"
          }
        }
      ]
    },
    {
      "cell_type": "code",
      "metadata": {
        "id": "vz-f-6Z-Al8l",
        "colab": {
          "base_uri": "https://localhost:8080/"
        },
        "outputId": "3b8272fa-d67a-4007-8266-b897d7d138c9"
      },
      "source": [
        "print(\"Training Output\")\n",
        "print(\"accuracy: \", history.history['accuracy'])\n",
        "print(\"precision: \", history.history['precision'])\n",
        "print(\"recall: \", history.history['recall'])\n",
        "print(\"loss: \", history.history['loss'])"
      ],
      "execution_count": 53,
      "outputs": [
        {
          "output_type": "stream",
          "text": [
            "Training Output\n",
            "accuracy:  [0.7776015400886536, 0.8045191764831543, 0.8149478435516357, 0.8204490542411804]\n",
            "precision:  [0.7549431324005127, 0.7827837467193604, 0.7953549027442932, 0.8018608689308167]\n",
            "recall:  [0.8105642795562744, 0.8335214853286743, 0.8394331336021423, 0.8429275751113892]\n",
            "loss:  [0.46395570039749146, 0.41741427779197693, 0.3982248306274414, 0.387225478887558]\n"
          ],
          "name": "stdout"
        }
      ]
    },
    {
      "cell_type": "code",
      "metadata": {
        "id": "tbvaYkmQAl8l",
        "colab": {
          "base_uri": "https://localhost:8080/"
        },
        "outputId": "0ead0edb-ab3e-4e45-95cf-d7824485fdc0"
      },
      "source": [
        "print(\"Validation Output\")\n",
        "print(\"accuracy: \", evaluation[1])\n",
        "print(\"precision: \", evaluation[2])\n",
        "print(\"recall: \", evaluation[3])\n",
        "print(\"loss: \", evaluation[0])"
      ],
      "execution_count": 54,
      "outputs": [
        {
          "output_type": "stream",
          "text": [
            "Validation Output\n",
            "accuracy:  0.8000389933586121\n",
            "precision:  0.7691617012023926\n",
            "recall:  0.8451754450798035\n",
            "loss:  0.4170173406600952\n"
          ],
          "name": "stdout"
        }
      ]
    },
    {
      "cell_type": "markdown",
      "metadata": {
        "id": "a8yE5l7GAl8l"
      },
      "source": [
        "### Agricultural Label Counts"
      ]
    },
    {
      "cell_type": "code",
      "metadata": {
        "id": "ZivcADGoAl8l"
      },
      "source": [
        "def count_label(data_gen, batch_count):\n",
        "    agri_count = 0\n",
        "    for i in range(batch_count):\n",
        "        _, label = data_gen.__getitem__(i)\n",
        "        batch_agri_count = np.sum(label)\n",
        "        agri_count += batch_agri_count\n",
        "        if i%1000 == 0:\n",
        "              print('Accumulated counts of the agicultural label in batch ', i, ' is ', agri_count)\n",
        "\n",
        "    return agri_count"
      ],
      "execution_count": 55,
      "outputs": []
    },
    {
      "cell_type": "code",
      "metadata": {
        "id": "B3r4FPSwAl8l",
        "colab": {
          "base_uri": "https://localhost:8080/"
        },
        "outputId": "f388afb6-2990-4f01-d964-4e60a316ac95"
      },
      "source": [
        "print(\"Total batches to be counted is \", BATCH_COUNT)"
      ],
      "execution_count": 56,
      "outputs": [
        {
          "output_type": "stream",
          "text": [
            "Total batches to be counted is  18447\n"
          ],
          "name": "stdout"
        }
      ]
    },
    {
      "cell_type": "code",
      "metadata": {
        "id": "VupiC0WmAl8l",
        "colab": {
          "base_uri": "https://localhost:8080/"
        },
        "outputId": "d090bc7e-c0b5-4a6a-bef7-c2f5c8a9cf0d"
      },
      "source": [
        "print(\"Total agricultural labels in the data set is \", count_label(data_gen, BATCH_COUNT))\n",
        "print(\"The total image patches \", len(os.listdir(data_dir)))"
      ],
      "execution_count": 57,
      "outputs": [
        {
          "output_type": "stream",
          "text": [
            "Accumulated counts of the agicultural label in batch  0  is  15\n",
            "Accumulated counts of the agicultural label in batch  1000  is  15809\n",
            "Accumulated counts of the agicultural label in batch  2000  is  31492\n",
            "Accumulated counts of the agicultural label in batch  3000  is  47213\n",
            "Accumulated counts of the agicultural label in batch  4000  is  63030\n",
            "Accumulated counts of the agicultural label in batch  5000  is  78676\n",
            "Accumulated counts of the agicultural label in batch  6000  is  94362\n",
            "Accumulated counts of the agicultural label in batch  7000  is  110156\n",
            "Accumulated counts of the agicultural label in batch  8000  is  125879\n",
            "Accumulated counts of the agicultural label in batch  9000  is  141499\n",
            "Accumulated counts of the agicultural label in batch  10000  is  157178\n",
            "Accumulated counts of the agicultural label in batch  11000  is  172808\n",
            "Accumulated counts of the agicultural label in batch  12000  is  188481\n",
            "Accumulated counts of the agicultural label in batch  13000  is  204189\n",
            "Accumulated counts of the agicultural label in batch  14000  is  220119\n",
            "Accumulated counts of the agicultural label in batch  15000  is  235832\n",
            "Accumulated counts of the agicultural label in batch  16000  is  251435\n",
            "Accumulated counts of the agicultural label in batch  17000  is  267356\n",
            "Accumulated counts of the agicultural label in batch  18000  is  282863\n",
            "Total agricultural labels in the data set is  289874\n",
            "The total image patches  590326\n"
          ],
          "name": "stdout"
        }
      ]
    }
  ]
}