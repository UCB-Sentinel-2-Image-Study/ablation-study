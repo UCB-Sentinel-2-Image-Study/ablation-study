{
  "nbformat": 4,
  "nbformat_minor": 0,
  "metadata": {
    "environment": {
      "name": "tf2-2-3-gpu.2-3.m58",
      "type": "gcloud",
      "uri": "gcr.io/deeplearning-platform-release/tf2-2-3-gpu.2-3:m58"
    },
    "kernelspec": {
      "display_name": "Python 3",
      "language": "python",
      "name": "python3"
    },
    "language_info": {
      "codemirror_mode": {
        "name": "ipython",
        "version": 3
      },
      "file_extension": ".py",
      "mimetype": "text/x-python",
      "name": "python",
      "nbconvert_exporter": "python",
      "pygments_lexer": "ipython3",
      "version": "3.7.8"
    },
    "colab": {
      "name": "exp20_B05_and_B11.ipynb",
      "provenance": [],
      "collapsed_sections": [],
      "toc_visible": true
    },
    "accelerator": "GPU"
  },
  "cells": [
    {
      "cell_type": "markdown",
      "metadata": {
        "id": "Ovvxtb3oAl8i"
      },
      "source": [
        "## UCB Sentinel-2 Ablation Study"
      ]
    },
    {
      "cell_type": "markdown",
      "metadata": {
        "id": "cLeCvib8Al8i"
      },
      "source": [
        "The notebook contains a custom setup of the Resnet50v2 model, which allows for users to configure the input such that (i) the list of remote sensing channels can be flexible and (ii) the dimension of image patches can be uniformaly adjusted (e.g., 20x20, 60x60, and 120x120). Each remote sensing channel input is stacked up and fed into the model all at once."
      ]
    },
    {
      "cell_type": "markdown",
      "metadata": {
        "id": "5b5BnvMEAl8i"
      },
      "source": [
        "### Environment and library settings"
      ]
    },
    {
      "cell_type": "code",
      "metadata": {
        "colab": {
          "base_uri": "https://localhost:8080/"
        },
        "id": "BVaU__nNFgLE",
        "outputId": "b3e1e380-91ea-4416-b84a-aa081c04c105"
      },
      "source": [
        "# Data download, comment once complete\n",
        "%env DATA_DIR=/content\n",
        "%env DOWNLOAD_URL=http://bigearth.net/downloads/BigEarthNet-v1.0.tar.gz\n",
        "\n",
        "!rm -rf /content\n",
        "!mkdir -p $DATA_DIR\n",
        "!wget -qO- $DOWNLOAD_URL  | tar xz -C $DATA_DIR"
      ],
      "execution_count": null,
      "outputs": [
        {
          "output_type": "stream",
          "text": [
            "env: DATA_DIR=/content\n",
            "env: DOWNLOAD_URL=http://bigearth.net/downloads/BigEarthNet-v1.0.tar.gz\n",
            "shell-init: error retrieving current directory: getcwd: cannot access parent directories: No such file or directory\n",
            "shell-init: error retrieving current directory: getcwd: cannot access parent directories: No such file or directory\n"
          ],
          "name": "stdout"
        }
      ]
    },
    {
      "cell_type": "code",
      "metadata": {
        "id": "qLAJJTmIAl8i",
        "colab": {
          "base_uri": "https://localhost:8080/"
        },
        "outputId": "4adf1e7c-754d-4759-c82a-aa8d1e7d93b2"
      },
      "source": [
        "import tensorflow as tf\n",
        "print(\"Num GPUs Available: \", len(tf.config.experimental.list_physical_devices('GPU')))"
      ],
      "execution_count": null,
      "outputs": [
        {
          "output_type": "stream",
          "text": [
            "Num GPUs Available:  1\n"
          ],
          "name": "stdout"
        }
      ]
    },
    {
      "cell_type": "code",
      "metadata": {
        "id": "3EQPp2oEAl8j",
        "colab": {
          "base_uri": "https://localhost:8080/"
        },
        "outputId": "28ad862d-5b35-477e-fb5f-215b7d5f4549"
      },
      "source": [
        "if tf.test.gpu_device_name():\n",
        "    print('Default GPU Device: {}'.format(tf.test.gpu_device_name()))\n",
        "else:\n",
        "    print(\"Please install GPU version of TF\")"
      ],
      "execution_count": null,
      "outputs": [
        {
          "output_type": "stream",
          "text": [
            "Default GPU Device: /device:GPU:0\n"
          ],
          "name": "stdout"
        }
      ]
    },
    {
      "cell_type": "code",
      "metadata": {
        "id": "2COKKH0fAl8j",
        "colab": {
          "base_uri": "https://localhost:8080/",
          "height": 35
        },
        "outputId": "ba43871e-7714-4972-e35c-dadc8f60efaf"
      },
      "source": [
        "from pathlib import Path\n",
        "from PIL import Image, ImageShow\n",
        "import numpy as np\n",
        "import matplotlib.pyplot as plt\n",
        "import json\n",
        "import pandas as pd\n",
        "import cv2\n",
        "from skimage.transform import resize\n",
        "from tifffile import imread\n",
        "import time\n",
        "import tensorflow as tf\n",
        "\n",
        "tf.__version__"
      ],
      "execution_count": null,
      "outputs": [
        {
          "output_type": "execute_result",
          "data": {
            "application/vnd.google.colaboratory.intrinsic+json": {
              "type": "string"
            },
            "text/plain": [
              "'2.3.0'"
            ]
          },
          "metadata": {
            "tags": []
          },
          "execution_count": 4
        }
      ]
    },
    {
      "cell_type": "code",
      "metadata": {
        "id": "6oxLnfn2Al8j"
      },
      "source": [
        "import os\n",
        "data_dir = os.environ.get(\"DATA_DIR\")"
      ],
      "execution_count": null,
      "outputs": []
    },
    {
      "cell_type": "code",
      "metadata": {
        "id": "tpPx4ms5Al8j",
        "colab": {
          "base_uri": "https://localhost:8080/"
        },
        "outputId": "dc41549b-ce51-46dd-f940-1971d9296edc"
      },
      "source": [
        "data_dir=os.path.join(data_dir, os.listdir(data_dir)[0])\n",
        "print(data_dir)"
      ],
      "execution_count": null,
      "outputs": [
        {
          "output_type": "stream",
          "text": [
            "/content/BigEarthNet-v1.0\n"
          ],
          "name": "stdout"
        }
      ]
    },
    {
      "cell_type": "code",
      "metadata": {
        "id": "bwDACAssAl8k",
        "colab": {
          "base_uri": "https://localhost:8080/"
        },
        "outputId": "2f466840-abd5-4ed5-bd02-87c7cf6645c5"
      },
      "source": [
        "os.listdir(os.path.join(data_dir,'S2A_MSIL2A_20170613T101032_77_22'))"
      ],
      "execution_count": null,
      "outputs": [
        {
          "output_type": "execute_result",
          "data": {
            "text/plain": [
              "['S2A_MSIL2A_20170613T101032_77_22_labels_metadata.json',\n",
              " 'S2A_MSIL2A_20170613T101032_77_22_B02.tif',\n",
              " 'S2A_MSIL2A_20170613T101032_77_22_B08.tif',\n",
              " 'S2A_MSIL2A_20170613T101032_77_22_B09.tif',\n",
              " 'S2A_MSIL2A_20170613T101032_77_22_B04.tif',\n",
              " 'S2A_MSIL2A_20170613T101032_77_22_B03.tif',\n",
              " 'S2A_MSIL2A_20170613T101032_77_22_B05.tif',\n",
              " 'S2A_MSIL2A_20170613T101032_77_22_B11.tif',\n",
              " 'S2A_MSIL2A_20170613T101032_77_22_B12.tif',\n",
              " 'S2A_MSIL2A_20170613T101032_77_22_B06.tif',\n",
              " 'S2A_MSIL2A_20170613T101032_77_22_B07.tif',\n",
              " 'S2A_MSIL2A_20170613T101032_77_22_B01.tif',\n",
              " 'S2A_MSIL2A_20170613T101032_77_22_B8A.tif']"
            ]
          },
          "metadata": {
            "tags": []
          },
          "execution_count": 7
        }
      ]
    },
    {
      "cell_type": "code",
      "metadata": {
        "id": "NAHpAqwLAl8k",
        "colab": {
          "base_uri": "https://localhost:8080/"
        },
        "outputId": "5a9871ea-f6fb-4d8e-f5c4-0d408527b520"
      },
      "source": [
        "img_list = os.listdir(data_dir)\n",
        "img_list[0:10]"
      ],
      "execution_count": null,
      "outputs": [
        {
          "output_type": "execute_result",
          "data": {
            "text/plain": [
              "['S2A_MSIL2A_20170813T112121_84_36',\n",
              " 'S2B_MSIL2A_20180509T092029_32_8',\n",
              " 'S2A_MSIL2A_20170717T113321_26_32',\n",
              " 'S2B_MSIL2A_20170814T100029_73_22',\n",
              " 'S2B_MSIL2A_20180506T105029_20_0',\n",
              " 'S2A_MSIL2A_20180529T115401_74_45',\n",
              " 'S2B_MSIL2A_20170924T93014_11_43',\n",
              " 'S2B_MSIL2A_20180515T112109_89_74',\n",
              " 'S2B_MSIL2A_20180515T112109_72_50',\n",
              " 'S2A_MSIL2A_20180225T114351_18_20']"
            ]
          },
          "metadata": {
            "tags": []
          },
          "execution_count": 8
        }
      ]
    },
    {
      "cell_type": "code",
      "metadata": {
        "id": "SIxsc_eNAl8k",
        "colab": {
          "base_uri": "https://localhost:8080/"
        },
        "outputId": "45600e4c-43af-4286-aa4a-34f9e9be42b7"
      },
      "source": [
        "len(os.listdir(data_dir))"
      ],
      "execution_count": null,
      "outputs": [
        {
          "output_type": "execute_result",
          "data": {
            "text/plain": [
              "590326"
            ]
          },
          "metadata": {
            "tags": []
          },
          "execution_count": 9
        }
      ]
    },
    {
      "cell_type": "markdown",
      "metadata": {
        "id": "pVCe04yLAl8k"
      },
      "source": [
        "### Configuring the model parameters and constant variables"
      ]
    },
    {
      "cell_type": "code",
      "metadata": {
        "id": "35j7So5MAl8k"
      },
      "source": [
        "PIXEL = 60\n",
        "BATCH_SIZE = 32\n",
        "BATCH_COUNT = len(img_list)//BATCH_SIZE\n",
        "CHANNELS = [\"B05\", \"B11\"]\n",
        "EPOCH = 4\n",
        "\n",
        "# B01: Coastal aerosol; 60m\n",
        "# B02: Blue; 10m\n",
        "# B03: Green; 10m\n",
        "# B04: Red; 10m\n",
        "# B05: Vegetation red edge; 20m\n",
        "# B06: Vegetation red edge; 20m\n",
        "# B07: Vegetation red edge; 20m\n",
        "# B08: NIR; 10m\n",
        "# B09: Water vapor; 60m\n",
        "# B11: SWIR; 20m\n",
        "# B12: SWIR; 20m\n",
        "# B8A: Narrow NIR; 20m\n",
        "# Reference: https://developers.google.com/earth-engine/datasets/catalog/TUBerlin_BigEarthNet_v1#bands\n",
        "\n",
        "LABEL_MAP = {'Agro-forestry areas':1,\n",
        "           'Airports':0,\n",
        "           'Annual crops associated with permanent crops':1,\n",
        "           'Bare rock':0,\n",
        "           'Beaches, dunes, sands':0,\n",
        "           'Broad-leaved forest':0,\n",
        "           'Burnt areas':0,\n",
        "           'Coastal lagoons':0,\n",
        "           'Complex cultivation patterns':1,\n",
        "           'Coniferous forest':0,\n",
        "           'Construction sites':0,\n",
        "           'Continuous urban fabric':0,\n",
        "           'Discontinuous urban fabric':0,\n",
        "           'Dump sites':0,\n",
        "           'Estuaries':0,\n",
        "           'Fruit trees and berry plantations':1,\n",
        "           'Green urban areas':0,\n",
        "           'Industrial or commercial units':0,\n",
        "           'Inland marshes':0,\n",
        "           'Intertidal flats':0,\n",
        "           'Land principally occupied by agriculture, with significant areas of natural vegetation':1,\n",
        "           'Mineral extraction sites':0,\n",
        "           'Mixed forest':0,\n",
        "           'Moors and heathland':0,\n",
        "           'Natural grassland':0,\n",
        "           'Non-irrigated arable land':0,\n",
        "           'Olive groves':1,\n",
        "           'Pastures':1,\n",
        "           'Peatbogs':0,\n",
        "           'Permanently irrigated land':1,\n",
        "           'Port areas':0,\n",
        "           'Rice fields':1,\n",
        "           'Road and rail networks and associated land':0,\n",
        "           'Salines':0,\n",
        "           'Salt marshes':0,\n",
        "           'Sclerophyllous vegetation':0,\n",
        "           'Sea and ocean':0,\n",
        "           'Sparsely vegetated areas':0,\n",
        "           'Sport and leisure facilities':0,\n",
        "           'Transitional woodland/shrub':0,\n",
        "           'Vineyards':1,\n",
        "           'Water bodies':0,\n",
        "           'Water courses':0\n",
        "           }"
      ],
      "execution_count": null,
      "outputs": []
    },
    {
      "cell_type": "markdown",
      "metadata": {
        "id": "AHuTIa8DAl8k"
      },
      "source": [
        "### Custom data generator and model building"
      ]
    },
    {
      "cell_type": "code",
      "metadata": {
        "id": "qw-UTde7Al8k"
      },
      "source": [
        "### custom data generator to be used for the stacking approach\n",
        "\n",
        "class Dataset(tf.keras.utils.Sequence):\n",
        "    def __init__(self, data_dir, img_list, label_map, shuffle, channels, batch_size, pixel):\n",
        "        self.img_list = img_list\n",
        "        self.data_dir = data_dir\n",
        "        self.shuffle = shuffle\n",
        "        self.batch_size = batch_size\n",
        "        self.label_map = label_map\n",
        "        self.__on_epoch_end()\n",
        "        self.channels = channels\n",
        "        self.pixel = pixel\n",
        "        # print(channels)\n",
        "\n",
        "    def __len__(self):\n",
        "        # denote the number of batches in an epoch\n",
        "        return int(np.floor(len(self.img_list))/self.batch_size)\n",
        "\n",
        "    def __on_epoch_end(self):\n",
        "        'create and update index of the images in each epoch'\n",
        "        self.indexes = np.arange(len(self.img_list))\n",
        "        if self.shuffle == True:\n",
        "            np.random.shuffle(self.indexes)\n",
        "\n",
        "    def __getitem__(self, index):\n",
        "        indexes = self.indexes[index * self.batch_size: (index + 1) * self.batch_size]\n",
        "\n",
        "        img_list = [self.img_list[i] for i in indexes]\n",
        "        imgs = [self.__load_img(img_path) for img_path in img_list]\n",
        "        # label = [1 for img_path in img_list]\n",
        "        labels =[]\n",
        "\n",
        "        for img_path in img_list:\n",
        "            label = self.__generate_label(img_path, self.data_dir, self.label_map)\n",
        "            labels.append(label)\n",
        "\n",
        "        imgs = np.array(imgs)\n",
        "        labels = np.array(labels)\n",
        "\n",
        "        return imgs, labels\n",
        "\n",
        "\n",
        "    def __generate_label(self, img_path, data_dir, label_map):\n",
        "  \n",
        "        # unroll Json to get label\n",
        "        label_path = os.path.join(data_dir, img_path, img_path + '_labels_metadata.json')\n",
        "        label_data = json.load(open(label_path))\n",
        "\n",
        "        for i in label_data[\"labels\"]:\n",
        "            if label_map[i]==1:\n",
        "                return 1\n",
        "\n",
        "        return 0\n",
        "\n",
        "\n",
        "    def __load_img(self, img_path):\n",
        "\n",
        "        ch_img_list = []\n",
        "\n",
        "        for ch in self.channels:\n",
        "            ch_path = os.path.join(data_dir, img_path, img_path + '_' + ch + '.tif')\n",
        "            ch_img_list.append(imread(ch_path))\n",
        "\n",
        "        img = self.__preprocess(ch_img_list)\n",
        "\n",
        "        return img\n",
        "\n",
        "    def __preprocess(self, channels):\n",
        "\n",
        "        'preprocess and resize channels'\n",
        "\n",
        "        # dimension\n",
        "        dim = (self.pixel,self.pixel)\n",
        "        list_of_ch = []\n",
        "\n",
        "        for k in channels:\n",
        "            mat = cv2.resize(np.array(k), dim)\n",
        "\n",
        "            #print(np.array(k).shape)\n",
        "            list_of_ch.append(mat)\n",
        "\n",
        "        img = np.dstack(list_of_ch)\n",
        "\n",
        "        return img"
      ],
      "execution_count": null,
      "outputs": []
    },
    {
      "cell_type": "code",
      "metadata": {
        "id": "LVAFhEM_Al8k"
      },
      "source": [
        "data_gen = Dataset(data_dir, img_list, LABEL_MAP, True, CHANNELS, BATCH_SIZE, PIXEL)"
      ],
      "execution_count": null,
      "outputs": []
    },
    {
      "cell_type": "code",
      "metadata": {
        "jupyter": {
          "outputs_hidden": true
        },
        "id": "nK2jvtFDAl8k",
        "colab": {
          "base_uri": "https://localhost:8080/"
        },
        "outputId": "cb83aec1-7c99-46c5-d7a9-e7d5966731d2"
      },
      "source": [
        "data_gen.__getitem__(0)"
      ],
      "execution_count": null,
      "outputs": [
        {
          "output_type": "execute_result",
          "data": {
            "text/plain": [
              "(array([[[[ 713, 1483],\n",
              "          [ 815, 1718],\n",
              "          [ 668, 1420],\n",
              "          ...,\n",
              "          [ 570, 1231],\n",
              "          [ 595, 1274],\n",
              "          [ 642, 1387]],\n",
              " \n",
              "         [[ 721, 1532],\n",
              "          [ 884, 1695],\n",
              "          [ 680, 1406],\n",
              "          ...,\n",
              "          [ 562, 1176],\n",
              "          [ 625, 1333],\n",
              "          [ 662, 1402]],\n",
              " \n",
              "         [[ 775, 1565],\n",
              "          [ 872, 1736],\n",
              "          [ 683, 1524],\n",
              "          ...,\n",
              "          [ 686, 1409],\n",
              "          [ 653, 1396],\n",
              "          [ 656, 1372]],\n",
              " \n",
              "         ...,\n",
              " \n",
              "         [[1545, 3383],\n",
              "          [1514, 3325],\n",
              "          [1465, 3282],\n",
              "          ...,\n",
              "          [ 599, 1261],\n",
              "          [ 744, 1388],\n",
              "          [ 762, 1480]],\n",
              " \n",
              "         [[1725, 3611],\n",
              "          [1595, 3495],\n",
              "          [1518, 3360],\n",
              "          ...,\n",
              "          [ 549, 1145],\n",
              "          [ 698, 1283],\n",
              "          [ 746, 1416]],\n",
              " \n",
              "         [[1926, 3900],\n",
              "          [1898, 3834],\n",
              "          [1792, 3756],\n",
              "          ...,\n",
              "          [ 679, 1222],\n",
              "          [ 734, 1285],\n",
              "          [ 745, 1337]]],\n",
              " \n",
              " \n",
              "        [[[1366,  834],\n",
              "          [1129,  984],\n",
              "          [1075, 1104],\n",
              "          ...,\n",
              "          [ 853, 1115],\n",
              "          [ 809, 1187],\n",
              "          [ 729,  942]],\n",
              " \n",
              "         [[1196,  878],\n",
              "          [1208, 1150],\n",
              "          [ 970, 1223],\n",
              "          ...,\n",
              "          [ 849, 1098],\n",
              "          [ 723, 1008],\n",
              "          [ 507,  743]],\n",
              " \n",
              "         [[1189, 1023],\n",
              "          [2026, 1262],\n",
              "          [1558, 1191],\n",
              "          ...,\n",
              "          [ 801,  809],\n",
              "          [ 421,  666],\n",
              "          [ 501,  619]],\n",
              " \n",
              "         ...,\n",
              " \n",
              "         [[ 750, 1161],\n",
              "          [ 524,  902],\n",
              "          [ 885, 1511],\n",
              "          ...,\n",
              "          [ 765,  852],\n",
              "          [ 689,  917],\n",
              "          [ 591,  939]],\n",
              " \n",
              "         [[1089, 1321],\n",
              "          [ 611, 1006],\n",
              "          [ 697, 1342],\n",
              "          ...,\n",
              "          [ 813,  852],\n",
              "          [ 695,  924],\n",
              "          [ 691, 1042]],\n",
              " \n",
              "         [[1076,  897],\n",
              "          [ 725,  960],\n",
              "          [ 846, 1558],\n",
              "          ...,\n",
              "          [ 854,  831],\n",
              "          [ 689,  879],\n",
              "          [ 714, 1017]]],\n",
              " \n",
              " \n",
              "        [[[ 719, 1385],\n",
              "          [ 752, 1412],\n",
              "          [ 762, 1430],\n",
              "          ...,\n",
              "          [ 917, 1479],\n",
              "          [ 622, 1228],\n",
              "          [ 646, 1188]],\n",
              " \n",
              "         [[ 782, 1431],\n",
              "          [ 774, 1426],\n",
              "          [ 843, 1562],\n",
              "          ...,\n",
              "          [ 866, 1428],\n",
              "          [ 468,  993],\n",
              "          [ 538,  963]],\n",
              " \n",
              "         [[ 839, 1504],\n",
              "          [ 866, 1570],\n",
              "          [1029, 1825],\n",
              "          ...,\n",
              "          [ 981, 1444],\n",
              "          [ 879, 1387],\n",
              "          [ 818, 1255]],\n",
              " \n",
              "         ...,\n",
              " \n",
              "         [[ 922, 1368],\n",
              "          [ 991, 1498],\n",
              "          [1136, 1730],\n",
              "          ...,\n",
              "          [ 724, 1333],\n",
              "          [ 708, 1295],\n",
              "          [ 725, 1334]],\n",
              " \n",
              "         [[ 892, 1332],\n",
              "          [ 911, 1373],\n",
              "          [ 990, 1527],\n",
              "          ...,\n",
              "          [ 724, 1295],\n",
              "          [ 708, 1305],\n",
              "          [ 825, 1446]],\n",
              " \n",
              "         [[ 853, 1290],\n",
              "          [ 901, 1347],\n",
              "          [ 915, 1389],\n",
              "          ...,\n",
              "          [ 713, 1325],\n",
              "          [ 823, 1432],\n",
              "          [ 918, 1547]]],\n",
              " \n",
              " \n",
              "        ...,\n",
              " \n",
              " \n",
              "        [[[  79,   40],\n",
              "          [  73,   42],\n",
              "          [  79,   48],\n",
              "          ...,\n",
              "          [  66,   56],\n",
              "          [  67,   50],\n",
              "          [  73,   51]],\n",
              " \n",
              "         [[  57,   48],\n",
              "          [  81,   53],\n",
              "          [  55,   55],\n",
              "          ...,\n",
              "          [  65,   50],\n",
              "          [  69,   50],\n",
              "          [  70,   49]],\n",
              " \n",
              "         [[  85,   47],\n",
              "          [  81,   55],\n",
              "          [  53,   53],\n",
              "          ...,\n",
              "          [  77,   53],\n",
              "          [  78,   54],\n",
              "          [  79,   56]],\n",
              " \n",
              "         ...,\n",
              " \n",
              "         [[  70,   49],\n",
              "          [  66,   49],\n",
              "          [  73,   49],\n",
              "          ...,\n",
              "          [  74,   48],\n",
              "          [  74,   45],\n",
              "          [  66,   47]],\n",
              " \n",
              "         [[  74,   48],\n",
              "          [  61,   49],\n",
              "          [  70,   48],\n",
              "          ...,\n",
              "          [  70,   50],\n",
              "          [  66,   49],\n",
              "          [  70,   48]],\n",
              " \n",
              "         [[  74,   49],\n",
              "          [  67,   49],\n",
              "          [  63,   49],\n",
              "          ...,\n",
              "          [  75,   54],\n",
              "          [  71,   54],\n",
              "          [  81,   49]]],\n",
              " \n",
              " \n",
              "        [[[ 689, 1253],\n",
              "          [ 581, 1165],\n",
              "          [ 491, 1121],\n",
              "          ...,\n",
              "          [ 592, 1310],\n",
              "          [ 740, 1489],\n",
              "          [ 779, 1563]],\n",
              " \n",
              "         [[ 675, 1279],\n",
              "          [ 638, 1264],\n",
              "          [ 555, 1163],\n",
              "          ...,\n",
              "          [ 614, 1430],\n",
              "          [ 766, 1616],\n",
              "          [ 796, 1563]],\n",
              " \n",
              "         [[ 626, 1269],\n",
              "          [ 626, 1278],\n",
              "          [ 565, 1208],\n",
              "          ...,\n",
              "          [ 798, 1565],\n",
              "          [ 782, 1583],\n",
              "          [ 656, 1453]],\n",
              " \n",
              "         ...,\n",
              " \n",
              "         [[1126, 1510],\n",
              "          [1030, 1476],\n",
              "          [ 946, 1498],\n",
              "          ...,\n",
              "          [ 770, 1681],\n",
              "          [ 795, 1688],\n",
              "          [ 750, 1656]],\n",
              " \n",
              "         [[1064, 1548],\n",
              "          [ 987, 1512],\n",
              "          [ 942, 1515],\n",
              "          ...,\n",
              "          [ 652, 1554],\n",
              "          [ 730, 1525],\n",
              "          [ 684, 1521]],\n",
              " \n",
              "         [[1095, 1583],\n",
              "          [ 963, 1528],\n",
              "          [ 917, 1524],\n",
              "          ...,\n",
              "          [ 664, 1440],\n",
              "          [ 646, 1412],\n",
              "          [ 750, 1560]]],\n",
              " \n",
              " \n",
              "        [[[ 203,  160],\n",
              "          [ 214,  172],\n",
              "          [ 224,  168],\n",
              "          ...,\n",
              "          [ 183,  134],\n",
              "          [ 174,  119],\n",
              "          [ 191,  137]],\n",
              " \n",
              "         [[ 215,  152],\n",
              "          [ 219,  181],\n",
              "          [ 223,  160],\n",
              "          ...,\n",
              "          [ 193,  144],\n",
              "          [ 182,  131],\n",
              "          [ 186,  134]],\n",
              " \n",
              "         [[ 219,  157],\n",
              "          [ 253,  180],\n",
              "          [ 219,  154],\n",
              "          ...,\n",
              "          [ 226,  146],\n",
              "          [ 203,  155],\n",
              "          [ 174,  140]],\n",
              " \n",
              "         ...,\n",
              " \n",
              "         [[ 230,  155],\n",
              "          [ 205,  140],\n",
              "          [ 187,  137],\n",
              "          ...,\n",
              "          [ 202,  148],\n",
              "          [ 185,  147],\n",
              "          [ 242,  178]],\n",
              " \n",
              "         [[ 211,  171],\n",
              "          [ 211,  170],\n",
              "          [ 190,  154],\n",
              "          ...,\n",
              "          [ 223,  156],\n",
              "          [ 202,  149],\n",
              "          [ 213,  161]],\n",
              " \n",
              "         [[ 216,  162],\n",
              "          [ 237,  171],\n",
              "          [ 198,  147],\n",
              "          ...,\n",
              "          [ 169,  129],\n",
              "          [ 167,  123],\n",
              "          [ 184,  149]]]], dtype=uint16),\n",
              " array([0, 1, 0, 0, 1, 1, 0, 1, 1, 0, 0, 1, 0, 1, 0, 1, 1, 0, 0, 0, 1, 0,\n",
              "        0, 1, 0, 0, 0, 1, 0, 0, 0, 0]))"
            ]
          },
          "metadata": {
            "tags": []
          },
          "execution_count": 13
        }
      ]
    },
    {
      "cell_type": "code",
      "metadata": {
        "id": "1N0cigaOAl8k"
      },
      "source": [
        "img, label = data_gen.__getitem__(0)"
      ],
      "execution_count": null,
      "outputs": []
    },
    {
      "cell_type": "code",
      "metadata": {
        "id": "ygxbK9nnAl8k",
        "colab": {
          "base_uri": "https://localhost:8080/"
        },
        "outputId": "52e03306-98cc-48ee-9243-e91ebbfc3528"
      },
      "source": [
        "print(img.shape)\n",
        "print(label.shape)"
      ],
      "execution_count": null,
      "outputs": [
        {
          "output_type": "stream",
          "text": [
            "(32, 60, 60, 2)\n",
            "(32,)\n"
          ],
          "name": "stdout"
        }
      ]
    },
    {
      "cell_type": "code",
      "metadata": {
        "id": "pvJnluIUAl8k",
        "colab": {
          "base_uri": "https://localhost:8080/"
        },
        "outputId": "be174db1-40ef-4468-df3d-b45d0c3fdde9"
      },
      "source": [
        "## Model setup\n",
        "\n",
        "orig_model = tf.keras.applications.ResNet50V2(include_top=True, weights=None, pooling = \"avg\", classes=1, classifier_activation='sigmoid')\n",
        "\n",
        "dense_input = None\n",
        "out = None\n",
        "\n",
        "if len(CHANNELS) >= 9:\n",
        "    # apply 2 additional feature maps (i.e., conv layers) to\n",
        "    # graudally step down the informational filtering\n",
        "    # why >= 9? because it's 3^2 \n",
        "    dense_input = tf.keras.layers.Input(shape=(PIXEL, PIXEL, len(CHANNELS)))\n",
        "    dense_filter = tf.keras.layers.Conv2D(6, 3, padding='same')(dense_input)\n",
        "    dense_filter = tf.keras.layers.Conv2D(3, 3, padding='same')(dense_input)\n",
        "    out = orig_model(dense_filter)\n",
        "elif len(CHANNELS) == 3:\n",
        "    dense_input = tf.keras.layers.Input(shape=(PIXEL, PIXEL, 3))\n",
        "    out = orig_model(dense_input)\n",
        "else:\n",
        "    dense_input = tf.keras.layers.Input(shape=(PIXEL, PIXEL, len(CHANNELS)))\n",
        "    dense_filter = tf.keras.layers.Conv2D(3, 3, padding='same')(dense_input)\n",
        "    out = orig_model(dense_filter)\n",
        "\n",
        "model = tf.keras.Model(dense_input, out)\n",
        "model.summary()"
      ],
      "execution_count": null,
      "outputs": [
        {
          "output_type": "stream",
          "text": [
            "WARNING:tensorflow:Model was constructed with shape (None, 224, 224, 3) for input Tensor(\"input_1:0\", shape=(None, 224, 224, 3), dtype=float32), but it was called on an input with incompatible shape (None, 60, 60, 3).\n",
            "Model: \"functional_1\"\n",
            "_________________________________________________________________\n",
            "Layer (type)                 Output Shape              Param #   \n",
            "=================================================================\n",
            "input_2 (InputLayer)         [(None, 60, 60, 2)]       0         \n",
            "_________________________________________________________________\n",
            "conv2d (Conv2D)              (None, 60, 60, 3)         57        \n",
            "_________________________________________________________________\n",
            "resnet50v2 (Functional)      (None, 1)                 23566849  \n",
            "=================================================================\n",
            "Total params: 23,566,906\n",
            "Trainable params: 23,521,466\n",
            "Non-trainable params: 45,440\n",
            "_________________________________________________________________\n"
          ],
          "name": "stdout"
        }
      ]
    },
    {
      "cell_type": "code",
      "metadata": {
        "id": "PmS40B_hAl8k"
      },
      "source": [
        "# compile the model\n",
        "model.compile(optimizer='adam', loss='binary_crossentropy', metrics=['accuracy','Precision','Recall'])"
      ],
      "execution_count": null,
      "outputs": []
    },
    {
      "cell_type": "markdown",
      "metadata": {
        "id": "KLKTu3ChAl8k"
      },
      "source": [
        "### Data split and model training"
      ]
    },
    {
      "cell_type": "code",
      "metadata": {
        "id": "TPWimAGIAl8k"
      },
      "source": [
        "# split train and test datasets\n",
        "train_list = img_list[:int(len(img_list)*0.8)]\n",
        "test_list = img_list[int(len(img_list)*0.8):]\n",
        "\n",
        "data_train = Dataset(data_dir, train_list, LABEL_MAP, True, CHANNELS, BATCH_SIZE, PIXEL)\n",
        "data_test = Dataset(data_dir, test_list, LABEL_MAP, False, CHANNELS, BATCH_SIZE, PIXEL)"
      ],
      "execution_count": null,
      "outputs": []
    },
    {
      "cell_type": "code",
      "metadata": {
        "id": "ZRqFnMWFAl8k",
        "colab": {
          "base_uri": "https://localhost:8080/"
        },
        "outputId": "d82b7c8d-4b00-4cf9-de14-d8716bd0df50"
      },
      "source": [
        "start_time = time.time()\n",
        "history = model.fit(data_train, validation_data=data_test, epochs=EPOCH)"
      ],
      "execution_count": null,
      "outputs": [
        {
          "output_type": "stream",
          "text": [
            "Epoch 1/4\n",
            "WARNING:tensorflow:Model was constructed with shape (None, 224, 224, 3) for input Tensor(\"input_1:0\", shape=(None, 224, 224, 3), dtype=float32), but it was called on an input with incompatible shape (None, 60, 60, 3).\n",
            "WARNING:tensorflow:Model was constructed with shape (None, 224, 224, 3) for input Tensor(\"input_1:0\", shape=(None, 224, 224, 3), dtype=float32), but it was called on an input with incompatible shape (None, 60, 60, 3).\n",
            "14758/14758 [==============================] - ETA: 0s - loss: 0.4818 - accuracy: 0.7736 - precision: 0.7420 - recall: 0.8269WARNING:tensorflow:Model was constructed with shape (None, 224, 224, 3) for input Tensor(\"input_1:0\", shape=(None, 224, 224, 3), dtype=float32), but it was called on an input with incompatible shape (None, 60, 60, 3).\n",
            "14758/14758 [==============================] - 3289s 223ms/step - loss: 0.4818 - accuracy: 0.7736 - precision: 0.7420 - recall: 0.8269 - val_loss: 0.5691 - val_accuracy: 0.6977 - val_precision: 0.8060 - val_recall: 0.5038\n",
            "Epoch 2/4\n",
            "14758/14758 [==============================] - 3329s 226ms/step - loss: 0.4322 - accuracy: 0.8001 - precision: 0.7722 - recall: 0.8413 - val_loss: 0.4023 - val_accuracy: 0.8128 - val_precision: 0.7776 - val_recall: 0.8650\n",
            "Epoch 3/4\n",
            "14758/14758 [==============================] - 3243s 220ms/step - loss: 0.4101 - accuracy: 0.8109 - precision: 0.7847 - recall: 0.8478 - val_loss: 0.4555 - val_accuracy: 0.7817 - val_precision: 0.8332 - val_recall: 0.6927\n",
            "Epoch 4/4\n",
            "14758/14758 [==============================] - 3297s 223ms/step - loss: 0.3947 - accuracy: 0.8184 - precision: 0.7943 - recall: 0.8509 - val_loss: 0.5079 - val_accuracy: 0.7126 - val_precision: 0.8804 - val_recall: 0.4777\n"
          ],
          "name": "stdout"
        }
      ]
    },
    {
      "cell_type": "code",
      "metadata": {
        "id": "UxcOh7UCAl8l",
        "colab": {
          "base_uri": "https://localhost:8080/"
        },
        "outputId": "21132c4b-6cfa-45d3-d4d3-d234bc997109"
      },
      "source": [
        "end_time = time.time()\n",
        "print(\"--- %s seconds ---\" % (end_time - start_time))\n",
        "print(\"training completed\")"
      ],
      "execution_count": null,
      "outputs": [
        {
          "output_type": "stream",
          "text": [
            "--- 13169.749894618988 seconds ---\n",
            "training completed\n"
          ],
          "name": "stdout"
        }
      ]
    },
    {
      "cell_type": "code",
      "metadata": {
        "id": "p3xHqWTWAl8l",
        "colab": {
          "base_uri": "https://localhost:8080/"
        },
        "outputId": "08babae9-9730-4da7-97ec-adcbbbc5ba29"
      },
      "source": [
        "start_time = time.time()\n",
        "evaluation = model.evaluate(data_test, batch_size=BATCH_SIZE)"
      ],
      "execution_count": null,
      "outputs": [
        {
          "output_type": "stream",
          "text": [
            "3689/3689 [==============================] - 536s 145ms/step - loss: 0.5079 - accuracy: 0.7126 - precision: 0.8804 - recall: 0.4777\n"
          ],
          "name": "stdout"
        }
      ]
    },
    {
      "cell_type": "code",
      "metadata": {
        "id": "SM4i-1ImAl8l",
        "colab": {
          "base_uri": "https://localhost:8080/"
        },
        "outputId": "a612d42e-4a84-4833-ae40-121e24c5bbc3"
      },
      "source": [
        "end_time = time.time()\n",
        "print(\"--- %s seconds ---\" % (end_time - start_time))\n",
        "print(\"evaluation completed\")"
      ],
      "execution_count": null,
      "outputs": [
        {
          "output_type": "stream",
          "text": [
            "--- 536.558721780777 seconds ---\n",
            "evaluation completed\n"
          ],
          "name": "stdout"
        }
      ]
    },
    {
      "cell_type": "markdown",
      "metadata": {
        "id": "yDMHvkejAl8l"
      },
      "source": [
        "### Training outcome"
      ]
    },
    {
      "cell_type": "code",
      "metadata": {
        "id": "dgFTYLz4Al8l",
        "colab": {
          "base_uri": "https://localhost:8080/",
          "height": 590
        },
        "outputId": "81b07b29-2445-4aa5-b523-6af81ece9c8f"
      },
      "source": [
        "# list all data in history\n",
        "print(history.history.keys())\n",
        "# summarize history for accuracy\n",
        "plt.plot(history.history['accuracy'])\n",
        "plt.plot(history.history['val_accuracy'])\n",
        "plt.title('model accuracy')\n",
        "plt.ylabel('accuracy')\n",
        "plt.xlabel('epoch')\n",
        "plt.legend(['train', 'test'], loc='upper left')\n",
        "plt.show()\n",
        "# summarize history for loss\n",
        "plt.plot(history.history['loss'])\n",
        "plt.plot(history.history['val_loss'])\n",
        "plt.title('model loss')\n",
        "plt.ylabel('loss')\n",
        "plt.xlabel('epoch')\n",
        "plt.legend(['train', 'test'], loc='upper left')\n",
        "plt.show()"
      ],
      "execution_count": null,
      "outputs": [
        {
          "output_type": "stream",
          "text": [
            "dict_keys(['loss', 'accuracy', 'precision', 'recall', 'val_loss', 'val_accuracy', 'val_precision', 'val_recall'])\n"
          ],
          "name": "stdout"
        },
        {
          "output_type": "display_data",
          "data": {
            "image/png": "[encoded data removed]",
            "text/plain": [
              "<Figure size 432x288 with 1 Axes>"
            ]
          },
          "metadata": {
            "tags": [],
            "needs_background": "light"
          }
        },
        {
          "output_type": "display_data",
          "data": {
            "image/png": "[encoded data removed]",
            "text/plain": [
              "<Figure size 432x288 with 1 Axes>"
            ]
          },
          "metadata": {
            "tags": [],
            "needs_background": "light"
          }
        }
      ]
    },
    {
      "cell_type": "code",
      "metadata": {
        "id": "vz-f-6Z-Al8l",
        "colab": {
          "base_uri": "https://localhost:8080/"
        },
        "outputId": "b19458e2-f7dc-4034-aaaa-fcec712dfc88"
      },
      "source": [
        "print(\"Training Output\")\n",
        "print(\"accuracy: \", history.history['accuracy'])\n",
        "print(\"precision: \", history.history['precision'])\n",
        "print(\"recall: \", history.history['recall'])\n",
        "print(\"loss: \", history.history['loss'])"
      ],
      "execution_count": null,
      "outputs": [
        {
          "output_type": "stream",
          "text": [
            "Training Output\n",
            "accuracy:  [0.7736185193061829, 0.8000702857971191, 0.810852587223053, 0.8184396028518677]\n",
            "precision:  [0.7419989705085754, 0.7722169160842896, 0.7846589088439941, 0.7943329811096191]\n",
            "recall:  [0.8268507122993469, 0.8413455486297607, 0.8477742671966553, 0.8508507609367371]\n",
            "loss:  [0.481830358505249, 0.4321727156639099, 0.4100944995880127, 0.39468643069267273]\n"
          ],
          "name": "stdout"
        }
      ]
    },
    {
      "cell_type": "code",
      "metadata": {
        "id": "tbvaYkmQAl8l",
        "colab": {
          "base_uri": "https://localhost:8080/"
        },
        "outputId": "14588858-def9-444c-ba36-3b7240b33d92"
      },
      "source": [
        "print(\"Validation Output\")\n",
        "print(\"accuracy: \", evaluation[1])\n",
        "print(\"precision: \", evaluation[2])\n",
        "print(\"recall: \", evaluation[3])\n",
        "print(\"loss: \", evaluation[0])"
      ],
      "execution_count": null,
      "outputs": [
        {
          "output_type": "stream",
          "text": [
            "Validation Output\n",
            "accuracy:  0.7125576138496399\n",
            "precision:  0.8803571462631226\n",
            "recall:  0.47774624824523926\n",
            "loss:  0.507882833480835\n"
          ],
          "name": "stdout"
        }
      ]
    },
    {
      "cell_type": "markdown",
      "metadata": {
        "id": "a8yE5l7GAl8l"
      },
      "source": [
        "### Agricultural Label Counts"
      ]
    },
    {
      "cell_type": "code",
      "metadata": {
        "id": "ZivcADGoAl8l"
      },
      "source": [
        "def count_label(data_gen, batch_count):\n",
        "    agri_count = 0\n",
        "    for i in range(batch_count):\n",
        "        _, label = data_gen.__getitem__(i)\n",
        "        batch_agri_count = np.sum(label)\n",
        "        agri_count += batch_agri_count\n",
        "        if i%1000 == 0:\n",
        "              print('Accumulated counts of the agicultural label in batch ', i, ' is ', agri_count)\n",
        "\n",
        "    return agri_count"
      ],
      "execution_count": null,
      "outputs": []
    },
    {
      "cell_type": "code",
      "metadata": {
        "id": "B3r4FPSwAl8l",
        "colab": {
          "base_uri": "https://localhost:8080/"
        },
        "outputId": "e8f26e66-8949-4906-aed0-e8ae977f4cef"
      },
      "source": [
        "print(\"Total batches to be counted is \", BATCH_COUNT)"
      ],
      "execution_count": null,
      "outputs": [
        {
          "output_type": "stream",
          "text": [
            "Total batches to be counted is  18447\n"
          ],
          "name": "stdout"
        }
      ]
    },
    {
      "cell_type": "code",
      "metadata": {
        "id": "VupiC0WmAl8l",
        "colab": {
          "base_uri": "https://localhost:8080/"
        },
        "outputId": "5fa2921c-ca7b-45a0-8b89-7a6d21a8815f"
      },
      "source": [
        "print(\"Total agricultural labels in the data set is \", count_label(data_gen, BATCH_COUNT))\n",
        "print(\"The total image patches \", len(os.listdir(data_dir)))"
      ],
      "execution_count": null,
      "outputs": [
        {
          "output_type": "stream",
          "text": [
            "Accumulated counts of the agicultural label in batch  0  is  12\n",
            "Accumulated counts of the agicultural label in batch  1000  is  15808\n",
            "Accumulated counts of the agicultural label in batch  2000  is  31544\n",
            "Accumulated counts of the agicultural label in batch  3000  is  47061\n",
            "Accumulated counts of the agicultural label in batch  4000  is  62654\n",
            "Accumulated counts of the agicultural label in batch  5000  is  78409\n",
            "Accumulated counts of the agicultural label in batch  6000  is  94235\n",
            "Accumulated counts of the agicultural label in batch  7000  is  109963\n",
            "Accumulated counts of the agicultural label in batch  8000  is  125685\n",
            "Accumulated counts of the agicultural label in batch  9000  is  141307\n",
            "Accumulated counts of the agicultural label in batch  10000  is  157062\n",
            "Accumulated counts of the agicultural label in batch  11000  is  172822\n",
            "Accumulated counts of the agicultural label in batch  12000  is  188370\n",
            "Accumulated counts of the agicultural label in batch  13000  is  204145\n",
            "Accumulated counts of the agicultural label in batch  14000  is  219702\n",
            "Accumulated counts of the agicultural label in batch  15000  is  235511\n",
            "Accumulated counts of the agicultural label in batch  16000  is  251334\n",
            "Accumulated counts of the agicultural label in batch  17000  is  267087\n",
            "Accumulated counts of the agicultural label in batch  18000  is  282837\n",
            "Total agricultural labels in the data set is  289871\n",
            "The total image patches  590326\n"
          ],
          "name": "stdout"
        }
      ]
    }
  ]
}