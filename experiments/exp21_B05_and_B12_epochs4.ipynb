{
  "nbformat": 4,
  "nbformat_minor": 0,
  "metadata": {
    "environment": {
      "name": "tf2-2-3-gpu.2-3.m58",
      "type": "gcloud",
      "uri": "gcr.io/deeplearning-platform-release/tf2-2-3-gpu.2-3:m58"
    },
    "kernelspec": {
      "display_name": "Python 3",
      "language": "python",
      "name": "python3"
    },
    "language_info": {
      "codemirror_mode": {
        "name": "ipython",
        "version": 3
      },
      "file_extension": ".py",
      "mimetype": "text/x-python",
      "name": "python",
      "nbconvert_exporter": "python",
      "pygments_lexer": "ipython3",
      "version": "3.7.8"
    },
    "colab": {
      "name": "exp21_B05_and_B12.ipynb",
      "provenance": [],
      "collapsed_sections": [],
      "toc_visible": true
    },
    "accelerator": "GPU"
  },
  "cells": [
    {
      "cell_type": "markdown",
      "metadata": {
        "id": "Ovvxtb3oAl8i"
      },
      "source": [
        "## Resnet50v2 with B05-B07 channels (excluding RGB), scaled to 60 x 60 pixels, and with 4 epochs"
      ]
    },
    {
      "cell_type": "markdown",
      "metadata": {
        "id": "cLeCvib8Al8i"
      },
      "source": [
        "The notebook contains a custom setup of the Resnet50v2 model, which allows for users to configure the input such that (i) the list of remote sensing channels can be flexible and (ii) the dimension of image patches can be uniformaly adjusted (e.g., 20x20, 60x60, and 120x120). Each remote sensing channel input is stacked up and fed into the model all at once."
      ]
    },
    {
      "cell_type": "markdown",
      "metadata": {
        "id": "5b5BnvMEAl8i"
      },
      "source": [
        "### Environment and library settings"
      ]
    },
    {
      "cell_type": "code",
      "metadata": {
        "colab": {
          "base_uri": "https://localhost:8080/"
        },
        "id": "BVaU__nNFgLE",
        "outputId": "eb34fc36-8a36-40ab-919b-4789227fae88"
      },
      "source": [
        "# Data download, comment once complete\n",
        "%env DATA_DIR=/content\n",
        "%env DOWNLOAD_URL=http://bigearth.net/downloads/BigEarthNet-v1.0.tar.gz\n",
        "\n",
        "!rm -rf /content\n",
        "!mkdir -p $DATA_DIR\n",
        "!wget -qO- $DOWNLOAD_URL  | tar xz -C $DATA_DIR"
      ],
      "execution_count": 1,
      "outputs": [
        {
          "output_type": "stream",
          "text": [
            "env: DATA_DIR=/content\n",
            "env: DOWNLOAD_URL=http://bigearth.net/downloads/BigEarthNet-v1.0.tar.gz\n",
            "shell-init: error retrieving current directory: getcwd: cannot access parent directories: No such file or directory\n",
            "shell-init: error retrieving current directory: getcwd: cannot access parent directories: No such file or directory\n"
          ],
          "name": "stdout"
        }
      ]
    },
    {
      "cell_type": "code",
      "metadata": {
        "id": "qLAJJTmIAl8i",
        "colab": {
          "base_uri": "https://localhost:8080/"
        },
        "outputId": "406079ac-8be2-46a2-8c87-beea8fe32bc9"
      },
      "source": [
        "import tensorflow as tf\n",
        "print(\"Num GPUs Available: \", len(tf.config.experimental.list_physical_devices('GPU')))"
      ],
      "execution_count": 2,
      "outputs": [
        {
          "output_type": "stream",
          "text": [
            "Num GPUs Available:  1\n"
          ],
          "name": "stdout"
        }
      ]
    },
    {
      "cell_type": "code",
      "metadata": {
        "id": "3EQPp2oEAl8j",
        "colab": {
          "base_uri": "https://localhost:8080/"
        },
        "outputId": "d2967b22-e24d-4344-ae92-4626057c4a6e"
      },
      "source": [
        "if tf.test.gpu_device_name():\n",
        "    print('Default GPU Device: {}'.format(tf.test.gpu_device_name()))\n",
        "else:\n",
        "    print(\"Please install GPU version of TF\")"
      ],
      "execution_count": 3,
      "outputs": [
        {
          "output_type": "stream",
          "text": [
            "Default GPU Device: /device:GPU:0\n"
          ],
          "name": "stdout"
        }
      ]
    },
    {
      "cell_type": "code",
      "metadata": {
        "id": "2COKKH0fAl8j",
        "colab": {
          "base_uri": "https://localhost:8080/",
          "height": 35
        },
        "outputId": "bae67904-faa8-4624-9087-849c10373cd7"
      },
      "source": [
        "from pathlib import Path\n",
        "from PIL import Image, ImageShow\n",
        "import numpy as np\n",
        "import matplotlib.pyplot as plt\n",
        "import json\n",
        "import pandas as pd\n",
        "import cv2\n",
        "from skimage.transform import resize\n",
        "from tifffile import imread\n",
        "import time\n",
        "import tensorflow as tf\n",
        "\n",
        "tf.__version__"
      ],
      "execution_count": 4,
      "outputs": [
        {
          "output_type": "execute_result",
          "data": {
            "application/vnd.google.colaboratory.intrinsic+json": {
              "type": "string"
            },
            "text/plain": [
              "'2.3.0'"
            ]
          },
          "metadata": {
            "tags": []
          },
          "execution_count": 4
        }
      ]
    },
    {
      "cell_type": "code",
      "metadata": {
        "id": "6oxLnfn2Al8j"
      },
      "source": [
        "import os\n",
        "data_dir = os.environ.get(\"DATA_DIR\")"
      ],
      "execution_count": 5,
      "outputs": []
    },
    {
      "cell_type": "code",
      "metadata": {
        "id": "tpPx4ms5Al8j",
        "colab": {
          "base_uri": "https://localhost:8080/"
        },
        "outputId": "6bdabee9-23c1-489f-e5ef-1597093c1dda"
      },
      "source": [
        "data_dir=os.path.join(data_dir, os.listdir(data_dir)[0])\n",
        "print(data_dir)"
      ],
      "execution_count": 6,
      "outputs": [
        {
          "output_type": "stream",
          "text": [
            "/content/BigEarthNet-v1.0\n"
          ],
          "name": "stdout"
        }
      ]
    },
    {
      "cell_type": "code",
      "metadata": {
        "id": "bwDACAssAl8k",
        "colab": {
          "base_uri": "https://localhost:8080/"
        },
        "outputId": "f4c63900-0b1d-40e7-ddd2-350db2955ea5"
      },
      "source": [
        "os.listdir(os.path.join(data_dir,'S2A_MSIL2A_20170613T101032_77_22'))"
      ],
      "execution_count": 7,
      "outputs": [
        {
          "output_type": "execute_result",
          "data": {
            "text/plain": [
              "['S2A_MSIL2A_20170613T101032_77_22_labels_metadata.json',\n",
              " 'S2A_MSIL2A_20170613T101032_77_22_B02.tif',\n",
              " 'S2A_MSIL2A_20170613T101032_77_22_B08.tif',\n",
              " 'S2A_MSIL2A_20170613T101032_77_22_B09.tif',\n",
              " 'S2A_MSIL2A_20170613T101032_77_22_B04.tif',\n",
              " 'S2A_MSIL2A_20170613T101032_77_22_B03.tif',\n",
              " 'S2A_MSIL2A_20170613T101032_77_22_B05.tif',\n",
              " 'S2A_MSIL2A_20170613T101032_77_22_B11.tif',\n",
              " 'S2A_MSIL2A_20170613T101032_77_22_B12.tif',\n",
              " 'S2A_MSIL2A_20170613T101032_77_22_B06.tif',\n",
              " 'S2A_MSIL2A_20170613T101032_77_22_B07.tif',\n",
              " 'S2A_MSIL2A_20170613T101032_77_22_B01.tif',\n",
              " 'S2A_MSIL2A_20170613T101032_77_22_B8A.tif']"
            ]
          },
          "metadata": {
            "tags": []
          },
          "execution_count": 7
        }
      ]
    },
    {
      "cell_type": "code",
      "metadata": {
        "id": "NAHpAqwLAl8k",
        "colab": {
          "base_uri": "https://localhost:8080/"
        },
        "outputId": "10c95765-939b-4e5e-9038-c3fd117626b8"
      },
      "source": [
        "img_list = os.listdir(data_dir)\n",
        "img_list[0:10]"
      ],
      "execution_count": 8,
      "outputs": [
        {
          "output_type": "execute_result",
          "data": {
            "text/plain": [
              "['S2A_MSIL2A_20170813T112121_84_36',\n",
              " 'S2B_MSIL2A_20180509T092029_32_8',\n",
              " 'S2A_MSIL2A_20170717T113321_26_32',\n",
              " 'S2B_MSIL2A_20170814T100029_73_22',\n",
              " 'S2B_MSIL2A_20180506T105029_20_0',\n",
              " 'S2A_MSIL2A_20180529T115401_74_45',\n",
              " 'S2B_MSIL2A_20170924T93014_11_43',\n",
              " 'S2B_MSIL2A_20180515T112109_89_74',\n",
              " 'S2B_MSIL2A_20180515T112109_72_50',\n",
              " 'S2A_MSIL2A_20180225T114351_18_20']"
            ]
          },
          "metadata": {
            "tags": []
          },
          "execution_count": 8
        }
      ]
    },
    {
      "cell_type": "code",
      "metadata": {
        "id": "SIxsc_eNAl8k",
        "colab": {
          "base_uri": "https://localhost:8080/"
        },
        "outputId": "7bec25f3-f320-4810-b2f8-9a216c045f13"
      },
      "source": [
        "len(os.listdir(data_dir))"
      ],
      "execution_count": 9,
      "outputs": [
        {
          "output_type": "execute_result",
          "data": {
            "text/plain": [
              "590326"
            ]
          },
          "metadata": {
            "tags": []
          },
          "execution_count": 9
        }
      ]
    },
    {
      "cell_type": "markdown",
      "metadata": {
        "id": "pVCe04yLAl8k"
      },
      "source": [
        "### Configuring the model parameters and constant variables"
      ]
    },
    {
      "cell_type": "code",
      "metadata": {
        "id": "35j7So5MAl8k"
      },
      "source": [
        "PIXEL = 60\n",
        "BATCH_SIZE = 32\n",
        "BATCH_COUNT = len(img_list)//BATCH_SIZE\n",
        "CHANNELS = [\"B05\", \"B12\"]\n",
        "EPOCH = 4\n",
        "\n",
        "# B01: Coastal aerosol; 60m\n",
        "# B02: Blue; 10m\n",
        "# B03: Green; 10m\n",
        "# B04: Red; 10m\n",
        "# B05: Vegetation red edge; 20m\n",
        "# B06: Vegetation red edge; 20m\n",
        "# B07: Vegetation red edge; 20m\n",
        "# B08: NIR; 10m\n",
        "# B09: Water vapor; 60m\n",
        "# B11: SWIR; 20m\n",
        "# B12: SWIR; 20m\n",
        "# B8A: Narrow NIR; 20m\n",
        "# Reference: https://developers.google.com/earth-engine/datasets/catalog/TUBerlin_BigEarthNet_v1#bands\n",
        "\n",
        "LABEL_MAP = {'Agro-forestry areas':1,\n",
        "           'Airports':0,\n",
        "           'Annual crops associated with permanent crops':1,\n",
        "           'Bare rock':0,\n",
        "           'Beaches, dunes, sands':0,\n",
        "           'Broad-leaved forest':0,\n",
        "           'Burnt areas':0,\n",
        "           'Coastal lagoons':0,\n",
        "           'Complex cultivation patterns':1,\n",
        "           'Coniferous forest':0,\n",
        "           'Construction sites':0,\n",
        "           'Continuous urban fabric':0,\n",
        "           'Discontinuous urban fabric':0,\n",
        "           'Dump sites':0,\n",
        "           'Estuaries':0,\n",
        "           'Fruit trees and berry plantations':1,\n",
        "           'Green urban areas':0,\n",
        "           'Industrial or commercial units':0,\n",
        "           'Inland marshes':0,\n",
        "           'Intertidal flats':0,\n",
        "           'Land principally occupied by agriculture, with significant areas of natural vegetation':1,\n",
        "           'Mineral extraction sites':0,\n",
        "           'Mixed forest':0,\n",
        "           'Moors and heathland':0,\n",
        "           'Natural grassland':0,\n",
        "           'Non-irrigated arable land':0,\n",
        "           'Olive groves':1,\n",
        "           'Pastures':1,\n",
        "           'Peatbogs':0,\n",
        "           'Permanently irrigated land':1,\n",
        "           'Port areas':0,\n",
        "           'Rice fields':1,\n",
        "           'Road and rail networks and associated land':0,\n",
        "           'Salines':0,\n",
        "           'Salt marshes':0,\n",
        "           'Sclerophyllous vegetation':0,\n",
        "           'Sea and ocean':0,\n",
        "           'Sparsely vegetated areas':0,\n",
        "           'Sport and leisure facilities':0,\n",
        "           'Transitional woodland/shrub':0,\n",
        "           'Vineyards':1,\n",
        "           'Water bodies':0,\n",
        "           'Water courses':0\n",
        "           }"
      ],
      "execution_count": 10,
      "outputs": []
    },
    {
      "cell_type": "markdown",
      "metadata": {
        "id": "AHuTIa8DAl8k"
      },
      "source": [
        "### Custom data generator and model building"
      ]
    },
    {
      "cell_type": "code",
      "metadata": {
        "id": "qw-UTde7Al8k"
      },
      "source": [
        "### custom data generator to be used for the stacking approach\n",
        "\n",
        "class Dataset(tf.keras.utils.Sequence):\n",
        "    def __init__(self, data_dir, img_list, label_map, shuffle, channels, batch_size, pixel):\n",
        "        self.img_list = img_list\n",
        "        self.data_dir = data_dir\n",
        "        self.shuffle = shuffle\n",
        "        self.batch_size = batch_size\n",
        "        self.label_map = label_map\n",
        "        self.__on_epoch_end()\n",
        "        self.channels = channels\n",
        "        self.pixel = pixel\n",
        "        # print(channels)\n",
        "\n",
        "    def __len__(self):\n",
        "        # denote the number of batches in an epoch\n",
        "        return int(np.floor(len(self.img_list))/self.batch_size)\n",
        "\n",
        "    def __on_epoch_end(self):\n",
        "        'create and update index of the images in each epoch'\n",
        "        self.indexes = np.arange(len(self.img_list))\n",
        "        if self.shuffle == True:\n",
        "            np.random.shuffle(self.indexes)\n",
        "\n",
        "    def __getitem__(self, index):\n",
        "        indexes = self.indexes[index * self.batch_size: (index + 1) * self.batch_size]\n",
        "\n",
        "        img_list = [self.img_list[i] for i in indexes]\n",
        "        imgs = [self.__load_img(img_path) for img_path in img_list]\n",
        "        # label = [1 for img_path in img_list]\n",
        "        labels =[]\n",
        "\n",
        "        for img_path in img_list:\n",
        "            label = self.__generate_label(img_path, self.data_dir, self.label_map)\n",
        "            labels.append(label)\n",
        "\n",
        "        imgs = np.array(imgs)\n",
        "        labels = np.array(labels)\n",
        "\n",
        "        return imgs, labels\n",
        "\n",
        "\n",
        "    def __generate_label(self, img_path, data_dir, label_map):\n",
        "  \n",
        "        # unroll Json to get label\n",
        "        label_path = os.path.join(data_dir, img_path, img_path + '_labels_metadata.json')\n",
        "        label_data = json.load(open(label_path))\n",
        "\n",
        "        for i in label_data[\"labels\"]:\n",
        "            if label_map[i]==1:\n",
        "                return 1\n",
        "\n",
        "        return 0\n",
        "\n",
        "\n",
        "    def __load_img(self, img_path):\n",
        "\n",
        "        ch_img_list = []\n",
        "\n",
        "        for ch in self.channels:\n",
        "            ch_path = os.path.join(data_dir, img_path, img_path + '_' + ch + '.tif')\n",
        "            ch_img_list.append(imread(ch_path))\n",
        "\n",
        "        img = self.__preprocess(ch_img_list)\n",
        "\n",
        "        return img\n",
        "\n",
        "    def __preprocess(self, channels):\n",
        "\n",
        "        'preprocess and resize channels'\n",
        "\n",
        "        # dimension\n",
        "        dim = (self.pixel,self.pixel)\n",
        "        list_of_ch = []\n",
        "\n",
        "        for k in channels:\n",
        "            mat = cv2.resize(np.array(k), dim)\n",
        "\n",
        "            #print(np.array(k).shape)\n",
        "            list_of_ch.append(mat)\n",
        "\n",
        "        img = np.dstack(list_of_ch)\n",
        "\n",
        "        return img"
      ],
      "execution_count": 11,
      "outputs": []
    },
    {
      "cell_type": "code",
      "metadata": {
        "id": "LVAFhEM_Al8k"
      },
      "source": [
        "data_gen = Dataset(data_dir, img_list, LABEL_MAP, True, CHANNELS, BATCH_SIZE, PIXEL)"
      ],
      "execution_count": 12,
      "outputs": []
    },
    {
      "cell_type": "code",
      "metadata": {
        "jupyter": {
          "outputs_hidden": true
        },
        "id": "nK2jvtFDAl8k",
        "colab": {
          "base_uri": "https://localhost:8080/"
        },
        "outputId": "2826e743-ba50-4680-f093-dc8b4d8dd445"
      },
      "source": [
        "data_gen.__getitem__(0)"
      ],
      "execution_count": 13,
      "outputs": [
        {
          "output_type": "execute_result",
          "data": {
            "text/plain": [
              "(array([[[[1642, 2471],\n",
              "          [1782, 2299],\n",
              "          [1576, 1982],\n",
              "          ...,\n",
              "          [1306, 1509],\n",
              "          [1448, 1641],\n",
              "          [1410, 1656]],\n",
              " \n",
              "         [[1203, 1884],\n",
              "          [1412, 1841],\n",
              "          [1404, 1845],\n",
              "          ...,\n",
              "          [1235, 1417],\n",
              "          [1286, 1466],\n",
              "          [1195, 1383]],\n",
              " \n",
              "         [[1008, 1495],\n",
              "          [1330, 1559],\n",
              "          [1387, 1671],\n",
              "          ...,\n",
              "          [ 816, 1030],\n",
              "          [ 855,  998],\n",
              "          [ 809, 1020]],\n",
              " \n",
              "         ...,\n",
              " \n",
              "         [[1009,  886],\n",
              "          [1092, 1136],\n",
              "          [1122, 1183],\n",
              "          ...,\n",
              "          [ 654,  677],\n",
              "          [ 660,  708],\n",
              "          [ 908,  979]],\n",
              " \n",
              "         [[1000, 1027],\n",
              "          [1111, 1178],\n",
              "          [1056, 1115],\n",
              "          ...,\n",
              "          [ 574,  570],\n",
              "          [ 517,  626],\n",
              "          [1080, 1146]],\n",
              " \n",
              "         [[1467, 1859],\n",
              "          [1158, 1355],\n",
              "          [ 980, 1007],\n",
              "          ...,\n",
              "          [ 577,  566],\n",
              "          [ 542,  730],\n",
              "          [1527, 1555]]],\n",
              " \n",
              " \n",
              "        [[[1671, 2233],\n",
              "          [1314, 1438],\n",
              "          [ 951, 1069],\n",
              "          ...,\n",
              "          [ 521,  490],\n",
              "          [ 622,  553],\n",
              "          [ 667,  714]],\n",
              " \n",
              "         [[1641, 2185],\n",
              "          [1499, 1763],\n",
              "          [1114, 1457],\n",
              "          ...,\n",
              "          [ 610,  569],\n",
              "          [ 639,  650],\n",
              "          [ 647,  652]],\n",
              " \n",
              "         [[1327, 1835],\n",
              "          [1509, 1870],\n",
              "          [1161, 1565],\n",
              "          ...,\n",
              "          [ 529,  484],\n",
              "          [ 617,  649],\n",
              "          [ 622,  661]],\n",
              " \n",
              "         ...,\n",
              " \n",
              "         [[ 386,  417],\n",
              "          [ 492,  516],\n",
              "          [ 505,  675],\n",
              "          ...,\n",
              "          [ 472,  399],\n",
              "          [ 457,  385],\n",
              "          [ 472,  535]],\n",
              " \n",
              "         [[ 465,  535],\n",
              "          [ 719,  785],\n",
              "          [ 742,  877],\n",
              "          ...,\n",
              "          [ 373,  335],\n",
              "          [ 366,  344],\n",
              "          [ 451,  404]],\n",
              " \n",
              "         [[ 508,  577],\n",
              "          [1020, 1409],\n",
              "          [1121, 1696],\n",
              "          ...,\n",
              "          [ 352,  307],\n",
              "          [ 377,  320],\n",
              "          [ 332,  309]]],\n",
              " \n",
              " \n",
              "        [[[ 598,  559],\n",
              "          [ 654,  597],\n",
              "          [ 658,  511],\n",
              "          ...,\n",
              "          [ 641,  475],\n",
              "          [ 616,  480],\n",
              "          [ 579,  501]],\n",
              " \n",
              "         [[ 627,  601],\n",
              "          [ 658,  531],\n",
              "          [ 618,  383],\n",
              "          ...,\n",
              "          [ 692,  444],\n",
              "          [ 693,  481],\n",
              "          [ 683,  489]],\n",
              " \n",
              "         [[ 624,  614],\n",
              "          [ 631,  508],\n",
              "          [ 606,  391],\n",
              "          ...,\n",
              "          [ 731,  474],\n",
              "          [ 732,  492],\n",
              "          [ 742,  470]],\n",
              " \n",
              "         ...,\n",
              " \n",
              "         [[ 463,  428],\n",
              "          [ 461,  402],\n",
              "          [ 489,  452],\n",
              "          ...,\n",
              "          [ 564,  576],\n",
              "          [ 519,  557],\n",
              "          [ 561,  601]],\n",
              " \n",
              "         [[ 431,  370],\n",
              "          [ 455,  404],\n",
              "          [ 518,  466],\n",
              "          ...,\n",
              "          [ 449,  438],\n",
              "          [ 515,  508],\n",
              "          [ 532,  521]],\n",
              " \n",
              "         [[ 472,  405],\n",
              "          [ 494,  439],\n",
              "          [ 527,  473],\n",
              "          ...,\n",
              "          [ 492,  439],\n",
              "          [ 536,  516],\n",
              "          [ 505,  454]]],\n",
              " \n",
              " \n",
              "        ...,\n",
              " \n",
              " \n",
              "        [[[4268,  704],\n",
              "          [4233,  845],\n",
              "          [3999,  876],\n",
              "          ...,\n",
              "          [7903, 1139],\n",
              "          [7691, 1149],\n",
              "          [7333, 1190]],\n",
              " \n",
              "         [[4257,  778],\n",
              "          [4090,  888],\n",
              "          [3907,  838],\n",
              "          ...,\n",
              "          [7818, 1168],\n",
              "          [7467, 1186],\n",
              "          [7182, 1196]],\n",
              " \n",
              "         [[4106,  852],\n",
              "          [3978,  889],\n",
              "          [3858,  868],\n",
              "          ...,\n",
              "          [7979, 1134],\n",
              "          [7392, 1201],\n",
              "          [7210, 1208]],\n",
              " \n",
              "         ...,\n",
              " \n",
              "         [[7454, 1188],\n",
              "          [7154, 1211],\n",
              "          [7122, 1191],\n",
              "          ...,\n",
              "          [6461, 1179],\n",
              "          [6605, 1226],\n",
              "          [6865, 1209]],\n",
              " \n",
              "         [[7373, 1181],\n",
              "          [7182, 1194],\n",
              "          [6899, 1183],\n",
              "          ...,\n",
              "          [6240, 1172],\n",
              "          [6476, 1209],\n",
              "          [6891, 1204]],\n",
              " \n",
              "         [[7372, 1154],\n",
              "          [6598, 1125],\n",
              "          [6831, 1126],\n",
              "          ...,\n",
              "          [6157, 1170],\n",
              "          [6440, 1192],\n",
              "          [6911, 1212]]],\n",
              " \n",
              " \n",
              "        [[[1152, 1377],\n",
              "          [1442, 1850],\n",
              "          [1622, 2184],\n",
              "          ...,\n",
              "          [1348, 1342],\n",
              "          [1265, 1161],\n",
              "          [1356, 1050]],\n",
              " \n",
              "         [[ 992, 1250],\n",
              "          [1081, 1401],\n",
              "          [1411, 1814],\n",
              "          ...,\n",
              "          [1336, 1158],\n",
              "          [1331, 1119],\n",
              "          [1369, 1108]],\n",
              " \n",
              "         [[1424, 1618],\n",
              "          [1113, 1368],\n",
              "          [1046, 1330],\n",
              "          ...,\n",
              "          [1224, 1139],\n",
              "          [1204, 1153],\n",
              "          [1187, 1159]],\n",
              " \n",
              "         ...,\n",
              " \n",
              "         [[1149,  870],\n",
              "          [1214,  856],\n",
              "          [1176,  860],\n",
              "          ...,\n",
              "          [1133,  849],\n",
              "          [1083,  856],\n",
              "          [1011,  878]],\n",
              " \n",
              "         [[1231,  894],\n",
              "          [1207,  870],\n",
              "          [1195,  860],\n",
              "          ...,\n",
              "          [1067,  842],\n",
              "          [1094,  874],\n",
              "          [1155,  891]],\n",
              " \n",
              "         [[1231,  918],\n",
              "          [1240,  914],\n",
              "          [1195,  876],\n",
              "          ...,\n",
              "          [1073,  853],\n",
              "          [1184,  866],\n",
              "          [1227,  887]]],\n",
              " \n",
              " \n",
              "        [[[2003, 2669],\n",
              "          [1635, 2361],\n",
              "          [1547, 2244],\n",
              "          ...,\n",
              "          [1770, 2631],\n",
              "          [1834, 2932],\n",
              "          [2031, 3068]],\n",
              " \n",
              "         [[1551, 2129],\n",
              "          [1610, 2279],\n",
              "          [1584, 2399],\n",
              "          ...,\n",
              "          [1460, 2351],\n",
              "          [1846, 2791],\n",
              "          [2016, 3043]],\n",
              " \n",
              "         [[1511, 2084],\n",
              "          [1631, 2417],\n",
              "          [1714, 2636],\n",
              "          ...,\n",
              "          [1525, 2335],\n",
              "          [2031, 2948],\n",
              "          [2153, 3164]],\n",
              " \n",
              "         ...,\n",
              " \n",
              "         [[1331, 1660],\n",
              "          [1169, 1463],\n",
              "          [1395, 1547],\n",
              "          ...,\n",
              "          [1269, 1637],\n",
              "          [1140, 1508],\n",
              "          [1256, 1615]],\n",
              " \n",
              "         [[1129, 1443],\n",
              "          [1505, 1808],\n",
              "          [1624, 1906],\n",
              "          ...,\n",
              "          [1365, 2015],\n",
              "          [1154, 1611],\n",
              "          [1172, 1455]],\n",
              " \n",
              "         [[1535, 1681],\n",
              "          [1915, 2260],\n",
              "          [1826, 2219],\n",
              "          ...,\n",
              "          [1390, 1904],\n",
              "          [1215, 1612],\n",
              "          [1071, 1445]]]], dtype=uint16),\n",
              " array([1, 1, 0, 1, 1, 1, 1, 1, 0, 1, 0, 1, 1, 0, 0, 1, 1, 0, 1, 0, 1, 1,\n",
              "        0, 1, 0, 1, 1, 1, 0, 0, 1, 0]))"
            ]
          },
          "metadata": {
            "tags": []
          },
          "execution_count": 13
        }
      ]
    },
    {
      "cell_type": "code",
      "metadata": {
        "id": "1N0cigaOAl8k"
      },
      "source": [
        "img, label = data_gen.__getitem__(0)"
      ],
      "execution_count": 14,
      "outputs": []
    },
    {
      "cell_type": "code",
      "metadata": {
        "id": "ygxbK9nnAl8k",
        "colab": {
          "base_uri": "https://localhost:8080/"
        },
        "outputId": "b0614519-ea32-479a-d277-5075b5f07166"
      },
      "source": [
        "print(img.shape)\n",
        "print(label.shape)"
      ],
      "execution_count": 15,
      "outputs": [
        {
          "output_type": "stream",
          "text": [
            "(32, 60, 60, 2)\n",
            "(32,)\n"
          ],
          "name": "stdout"
        }
      ]
    },
    {
      "cell_type": "code",
      "metadata": {
        "id": "pvJnluIUAl8k",
        "colab": {
          "base_uri": "https://localhost:8080/"
        },
        "outputId": "a3c450d4-2307-4e05-88dd-723d60bf5eb5"
      },
      "source": [
        "## Model setup\n",
        "\n",
        "orig_model = tf.keras.applications.ResNet50V2(include_top=True, weights=None, pooling = \"avg\", classes=1, classifier_activation='sigmoid')\n",
        "\n",
        "dense_input = None\n",
        "out = None\n",
        "\n",
        "if len(CHANNELS) >= 9:\n",
        "    # apply 2 additional feature maps (i.e., conv layers) to\n",
        "    # graudally step down the informational filtering\n",
        "    # why >= 9? because it's 3^2 \n",
        "    dense_input = tf.keras.layers.Input(shape=(PIXEL, PIXEL, len(CHANNELS)))\n",
        "    dense_filter = tf.keras.layers.Conv2D(6, 3, padding='same')(dense_input)\n",
        "    dense_filter = tf.keras.layers.Conv2D(3, 3, padding='same')(dense_input)\n",
        "    out = orig_model(dense_filter)\n",
        "elif len(CHANNELS) == 3:\n",
        "    dense_input = tf.keras.layers.Input(shape=(PIXEL, PIXEL, 3))\n",
        "    out = orig_model(dense_input)\n",
        "else:\n",
        "    dense_input = tf.keras.layers.Input(shape=(PIXEL, PIXEL, len(CHANNELS)))\n",
        "    dense_filter = tf.keras.layers.Conv2D(3, 3, padding='same')(dense_input)\n",
        "    out = orig_model(dense_filter)\n",
        "\n",
        "model = tf.keras.Model(dense_input, out)\n",
        "model.summary()"
      ],
      "execution_count": 16,
      "outputs": [
        {
          "output_type": "stream",
          "text": [
            "WARNING:tensorflow:Model was constructed with shape (None, 224, 224, 3) for input Tensor(\"input_1:0\", shape=(None, 224, 224, 3), dtype=float32), but it was called on an input with incompatible shape (None, 60, 60, 3).\n",
            "Model: \"functional_1\"\n",
            "_________________________________________________________________\n",
            "Layer (type)                 Output Shape              Param #   \n",
            "=================================================================\n",
            "input_2 (InputLayer)         [(None, 60, 60, 2)]       0         \n",
            "_________________________________________________________________\n",
            "conv2d (Conv2D)              (None, 60, 60, 3)         57        \n",
            "_________________________________________________________________\n",
            "resnet50v2 (Functional)      (None, 1)                 23566849  \n",
            "=================================================================\n",
            "Total params: 23,566,906\n",
            "Trainable params: 23,521,466\n",
            "Non-trainable params: 45,440\n",
            "_________________________________________________________________\n"
          ],
          "name": "stdout"
        }
      ]
    },
    {
      "cell_type": "code",
      "metadata": {
        "id": "PmS40B_hAl8k"
      },
      "source": [
        "# compile the model\n",
        "model.compile(optimizer='adam', loss='binary_crossentropy', metrics=['accuracy','Precision','Recall'])"
      ],
      "execution_count": 17,
      "outputs": []
    },
    {
      "cell_type": "markdown",
      "metadata": {
        "id": "KLKTu3ChAl8k"
      },
      "source": [
        "### Data split and model training"
      ]
    },
    {
      "cell_type": "code",
      "metadata": {
        "id": "TPWimAGIAl8k"
      },
      "source": [
        "# split train and test datasets\n",
        "train_list = img_list[:int(len(img_list)*0.8)]\n",
        "test_list = img_list[int(len(img_list)*0.8):]\n",
        "\n",
        "data_train = Dataset(data_dir, train_list, LABEL_MAP, True, CHANNELS, BATCH_SIZE, PIXEL)\n",
        "data_test = Dataset(data_dir, test_list, LABEL_MAP, False, CHANNELS, BATCH_SIZE, PIXEL)"
      ],
      "execution_count": 18,
      "outputs": []
    },
    {
      "cell_type": "code",
      "metadata": {
        "id": "ZRqFnMWFAl8k",
        "colab": {
          "base_uri": "https://localhost:8080/"
        },
        "outputId": "0fae64c6-6af5-432a-8fa2-9ee11754abf5"
      },
      "source": [
        "start_time = time.time()\n",
        "history = model.fit(data_train, validation_data=data_test, epochs=EPOCH)"
      ],
      "execution_count": 19,
      "outputs": [
        {
          "output_type": "stream",
          "text": [
            "Epoch 1/4\n",
            "WARNING:tensorflow:Model was constructed with shape (None, 224, 224, 3) for input Tensor(\"input_1:0\", shape=(None, 224, 224, 3), dtype=float32), but it was called on an input with incompatible shape (None, 60, 60, 3).\n",
            "WARNING:tensorflow:Model was constructed with shape (None, 224, 224, 3) for input Tensor(\"input_1:0\", shape=(None, 224, 224, 3), dtype=float32), but it was called on an input with incompatible shape (None, 60, 60, 3).\n",
            "14758/14758 [==============================] - ETA: 0s - loss: 0.4650 - accuracy: 0.7842 - precision: 0.7569 - recall: 0.8264WARNING:tensorflow:Model was constructed with shape (None, 224, 224, 3) for input Tensor(\"input_1:0\", shape=(None, 224, 224, 3), dtype=float32), but it was called on an input with incompatible shape (None, 60, 60, 3).\n",
            "14758/14758 [==============================] - 3315s 225ms/step - loss: 0.4650 - accuracy: 0.7842 - precision: 0.7569 - recall: 0.8264 - val_loss: 0.4467 - val_accuracy: 0.7852 - val_precision: 0.8240 - val_recall: 0.7137\n",
            "Epoch 2/4\n",
            "14758/14758 [==============================] - 3380s 229ms/step - loss: 0.4186 - accuracy: 0.8064 - precision: 0.7830 - recall: 0.8384 - val_loss: 0.4438 - val_accuracy: 0.7985 - val_precision: 0.8062 - val_recall: 0.7747\n",
            "Epoch 3/4\n",
            "14758/14758 [==============================] - 3344s 227ms/step - loss: 0.3979 - accuracy: 0.8166 - precision: 0.7947 - recall: 0.8451 - val_loss: 0.3975 - val_accuracy: 0.8144 - val_precision: 0.8219 - val_recall: 0.7927\n",
            "Epoch 4/4\n",
            "14758/14758 [==============================] - 3341s 226ms/step - loss: 0.3849 - accuracy: 0.8232 - precision: 0.8017 - recall: 0.8507 - val_loss: 0.4856 - val_accuracy: 0.7569 - val_precision: 0.8044 - val_recall: 0.6652\n"
          ],
          "name": "stdout"
        }
      ]
    },
    {
      "cell_type": "code",
      "metadata": {
        "id": "UxcOh7UCAl8l",
        "colab": {
          "base_uri": "https://localhost:8080/"
        },
        "outputId": "eacb9ecd-a5fc-4fed-de29-c9b7cd081260"
      },
      "source": [
        "end_time = time.time()\n",
        "print(\"--- %s seconds ---\" % (end_time - start_time))\n",
        "print(\"training completed\")"
      ],
      "execution_count": 20,
      "outputs": [
        {
          "output_type": "stream",
          "text": [
            "--- 13392.589995622635 seconds ---\n",
            "training completed\n"
          ],
          "name": "stdout"
        }
      ]
    },
    {
      "cell_type": "code",
      "metadata": {
        "id": "p3xHqWTWAl8l",
        "colab": {
          "base_uri": "https://localhost:8080/"
        },
        "outputId": "af691677-7f48-4767-f778-e7e731347f47"
      },
      "source": [
        "start_time = time.time()\n",
        "evaluation = model.evaluate(data_test, batch_size=BATCH_SIZE)"
      ],
      "execution_count": 21,
      "outputs": [
        {
          "output_type": "stream",
          "text": [
            "3689/3689 [==============================] - 552s 150ms/step - loss: 0.4856 - accuracy: 0.7569 - precision: 0.8044 - recall: 0.6652\n"
          ],
          "name": "stdout"
        }
      ]
    },
    {
      "cell_type": "code",
      "metadata": {
        "id": "SM4i-1ImAl8l",
        "colab": {
          "base_uri": "https://localhost:8080/"
        },
        "outputId": "13063793-a361-484a-e687-4cfce12f89fc"
      },
      "source": [
        "end_time = time.time()\n",
        "print(\"--- %s seconds ---\" % (end_time - start_time))\n",
        "print(\"evaluation completed\")"
      ],
      "execution_count": 22,
      "outputs": [
        {
          "output_type": "stream",
          "text": [
            "--- 552.4428091049194 seconds ---\n",
            "evaluation completed\n"
          ],
          "name": "stdout"
        }
      ]
    },
    {
      "cell_type": "markdown",
      "metadata": {
        "id": "yDMHvkejAl8l"
      },
      "source": [
        "### Training outcome"
      ]
    },
    {
      "cell_type": "code",
      "metadata": {
        "id": "dgFTYLz4Al8l",
        "colab": {
          "base_uri": "https://localhost:8080/",
          "height": 590
        },
        "outputId": "d459b14d-9cbd-4a43-dfbf-e2511c472cc7"
      },
      "source": [
        "# list all data in history\n",
        "print(history.history.keys())\n",
        "# summarize history for accuracy\n",
        "plt.plot(history.history['accuracy'])\n",
        "plt.plot(history.history['val_accuracy'])\n",
        "plt.title('model accuracy')\n",
        "plt.ylabel('accuracy')\n",
        "plt.xlabel('epoch')\n",
        "plt.legend(['train', 'test'], loc='upper left')\n",
        "plt.show()\n",
        "# summarize history for loss\n",
        "plt.plot(history.history['loss'])\n",
        "plt.plot(history.history['val_loss'])\n",
        "plt.title('model loss')\n",
        "plt.ylabel('loss')\n",
        "plt.xlabel('epoch')\n",
        "plt.legend(['train', 'test'], loc='upper left')\n",
        "plt.show()"
      ],
      "execution_count": 23,
      "outputs": [
        {
          "output_type": "stream",
          "text": [
            "dict_keys(['loss', 'accuracy', 'precision', 'recall', 'val_loss', 'val_accuracy', 'val_precision', 'val_recall'])\n"
          ],
          "name": "stdout"
        },
        {
          "output_type": "display_data",
          "data": {
            "image/png": "[encoded data removed]",
            "text/plain": [
              "<Figure size 432x288 with 1 Axes>"
            ]
          },
          "metadata": {
            "tags": [],
            "needs_background": "light"
          }
        },
        {
          "output_type": "display_data",
          "data": {
            "image/png": "[encoded data removed]",
            "text/plain": [
              "<Figure size 432x288 with 1 Axes>"
            ]
          },
          "metadata": {
            "tags": [],
            "needs_background": "light"
          }
        }
      ]
    },
    {
      "cell_type": "code",
      "metadata": {
        "id": "vz-f-6Z-Al8l",
        "colab": {
          "base_uri": "https://localhost:8080/"
        },
        "outputId": "341708eb-1f14-4556-c40c-5f2f51ca7de4"
      },
      "source": [
        "print(\"Training Output\")\n",
        "print(\"accuracy: \", history.history['accuracy'])\n",
        "print(\"precision: \", history.history['precision'])\n",
        "print(\"recall: \", history.history['recall'])\n",
        "print(\"loss: \", history.history['loss'])"
      ],
      "execution_count": 24,
      "outputs": [
        {
          "output_type": "stream",
          "text": [
            "Training Output\n",
            "accuracy:  [0.7842208743095398, 0.8063613772392273, 0.8165846467018127, 0.8232123851776123]\n",
            "precision:  [0.7568675875663757, 0.782950222492218, 0.7946723103523254, 0.8017071485519409]\n",
            "recall:  [0.8263861536979675, 0.8383947014808655, 0.8451465964317322, 0.8506661653518677]\n",
            "loss:  [0.46501874923706055, 0.4185592234134674, 0.3978990912437439, 0.3848758339881897]\n"
          ],
          "name": "stdout"
        }
      ]
    },
    {
      "cell_type": "code",
      "metadata": {
        "id": "tbvaYkmQAl8l",
        "colab": {
          "base_uri": "https://localhost:8080/"
        },
        "outputId": "dad067b5-3df6-4a56-e560-7864a66bc6b2"
      },
      "source": [
        "print(\"Validation Output\")\n",
        "print(\"accuracy: \", evaluation[1])\n",
        "print(\"precision: \", evaluation[2])\n",
        "print(\"recall: \", evaluation[3])\n",
        "print(\"loss: \", evaluation[0])"
      ],
      "execution_count": 25,
      "outputs": [
        {
          "output_type": "stream",
          "text": [
            "Validation Output\n",
            "accuracy:  0.7569209337234497\n",
            "precision:  0.8044155836105347\n",
            "recall:  0.6651726961135864\n",
            "loss:  0.48561158776283264\n"
          ],
          "name": "stdout"
        }
      ]
    },
    {
      "cell_type": "markdown",
      "metadata": {
        "id": "a8yE5l7GAl8l"
      },
      "source": [
        "### Agricultural Label Counts"
      ]
    },
    {
      "cell_type": "code",
      "metadata": {
        "id": "ZivcADGoAl8l"
      },
      "source": [
        "def count_label(data_gen, batch_count):\n",
        "    agri_count = 0\n",
        "    for i in range(batch_count):\n",
        "        _, label = data_gen.__getitem__(i)\n",
        "        batch_agri_count = np.sum(label)\n",
        "        agri_count += batch_agri_count\n",
        "        if i%1000 == 0:\n",
        "              print('Accumulated counts of the agicultural label in batch ', i, ' is ', agri_count)\n",
        "\n",
        "    return agri_count"
      ],
      "execution_count": 26,
      "outputs": []
    },
    {
      "cell_type": "code",
      "metadata": {
        "id": "B3r4FPSwAl8l",
        "colab": {
          "base_uri": "https://localhost:8080/"
        },
        "outputId": "8574b2f9-9b2b-46cd-b076-08f52c3d9467"
      },
      "source": [
        "print(\"Total batches to be counted is \", BATCH_COUNT)"
      ],
      "execution_count": 27,
      "outputs": [
        {
          "output_type": "stream",
          "text": [
            "Total batches to be counted is  18447\n"
          ],
          "name": "stdout"
        }
      ]
    },
    {
      "cell_type": "code",
      "metadata": {
        "id": "VupiC0WmAl8l",
        "colab": {
          "base_uri": "https://localhost:8080/"
        },
        "outputId": "56617428-c010-4348-dc09-63a01a43868a"
      },
      "source": [
        "print(\"Total agricultural labels in the data set is \", count_label(data_gen, BATCH_COUNT))\n",
        "print(\"The total image patches \", len(os.listdir(data_dir)))"
      ],
      "execution_count": 28,
      "outputs": [
        {
          "output_type": "stream",
          "text": [
            "Accumulated counts of the agicultural label in batch  0  is  20\n",
            "Accumulated counts of the agicultural label in batch  1000  is  15745\n",
            "Accumulated counts of the agicultural label in batch  2000  is  31478\n",
            "Accumulated counts of the agicultural label in batch  3000  is  47115\n",
            "Accumulated counts of the agicultural label in batch  4000  is  62719\n",
            "Accumulated counts of the agicultural label in batch  5000  is  78544\n",
            "Accumulated counts of the agicultural label in batch  6000  is  94130\n",
            "Accumulated counts of the agicultural label in batch  7000  is  109903\n",
            "Accumulated counts of the agicultural label in batch  8000  is  125680\n",
            "Accumulated counts of the agicultural label in batch  9000  is  141494\n",
            "Accumulated counts of the agicultural label in batch  10000  is  157120\n",
            "Accumulated counts of the agicultural label in batch  11000  is  172892\n",
            "Accumulated counts of the agicultural label in batch  12000  is  188478\n",
            "Accumulated counts of the agicultural label in batch  13000  is  204177\n",
            "Accumulated counts of the agicultural label in batch  14000  is  219783\n",
            "Accumulated counts of the agicultural label in batch  15000  is  235467\n",
            "Accumulated counts of the agicultural label in batch  16000  is  251103\n",
            "Accumulated counts of the agicultural label in batch  17000  is  266929\n",
            "Accumulated counts of the agicultural label in batch  18000  is  282775\n",
            "Total agricultural labels in the data set is  289872\n",
            "The total image patches  590326\n"
          ],
          "name": "stdout"
        }
      ]
    }
  ]
}