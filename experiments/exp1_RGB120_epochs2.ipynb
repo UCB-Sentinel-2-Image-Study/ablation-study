{
 "cells": [
  {
   "cell_type": "markdown",
   "metadata": {},
   "source": [
    "### Environment and library settings"
   ]
  },
  {
   "cell_type": "code",
   "execution_count": 20,
   "metadata": {},
   "outputs": [],
   "source": [
    "from pathlib import Path\n",
    "from PIL import Image, ImageShow\n",
    "import numpy as np\n",
    "import matplotlib.pyplot as plt\n",
    "import json\n",
    "import pandas as pd\n",
    "import cv2\n",
    "from skimage.transform import resize\n",
    "from tifffile import imread\n",
    "import time"
   ]
  },
  {
   "cell_type": "code",
   "execution_count": 2,
   "metadata": {},
   "outputs": [
    {
     "data": {
      "text/plain": [
       "'2.3.0'"
      ]
     },
     "execution_count": 2,
     "metadata": {},
     "output_type": "execute_result"
    }
   ],
   "source": [
    "import tensorflow as tf\n",
    "tf.__version__"
   ]
  },
  {
   "cell_type": "code",
   "execution_count": 3,
   "metadata": {},
   "outputs": [
    {
     "name": "stdout",
     "output_type": "stream",
     "text": [
      "/home/jupyter\n"
     ]
    }
   ],
   "source": [
    "!pwd"
   ]
  },
  {
   "cell_type": "code",
   "execution_count": 4,
   "metadata": {},
   "outputs": [
    {
     "data": {
      "text/plain": [
       "['.config',\n",
       " '.nv',\n",
       " '.ipython',\n",
       " 'bigearthnet_model_Resnet50v2-RGB60_epochs2.ipynb',\n",
       " '.cache',\n",
       " '.jupyter',\n",
       " 'bigearthnet_model_Resnet50v2-RGB60_plus_all_NIRs_SWIRs_epochs2.ipynb',\n",
       " 'data',\n",
       " 'tutorials',\n",
       " '.bash_history',\n",
       " '.ipynb_checkpoints',\n",
       " '.local',\n",
       " 'bigearthnet_model_Resnet50v2_RGB120_epochs2.ipynb',\n",
       " '.keras',\n",
       " 'exploration.ipynb',\n",
       " 'bigearthnet_model.ipynb',\n",
       " 'check_gpu.ipynb',\n",
       " '.docker']"
      ]
     },
     "execution_count": 4,
     "metadata": {},
     "output_type": "execute_result"
    }
   ],
   "source": [
    "import os\n",
    "os.listdir('/home/jupyter')"
   ]
  },
  {
   "cell_type": "code",
   "execution_count": 5,
   "metadata": {},
   "outputs": [
    {
     "name": "stdout",
     "output_type": "stream",
     "text": [
      "Num GPUs Available:  1\n"
     ]
    }
   ],
   "source": [
    "import tensorflow as tf\n",
    "print(\"Num GPUs Available: \", len(tf.config.experimental.list_physical_devices('GPU')))"
   ]
  },
  {
   "cell_type": "code",
   "execution_count": 6,
   "metadata": {},
   "outputs": [
    {
     "data": {
      "text/plain": [
       "'S2A_MSIL2A_20170617T113321_26_63'"
      ]
     },
     "execution_count": 6,
     "metadata": {},
     "output_type": "execute_result"
    }
   ],
   "source": [
    "next(os.walk('/home/jupyter/data/BigEarthNet-v1.0'))[1][0]"
   ]
  },
  {
   "cell_type": "code",
   "execution_count": 7,
   "metadata": {},
   "outputs": [
    {
     "data": {
      "text/plain": [
       "['S2B_MSIL2A_20180525T94030_55_37_B06.tif',\n",
       " 'S2B_MSIL2A_20180525T94030_55_37_B05.tif',\n",
       " 'S2B_MSIL2A_20180525T94030_55_37_B02.tif',\n",
       " 'S2B_MSIL2A_20180525T94030_55_37_B8A.tif',\n",
       " 'S2B_MSIL2A_20180525T94030_55_37_B12.tif',\n",
       " 'S2B_MSIL2A_20180525T94030_55_37_B03.tif',\n",
       " 'S2B_MSIL2A_20180525T94030_55_37_B04.tif',\n",
       " 'S2B_MSIL2A_20180525T94030_55_37_labels_metadata.json',\n",
       " 'S2B_MSIL2A_20180525T94030_55_37_B08.tif',\n",
       " 'S2B_MSIL2A_20180525T94030_55_37_B01.tif',\n",
       " 'S2B_MSIL2A_20180525T94030_55_37_B11.tif',\n",
       " 'S2B_MSIL2A_20180525T94030_55_37_B09.tif',\n",
       " 'S2B_MSIL2A_20180525T94030_55_37_B07.tif']"
      ]
     },
     "execution_count": 7,
     "metadata": {},
     "output_type": "execute_result"
    }
   ],
   "source": [
    "os.listdir('/home/jupyter/data/BigEarthNet-v1.0/S2B_MSIL2A_20180525T94030_55_37/')"
   ]
  },
  {
   "cell_type": "code",
   "execution_count": 8,
   "metadata": {},
   "outputs": [],
   "source": [
    "data_dir = \"/home/jupyter/data/BigEarthNet-v1.0\""
   ]
  },
  {
   "cell_type": "code",
   "execution_count": 9,
   "metadata": {},
   "outputs": [
    {
     "data": {
      "text/plain": [
       "['S2A_MSIL2A_20170617T113321_26_63',\n",
       " 'S2B_MSIL2A_20170930T095019_61_18',\n",
       " 'S2B_MSIL2A_20180421T100030_47_74',\n",
       " 'S2A_MSIL2A_20171002T094031_82_49',\n",
       " 'S2B_MSIL2A_20180511T100029_37_18',\n",
       " 'S2A_MSIL2A_20171002T112111_36_14',\n",
       " 'S2B_MSIL2A_20180525T94030_55_37',\n",
       " 'S2A_MSIL2A_20180225T114351_15_84',\n",
       " 'S2A_MSIL2A_20180506T100031_85_20',\n",
       " 'S2A_MSIL2A_20171101T094131_25_54']"
      ]
     },
     "execution_count": 9,
     "metadata": {},
     "output_type": "execute_result"
    }
   ],
   "source": [
    "img_list = os.listdir(data_dir)\n",
    "img_list[0:10]"
   ]
  },
  {
   "cell_type": "code",
   "execution_count": 10,
   "metadata": {},
   "outputs": [
    {
     "name": "stdout",
     "output_type": "stream",
     "text": [
      "The total image patches  590326\n"
     ]
    }
   ],
   "source": [
    "print(\"The total image patches \", len(os.listdir(data_dir)))"
   ]
  },
  {
   "cell_type": "markdown",
   "metadata": {},
   "source": [
    "### Configuring the model parameters and constant variables"
   ]
  },
  {
   "cell_type": "code",
   "execution_count": 11,
   "metadata": {},
   "outputs": [],
   "source": [
    "PIXEL = 120\n",
    "BATCH_SIZE = 32\n",
    "BATCH_COUNT = len(img_list)//BATCH_SIZE\n",
    "CHANNELS = [\"B04\",\"B03\",\"B02\"]\n",
    "\n",
    "# B01: Coastal aerosol; 60m\n",
    "# B02: Blue; 10m\n",
    "# B03: Green; 10m\n",
    "# B04: Red; 10m\n",
    "# B05: Vegetation red edge; 20m\n",
    "# B06: Vegetation red edge; 20m\n",
    "# B07: Vegetation red edge; 20m\n",
    "# B08: NIR; 10m\n",
    "# B09: Water vapor; 60m\n",
    "# B11: SWIR; 20m\n",
    "# B12: SWIR; 20m\n",
    "# B8A: Narrow NIR; 20m\n",
    "\n",
    "LABEL_MAP = {'Agro-forestry areas':1,\n",
    "           'Airports':0,\n",
    "           'Annual crops associated with permanent crops':1,\n",
    "           'Bare rock':0,\n",
    "           'Beaches, dunes, sands':0,\n",
    "           'Broad-leaved forest':0,\n",
    "           'Burnt areas':0,\n",
    "           'Coastal lagoons':0,\n",
    "           'Complex cultivation patterns':1,\n",
    "           'Coniferous forest':0,\n",
    "           'Construction sites':0,\n",
    "           'Continuous urban fabric':0,\n",
    "           'Discontinuous urban fabric':0,\n",
    "           'Dump sites':0,\n",
    "           'Estuaries':0,\n",
    "           'Fruit trees and berry plantations':1,\n",
    "           'Green urban areas':0,\n",
    "           'Industrial or commercial units':0,\n",
    "           'Inland marshes':0,\n",
    "           'Intertidal flats':0,\n",
    "           'Land principally occupied by agriculture, with significant areas of natural vegetation':1,\n",
    "           'Mineral extraction sites':0,\n",
    "           'Mixed forest':0,\n",
    "           'Moors and heathland':0,\n",
    "           'Natural grassland':0,\n",
    "           'Non-irrigated arable land':0,\n",
    "           'Olive groves':1,\n",
    "           'Pastures':1,\n",
    "           'Peatbogs':0,\n",
    "           'Permanently irrigated land':1,\n",
    "           'Port areas':0,\n",
    "           'Rice fields':1,\n",
    "           'Road and rail networks and associated land':0,\n",
    "           'Salines':0,\n",
    "           'Salt marshes':0,\n",
    "           'Sclerophyllous vegetation':0,\n",
    "           'Sea and ocean':0,\n",
    "           'Sparsely vegetated areas':0,\n",
    "           'Sport and leisure facilities':0,\n",
    "           'Transitional woodland/shrub':0,\n",
    "           'Vineyards':1,\n",
    "           'Water bodies':0,\n",
    "           'Water courses':0\n",
    "           }"
   ]
  },
  {
   "cell_type": "code",
   "execution_count": 12,
   "metadata": {},
   "outputs": [],
   "source": [
    "### custom data generator to be used for the stacking approach\n",
    "\n",
    "class Dataset(tf.keras.utils.Sequence):\n",
    "    def __init__(self, data_dir, img_list, label_map, shuffle, channels, batch_size, pixel):\n",
    "        self.img_list = img_list\n",
    "        self.data_dir = data_dir\n",
    "        self.shuffle = shuffle\n",
    "        self.batch_size = batch_size\n",
    "        self.label_map = label_map\n",
    "        self.__on_epoch_end()\n",
    "        self.channels = channels\n",
    "        self.pixel = pixel\n",
    "        # print(channels)\n",
    "\n",
    "    def __len__(self):\n",
    "        # denote the number of batches in an epoch\n",
    "        return int(np.floor(len(self.img_list))/self.batch_size)\n",
    "\n",
    "    def __on_epoch_end(self):\n",
    "        'create and update index of the images in each epoch'\n",
    "        self.indexes = np.arange(len(self.img_list))\n",
    "        if self.shuffle == True:\n",
    "            np.random.shuffle(self.indexes)\n",
    "\n",
    "    def __getitem__(self, index):\n",
    "        indexes = self.indexes[index * self.batch_size: (index + 1) * self.batch_size]\n",
    "\n",
    "        img_list = [self.img_list[i] for i in indexes]\n",
    "        imgs = [self.__load_img(img_path) for img_path in img_list]\n",
    "        # label = [1 for img_path in img_list]\n",
    "        labels =[]\n",
    "\n",
    "        for img_path in img_list:\n",
    "            label = self.__generate_label(img_path, self.data_dir, self.label_map)\n",
    "            labels.append(label)\n",
    "\n",
    "        imgs = np.array(imgs)\n",
    "        labels = np.array(labels)\n",
    "\n",
    "        return imgs, labels\n",
    "\n",
    "\n",
    "    def __generate_label(self, img_path, data_dir, label_map):\n",
    "  \n",
    "        # unroll Json to get label\n",
    "        label_path = os.path.join(data_dir, img_path, img_path + '_labels_metadata.json')\n",
    "        label_data = json.load(open(label_path))\n",
    "\n",
    "        for i in label_data[\"labels\"]:\n",
    "            if label_map[i]==1:\n",
    "                return 1\n",
    "\n",
    "        return 0\n",
    "\n",
    "\n",
    "    def __load_img(self, img_path):\n",
    "\n",
    "        ch_img_list = []\n",
    "\n",
    "        for ch in self.channels:\n",
    "            ch_path = os.path.join(data_dir, img_path, img_path + '_' + ch + '.tif')\n",
    "            ch_img_list.append(imread(ch_path))\n",
    "\n",
    "        img = self.__preprocess(ch_img_list)\n",
    "\n",
    "        return img\n",
    "\n",
    "    def __preprocess(self, channels):\n",
    "\n",
    "        'preprocess and resize channels'\n",
    "\n",
    "        # dimension\n",
    "        dim = (self.pixel,self.pixel)\n",
    "        list_of_ch = []\n",
    "\n",
    "        for k in channels:\n",
    "            mat = cv2.resize(np.array(k), dim)\n",
    "\n",
    "            #print(np.array(k).shape)\n",
    "            list_of_ch.append(mat)\n",
    "\n",
    "        img = np.dstack(list_of_ch)\n",
    "\n",
    "        return img"
   ]
  },
  {
   "cell_type": "code",
   "execution_count": 13,
   "metadata": {},
   "outputs": [],
   "source": [
    "data_gen = Dataset(data_dir, img_list, LABEL_MAP, True, CHANNELS, BATCH_SIZE, PIXEL)"
   ]
  },
  {
   "cell_type": "code",
   "execution_count": 15,
   "metadata": {
    "collapsed": true,
    "jupyter": {
     "outputs_hidden": true
    }
   },
   "outputs": [
    {
     "data": {
      "text/plain": [
       "(array([[[[ 709,  865,  490],\n",
       "          [ 682,  848,  490],\n",
       "          [ 673,  830,  490],\n",
       "          ...,\n",
       "          [ 513,  687,  425],\n",
       "          [ 506,  689,  423],\n",
       "          [ 571,  758,  426]],\n",
       " \n",
       "         [[ 669,  833,  488],\n",
       "          [ 682,  824,  470],\n",
       "          [ 680,  850,  454],\n",
       "          ...,\n",
       "          [ 492,  660,  422],\n",
       "          [ 494,  703,  407],\n",
       "          [ 595,  710,  413]],\n",
       " \n",
       "         [[ 644,  830,  464],\n",
       "          [ 649,  819,  492],\n",
       "          [ 660,  852,  493],\n",
       "          ...,\n",
       "          [ 493,  663,  410],\n",
       "          [ 505,  695,  417],\n",
       "          [ 617,  732,  457]],\n",
       " \n",
       "         ...,\n",
       " \n",
       "         [[ 766,  804,  503],\n",
       "          [ 648,  738,  443],\n",
       "          [ 599,  767,  477],\n",
       "          ...,\n",
       "          [ 899, 1046,  666],\n",
       "          [ 865, 1051,  674],\n",
       "          [ 843, 1030,  636]],\n",
       " \n",
       "         [[ 760,  778,  530],\n",
       "          [ 652,  709,  461],\n",
       "          [ 599,  731,  458],\n",
       "          ...,\n",
       "          [ 907, 1060,  702],\n",
       "          [ 917, 1076,  673],\n",
       "          [ 875, 1061,  646]],\n",
       " \n",
       "         [[ 696,  732,  457],\n",
       "          [ 672,  697,  444],\n",
       "          [ 591,  709,  451],\n",
       "          ...,\n",
       "          [ 895, 1080,  679],\n",
       "          [ 933, 1107,  673],\n",
       "          [ 930, 1079,  705]]],\n",
       " \n",
       " \n",
       "        [[[2670, 2855, 3257],\n",
       "          [1423, 1422, 1704],\n",
       "          [1320, 1674, 1919],\n",
       "          ...,\n",
       "          [1780, 1976, 2381],\n",
       "          [4475, 4344, 4607],\n",
       "          [6702, 6563, 6636]],\n",
       " \n",
       "         [[2338, 2493, 2981],\n",
       "          [1009, 1299, 1727],\n",
       "          [1018, 1274, 1825],\n",
       "          ...,\n",
       "          [ 900, 1009, 1368],\n",
       "          [2884, 2935, 3296],\n",
       "          [5764, 5754, 5679]],\n",
       " \n",
       "         [[1836, 2014, 2500],\n",
       "          [ 823, 1193, 1764],\n",
       "          [ 768, 1126, 1701],\n",
       "          ...,\n",
       "          [ 493,  532,  684],\n",
       "          [1293, 1345, 1660],\n",
       "          [2430, 2352, 2826]],\n",
       " \n",
       "         ...,\n",
       " \n",
       "         [[ 812,  842,  729],\n",
       "          [ 725,  795,  763],\n",
       "          [ 746,  850,  789],\n",
       "          ...,\n",
       "          [1279, 1094,  660],\n",
       "          [1269, 1192,  801],\n",
       "          [1185, 1159,  871]],\n",
       " \n",
       "         [[1042, 1193, 1277],\n",
       "          [1109, 1261, 1360],\n",
       "          [1178, 1344, 1421],\n",
       "          ...,\n",
       "          [1211, 1105,  768],\n",
       "          [ 906,  881,  663],\n",
       "          [ 563,  530,  460]],\n",
       " \n",
       "         [[1222, 1432, 1643],\n",
       "          [1374, 1539, 1773],\n",
       "          [1469, 1637, 1804],\n",
       "          ...,\n",
       "          [ 613,  656,  574],\n",
       "          [ 380,  410,  481],\n",
       "          [ 313,  438,  567]]],\n",
       " \n",
       " \n",
       "        [[[ 227,  301,  241],\n",
       "          [ 215,  273,  245],\n",
       "          [ 205,  274,  225],\n",
       "          ...,\n",
       "          [ 248,  318,  250],\n",
       "          [ 255,  320,  296],\n",
       "          [ 263,  323,  300]],\n",
       " \n",
       "         [[ 200,  249,  238],\n",
       "          [ 208,  283,  237],\n",
       "          [ 209,  287,  239],\n",
       "          ...,\n",
       "          [ 248,  314,  256],\n",
       "          [ 231,  310,  285],\n",
       "          [ 246,  311,  275]],\n",
       " \n",
       "         [[ 197,  266,  213],\n",
       "          [ 216,  298,  255],\n",
       "          [ 208,  287,  228],\n",
       "          ...,\n",
       "          [ 252,  334,  255],\n",
       "          [ 242,  316,  266],\n",
       "          [ 232,  309,  258]],\n",
       " \n",
       "         ...,\n",
       " \n",
       "         [[ 247,  324,  269],\n",
       "          [ 262,  333,  282],\n",
       "          [ 229,  338,  297],\n",
       "          ...,\n",
       "          [ 212,  287,  220],\n",
       "          [ 212,  244,  194],\n",
       "          [ 198,  256,  207]],\n",
       " \n",
       "         [[ 235,  317,  263],\n",
       "          [ 240,  314,  285],\n",
       "          [ 240,  310,  268],\n",
       "          ...,\n",
       "          [ 209,  287,  224],\n",
       "          [ 202,  267,  215],\n",
       "          [ 188,  272,  245]],\n",
       " \n",
       "         [[ 225,  340,  251],\n",
       "          [ 218,  303,  235],\n",
       "          [ 236,  287,  237],\n",
       "          ...,\n",
       "          [ 208,  280,  232],\n",
       "          [ 197,  253,  218],\n",
       "          [ 195,  269,  223]]],\n",
       " \n",
       " \n",
       "        ...,\n",
       " \n",
       " \n",
       "        [[[ 592,  436,  339],\n",
       "          [ 608,  471,  328],\n",
       "          [ 626,  477,  350],\n",
       "          ...,\n",
       "          [1046,  814,  648],\n",
       "          [ 942,  713,  550],\n",
       "          [ 870,  684,  520]],\n",
       " \n",
       "         [[ 581,  445,  334],\n",
       "          [ 602,  454,  349],\n",
       "          [ 596,  425,  350],\n",
       "          ...,\n",
       "          [1041,  814,  602],\n",
       "          [ 937,  676,  560],\n",
       "          [ 981,  745,  586]],\n",
       " \n",
       "         [[ 596,  431,  337],\n",
       "          [ 579,  404,  313],\n",
       "          [ 539,  383,  313],\n",
       "          ...,\n",
       "          [1074,  820,  607],\n",
       "          [1023,  757,  579],\n",
       "          [1035,  811,  603]],\n",
       " \n",
       "         ...,\n",
       " \n",
       "         [[ 387,  645,  365],\n",
       "          [ 383,  642,  365],\n",
       "          [ 357,  550,  318],\n",
       "          ...,\n",
       "          [ 351,  759,  350],\n",
       "          [ 389,  742,  366],\n",
       "          [ 408,  780,  383]],\n",
       " \n",
       "         [[ 405,  610,  333],\n",
       "          [ 413,  615,  341],\n",
       "          [ 405,  613,  326],\n",
       "          ...,\n",
       "          [ 366,  745,  379],\n",
       "          [ 385,  740,  387],\n",
       "          [ 391,  742,  366]],\n",
       " \n",
       "         [[ 426,  621,  334],\n",
       "          [ 417,  598,  334],\n",
       "          [ 429,  612,  354],\n",
       "          ...,\n",
       "          [ 365,  734,  367],\n",
       "          [ 407,  763,  382],\n",
       "          [ 425,  742,  366]]],\n",
       " \n",
       " \n",
       "        [[[ 182,  335,  108],\n",
       "          [ 234,  335,  159],\n",
       "          [ 204,  355,  142],\n",
       "          ...,\n",
       "          [ 567,  883,  952],\n",
       "          [ 604,  927, 1073],\n",
       "          [ 703, 1034, 1058]],\n",
       " \n",
       "         [[ 193,  315,  121],\n",
       "          [ 208,  335,  174],\n",
       "          [ 181,  341,  143],\n",
       "          ...,\n",
       "          [ 901, 1234, 1264],\n",
       "          [ 995, 1353, 1356],\n",
       "          [1068, 1351, 1190]],\n",
       " \n",
       "         [[ 207,  349,  150],\n",
       "          [ 221,  382,  153],\n",
       "          [ 186,  307,  102],\n",
       "          ...,\n",
       "          [1252, 1532, 1433],\n",
       "          [1365, 1572, 1367],\n",
       "          [1322, 1412, 1163]],\n",
       " \n",
       "         ...,\n",
       " \n",
       "         [[ 200,  270,  128],\n",
       "          [ 156,  194,  112],\n",
       "          [ 135,  252,   96],\n",
       "          ...,\n",
       "          [ 116,  179,   82],\n",
       "          [ 155,  194,   82],\n",
       "          [ 233,  274,  125]],\n",
       " \n",
       "         [[ 192,  270,  104],\n",
       "          [ 142,  240,  105],\n",
       "          [ 151,  237,   85],\n",
       "          ...,\n",
       "          [ 114,  205,   82],\n",
       "          [ 149,  226,   96],\n",
       "          [ 151,  203,   90]],\n",
       " \n",
       "         [[ 231,  300,  157],\n",
       "          [ 175,  275,  105],\n",
       "          [ 139,  215,   62],\n",
       "          ...,\n",
       "          [ 102,  179,   41],\n",
       "          [ 123,  218,   95],\n",
       "          [ 115,  188,   73]]],\n",
       " \n",
       " \n",
       "        [[[ 210,  257,  163],\n",
       "          [ 220,  300,  200],\n",
       "          [ 173,  202,  153],\n",
       "          ...,\n",
       "          [ 320,  364,  245],\n",
       "          [ 395,  424,  287],\n",
       "          [ 467,  571,  348]],\n",
       " \n",
       "         [[ 223,  280,  190],\n",
       "          [ 220,  253,  177],\n",
       "          [ 187,  233,  160],\n",
       "          ...,\n",
       "          [ 259,  320,  235],\n",
       "          [ 348,  405,  272],\n",
       "          [ 420,  475,  303]],\n",
       " \n",
       "         [[ 212,  313,  192],\n",
       "          [ 218,  276,  183],\n",
       "          [ 206,  276,  192],\n",
       "          ...,\n",
       "          [ 274,  337,  220],\n",
       "          [ 315,  384,  241],\n",
       "          [ 407,  417,  298]],\n",
       " \n",
       "         ...,\n",
       " \n",
       "         [[ 213,  523,  242],\n",
       "          [ 219,  522,  238],\n",
       "          [ 214,  553,  239],\n",
       "          ...,\n",
       "          [ 326,  379,  262],\n",
       "          [ 246,  294,  211],\n",
       "          [ 266,  295,  202]],\n",
       " \n",
       "         [[ 232,  515,  252],\n",
       "          [ 219,  535,  232],\n",
       "          [ 217,  530,  224],\n",
       "          ...,\n",
       "          [ 344,  401,  281],\n",
       "          [ 221,  294,  219],\n",
       "          [ 245,  327,  193]],\n",
       " \n",
       "         [[ 259,  506,  258],\n",
       "          [ 232,  516,  245],\n",
       "          [ 220,  529,  254],\n",
       "          ...,\n",
       "          [ 314,  388,  243],\n",
       "          [ 200,  260,  182],\n",
       "          [ 279,  330,  213]]]], dtype=uint16),\n",
       " array([0, 1, 0, 0, 1, 1, 1, 1, 1, 0, 0, 1, 0, 1, 0, 1, 0, 1, 0, 0, 0, 1,\n",
       "        0, 0, 1, 0, 0, 0, 1, 1, 0, 1]))"
      ]
     },
     "execution_count": 15,
     "metadata": {},
     "output_type": "execute_result"
    }
   ],
   "source": [
    "data_gen.__getitem__(0)"
   ]
  },
  {
   "cell_type": "code",
   "execution_count": 14,
   "metadata": {},
   "outputs": [],
   "source": [
    "img, label = data_gen.__getitem__(0)"
   ]
  },
  {
   "cell_type": "code",
   "execution_count": 15,
   "metadata": {},
   "outputs": [
    {
     "name": "stdout",
     "output_type": "stream",
     "text": [
      "(32, 120, 120, 3)\n",
      "(32,)\n"
     ]
    }
   ],
   "source": [
    "print(img.shape)\n",
    "print(label.shape)"
   ]
  },
  {
   "cell_type": "code",
   "execution_count": 16,
   "metadata": {},
   "outputs": [
    {
     "name": "stdout",
     "output_type": "stream",
     "text": [
      "WARNING:tensorflow:Model was constructed with shape (None, 224, 224, 3) for input Tensor(\"input_1:0\", shape=(None, 224, 224, 3), dtype=float32), but it was called on an input with incompatible shape (None, 120, 120, 3).\n",
      "Model: \"functional_1\"\n",
      "_________________________________________________________________\n",
      "Layer (type)                 Output Shape              Param #   \n",
      "=================================================================\n",
      "input_2 (InputLayer)         [(None, 120, 120, 3)]     0         \n",
      "_________________________________________________________________\n",
      "resnet50v2 (Functional)      (None, 1)                 23566849  \n",
      "=================================================================\n",
      "Total params: 23,566,849\n",
      "Trainable params: 23,521,409\n",
      "Non-trainable params: 45,440\n",
      "_________________________________________________________________\n"
     ]
    }
   ],
   "source": [
    "## Model setup\n",
    "\n",
    "orig_model = tf.keras.applications.ResNet50V2(include_top=True, weights=None, pooling = \"avg\", classes=1, classifier_activation='sigmoid')\n",
    "if len(CHANNELS) >= 9:\n",
    "\n",
    "  # apply 2 additional feature maps (i.e., conv layers) to\n",
    "  # graudally step down the informational filtering\n",
    "  # why >= 9? because it's 3^2 \n",
    "    dense_input = tf.keras.layers.Input(shape=(PIXEL, PIXEL, len(CHANNELS)))\n",
    "    dense_filter = tf.keras.layers.Conv2D(6, 3, padding='same')(dense_input)\n",
    "    dense_filter = tf.keras.layers.Conv2D(3, 3, padding='same')(dense_input)\n",
    "    out = orig_model(dense_filter)\n",
    "elif len(CHANNELS) > 3:\n",
    "    dense_input = tf.keras.layers.Input(shape=(PIXEL, PIXEL, len(CHANNELS)))\n",
    "    dense_filter = tf.keras.layers.Conv2D(3, 3, padding='same')(dense_input)\n",
    "    out = orig_model(dense_filter)\n",
    "else:\n",
    "    dense_input = tf.keras.layers.Input(shape=(PIXEL, PIXEL, 3))\n",
    "    out = orig_model(dense_input)\n",
    "\n",
    "model = tf.keras.Model(dense_input, out)\n",
    "model.summary()"
   ]
  },
  {
   "cell_type": "code",
   "execution_count": 17,
   "metadata": {},
   "outputs": [],
   "source": [
    "# compile the model\n",
    "model.compile(optimizer='adam', loss='binary_crossentropy', metrics=['accuracy','Precision','Recall'])"
   ]
  },
  {
   "cell_type": "markdown",
   "metadata": {},
   "source": [
    "### Data split and model training"
   ]
  },
  {
   "cell_type": "code",
   "execution_count": 18,
   "metadata": {},
   "outputs": [],
   "source": [
    "# split train and test datasets\n",
    "train_list = img_list[:int(len(img_list)*0.8)]\n",
    "test_list = img_list[int(len(img_list)*0.8):]\n",
    "\n",
    "data_train = Dataset(data_dir, train_list, LABEL_MAP, True, CHANNELS, BATCH_SIZE, PIXEL)\n",
    "data_test = Dataset(data_dir, test_list, LABEL_MAP, False, CHANNELS, BATCH_SIZE, PIXEL)"
   ]
  },
  {
   "cell_type": "code",
   "execution_count": null,
   "metadata": {},
   "outputs": [
    {
     "name": "stdout",
     "output_type": "stream",
     "text": [
      "Epoch 1/2\n",
      "WARNING:tensorflow:Model was constructed with shape (None, 224, 224, 3) for input Tensor(\"input_1:0\", shape=(None, 224, 224, 3), dtype=float32), but it was called on an input with incompatible shape (None, 120, 120, 3).\n",
      "WARNING:tensorflow:Model was constructed with shape (None, 224, 224, 3) for input Tensor(\"input_1:0\", shape=(None, 224, 224, 3), dtype=float32), but it was called on an input with incompatible shape (None, 120, 120, 3).\n",
      " 5081/14758 [=========>....................] - ETA: 3:40:54 - loss: 0.4978 - accuracy: 0.7648 - precision: 0.7428 - recall: 0.7996"
     ]
    },
    {
     "name": "stderr",
     "output_type": "stream",
     "text": [
      "IOPub message rate exceeded.\n",
      "The notebook server will temporarily stop sending output\n",
      "to the client in order to avoid crashing it.\n",
      "To change this limit, set the config variable\n",
      "`--NotebookApp.iopub_msg_rate_limit`.\n",
      "\n",
      "Current values:\n",
      "NotebookApp.iopub_msg_rate_limit=1000.0 (msgs/sec)\n",
      "NotebookApp.rate_limit_window=3.0 (secs)\n",
      "\n"
     ]
    },
    {
     "name": "stdout",
     "output_type": "stream",
     "text": [
      "12272/14758 [=======================>......] - ETA: 56:56 - loss: 0.4657 - accuracy: 0.7813 - precision: 0.7608 - recall: 0.8100"
     ]
    },
    {
     "name": "stderr",
     "output_type": "stream",
     "text": [
      "IOPub message rate exceeded.\n",
      "The notebook server will temporarily stop sending output\n",
      "to the client in order to avoid crashing it.\n",
      "To change this limit, set the config variable\n",
      "`--NotebookApp.iopub_msg_rate_limit`.\n",
      "\n",
      "Current values:\n",
      "NotebookApp.iopub_msg_rate_limit=1000.0 (msgs/sec)\n",
      "NotebookApp.rate_limit_window=3.0 (secs)\n",
      "\n"
     ]
    },
    {
     "name": "stdout",
     "output_type": "stream",
     "text": [
      " 3422/14758 [=====>........................] - ETA: 4:14:21 - loss: 0.4099 - accuracy: 0.8104 - precision: 0.7942 - recall: 0.8289"
     ]
    }
   ],
   "source": [
    "start_time = time.time()\n",
    "history = model.fit(data_train, validation_data=data_test, epochs=2)"
   ]
  },
  {
   "cell_type": "code",
   "execution_count": 24,
   "metadata": {},
   "outputs": [
    {
     "name": "stdout",
     "output_type": "stream",
     "text": [
      "--- 50004.78706455231 seconds ---\n",
      "training completed\n"
     ]
    }
   ],
   "source": [
    "end_time = time.time()\n",
    "print(\"--- %s seconds ---\" % (end_time - start_time))\n",
    "print(\"training completed\")"
   ]
  },
  {
   "cell_type": "code",
   "execution_count": 25,
   "metadata": {},
   "outputs": [
    {
     "name": "stdout",
     "output_type": "stream",
     "text": [
      "3689/3689 [==============================] - 4927s 1s/step - loss: 0.4210 - accuracy: 0.7868 - precision: 0.8720 - recall: 0.6629\n"
     ]
    }
   ],
   "source": [
    "start_time = time.time()\n",
    "evaluation = model.evaluate(data_test, batch_size=BATCH_SIZE)"
   ]
  },
  {
   "cell_type": "code",
   "execution_count": 26,
   "metadata": {},
   "outputs": [
    {
     "name": "stdout",
     "output_type": "stream",
     "text": [
      "--- 4928.553035736084 seconds ---\n",
      "evaluation completed\n"
     ]
    }
   ],
   "source": [
    "end_time = time.time()\n",
    "print(\"--- %s seconds ---\" % (end_time - start_time))\n",
    "print(\"evaluation completed\")"
   ]
  },
  {
   "cell_type": "markdown",
   "metadata": {},
   "source": [
    "### Training outcome"
   ]
  },
  {
   "cell_type": "code",
   "execution_count": 27,
   "metadata": {},
   "outputs": [
    {
     "name": "stdout",
     "output_type": "stream",
     "text": [
      "dict_keys(['loss', 'accuracy', 'precision', 'recall', 'val_loss', 'val_accuracy', 'val_precision', 'val_recall'])\n"
     ]
    },
    {
     "data": {
      "image/png": "[encoded data removed]",
      "text/plain": [
       "<Figure size 432x288 with 1 Axes>"
      ]
     },
     "metadata": {
      "needs_background": "light"
     },
     "output_type": "display_data"
    },
    {
     "data": {
      "image/png": "[encoded data removed]",
      "text/plain": [
       "<Figure size 432x288 with 1 Axes>"
      ]
     },
     "metadata": {
      "needs_background": "light"
     },
     "output_type": "display_data"
    }
   ],
   "source": [
    "# list all data in history\n",
    "print(history.history.keys())\n",
    "# summarize history for accuracy\n",
    "plt.plot(history.history['accuracy'])\n",
    "plt.plot(history.history['val_accuracy'])\n",
    "plt.title('model accuracy')\n",
    "plt.ylabel('accuracy')\n",
    "plt.xlabel('epoch')\n",
    "plt.legend(['train', 'test'], loc='upper left')\n",
    "plt.show()\n",
    "# summarize history for loss\n",
    "plt.plot(history.history['loss'])\n",
    "plt.plot(history.history['val_loss'])\n",
    "plt.title('model loss')\n",
    "plt.ylabel('loss')\n",
    "plt.xlabel('epoch')\n",
    "plt.legend(['train', 'test'], loc='upper left')\n",
    "plt.show()"
   ]
  },
  {
   "cell_type": "code",
   "execution_count": 28,
   "metadata": {},
   "outputs": [
    {
     "name": "stdout",
     "output_type": "stream",
     "text": [
      "Training Output\n",
      "accuracy:  [0.7850932478904724, 0.8159112930297852]\n",
      "precision:  [0.7644528746604919, 0.8000686764717102]\n",
      "recall:  [0.8129362463951111, 0.83347487449646]\n",
      "loss:  [0.45828521251678467, 0.39771127700805664]\n"
     ]
    }
   ],
   "source": [
    "print(\"Training Output\")\n",
    "print(\"accuracy: \", history.history['accuracy'])\n",
    "print(\"precision: \", history.history['precision'])\n",
    "print(\"recall: \", history.history['recall'])\n",
    "print(\"loss: \", history.history['loss'])"
   ]
  },
  {
   "cell_type": "code",
   "execution_count": 29,
   "metadata": {},
   "outputs": [
    {
     "name": "stdout",
     "output_type": "stream",
     "text": [
      "Validation Output\n",
      "accuracy:  0.7868494391441345\n",
      "precision:  0.8719625473022461\n",
      "recall:  0.6629143357276917\n",
      "loss:  0.42095473408699036\n"
     ]
    }
   ],
   "source": [
    "print(\"Validation Output\")\n",
    "print(\"accuracy: \", evaluation[1])\n",
    "print(\"precision: \", evaluation[2])\n",
    "print(\"recall: \", evaluation[3])\n",
    "print(\"loss: \", evaluation[0])"
   ]
  },
  {
   "cell_type": "markdown",
   "metadata": {},
   "source": [
    "### Agricultural Label Counts"
   ]
  },
  {
   "cell_type": "code",
   "execution_count": 17,
   "metadata": {},
   "outputs": [],
   "source": [
    "def count_label(data_gen, batch_count):\n",
    "    agri_count = 0\n",
    "    for i in range(batch_count):\n",
    "        _, label = data_gen.__getitem__(i)\n",
    "        batch_agri_count = np.sum(label)\n",
    "        agri_count += batch_agri_count\n",
    "        if i%1000 == 0:\n",
    "              print('Agicultural label count in batch ', i, ' is ', batch_agri_count)\n",
    "\n",
    "    return agri_count"
   ]
  },
  {
   "cell_type": "code",
   "execution_count": 18,
   "metadata": {},
   "outputs": [
    {
     "name": "stdout",
     "output_type": "stream",
     "text": [
      "18447\n"
     ]
    }
   ],
   "source": [
    "print(BATCH_COUNT)"
   ]
  },
  {
   "cell_type": "code",
   "execution_count": 21,
   "metadata": {},
   "outputs": [
    {
     "name": "stdout",
     "output_type": "stream",
     "text": [
      "Agicultural label count in batch  0  is  6\n",
      "Agicultural label count in batch  1000  is  9\n",
      "Agicultural label count in batch  2000  is  8\n",
      "Agicultural label count in batch  3000  is  7\n",
      "Agicultural label count in batch  4000  is  9\n",
      "Agicultural label count in batch  5000  is  9\n",
      "Agicultural label count in batch  6000  is  10\n",
      "Agicultural label count in batch  7000  is  4\n",
      "Agicultural label count in batch  8000  is  4\n",
      "Agicultural label count in batch  9000  is  8\n",
      "Agicultural label count in batch  10000  is  5\n",
      "Agicultural label count in batch  11000  is  9\n",
      "Agicultural label count in batch  12000  is  6\n",
      "Agicultural label count in batch  13000  is  6\n",
      "Agicultural label count in batch  14000  is  6\n",
      "Agicultural label count in batch  15000  is  6\n",
      "Agicultural label count in batch  16000  is  6\n",
      "Agicultural label count in batch  17000  is  7\n",
      "Agicultural label count in batch  18000  is  9\n",
      "Agicultural label count in batch  19000  is  7\n",
      "Agicultural label count in batch  20000  is  10\n",
      "Agicultural label count in batch  21000  is  7\n",
      "Agicultural label count in batch  22000  is  9\n",
      "Agicultural label count in batch  23000  is  10\n",
      "Agicultural label count in batch  24000  is  9\n",
      "Agicultural label count in batch  25000  is  8\n",
      "Agicultural label count in batch  26000  is  7\n",
      "Agicultural label count in batch  27000  is  10\n",
      "Agicultural label count in batch  28000  is  7\n",
      "Agicultural label count in batch  29000  is  7\n",
      "Agicultural label count in batch  30000  is  8\n",
      "Agicultural label count in batch  31000  is  7\n",
      "Agicultural label count in batch  32000  is  7\n",
      "Agicultural label count in batch  33000  is  7\n",
      "Agicultural label count in batch  34000  is  11\n",
      "Agicultural label count in batch  35000  is  10\n",
      "Agicultural label count in batch  36000  is  7\n"
     ]
    },
    {
     "data": {
      "text/plain": [
       "289878"
      ]
     },
     "execution_count": 21,
     "metadata": {},
     "output_type": "execute_result"
    }
   ],
   "source": [
    "count_label(data_gen, BATCH_COUNT)"
   ]
  }
 ],
 "metadata": {
  "environment": {
   "name": "tf2-2-3-gpu.2-3.m56",
   "type": "gcloud",
   "uri": "gcr.io/deeplearning-platform-release/tf2-2-3-gpu.2-3:m56"
  },
  "kernelspec": {
   "display_name": "Python 3",
   "language": "python",
   "name": "python3"
  },
  "language_info": {
   "codemirror_mode": {
    "name": "ipython",
    "version": 3
   },
   "file_extension": ".py",
   "mimetype": "text/x-python",
   "name": "python",
   "nbconvert_exporter": "python",
   "pygments_lexer": "ipython3",
   "version": "3.7.8"
  }
 },
 "nbformat": 4,
 "nbformat_minor": 4
}
