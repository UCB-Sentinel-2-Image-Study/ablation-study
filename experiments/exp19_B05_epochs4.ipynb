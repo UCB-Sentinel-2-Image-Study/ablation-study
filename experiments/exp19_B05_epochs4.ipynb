{
  "nbformat": 4,
  "nbformat_minor": 0,
  "metadata": {
    "environment": {
      "name": "tf2-2-3-gpu.2-3.m58",
      "type": "gcloud",
      "uri": "gcr.io/deeplearning-platform-release/tf2-2-3-gpu.2-3:m58"
    },
    "kernelspec": {
      "display_name": "Python 3",
      "language": "python",
      "name": "python3"
    },
    "language_info": {
      "codemirror_mode": {
        "name": "ipython",
        "version": 3
      },
      "file_extension": ".py",
      "mimetype": "text/x-python",
      "name": "python",
      "nbconvert_exporter": "python",
      "pygments_lexer": "ipython3",
      "version": "3.7.8"
    },
    "colab": {
      "name": "exp19_B05.ipynb",
      "provenance": [],
      "collapsed_sections": [],
      "toc_visible": true
    },
    "accelerator": "GPU"
  },
  "cells": [
    {
      "cell_type": "markdown",
      "metadata": {
        "id": "Ovvxtb3oAl8i"
      },
      "source": [
        "## UCB Sentinel-2 Ablation Study"
      ]
    },
    {
      "cell_type": "markdown",
      "metadata": {
        "id": "cLeCvib8Al8i"
      },
      "source": [
        "The notebook contains a custom setup of the Resnet50v2 model, which allows for users to configure the input such that (i) the list of remote sensing channels can be flexible and (ii) the dimension of image patches can be uniformaly adjusted (e.g., 20x20, 60x60, and 120x120). Each remote sensing channel input is stacked up and fed into the model all at once."
      ]
    },
    {
      "cell_type": "markdown",
      "metadata": {
        "id": "5b5BnvMEAl8i"
      },
      "source": [
        "### Environment and library settings"
      ]
    },
    {
      "cell_type": "code",
      "metadata": {
        "colab": {
          "base_uri": "https://localhost:8080/"
        },
        "id": "BVaU__nNFgLE",
        "outputId": "99b6efc7-5523-4596-ba0c-95a77eb42fab"
      },
      "source": [
        "# Data download, comment once complete\n",
        "%env DATA_DIR=/content\n",
        "%env DOWNLOAD_URL=http://bigearth.net/downloads/BigEarthNet-v1.0.tar.gz\n",
        "\n",
        "!rm -rf /content\n",
        "!mkdir -p $DATA_DIR\n",
        "!wget -qO- $DOWNLOAD_URL  | tar xz -C $DATA_DIR"
      ],
      "execution_count": null,
      "outputs": [
        {
          "output_type": "stream",
          "text": [
            "env: DATA_DIR=/content\n",
            "env: DOWNLOAD_URL=http://bigearth.net/downloads/BigEarthNet-v1.0.tar.gz\n",
            "shell-init: error retrieving current directory: getcwd: cannot access parent directories: No such file or directory\n",
            "shell-init: error retrieving current directory: getcwd: cannot access parent directories: No such file or directory\n"
          ],
          "name": "stdout"
        }
      ]
    },
    {
      "cell_type": "code",
      "metadata": {
        "id": "qLAJJTmIAl8i",
        "colab": {
          "base_uri": "https://localhost:8080/"
        },
        "outputId": "8d6ee43a-8980-4b56-8cb6-df4b519c444a"
      },
      "source": [
        "import tensorflow as tf\n",
        "print(\"Num GPUs Available: \", len(tf.config.experimental.list_physical_devices('GPU')))"
      ],
      "execution_count": null,
      "outputs": [
        {
          "output_type": "stream",
          "text": [
            "Num GPUs Available:  1\n"
          ],
          "name": "stdout"
        }
      ]
    },
    {
      "cell_type": "code",
      "metadata": {
        "id": "3EQPp2oEAl8j",
        "colab": {
          "base_uri": "https://localhost:8080/"
        },
        "outputId": "f379210c-a9a5-4c7c-d1d1-e73aa7f70208"
      },
      "source": [
        "if tf.test.gpu_device_name():\n",
        "    print('Default GPU Device: {}'.format(tf.test.gpu_device_name()))\n",
        "else:\n",
        "    print(\"Please install GPU version of TF\")"
      ],
      "execution_count": null,
      "outputs": [
        {
          "output_type": "stream",
          "text": [
            "Default GPU Device: /device:GPU:0\n"
          ],
          "name": "stdout"
        }
      ]
    },
    {
      "cell_type": "code",
      "metadata": {
        "id": "2COKKH0fAl8j",
        "colab": {
          "base_uri": "https://localhost:8080/",
          "height": 35
        },
        "outputId": "f55962f7-4b4e-4750-f464-03fb90e850d0"
      },
      "source": [
        "from pathlib import Path\n",
        "from PIL import Image, ImageShow\n",
        "import numpy as np\n",
        "import matplotlib.pyplot as plt\n",
        "import json\n",
        "import pandas as pd\n",
        "import cv2\n",
        "from skimage.transform import resize\n",
        "from tifffile import imread\n",
        "import time\n",
        "import tensorflow as tf\n",
        "\n",
        "tf.__version__"
      ],
      "execution_count": null,
      "outputs": [
        {
          "output_type": "execute_result",
          "data": {
            "application/vnd.google.colaboratory.intrinsic+json": {
              "type": "string"
            },
            "text/plain": [
              "'2.3.0'"
            ]
          },
          "metadata": {
            "tags": []
          },
          "execution_count": 4
        }
      ]
    },
    {
      "cell_type": "code",
      "metadata": {
        "id": "6oxLnfn2Al8j"
      },
      "source": [
        "import os\n",
        "data_dir = os.environ.get(\"DATA_DIR\")"
      ],
      "execution_count": null,
      "outputs": []
    },
    {
      "cell_type": "code",
      "metadata": {
        "id": "tpPx4ms5Al8j",
        "colab": {
          "base_uri": "https://localhost:8080/"
        },
        "outputId": "83d6be59-3dc1-4075-9eb3-2149e2c53700"
      },
      "source": [
        "data_dir=os.path.join(data_dir, os.listdir(data_dir)[0])\n",
        "print(data_dir)"
      ],
      "execution_count": null,
      "outputs": [
        {
          "output_type": "stream",
          "text": [
            "/content/BigEarthNet-v1.0\n"
          ],
          "name": "stdout"
        }
      ]
    },
    {
      "cell_type": "code",
      "metadata": {
        "id": "bwDACAssAl8k",
        "colab": {
          "base_uri": "https://localhost:8080/"
        },
        "outputId": "be5798f4-c905-4254-d1ad-19d1a4c5fa63"
      },
      "source": [
        "os.listdir(os.path.join(data_dir,'S2A_MSIL2A_20170613T101032_77_22'))"
      ],
      "execution_count": null,
      "outputs": [
        {
          "output_type": "execute_result",
          "data": {
            "text/plain": [
              "['S2A_MSIL2A_20170613T101032_77_22_labels_metadata.json',\n",
              " 'S2A_MSIL2A_20170613T101032_77_22_B02.tif',\n",
              " 'S2A_MSIL2A_20170613T101032_77_22_B08.tif',\n",
              " 'S2A_MSIL2A_20170613T101032_77_22_B09.tif',\n",
              " 'S2A_MSIL2A_20170613T101032_77_22_B04.tif',\n",
              " 'S2A_MSIL2A_20170613T101032_77_22_B03.tif',\n",
              " 'S2A_MSIL2A_20170613T101032_77_22_B05.tif',\n",
              " 'S2A_MSIL2A_20170613T101032_77_22_B11.tif',\n",
              " 'S2A_MSIL2A_20170613T101032_77_22_B12.tif',\n",
              " 'S2A_MSIL2A_20170613T101032_77_22_B06.tif',\n",
              " 'S2A_MSIL2A_20170613T101032_77_22_B07.tif',\n",
              " 'S2A_MSIL2A_20170613T101032_77_22_B01.tif',\n",
              " 'S2A_MSIL2A_20170613T101032_77_22_B8A.tif']"
            ]
          },
          "metadata": {
            "tags": []
          },
          "execution_count": 7
        }
      ]
    },
    {
      "cell_type": "code",
      "metadata": {
        "id": "NAHpAqwLAl8k",
        "colab": {
          "base_uri": "https://localhost:8080/"
        },
        "outputId": "2a319eba-7d98-4f62-aee4-94dbf8d00c7c"
      },
      "source": [
        "img_list = os.listdir(data_dir)\n",
        "img_list[0:10]"
      ],
      "execution_count": null,
      "outputs": [
        {
          "output_type": "execute_result",
          "data": {
            "text/plain": [
              "['S2A_MSIL2A_20170813T112121_84_36',\n",
              " 'S2B_MSIL2A_20180509T092029_32_8',\n",
              " 'S2A_MSIL2A_20170717T113321_26_32',\n",
              " 'S2B_MSIL2A_20170814T100029_73_22',\n",
              " 'S2B_MSIL2A_20180506T105029_20_0',\n",
              " 'S2A_MSIL2A_20180529T115401_74_45',\n",
              " 'S2B_MSIL2A_20170924T93014_11_43',\n",
              " 'S2B_MSIL2A_20180515T112109_89_74',\n",
              " 'S2B_MSIL2A_20180515T112109_72_50',\n",
              " 'S2A_MSIL2A_20180225T114351_18_20']"
            ]
          },
          "metadata": {
            "tags": []
          },
          "execution_count": 8
        }
      ]
    },
    {
      "cell_type": "code",
      "metadata": {
        "id": "SIxsc_eNAl8k",
        "colab": {
          "base_uri": "https://localhost:8080/"
        },
        "outputId": "1224b902-25ab-4eec-cbb1-5a1d4741a262"
      },
      "source": [
        "len(os.listdir(data_dir))"
      ],
      "execution_count": null,
      "outputs": [
        {
          "output_type": "execute_result",
          "data": {
            "text/plain": [
              "590326"
            ]
          },
          "metadata": {
            "tags": []
          },
          "execution_count": 9
        }
      ]
    },
    {
      "cell_type": "markdown",
      "metadata": {
        "id": "pVCe04yLAl8k"
      },
      "source": [
        "### Configuring the model parameters and constant variables"
      ]
    },
    {
      "cell_type": "code",
      "metadata": {
        "id": "35j7So5MAl8k"
      },
      "source": [
        "PIXEL = 60\n",
        "BATCH_SIZE = 32\n",
        "BATCH_COUNT = len(img_list)//BATCH_SIZE\n",
        "CHANNELS = [\"B05\"]\n",
        "EPOCH = 4\n",
        "\n",
        "# B01: Coastal aerosol; 60m\n",
        "# B02: Blue; 10m\n",
        "# B03: Green; 10m\n",
        "# B04: Red; 10m\n",
        "# B05: Vegetation red edge; 20m\n",
        "# B06: Vegetation red edge; 20m\n",
        "# B07: Vegetation red edge; 20m\n",
        "# B08: NIR; 10m\n",
        "# B09: Water vapor; 60m\n",
        "# B11: SWIR; 20m\n",
        "# B12: SWIR; 20m\n",
        "# B8A: Narrow NIR; 20m\n",
        "# Reference: https://developers.google.com/earth-engine/datasets/catalog/TUBerlin_BigEarthNet_v1#bands\n",
        "\n",
        "LABEL_MAP = {'Agro-forestry areas':1,\n",
        "           'Airports':0,\n",
        "           'Annual crops associated with permanent crops':1,\n",
        "           'Bare rock':0,\n",
        "           'Beaches, dunes, sands':0,\n",
        "           'Broad-leaved forest':0,\n",
        "           'Burnt areas':0,\n",
        "           'Coastal lagoons':0,\n",
        "           'Complex cultivation patterns':1,\n",
        "           'Coniferous forest':0,\n",
        "           'Construction sites':0,\n",
        "           'Continuous urban fabric':0,\n",
        "           'Discontinuous urban fabric':0,\n",
        "           'Dump sites':0,\n",
        "           'Estuaries':0,\n",
        "           'Fruit trees and berry plantations':1,\n",
        "           'Green urban areas':0,\n",
        "           'Industrial or commercial units':0,\n",
        "           'Inland marshes':0,\n",
        "           'Intertidal flats':0,\n",
        "           'Land principally occupied by agriculture, with significant areas of natural vegetation':1,\n",
        "           'Mineral extraction sites':0,\n",
        "           'Mixed forest':0,\n",
        "           'Moors and heathland':0,\n",
        "           'Natural grassland':0,\n",
        "           'Non-irrigated arable land':0,\n",
        "           'Olive groves':1,\n",
        "           'Pastures':1,\n",
        "           'Peatbogs':0,\n",
        "           'Permanently irrigated land':1,\n",
        "           'Port areas':0,\n",
        "           'Rice fields':1,\n",
        "           'Road and rail networks and associated land':0,\n",
        "           'Salines':0,\n",
        "           'Salt marshes':0,\n",
        "           'Sclerophyllous vegetation':0,\n",
        "           'Sea and ocean':0,\n",
        "           'Sparsely vegetated areas':0,\n",
        "           'Sport and leisure facilities':0,\n",
        "           'Transitional woodland/shrub':0,\n",
        "           'Vineyards':1,\n",
        "           'Water bodies':0,\n",
        "           'Water courses':0\n",
        "           }"
      ],
      "execution_count": null,
      "outputs": []
    },
    {
      "cell_type": "markdown",
      "metadata": {
        "id": "AHuTIa8DAl8k"
      },
      "source": [
        "### Custom data generator and model building"
      ]
    },
    {
      "cell_type": "code",
      "metadata": {
        "id": "qw-UTde7Al8k"
      },
      "source": [
        "### custom data generator to be used for the stacking approach\n",
        "\n",
        "class Dataset(tf.keras.utils.Sequence):\n",
        "    def __init__(self, data_dir, img_list, label_map, shuffle, channels, batch_size, pixel):\n",
        "        self.img_list = img_list\n",
        "        self.data_dir = data_dir\n",
        "        self.shuffle = shuffle\n",
        "        self.batch_size = batch_size\n",
        "        self.label_map = label_map\n",
        "        self.__on_epoch_end()\n",
        "        self.channels = channels\n",
        "        self.pixel = pixel\n",
        "        # print(channels)\n",
        "\n",
        "    def __len__(self):\n",
        "        # denote the number of batches in an epoch\n",
        "        return int(np.floor(len(self.img_list))/self.batch_size)\n",
        "\n",
        "    def __on_epoch_end(self):\n",
        "        'create and update index of the images in each epoch'\n",
        "        self.indexes = np.arange(len(self.img_list))\n",
        "        if self.shuffle == True:\n",
        "            np.random.shuffle(self.indexes)\n",
        "\n",
        "    def __getitem__(self, index):\n",
        "        indexes = self.indexes[index * self.batch_size: (index + 1) * self.batch_size]\n",
        "\n",
        "        img_list = [self.img_list[i] for i in indexes]\n",
        "        imgs = [self.__load_img(img_path) for img_path in img_list]\n",
        "        # label = [1 for img_path in img_list]\n",
        "        labels =[]\n",
        "\n",
        "        for img_path in img_list:\n",
        "            label = self.__generate_label(img_path, self.data_dir, self.label_map)\n",
        "            labels.append(label)\n",
        "\n",
        "        imgs = np.array(imgs)\n",
        "        labels = np.array(labels)\n",
        "\n",
        "        return imgs, labels\n",
        "\n",
        "\n",
        "    def __generate_label(self, img_path, data_dir, label_map):\n",
        "  \n",
        "        # unroll Json to get label\n",
        "        label_path = os.path.join(data_dir, img_path, img_path + '_labels_metadata.json')\n",
        "        label_data = json.load(open(label_path))\n",
        "\n",
        "        for i in label_data[\"labels\"]:\n",
        "            if label_map[i]==1:\n",
        "                return 1\n",
        "\n",
        "        return 0\n",
        "\n",
        "\n",
        "    def __load_img(self, img_path):\n",
        "\n",
        "        ch_img_list = []\n",
        "\n",
        "        for ch in self.channels:\n",
        "            ch_path = os.path.join(data_dir, img_path, img_path + '_' + ch + '.tif')\n",
        "            ch_img_list.append(imread(ch_path))\n",
        "\n",
        "        img = self.__preprocess(ch_img_list)\n",
        "\n",
        "        return img\n",
        "\n",
        "    def __preprocess(self, channels):\n",
        "\n",
        "        'preprocess and resize channels'\n",
        "\n",
        "        # dimension\n",
        "        dim = (self.pixel,self.pixel)\n",
        "        list_of_ch = []\n",
        "\n",
        "        for k in channels:\n",
        "            mat = cv2.resize(np.array(k), dim)\n",
        "\n",
        "            #print(np.array(k).shape)\n",
        "            list_of_ch.append(mat)\n",
        "\n",
        "        img = np.dstack(list_of_ch)\n",
        "\n",
        "        return img"
      ],
      "execution_count": null,
      "outputs": []
    },
    {
      "cell_type": "code",
      "metadata": {
        "id": "LVAFhEM_Al8k"
      },
      "source": [
        "data_gen = Dataset(data_dir, img_list, LABEL_MAP, True, CHANNELS, BATCH_SIZE, PIXEL)"
      ],
      "execution_count": null,
      "outputs": []
    },
    {
      "cell_type": "code",
      "metadata": {
        "jupyter": {
          "outputs_hidden": true
        },
        "id": "nK2jvtFDAl8k",
        "colab": {
          "base_uri": "https://localhost:8080/"
        },
        "outputId": "21f21734-bc60-435a-e8f2-7579e4f776a3"
      },
      "source": [
        "data_gen.__getitem__(0)"
      ],
      "execution_count": null,
      "outputs": [
        {
          "output_type": "execute_result",
          "data": {
            "text/plain": [
              "(array([[[[ 730],\n",
              "          [ 585],\n",
              "          [ 572],\n",
              "          ...,\n",
              "          [1118],\n",
              "          [1136],\n",
              "          [1097]],\n",
              " \n",
              "         [[ 672],\n",
              "          [ 622],\n",
              "          [ 637],\n",
              "          ...,\n",
              "          [1136],\n",
              "          [1157],\n",
              "          [1059]],\n",
              " \n",
              "         [[ 893],\n",
              "          [ 919],\n",
              "          [ 962],\n",
              "          ...,\n",
              "          [1155],\n",
              "          [1138],\n",
              "          [1032]],\n",
              " \n",
              "         ...,\n",
              " \n",
              "         [[1211],\n",
              "          [1164],\n",
              "          [1156],\n",
              "          ...,\n",
              "          [1159],\n",
              "          [ 963],\n",
              "          [ 770]],\n",
              " \n",
              "         [[1241],\n",
              "          [1210],\n",
              "          [1217],\n",
              "          ...,\n",
              "          [1233],\n",
              "          [ 884],\n",
              "          [ 478]],\n",
              " \n",
              "         [[1257],\n",
              "          [1259],\n",
              "          [1259],\n",
              "          ...,\n",
              "          [1226],\n",
              "          [1010],\n",
              "          [ 684]]],\n",
              " \n",
              " \n",
              "        [[[1096],\n",
              "          [1079],\n",
              "          [1073],\n",
              "          ...,\n",
              "          [1317],\n",
              "          [1082],\n",
              "          [ 893]],\n",
              " \n",
              "         [[1085],\n",
              "          [1017],\n",
              "          [ 961],\n",
              "          ...,\n",
              "          [1248],\n",
              "          [ 986],\n",
              "          [ 855]],\n",
              " \n",
              "         [[1035],\n",
              "          [ 998],\n",
              "          [ 943],\n",
              "          ...,\n",
              "          [ 959],\n",
              "          [ 977],\n",
              "          [ 958]],\n",
              " \n",
              "         ...,\n",
              " \n",
              "         [[1138],\n",
              "          [1180],\n",
              "          [1198],\n",
              "          ...,\n",
              "          [ 958],\n",
              "          [ 945],\n",
              "          [ 978]],\n",
              " \n",
              "         [[1148],\n",
              "          [1203],\n",
              "          [1241],\n",
              "          ...,\n",
              "          [1021],\n",
              "          [ 997],\n",
              "          [ 973]],\n",
              " \n",
              "         [[1163],\n",
              "          [1214],\n",
              "          [1202],\n",
              "          ...,\n",
              "          [1043],\n",
              "          [1045],\n",
              "          [ 999]]],\n",
              " \n",
              " \n",
              "        [[[1096],\n",
              "          [1114],\n",
              "          [1106],\n",
              "          ...,\n",
              "          [ 959],\n",
              "          [ 979],\n",
              "          [ 906]],\n",
              " \n",
              "         [[1131],\n",
              "          [1178],\n",
              "          [1199],\n",
              "          ...,\n",
              "          [ 966],\n",
              "          [ 933],\n",
              "          [ 827]],\n",
              " \n",
              "         [[1060],\n",
              "          [1131],\n",
              "          [1163],\n",
              "          ...,\n",
              "          [ 867],\n",
              "          [ 830],\n",
              "          [ 771]],\n",
              " \n",
              "         ...,\n",
              " \n",
              "         [[ 896],\n",
              "          [ 890],\n",
              "          [ 846],\n",
              "          ...,\n",
              "          [1182],\n",
              "          [1138],\n",
              "          [1136]],\n",
              " \n",
              "         [[ 898],\n",
              "          [ 880],\n",
              "          [ 844],\n",
              "          ...,\n",
              "          [1156],\n",
              "          [1177],\n",
              "          [1088]],\n",
              " \n",
              "         [[ 883],\n",
              "          [ 822],\n",
              "          [ 939],\n",
              "          ...,\n",
              "          [1137],\n",
              "          [1156],\n",
              "          [ 900]]],\n",
              " \n",
              " \n",
              "        ...,\n",
              " \n",
              " \n",
              "        [[[   1],\n",
              "          [   1],\n",
              "          [   1],\n",
              "          ...,\n",
              "          [  35],\n",
              "          [  10],\n",
              "          [   1]],\n",
              " \n",
              "         [[   1],\n",
              "          [   1],\n",
              "          [   1],\n",
              "          ...,\n",
              "          [  10],\n",
              "          [   1],\n",
              "          [   1]],\n",
              " \n",
              "         [[   1],\n",
              "          [   1],\n",
              "          [   1],\n",
              "          ...,\n",
              "          [  10],\n",
              "          [   2],\n",
              "          [   1]],\n",
              " \n",
              "         ...,\n",
              " \n",
              "         [[   1],\n",
              "          [   1],\n",
              "          [   1],\n",
              "          ...,\n",
              "          [   1],\n",
              "          [   1],\n",
              "          [   1]],\n",
              " \n",
              "         [[   1],\n",
              "          [   1],\n",
              "          [   1],\n",
              "          ...,\n",
              "          [   1],\n",
              "          [   1],\n",
              "          [   1]],\n",
              " \n",
              "         [[   1],\n",
              "          [   1],\n",
              "          [   1],\n",
              "          ...,\n",
              "          [   1],\n",
              "          [   1],\n",
              "          [   1]]],\n",
              " \n",
              " \n",
              "        [[[4411],\n",
              "          [4828],\n",
              "          [4827],\n",
              "          ...,\n",
              "          [2172],\n",
              "          [2018],\n",
              "          [1847]],\n",
              " \n",
              "         [[2645],\n",
              "          [3399],\n",
              "          [3029],\n",
              "          ...,\n",
              "          [1529],\n",
              "          [1411],\n",
              "          [1659]],\n",
              " \n",
              "         [[1640],\n",
              "          [2610],\n",
              "          [2768],\n",
              "          ...,\n",
              "          [1594],\n",
              "          [1565],\n",
              "          [1561]],\n",
              " \n",
              "         ...,\n",
              " \n",
              "         [[ 447],\n",
              "          [ 415],\n",
              "          [ 385],\n",
              "          ...,\n",
              "          [ 323],\n",
              "          [ 327],\n",
              "          [ 234]],\n",
              " \n",
              "         [[ 460],\n",
              "          [ 399],\n",
              "          [ 376],\n",
              "          ...,\n",
              "          [ 452],\n",
              "          [ 417],\n",
              "          [ 383]],\n",
              " \n",
              "         [[ 466],\n",
              "          [ 490],\n",
              "          [ 421],\n",
              "          ...,\n",
              "          [ 546],\n",
              "          [ 512],\n",
              "          [ 476]]],\n",
              " \n",
              " \n",
              "        [[[ 364],\n",
              "          [ 651],\n",
              "          [ 691],\n",
              "          ...,\n",
              "          [ 128],\n",
              "          [ 145],\n",
              "          [ 161]],\n",
              " \n",
              "         [[ 629],\n",
              "          [ 710],\n",
              "          [ 689],\n",
              "          ...,\n",
              "          [ 125],\n",
              "          [ 143],\n",
              "          [ 156]],\n",
              " \n",
              "         [[ 460],\n",
              "          [ 805],\n",
              "          [ 674],\n",
              "          ...,\n",
              "          [ 144],\n",
              "          [ 113],\n",
              "          [ 122]],\n",
              " \n",
              "         ...,\n",
              " \n",
              "         [[ 124],\n",
              "          [ 134],\n",
              "          [ 139],\n",
              "          ...,\n",
              "          [ 368],\n",
              "          [ 154],\n",
              "          [ 203]],\n",
              " \n",
              "         [[ 121],\n",
              "          [ 123],\n",
              "          [ 122],\n",
              "          ...,\n",
              "          [ 501],\n",
              "          [ 209],\n",
              "          [ 219]],\n",
              " \n",
              "         [[ 107],\n",
              "          [ 112],\n",
              "          [ 115],\n",
              "          ...,\n",
              "          [ 556],\n",
              "          [ 390],\n",
              "          [ 296]]]], dtype=uint16),\n",
              " array([1, 1, 1, 0, 1, 1, 1, 0, 0, 0, 0, 1, 1, 1, 1, 0, 1, 0, 1, 1, 0, 1,\n",
              "        0, 0, 0, 1, 0, 0, 0, 0, 1, 0]))"
            ]
          },
          "metadata": {
            "tags": []
          },
          "execution_count": 13
        }
      ]
    },
    {
      "cell_type": "code",
      "metadata": {
        "id": "1N0cigaOAl8k"
      },
      "source": [
        "img, label = data_gen.__getitem__(0)"
      ],
      "execution_count": null,
      "outputs": []
    },
    {
      "cell_type": "code",
      "metadata": {
        "id": "ygxbK9nnAl8k",
        "colab": {
          "base_uri": "https://localhost:8080/"
        },
        "outputId": "5d924c75-d4e9-4a71-ae42-8cc60d8c9670"
      },
      "source": [
        "print(img.shape)\n",
        "print(label.shape)"
      ],
      "execution_count": null,
      "outputs": [
        {
          "output_type": "stream",
          "text": [
            "(32, 60, 60, 1)\n",
            "(32,)\n"
          ],
          "name": "stdout"
        }
      ]
    },
    {
      "cell_type": "code",
      "metadata": {
        "id": "pvJnluIUAl8k",
        "colab": {
          "base_uri": "https://localhost:8080/"
        },
        "outputId": "0f1ab97d-ceb4-4d44-afd7-90def54118ab"
      },
      "source": [
        "## Model setup\n",
        "\n",
        "orig_model = tf.keras.applications.ResNet50V2(include_top=True, weights=None, pooling = \"avg\", classes=1, classifier_activation='sigmoid')\n",
        "\n",
        "dense_input = None\n",
        "out = None\n",
        "\n",
        "if len(CHANNELS) >= 9:\n",
        "    # apply 2 additional feature maps (i.e., conv layers) to\n",
        "    # graudally step down the informational filtering\n",
        "    # why >= 9? because it's 3^2 \n",
        "    dense_input = tf.keras.layers.Input(shape=(PIXEL, PIXEL, len(CHANNELS)))\n",
        "    dense_filter = tf.keras.layers.Conv2D(6, 3, padding='same')(dense_input)\n",
        "    dense_filter = tf.keras.layers.Conv2D(3, 3, padding='same')(dense_input)\n",
        "    out = orig_model(dense_filter)\n",
        "elif len(CHANNELS) == 3:\n",
        "    dense_input = tf.keras.layers.Input(shape=(PIXEL, PIXEL, 3))\n",
        "    out = orig_model(dense_input)\n",
        "else:\n",
        "    dense_input = tf.keras.layers.Input(shape=(PIXEL, PIXEL, len(CHANNELS)))\n",
        "    dense_filter = tf.keras.layers.Conv2D(3, 3, padding='same')(dense_input)\n",
        "    out = orig_model(dense_filter)\n",
        "\n",
        "model = tf.keras.Model(dense_input, out)\n",
        "model.summary()"
      ],
      "execution_count": null,
      "outputs": [
        {
          "output_type": "stream",
          "text": [
            "WARNING:tensorflow:Model was constructed with shape (None, 224, 224, 3) for input Tensor(\"input_1:0\", shape=(None, 224, 224, 3), dtype=float32), but it was called on an input with incompatible shape (None, 60, 60, 3).\n",
            "Model: \"functional_1\"\n",
            "_________________________________________________________________\n",
            "Layer (type)                 Output Shape              Param #   \n",
            "=================================================================\n",
            "input_2 (InputLayer)         [(None, 60, 60, 1)]       0         \n",
            "_________________________________________________________________\n",
            "conv2d (Conv2D)              (None, 60, 60, 3)         30        \n",
            "_________________________________________________________________\n",
            "resnet50v2 (Functional)      (None, 1)                 23566849  \n",
            "=================================================================\n",
            "Total params: 23,566,879\n",
            "Trainable params: 23,521,439\n",
            "Non-trainable params: 45,440\n",
            "_________________________________________________________________\n"
          ],
          "name": "stdout"
        }
      ]
    },
    {
      "cell_type": "code",
      "metadata": {
        "id": "PmS40B_hAl8k"
      },
      "source": [
        "# compile the model\n",
        "model.compile(optimizer='adam', loss='binary_crossentropy', metrics=['accuracy','Precision','Recall'])"
      ],
      "execution_count": null,
      "outputs": []
    },
    {
      "cell_type": "markdown",
      "metadata": {
        "id": "KLKTu3ChAl8k"
      },
      "source": [
        "### Data split and model training"
      ]
    },
    {
      "cell_type": "code",
      "metadata": {
        "id": "TPWimAGIAl8k"
      },
      "source": [
        "# split train and test datasets\n",
        "train_list = img_list[:int(len(img_list)*0.8)]\n",
        "test_list = img_list[int(len(img_list)*0.8):]\n",
        "\n",
        "data_train = Dataset(data_dir, train_list, LABEL_MAP, True, CHANNELS, BATCH_SIZE, PIXEL)\n",
        "data_test = Dataset(data_dir, test_list, LABEL_MAP, False, CHANNELS, BATCH_SIZE, PIXEL)"
      ],
      "execution_count": null,
      "outputs": []
    },
    {
      "cell_type": "code",
      "metadata": {
        "id": "ZRqFnMWFAl8k",
        "colab": {
          "base_uri": "https://localhost:8080/"
        },
        "outputId": "0476541b-b513-4480-f9d9-99aa420739b3"
      },
      "source": [
        "start_time = time.time()\n",
        "history = model.fit(data_train, validation_data=data_test, epochs=EPOCH)"
      ],
      "execution_count": null,
      "outputs": [
        {
          "output_type": "stream",
          "text": [
            "Epoch 1/4\n",
            "WARNING:tensorflow:Model was constructed with shape (None, 224, 224, 3) for input Tensor(\"input_1:0\", shape=(None, 224, 224, 3), dtype=float32), but it was called on an input with incompatible shape (None, 60, 60, 3).\n",
            "WARNING:tensorflow:Model was constructed with shape (None, 224, 224, 3) for input Tensor(\"input_1:0\", shape=(None, 224, 224, 3), dtype=float32), but it was called on an input with incompatible shape (None, 60, 60, 3).\n",
            "14758/14758 [==============================] - ETA: 0s - loss: 0.4910 - accuracy: 0.7639 - precision: 0.7404 - recall: 0.8001WARNING:tensorflow:Model was constructed with shape (None, 224, 224, 3) for input Tensor(\"input_1:0\", shape=(None, 224, 224, 3), dtype=float32), but it was called on an input with incompatible shape (None, 60, 60, 3).\n",
            "14758/14758 [==============================] - 2007s 136ms/step - loss: 0.4910 - accuracy: 0.7639 - precision: 0.7404 - recall: 0.8001 - val_loss: 0.4523 - val_accuracy: 0.7831 - val_precision: 0.7357 - val_recall: 0.8691\n",
            "Epoch 2/4\n",
            "14758/14758 [==============================] - 2085s 141ms/step - loss: 0.4517 - accuracy: 0.7837 - precision: 0.7627 - recall: 0.8128 - val_loss: 0.4453 - val_accuracy: 0.7910 - val_precision: 0.7661 - val_recall: 0.8250\n",
            "Epoch 3/4\n",
            "14758/14758 [==============================] - 2074s 141ms/step - loss: 0.4321 - accuracy: 0.7943 - precision: 0.7711 - recall: 0.8267 - val_loss: 0.4265 - val_accuracy: 0.7991 - val_precision: 0.8044 - val_recall: 0.7792\n",
            "Epoch 4/4\n",
            "14758/14758 [==============================] - 2080s 141ms/step - loss: 0.4187 - accuracy: 0.8020 - precision: 0.7789 - recall: 0.8337 - val_loss: 0.4024 - val_accuracy: 0.8107 - val_precision: 0.7981 - val_recall: 0.8209\n"
          ],
          "name": "stdout"
        }
      ]
    },
    {
      "cell_type": "code",
      "metadata": {
        "id": "UxcOh7UCAl8l",
        "colab": {
          "base_uri": "https://localhost:8080/"
        },
        "outputId": "fad81feb-e031-474a-c17c-a52ef509d9b6"
      },
      "source": [
        "end_time = time.time()\n",
        "print(\"--- %s seconds ---\" % (end_time - start_time))\n",
        "print(\"training completed\")"
      ],
      "execution_count": null,
      "outputs": [
        {
          "output_type": "stream",
          "text": [
            "--- 8257.428008794785 seconds ---\n",
            "training completed\n"
          ],
          "name": "stdout"
        }
      ]
    },
    {
      "cell_type": "code",
      "metadata": {
        "id": "p3xHqWTWAl8l",
        "colab": {
          "base_uri": "https://localhost:8080/"
        },
        "outputId": "451446b7-ab94-43ff-d24c-dfa8bb1a99fa"
      },
      "source": [
        "start_time = time.time()\n",
        "evaluation = model.evaluate(data_test, batch_size=BATCH_SIZE)"
      ],
      "execution_count": null,
      "outputs": [
        {
          "output_type": "stream",
          "text": [
            "3689/3689 [==============================] - 160s 43ms/step - loss: 0.4024 - accuracy: 0.8107 - precision: 0.7981 - recall: 0.8209\n"
          ],
          "name": "stdout"
        }
      ]
    },
    {
      "cell_type": "code",
      "metadata": {
        "id": "SM4i-1ImAl8l",
        "colab": {
          "base_uri": "https://localhost:8080/"
        },
        "outputId": "ae26a748-e026-4a59-c4ee-ddd639f1b997"
      },
      "source": [
        "end_time = time.time()\n",
        "print(\"--- %s seconds ---\" % (end_time - start_time))\n",
        "print(\"evaluation completed\")"
      ],
      "execution_count": null,
      "outputs": [
        {
          "output_type": "stream",
          "text": [
            "--- 160.1600399017334 seconds ---\n",
            "evaluation completed\n"
          ],
          "name": "stdout"
        }
      ]
    },
    {
      "cell_type": "markdown",
      "metadata": {
        "id": "yDMHvkejAl8l"
      },
      "source": [
        "### Training outcome"
      ]
    },
    {
      "cell_type": "code",
      "metadata": {
        "id": "dgFTYLz4Al8l",
        "colab": {
          "base_uri": "https://localhost:8080/",
          "height": 590
        },
        "outputId": "65accb99-5cf8-4e67-8455-d0878f367946"
      },
      "source": [
        "# list all data in history\n",
        "print(history.history.keys())\n",
        "# summarize history for accuracy\n",
        "plt.plot(history.history['accuracy'])\n",
        "plt.plot(history.history['val_accuracy'])\n",
        "plt.title('model accuracy')\n",
        "plt.ylabel('accuracy')\n",
        "plt.xlabel('epoch')\n",
        "plt.legend(['train', 'test'], loc='upper left')\n",
        "plt.show()\n",
        "# summarize history for loss\n",
        "plt.plot(history.history['loss'])\n",
        "plt.plot(history.history['val_loss'])\n",
        "plt.title('model loss')\n",
        "plt.ylabel('loss')\n",
        "plt.xlabel('epoch')\n",
        "plt.legend(['train', 'test'], loc='upper left')\n",
        "plt.show()"
      ],
      "execution_count": null,
      "outputs": [
        {
          "output_type": "stream",
          "text": [
            "dict_keys(['loss', 'accuracy', 'precision', 'recall', 'val_loss', 'val_accuracy', 'val_precision', 'val_recall'])\n"
          ],
          "name": "stdout"
        },
        {
          "output_type": "display_data",
          "data": {
            "image/png": "[encoded data removed]",
            "text/plain": [
              "<Figure size 432x288 with 1 Axes>"
            ]
          },
          "metadata": {
            "tags": [],
            "needs_background": "light"
          }
        },
        {
          "output_type": "display_data",
          "data": {
            "image/png": "[encoded data removed]",
            "text/plain": [
              "<Figure size 432x288 with 1 Axes>"
            ]
          },
          "metadata": {
            "tags": [],
            "needs_background": "light"
          }
        }
      ]
    },
    {
      "cell_type": "code",
      "metadata": {
        "id": "vz-f-6Z-Al8l",
        "colab": {
          "base_uri": "https://localhost:8080/"
        },
        "outputId": "2397a2be-e37c-47ac-fc21-ae8db231c03e"
      },
      "source": [
        "print(\"Training Output\")\n",
        "print(\"accuracy: \", history.history['accuracy'])\n",
        "print(\"precision: \", history.history['precision'])\n",
        "print(\"recall: \", history.history['recall'])\n",
        "print(\"loss: \", history.history['loss'])"
      ],
      "execution_count": null,
      "outputs": [
        {
          "output_type": "stream",
          "text": [
            "Training Output\n",
            "accuracy:  [0.76388019323349, 0.7837338447570801, 0.7942704558372498, 0.8019802570343018]\n",
            "precision:  [0.7403817176818848, 0.7627002596855164, 0.7711392045021057, 0.7789278030395508]\n",
            "recall:  [0.8000853061676025, 0.81282639503479, 0.8267308473587036, 0.8336679935455322]\n",
            "loss:  [0.4909582734107971, 0.45170679688453674, 0.43209248781204224, 0.41866034269332886]\n"
          ],
          "name": "stdout"
        }
      ]
    },
    {
      "cell_type": "code",
      "metadata": {
        "id": "tbvaYkmQAl8l",
        "colab": {
          "base_uri": "https://localhost:8080/"
        },
        "outputId": "5c7dffca-fe97-43c2-9b3f-92ac3a7c4510"
      },
      "source": [
        "print(\"Validation Output\")\n",
        "print(\"accuracy: \", evaluation[1])\n",
        "print(\"precision: \", evaluation[2])\n",
        "print(\"recall: \", evaluation[3])\n",
        "print(\"loss: \", evaluation[0])"
      ],
      "execution_count": null,
      "outputs": [
        {
          "output_type": "stream",
          "text": [
            "Validation Output\n",
            "accuracy:  0.8106532692909241\n",
            "precision:  0.7980921268463135\n",
            "recall:  0.8208797574043274\n",
            "loss:  0.40241673588752747\n"
          ],
          "name": "stdout"
        }
      ]
    },
    {
      "cell_type": "markdown",
      "metadata": {
        "id": "a8yE5l7GAl8l"
      },
      "source": [
        "### Agricultural Label Counts"
      ]
    },
    {
      "cell_type": "code",
      "metadata": {
        "id": "ZivcADGoAl8l"
      },
      "source": [
        "def count_label(data_gen, batch_count):\n",
        "    agri_count = 0\n",
        "    for i in range(batch_count):\n",
        "        _, label = data_gen.__getitem__(i)\n",
        "        batch_agri_count = np.sum(label)\n",
        "        agri_count += batch_agri_count\n",
        "        if i%1000 == 0:\n",
        "              print('Accumulated counts of the agicultural label in batch ', i, ' is ', agri_count)\n",
        "\n",
        "    return agri_count"
      ],
      "execution_count": null,
      "outputs": []
    },
    {
      "cell_type": "code",
      "metadata": {
        "id": "B3r4FPSwAl8l",
        "colab": {
          "base_uri": "https://localhost:8080/"
        },
        "outputId": "4bfc4af4-de11-4264-efc5-d67493329ca0"
      },
      "source": [
        "print(\"Total batches to be counted is \", BATCH_COUNT)"
      ],
      "execution_count": null,
      "outputs": [
        {
          "output_type": "stream",
          "text": [
            "Total batches to be counted is  18447\n"
          ],
          "name": "stdout"
        }
      ]
    },
    {
      "cell_type": "code",
      "metadata": {
        "id": "VupiC0WmAl8l",
        "colab": {
          "base_uri": "https://localhost:8080/"
        },
        "outputId": "fce978ab-92c6-49b4-810d-5664ed8ae65b"
      },
      "source": [
        "print(\"Total agricultural labels in the data set is \", count_label(data_gen, BATCH_COUNT))\n",
        "print(\"The total image patches \", len(os.listdir(data_dir)))"
      ],
      "execution_count": null,
      "outputs": [
        {
          "output_type": "stream",
          "text": [
            "Accumulated counts of the agicultural label in batch  0  is  16\n",
            "Accumulated counts of the agicultural label in batch  1000  is  15692\n",
            "Accumulated counts of the agicultural label in batch  2000  is  31381\n",
            "Accumulated counts of the agicultural label in batch  3000  is  47136\n",
            "Accumulated counts of the agicultural label in batch  4000  is  62793\n",
            "Accumulated counts of the agicultural label in batch  5000  is  78566\n",
            "Accumulated counts of the agicultural label in batch  6000  is  94200\n",
            "Accumulated counts of the agicultural label in batch  7000  is  109948\n",
            "Accumulated counts of the agicultural label in batch  8000  is  125819\n",
            "Accumulated counts of the agicultural label in batch  9000  is  141474\n",
            "Accumulated counts of the agicultural label in batch  10000  is  157369\n",
            "Accumulated counts of the agicultural label in batch  11000  is  173053\n",
            "Accumulated counts of the agicultural label in batch  12000  is  188794\n",
            "Accumulated counts of the agicultural label in batch  13000  is  204387\n",
            "Accumulated counts of the agicultural label in batch  14000  is  220172\n",
            "Accumulated counts of the agicultural label in batch  15000  is  235825\n",
            "Accumulated counts of the agicultural label in batch  16000  is  251534\n",
            "Accumulated counts of the agicultural label in batch  17000  is  267182\n",
            "Accumulated counts of the agicultural label in batch  18000  is  282829\n",
            "Total agricultural labels in the data set is  289870\n",
            "The total image patches  590326\n"
          ],
          "name": "stdout"
        }
      ]
    }
  ]
}