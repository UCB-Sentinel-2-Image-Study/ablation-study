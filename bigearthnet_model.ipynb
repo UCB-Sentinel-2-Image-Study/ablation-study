{
  "nbformat": 4,
  "nbformat_minor": 0,
  "metadata": {
    "colab": {
      "name": "bigearthnet_model",
      "provenance": [],
      "collapsed_sections": []
    },
    "kernelspec": {
      "name": "python3",
      "display_name": "Python 3"
    }
  },
  "cells": [
    {
      "cell_type": "code",
      "metadata": {
        "id": "P-Rq2U3MFjnC"
      },
      "source": [
        "from pathlib import Path\n",
        "from PIL import Image, ImageShow\n",
        "import numpy as np\n",
        "import matplotlib.pyplot as plt"
      ],
      "execution_count": null,
      "outputs": []
    },
    {
      "cell_type": "code",
      "metadata": {
        "id": "fk37sYhZ0Fp-",
        "outputId": "33a1ea2f-32f0-4346-c82c-7cc45551ad78",
        "colab": {
          "base_uri": "https://localhost:8080/",
          "height": 35
        }
      },
      "source": [
        "import tensorflow as tf\n",
        "tf.__version__"
      ],
      "execution_count": null,
      "outputs": [
        {
          "output_type": "execute_result",
          "data": {
            "application/vnd.google.colaboratory.intrinsic+json": {
              "type": "string"
            },
            "text/plain": [
              "'2.3.0'"
            ]
          },
          "metadata": {
            "tags": []
          },
          "execution_count": 2
        }
      ]
    },
    {
      "cell_type": "code",
      "metadata": {
        "id": "7uWbZDykxhxR",
        "outputId": "3331e7c4-93c8-4f16-c0bb-2dfd6c28529a",
        "colab": {
          "base_uri": "https://localhost:8080/",
          "height": 34
        }
      },
      "source": [
        "from google.colab import drive\n",
        "drive.mount('/content/drive')"
      ],
      "execution_count": null,
      "outputs": [
        {
          "output_type": "stream",
          "text": [
            "Mounted at /content/drive\n"
          ],
          "name": "stdout"
        }
      ]
    },
    {
      "cell_type": "code",
      "metadata": {
        "id": "lJHvM_4VswoO",
        "outputId": "c213ffec-d0dc-4279-f240-b0c3b78b6fb2",
        "colab": {
          "base_uri": "https://localhost:8080/",
          "height": 238
        }
      },
      "source": [
        "import os\n",
        "os.listdir('/content/drive/My Drive/Capstone/irrigation-capstone/data/BigEarthNet/S2A_MSIL2A_20170613T101031_0_52/')"
      ],
      "execution_count": null,
      "outputs": [
        {
          "output_type": "execute_result",
          "data": {
            "text/plain": [
              "['S2A_MSIL2A_20170613T101031_0_52_B12.tif',\n",
              " 'S2A_MSIL2A_20170613T101031_0_52_B04.tif',\n",
              " 'S2A_MSIL2A_20170613T101031_0_52_B07.tif',\n",
              " 'S2A_MSIL2A_20170613T101031_0_52_B05.tif',\n",
              " 'S2A_MSIL2A_20170613T101031_0_52_B06.tif',\n",
              " 'S2A_MSIL2A_20170613T101031_0_52_B11.tif',\n",
              " 'S2A_MSIL2A_20170613T101031_0_52_B8A.tif',\n",
              " 'S2A_MSIL2A_20170613T101031_0_52_B02.tif',\n",
              " 'S2A_MSIL2A_20170613T101031_0_52_labels_metadata.json',\n",
              " 'S2A_MSIL2A_20170613T101031_0_52_B03.tif',\n",
              " 'S2A_MSIL2A_20170613T101031_0_52_B09.tif',\n",
              " 'S2A_MSIL2A_20170613T101031_0_52_B08.tif',\n",
              " 'S2A_MSIL2A_20170613T101031_0_52_B01.tif']"
            ]
          },
          "metadata": {
            "tags": []
          },
          "execution_count": 4
        }
      ]
    },
    {
      "cell_type": "code",
      "metadata": {
        "id": "x2cbMWcfrT8u"
      },
      "source": [
        "# BigEarthNet data definitions \n",
        "# https://www.tensorflow.org/datasets/catalog/bigearthnet\n",
        "\n",
        "# B01: Coastal aerosol; 60m\n",
        "# B02: Blue; 10m\n",
        "# B03: Green; 10m\n",
        "# B04: Red; 10m\n",
        "# B05: Vegetation red edge; 20m\n",
        "# B06: Vegetation red edge; 20m\n",
        "# B07: Vegetation red edge; 20m\n",
        "# B08: NIR; 10m\n",
        "# B09: Water vapor; 60m\n",
        "# B11: SWIR; 20m\n",
        "# B12: SWIR; 20m\n",
        "# B8A: Narrow NIR; 20m"
      ],
      "execution_count": null,
      "outputs": []
    },
    {
      "cell_type": "code",
      "metadata": {
        "id": "h9Z4TI81ulgH",
        "outputId": "5343618c-a187-467c-fd0e-fd7af151a3c7",
        "colab": {
          "base_uri": "https://localhost:8080/",
          "height": 80
        }
      },
      "source": [
        "import json\n",
        "import pandas as pd\n",
        "data = json.load(open('/content/drive/My Drive/Capstone/irrigation-capstone/data/BigEarthNet/S2A_MSIL2A_20170613T101031_0_52/S2A_MSIL2A_20170613T101031_0_52_labels_metadata.json'))\n",
        "data\n",
        "\n",
        "df = pd.DataFrame(data[\"labels\"])\n",
        "df\n"
      ],
      "execution_count": null,
      "outputs": [
        {
          "output_type": "execute_result",
          "data": {
            "text/html": [
              "<div>\n",
              "<style scoped>\n",
              "    .dataframe tbody tr th:only-of-type {\n",
              "        vertical-align: middle;\n",
              "    }\n",
              "\n",
              "    .dataframe tbody tr th {\n",
              "        vertical-align: top;\n",
              "    }\n",
              "\n",
              "    .dataframe thead th {\n",
              "        text-align: right;\n",
              "    }\n",
              "</style>\n",
              "<table border=\"1\" class=\"dataframe\">\n",
              "  <thead>\n",
              "    <tr style=\"text-align: right;\">\n",
              "      <th></th>\n",
              "      <th>0</th>\n",
              "    </tr>\n",
              "  </thead>\n",
              "  <tbody>\n",
              "    <tr>\n",
              "      <th>0</th>\n",
              "      <td>Sea and ocean</td>\n",
              "    </tr>\n",
              "  </tbody>\n",
              "</table>\n",
              "</div>"
            ],
            "text/plain": [
              "               0\n",
              "0  Sea and ocean"
            ]
          },
          "metadata": {
            "tags": []
          },
          "execution_count": 9
        }
      ]
    },
    {
      "cell_type": "code",
      "metadata": {
        "id": "yrRRjoOzvoFi",
        "outputId": "65487025-4658-451f-8ac3-f28af6a4be6d",
        "colab": {
          "base_uri": "https://localhost:8080/"
        }
      },
      "source": [
        "data['labels']"
      ],
      "execution_count": null,
      "outputs": [
        {
          "output_type": "execute_result",
          "data": {
            "text/plain": [
              "['Sea and ocean']"
            ]
          },
          "metadata": {
            "tags": []
          },
          "execution_count": 10
        }
      ]
    },
    {
      "cell_type": "code",
      "metadata": {
        "id": "3vWjoHuFupW5"
      },
      "source": [
        "# _LABELS = [\n",
        "#     'Agro-forestry areas', 'Airports',\n",
        "#     'Annual crops associated with permanent crops', 'Bare rock',\n",
        "#     'Beaches, dunes, sands', 'Broad-leaved forest', 'Burnt areas',\n",
        "#     'Coastal lagoons', 'Complex cultivation patterns', 'Coniferous forest',\n",
        "#     'Construction sites', 'Continuous urban fabric',\n",
        "#     'Discontinuous urban fabric', 'Dump sites', 'Estuaries',\n",
        "#     'Fruit trees and berry plantations', 'Green urban areas',\n",
        "#     'Industrial or commercial units', 'Inland marshes', 'Intertidal flats',\n",
        "#     'Land principally occupied by agriculture, with significant areas of '\n",
        "#     'natural vegetation', 'Mineral extraction sites', 'Mixed forest',\n",
        "#     'Moors and heathland', 'Natural grassland', 'Non-irrigated arable land',\n",
        "#     'Olive groves', 'Pastures', 'Peatbogs', 'Permanently irrigated land',\n",
        "#     'Port areas', 'Rice fields', 'Road and rail networks and associated land',\n",
        "#     'Salines', 'Salt marshes', 'Sclerophyllous vegetation', 'Sea and ocean',\n",
        "#     'Sparsely vegetated areas', 'Sport and leisure facilities',\n",
        "#     'Transitional woodland/shrub', 'Vineyards', 'Water bodies', 'Water courses'\n",
        "# ]\n",
        "\n",
        "# _DATA_OPTIONS = ['rgb', 'all']\n",
        "\n",
        "# # Cr: https://github.com/tensorflow/datasets/blob/master/tensorflow_datasets/image_classification/bigearthnet.py"
      ],
      "execution_count": null,
      "outputs": []
    },
    {
      "cell_type": "code",
      "metadata": {
        "id": "7CKCUsEsnOzg"
      },
      "source": [
        "data_dir = \"/content/drive/My Drive/Capstone/irrigation-capstone/data/BigEarthNet\""
      ],
      "execution_count": null,
      "outputs": []
    },
    {
      "cell_type": "code",
      "metadata": {
        "id": "pDjnMTRzngPo"
      },
      "source": [
        "img_list = os.listdir(data_dir)"
      ],
      "execution_count": null,
      "outputs": []
    },
    {
      "cell_type": "code",
      "metadata": {
        "id": "7PJevziIs_Q3"
      },
      "source": [
        "label_map = {'Agro-forestry areas':1,\n",
        "           'Airports':0,\n",
        "           'Annual crops associated with permanent crops':1,\n",
        "           'Bare rock':0,\n",
        "           'Beaches, dunes, sands':0,\n",
        "           'Broad-leaved forest':0,\n",
        "           'Burnt areas':0,\n",
        "           'Coastal lagoons':0,\n",
        "           'Complex cultivation patterns':1,\n",
        "           'Coniferous forest':0,\n",
        "           'Construction sites':0,\n",
        "           'Continuous urban fabric':0,\n",
        "           'Discontinuous urban fabric':0,\n",
        "           'Dump sites':0,\n",
        "           'Estuaries':0,\n",
        "           'Fruit trees and berry plantations':1,\n",
        "           'Green urban areas':0,\n",
        "           'Industrial or commercial units':0,\n",
        "           'Inland marshes':0,\n",
        "           'Intertidal flats':0,\n",
        "           'Land principally occupied by agriculture,with significant areas of natural vegetation':1,\n",
        "           'Mineral extraction sites':0,\n",
        "           'Mixed forest':0,\n",
        "           'Moors and heathland':0,\n",
        "           'Natural grassland':0,\n",
        "           'Non-irrigated arable land':0,\n",
        "           'Olive groves':1,\n",
        "           'Pastures':1,\n",
        "           'Peatbogs':0,\n",
        "           'Permanently irrigated land':1,\n",
        "           'Port areas':0,\n",
        "           'Rice fields':1,\n",
        "           'Road and rail networks and associated land':0,\n",
        "           'Salines':0,\n",
        "           'Salt marshes':0,\n",
        "           'Sclerophyllous vegetation':0,\n",
        "           'Sea and ocean':0,\n",
        "           'Sparsely vegetated areas':0,\n",
        "           'Sport and leisure facilities':0,\n",
        "           'Transitional woodland/shrub':0,\n",
        "           'Vineyards':1,\n",
        "           'Water bodies':0,\n",
        "           'Water courses':0\n",
        "           }"
      ],
      "execution_count": null,
      "outputs": []
    },
    {
      "cell_type": "code",
      "metadata": {
        "id": "NO_x-zBG3Z5K",
        "outputId": "05148241-eabd-40e8-a72e-98d3f55e13cf",
        "colab": {
          "base_uri": "https://localhost:8080/",
          "height": 34
        }
      },
      "source": [
        "label_map['Agro-forestry areas']"
      ],
      "execution_count": null,
      "outputs": [
        {
          "output_type": "execute_result",
          "data": {
            "text/plain": [
              "1"
            ]
          },
          "metadata": {
            "tags": []
          },
          "execution_count": 8
        }
      ]
    },
    {
      "cell_type": "code",
      "metadata": {
        "id": "OzV4bqK4niWn"
      },
      "source": [
        "class Dataset(tf.keras.utils.Sequence):\n",
        "  def __init__(self, img_list, label_map, shuffle, batch_size):\n",
        "    self.img_list = img_list\n",
        "    self.shuffle = shuffle\n",
        "    self.batch_size = batch_size\n",
        "    self.label_map = label_map\n",
        "\n",
        "    self.__on_epoch_end()\n",
        "\n",
        "  def __len__(self):\n",
        "    # denote the number of batches in an epoch\n",
        "    return int(np.floor(len(self.img_list))/self.batch_size)\n",
        "\n",
        "  def __on_epoch_end(self):\n",
        "    'create and update index of the images in each epoch'\n",
        "    self.indexes = np.arange(len(self.img_list))\n",
        "    if self.shuffle == True:\n",
        "      np.random.shuffle(self.indexes)\n",
        "\n",
        "  def __getitem__(self, index):\n",
        "    indexes = self.indexes[index * self.batch_size: (index + 1) * self.batch_size]\n",
        "    \n",
        "    img_list = [self.img_list[i] for i in indexes]\n",
        "    imgs = [self.__load_img(img_path) for img_path in img_list]\n",
        "    label = [1 for img_path in img_list]\n",
        "\n",
        "    #####\n",
        "    # to add logic to generate label from json and label_map #\n",
        "    #####\n",
        "\n",
        "    imgs = np.array(imgs)\n",
        "    label = np.array(label)\n",
        "    return imgs, label\n",
        "\n",
        "  # def __generate_label(img_path, d):\n",
        "  #   json_path = os.path.join(data_dir, img_path, img_path + '_B02.tif')\n",
        "  #   for a in B:\n",
        "  #     if :\n",
        "  #       return 1\n",
        "  #   return 0\n",
        "    \n",
        "  #   return 1|0\n",
        "\n",
        "  def __load_img(self, img_path):\n",
        "    b_path = os.path.join(data_dir, img_path, img_path + '_B02.tif')\n",
        "    g_path = os.path.join(data_dir, img_path, img_path + '_B03.tif')\n",
        "    r_path = os.path.join(data_dir, img_path, img_path + '_B04.tif')\n",
        "\n",
        "    b = np.array(Image.open(b_path))\n",
        "    g = np.array(Image.open(g_path))\n",
        "    r = np.array(Image.open(r_path))\n",
        "\n",
        "    rgb = np.dstack((r,g,b))\n",
        "\n",
        "    return rgb\n",
        "\n",
        "  def __preprocess(self, img):\n",
        "\n",
        "    ######\n",
        "    ### To add preprocessing logic that is reflective of our EDA / visualization ###\n",
        "    ### and to allow more remote sensing channels in, other than RGB\n",
        "    ######\n",
        "  \n",
        "    pass"
      ],
      "execution_count": null,
      "outputs": []
    },
    {
      "cell_type": "code",
      "metadata": {
        "id": "xDD-kAhrntHm"
      },
      "source": [
        "data_gen = Dataset(img_list, label_map, True, 5)"
      ],
      "execution_count": null,
      "outputs": []
    },
    {
      "cell_type": "code",
      "metadata": {
        "id": "6h9qe1dApl0e",
        "outputId": "77ff0536-c11e-45c5-e899-af98a48be980",
        "colab": {
          "base_uri": "https://localhost:8080/",
          "height": 1000
        }
      },
      "source": [
        "data_gen.__getitem__(0)"
      ],
      "execution_count": null,
      "outputs": [
        {
          "output_type": "execute_result",
          "data": {
            "text/plain": [
              "(array([[[[220, 243, 194],\n",
              "          [205, 241, 188],\n",
              "          [212, 243, 198],\n",
              "          ...,\n",
              "          [231, 259, 232],\n",
              "          [244, 259, 233],\n",
              "          [246, 274, 241]],\n",
              " \n",
              "         [[220, 236, 198],\n",
              "          [200, 227, 188],\n",
              "          [204, 245, 201],\n",
              "          ...,\n",
              "          [249, 273, 254],\n",
              "          [251, 281, 241],\n",
              "          [246, 269, 236]],\n",
              " \n",
              "         [[218, 247, 173],\n",
              "          [198, 224, 192],\n",
              "          [206, 220, 204],\n",
              "          ...,\n",
              "          [234, 271, 243],\n",
              "          [260, 266, 246],\n",
              "          [250, 273, 242]],\n",
              " \n",
              "         ...,\n",
              " \n",
              "         [[211, 247, 193],\n",
              "          [238, 254, 206],\n",
              "          [250, 269, 226],\n",
              "          ...,\n",
              "          [641, 604, 377],\n",
              "          [392, 438, 245],\n",
              "          [227, 328, 128]],\n",
              " \n",
              "         [[212, 248, 188],\n",
              "          [248, 265, 222],\n",
              "          [257, 284, 245],\n",
              "          ...,\n",
              "          [328, 444, 225],\n",
              "          [232, 307, 152],\n",
              "          [153, 278, 103]],\n",
              " \n",
              "         [[224, 265, 212],\n",
              "          [249, 275, 215],\n",
              "          [238, 252, 227],\n",
              "          ...,\n",
              "          [176, 268, 122],\n",
              "          [172, 251, 103],\n",
              "          [199, 333, 144]]],\n",
              " \n",
              " \n",
              "        [[[200, 224, 206],\n",
              "          [206, 234, 211],\n",
              "          [153, 217, 234],\n",
              "          ...,\n",
              "          [189, 242, 235],\n",
              "          [241, 304, 282],\n",
              "          [248, 283, 263]],\n",
              " \n",
              "         [[151, 177, 185],\n",
              "          [175, 204, 206],\n",
              "          [187, 208, 217],\n",
              "          ...,\n",
              "          [148, 201, 180],\n",
              "          [163, 208, 204],\n",
              "          [177, 208, 256]],\n",
              " \n",
              "         [[161, 186, 175],\n",
              "          [170, 180, 178],\n",
              "          [185, 228, 210],\n",
              "          ...,\n",
              "          [158, 181, 160],\n",
              "          [158, 169, 179],\n",
              "          [158, 170, 191]],\n",
              " \n",
              "         ...,\n",
              " \n",
              "         [[165, 225, 191],\n",
              "          [174, 191, 163],\n",
              "          [159, 162, 164],\n",
              "          ...,\n",
              "          [188, 191, 165],\n",
              "          [182, 187, 184],\n",
              "          [184, 218, 197]],\n",
              " \n",
              "         [[154, 183, 173],\n",
              "          [197, 212, 172],\n",
              "          [226, 245, 166],\n",
              "          ...,\n",
              "          [248, 262, 218],\n",
              "          [209, 225, 207],\n",
              "          [186, 225, 215]],\n",
              " \n",
              "         [[208, 222, 185],\n",
              "          [192, 204, 183],\n",
              "          [233, 256, 245],\n",
              "          ...,\n",
              "          [218, 263, 246],\n",
              "          [174, 210, 197],\n",
              "          [177, 197, 194]]],\n",
              " \n",
              " \n",
              "        [[[203, 261, 246],\n",
              "          [203, 286, 226],\n",
              "          [201, 272, 214],\n",
              "          ...,\n",
              "          [225, 311, 237],\n",
              "          [249, 308, 256],\n",
              "          [248, 338, 290]],\n",
              " \n",
              "         [[219, 293, 236],\n",
              "          [215, 308, 236],\n",
              "          [221, 276, 247],\n",
              "          ...,\n",
              "          [237, 330, 264],\n",
              "          [222, 306, 261],\n",
              "          [233, 317, 243]],\n",
              " \n",
              "         [[220, 283, 241],\n",
              "          [209, 303, 232],\n",
              "          [208, 278, 254],\n",
              "          ...,\n",
              "          [230, 320, 249],\n",
              "          [220, 298, 229],\n",
              "          [249, 319, 261]],\n",
              " \n",
              "         ...,\n",
              " \n",
              "         [[237, 312, 234],\n",
              "          [197, 282, 227],\n",
              "          [201, 271, 232],\n",
              "          ...,\n",
              "          [221, 315, 244],\n",
              "          [236, 329, 261],\n",
              "          [230, 343, 260]],\n",
              " \n",
              "         [[192, 286, 268],\n",
              "          [212, 287, 256],\n",
              "          [246, 317, 261],\n",
              "          ...,\n",
              "          [252, 340, 261],\n",
              "          [242, 325, 248],\n",
              "          [237, 335, 283]],\n",
              " \n",
              "         [[228, 287, 234],\n",
              "          [211, 297, 226],\n",
              "          [240, 318, 286],\n",
              "          ...,\n",
              "          [242, 349, 327],\n",
              "          [237, 338, 280],\n",
              "          [237, 318, 276]]],\n",
              " \n",
              " \n",
              "        [[[248, 442, 179],\n",
              "          [272, 487, 201],\n",
              "          [277, 444, 202],\n",
              "          ...,\n",
              "          [298, 403, 204],\n",
              "          [298, 394, 205],\n",
              "          [275, 371, 189]],\n",
              " \n",
              "         [[237, 449, 185],\n",
              "          [237, 430, 192],\n",
              "          [252, 455, 217],\n",
              "          ...,\n",
              "          [308, 403, 179],\n",
              "          [258, 380, 179],\n",
              "          [242, 373, 186]],\n",
              " \n",
              "         [[247, 501, 201],\n",
              "          [271, 448, 180],\n",
              "          [256, 462, 195],\n",
              "          ...,\n",
              "          [294, 395, 171],\n",
              "          [221, 338, 155],\n",
              "          [229, 331, 167]],\n",
              " \n",
              "         ...,\n",
              " \n",
              "         [[232, 361, 167],\n",
              "          [208, 392, 177],\n",
              "          [200, 413, 171],\n",
              "          ...,\n",
              "          [186, 255, 107],\n",
              "          [172, 278, 100],\n",
              "          [168, 248, 114]],\n",
              " \n",
              "         [[189, 300, 135],\n",
              "          [185, 336, 143],\n",
              "          [179, 351, 148],\n",
              "          ...,\n",
              "          [192, 298, 132],\n",
              "          [201, 327, 145],\n",
              "          [199, 306, 120]],\n",
              " \n",
              "         [[205, 318, 132],\n",
              "          [204, 330, 146],\n",
              "          [214, 362, 167],\n",
              "          ...,\n",
              "          [194, 340, 139],\n",
              "          [212, 359, 167],\n",
              "          [199, 341, 137]]],\n",
              " \n",
              " \n",
              "        [[[201, 247, 222],\n",
              "          [195, 282, 248],\n",
              "          [219, 307, 295],\n",
              "          ...,\n",
              "          [289, 363, 282],\n",
              "          [267, 362, 313],\n",
              "          [233, 352, 279]],\n",
              " \n",
              "         [[197, 267, 235],\n",
              "          [206, 281, 229],\n",
              "          [205, 277, 245],\n",
              "          ...,\n",
              "          [197, 335, 298],\n",
              "          [186, 284, 278],\n",
              "          [203, 292, 260]],\n",
              " \n",
              "         [[191, 275, 245],\n",
              "          [201, 291, 258],\n",
              "          [184, 280, 242],\n",
              "          ...,\n",
              "          [249, 310, 233],\n",
              "          [254, 319, 257],\n",
              "          [220, 291, 240]],\n",
              " \n",
              "         ...,\n",
              " \n",
              "         [[224, 289, 253],\n",
              "          [231, 260, 220],\n",
              "          [234, 275, 200],\n",
              "          ...,\n",
              "          [241, 311, 264],\n",
              "          [217, 306, 241],\n",
              "          [203, 278, 216]],\n",
              " \n",
              "         [[188, 284, 250],\n",
              "          [193, 286, 263],\n",
              "          [204, 270, 263],\n",
              "          ...,\n",
              "          [197, 278, 254],\n",
              "          [207, 306, 266],\n",
              "          [213, 304, 260]],\n",
              " \n",
              "         [[223, 245, 226],\n",
              "          [178, 257, 232],\n",
              "          [193, 253, 215],\n",
              "          ...,\n",
              "          [225, 268, 269],\n",
              "          [218, 281, 286],\n",
              "          [220, 324, 317]]]], dtype=uint16), array([1, 1, 1, 1, 1]))"
            ]
          },
          "metadata": {
            "tags": []
          },
          "execution_count": 15
        }
      ]
    },
    {
      "cell_type": "code",
      "metadata": {
        "id": "OMOJhzQU-XKs"
      },
      "source": [
        "img, label = data_gen.__getitem__(0)"
      ],
      "execution_count": null,
      "outputs": []
    },
    {
      "cell_type": "code",
      "metadata": {
        "id": "2H4qTSdEpn3n",
        "outputId": "fdd1090d-81db-4f1b-cd66-0f72b82bc0fb",
        "colab": {
          "base_uri": "https://localhost:8080/",
          "height": 34
        }
      },
      "source": [
        "label.shape"
      ],
      "execution_count": null,
      "outputs": [
        {
          "output_type": "execute_result",
          "data": {
            "text/plain": [
              "(5,)"
            ]
          },
          "metadata": {
            "tags": []
          },
          "execution_count": 17
        }
      ]
    },
    {
      "cell_type": "code",
      "metadata": {
        "id": "QaW1nbxfOLDk",
        "outputId": "498cb5ca-cbbf-47e0-f5fa-060e69286603",
        "colab": {
          "base_uri": "https://localhost:8080/",
          "height": 34
        }
      },
      "source": [
        "img.shape"
      ],
      "execution_count": null,
      "outputs": [
        {
          "output_type": "execute_result",
          "data": {
            "text/plain": [
              "(5, 120, 120, 3)"
            ]
          },
          "metadata": {
            "tags": []
          },
          "execution_count": 18
        }
      ]
    },
    {
      "cell_type": "code",
      "metadata": {
        "id": "5wH1yQNMtlDm"
      },
      "source": [
        "train_list = img_list[:int(len(img_list)*0.8)]\n",
        "test_list = img_list[int(len(img_list)*0.8):]"
      ],
      "execution_count": null,
      "outputs": []
    },
    {
      "cell_type": "code",
      "metadata": {
        "id": "dt3Db0_FtpFZ"
      },
      "source": [
        "base_model = tf.keras.applications.resnet_v2.ResNet50V2(include_top=False, weights=None, pooling='avg')\n",
        "x = base_model.output\n",
        "x = tf.keras.layers.Dropout(0.5)(x)\n",
        "out = tf.keras.layers.Dense(1, activation='sigmoid')(x)"
      ],
      "execution_count": null,
      "outputs": []
    },
    {
      "cell_type": "code",
      "metadata": {
        "id": "JQSkLcAnuN9C"
      },
      "source": [
        "model = tf.keras.models.Model(inputs=base_model.input, outputs=out)"
      ],
      "execution_count": null,
      "outputs": []
    },
    {
      "cell_type": "code",
      "metadata": {
        "id": "gp0ipp7qvAu8",
        "outputId": "f5f58a3f-f989-4ae1-9a73-463932db2869",
        "colab": {
          "base_uri": "https://localhost:8080/",
          "height": 1000
        }
      },
      "source": [
        "model.summary()"
      ],
      "execution_count": null,
      "outputs": [
        {
          "output_type": "stream",
          "text": [
            "Model: \"functional_1\"\n",
            "__________________________________________________________________________________________________\n",
            "Layer (type)                    Output Shape         Param #     Connected to                     \n",
            "==================================================================================================\n",
            "input_2 (InputLayer)            [(None, None, None,  0                                            \n",
            "__________________________________________________________________________________________________\n",
            "conv1_pad (ZeroPadding2D)       (None, None, None, 3 0           input_2[0][0]                    \n",
            "__________________________________________________________________________________________________\n",
            "conv1_conv (Conv2D)             (None, None, None, 6 9472        conv1_pad[0][0]                  \n",
            "__________________________________________________________________________________________________\n",
            "pool1_pad (ZeroPadding2D)       (None, None, None, 6 0           conv1_conv[0][0]                 \n",
            "__________________________________________________________________________________________________\n",
            "pool1_pool (MaxPooling2D)       (None, None, None, 6 0           pool1_pad[0][0]                  \n",
            "__________________________________________________________________________________________________\n",
            "conv2_block1_preact_bn (BatchNo (None, None, None, 6 256         pool1_pool[0][0]                 \n",
            "__________________________________________________________________________________________________\n",
            "conv2_block1_preact_relu (Activ (None, None, None, 6 0           conv2_block1_preact_bn[0][0]     \n",
            "__________________________________________________________________________________________________\n",
            "conv2_block1_1_conv (Conv2D)    (None, None, None, 6 4096        conv2_block1_preact_relu[0][0]   \n",
            "__________________________________________________________________________________________________\n",
            "conv2_block1_1_bn (BatchNormali (None, None, None, 6 256         conv2_block1_1_conv[0][0]        \n",
            "__________________________________________________________________________________________________\n",
            "conv2_block1_1_relu (Activation (None, None, None, 6 0           conv2_block1_1_bn[0][0]          \n",
            "__________________________________________________________________________________________________\n",
            "conv2_block1_2_pad (ZeroPadding (None, None, None, 6 0           conv2_block1_1_relu[0][0]        \n",
            "__________________________________________________________________________________________________\n",
            "conv2_block1_2_conv (Conv2D)    (None, None, None, 6 36864       conv2_block1_2_pad[0][0]         \n",
            "__________________________________________________________________________________________________\n",
            "conv2_block1_2_bn (BatchNormali (None, None, None, 6 256         conv2_block1_2_conv[0][0]        \n",
            "__________________________________________________________________________________________________\n",
            "conv2_block1_2_relu (Activation (None, None, None, 6 0           conv2_block1_2_bn[0][0]          \n",
            "__________________________________________________________________________________________________\n",
            "conv2_block1_0_conv (Conv2D)    (None, None, None, 2 16640       conv2_block1_preact_relu[0][0]   \n",
            "__________________________________________________________________________________________________\n",
            "conv2_block1_3_conv (Conv2D)    (None, None, None, 2 16640       conv2_block1_2_relu[0][0]        \n",
            "__________________________________________________________________________________________________\n",
            "conv2_block1_out (Add)          (None, None, None, 2 0           conv2_block1_0_conv[0][0]        \n",
            "                                                                 conv2_block1_3_conv[0][0]        \n",
            "__________________________________________________________________________________________________\n",
            "conv2_block2_preact_bn (BatchNo (None, None, None, 2 1024        conv2_block1_out[0][0]           \n",
            "__________________________________________________________________________________________________\n",
            "conv2_block2_preact_relu (Activ (None, None, None, 2 0           conv2_block2_preact_bn[0][0]     \n",
            "__________________________________________________________________________________________________\n",
            "conv2_block2_1_conv (Conv2D)    (None, None, None, 6 16384       conv2_block2_preact_relu[0][0]   \n",
            "__________________________________________________________________________________________________\n",
            "conv2_block2_1_bn (BatchNormali (None, None, None, 6 256         conv2_block2_1_conv[0][0]        \n",
            "__________________________________________________________________________________________________\n",
            "conv2_block2_1_relu (Activation (None, None, None, 6 0           conv2_block2_1_bn[0][0]          \n",
            "__________________________________________________________________________________________________\n",
            "conv2_block2_2_pad (ZeroPadding (None, None, None, 6 0           conv2_block2_1_relu[0][0]        \n",
            "__________________________________________________________________________________________________\n",
            "conv2_block2_2_conv (Conv2D)    (None, None, None, 6 36864       conv2_block2_2_pad[0][0]         \n",
            "__________________________________________________________________________________________________\n",
            "conv2_block2_2_bn (BatchNormali (None, None, None, 6 256         conv2_block2_2_conv[0][0]        \n",
            "__________________________________________________________________________________________________\n",
            "conv2_block2_2_relu (Activation (None, None, None, 6 0           conv2_block2_2_bn[0][0]          \n",
            "__________________________________________________________________________________________________\n",
            "conv2_block2_3_conv (Conv2D)    (None, None, None, 2 16640       conv2_block2_2_relu[0][0]        \n",
            "__________________________________________________________________________________________________\n",
            "conv2_block2_out (Add)          (None, None, None, 2 0           conv2_block1_out[0][0]           \n",
            "                                                                 conv2_block2_3_conv[0][0]        \n",
            "__________________________________________________________________________________________________\n",
            "conv2_block3_preact_bn (BatchNo (None, None, None, 2 1024        conv2_block2_out[0][0]           \n",
            "__________________________________________________________________________________________________\n",
            "conv2_block3_preact_relu (Activ (None, None, None, 2 0           conv2_block3_preact_bn[0][0]     \n",
            "__________________________________________________________________________________________________\n",
            "conv2_block3_1_conv (Conv2D)    (None, None, None, 6 16384       conv2_block3_preact_relu[0][0]   \n",
            "__________________________________________________________________________________________________\n",
            "conv2_block3_1_bn (BatchNormali (None, None, None, 6 256         conv2_block3_1_conv[0][0]        \n",
            "__________________________________________________________________________________________________\n",
            "conv2_block3_1_relu (Activation (None, None, None, 6 0           conv2_block3_1_bn[0][0]          \n",
            "__________________________________________________________________________________________________\n",
            "conv2_block3_2_pad (ZeroPadding (None, None, None, 6 0           conv2_block3_1_relu[0][0]        \n",
            "__________________________________________________________________________________________________\n",
            "conv2_block3_2_conv (Conv2D)    (None, None, None, 6 36864       conv2_block3_2_pad[0][0]         \n",
            "__________________________________________________________________________________________________\n",
            "conv2_block3_2_bn (BatchNormali (None, None, None, 6 256         conv2_block3_2_conv[0][0]        \n",
            "__________________________________________________________________________________________________\n",
            "conv2_block3_2_relu (Activation (None, None, None, 6 0           conv2_block3_2_bn[0][0]          \n",
            "__________________________________________________________________________________________________\n",
            "max_pooling2d_3 (MaxPooling2D)  (None, None, None, 2 0           conv2_block2_out[0][0]           \n",
            "__________________________________________________________________________________________________\n",
            "conv2_block3_3_conv (Conv2D)    (None, None, None, 2 16640       conv2_block3_2_relu[0][0]        \n",
            "__________________________________________________________________________________________________\n",
            "conv2_block3_out (Add)          (None, None, None, 2 0           max_pooling2d_3[0][0]            \n",
            "                                                                 conv2_block3_3_conv[0][0]        \n",
            "__________________________________________________________________________________________________\n",
            "conv3_block1_preact_bn (BatchNo (None, None, None, 2 1024        conv2_block3_out[0][0]           \n",
            "__________________________________________________________________________________________________\n",
            "conv3_block1_preact_relu (Activ (None, None, None, 2 0           conv3_block1_preact_bn[0][0]     \n",
            "__________________________________________________________________________________________________\n",
            "conv3_block1_1_conv (Conv2D)    (None, None, None, 1 32768       conv3_block1_preact_relu[0][0]   \n",
            "__________________________________________________________________________________________________\n",
            "conv3_block1_1_bn (BatchNormali (None, None, None, 1 512         conv3_block1_1_conv[0][0]        \n",
            "__________________________________________________________________________________________________\n",
            "conv3_block1_1_relu (Activation (None, None, None, 1 0           conv3_block1_1_bn[0][0]          \n",
            "__________________________________________________________________________________________________\n",
            "conv3_block1_2_pad (ZeroPadding (None, None, None, 1 0           conv3_block1_1_relu[0][0]        \n",
            "__________________________________________________________________________________________________\n",
            "conv3_block1_2_conv (Conv2D)    (None, None, None, 1 147456      conv3_block1_2_pad[0][0]         \n",
            "__________________________________________________________________________________________________\n",
            "conv3_block1_2_bn (BatchNormali (None, None, None, 1 512         conv3_block1_2_conv[0][0]        \n",
            "__________________________________________________________________________________________________\n",
            "conv3_block1_2_relu (Activation (None, None, None, 1 0           conv3_block1_2_bn[0][0]          \n",
            "__________________________________________________________________________________________________\n",
            "conv3_block1_0_conv (Conv2D)    (None, None, None, 5 131584      conv3_block1_preact_relu[0][0]   \n",
            "__________________________________________________________________________________________________\n",
            "conv3_block1_3_conv (Conv2D)    (None, None, None, 5 66048       conv3_block1_2_relu[0][0]        \n",
            "__________________________________________________________________________________________________\n",
            "conv3_block1_out (Add)          (None, None, None, 5 0           conv3_block1_0_conv[0][0]        \n",
            "                                                                 conv3_block1_3_conv[0][0]        \n",
            "__________________________________________________________________________________________________\n",
            "conv3_block2_preact_bn (BatchNo (None, None, None, 5 2048        conv3_block1_out[0][0]           \n",
            "__________________________________________________________________________________________________\n",
            "conv3_block2_preact_relu (Activ (None, None, None, 5 0           conv3_block2_preact_bn[0][0]     \n",
            "__________________________________________________________________________________________________\n",
            "conv3_block2_1_conv (Conv2D)    (None, None, None, 1 65536       conv3_block2_preact_relu[0][0]   \n",
            "__________________________________________________________________________________________________\n",
            "conv3_block2_1_bn (BatchNormali (None, None, None, 1 512         conv3_block2_1_conv[0][0]        \n",
            "__________________________________________________________________________________________________\n",
            "conv3_block2_1_relu (Activation (None, None, None, 1 0           conv3_block2_1_bn[0][0]          \n",
            "__________________________________________________________________________________________________\n",
            "conv3_block2_2_pad (ZeroPadding (None, None, None, 1 0           conv3_block2_1_relu[0][0]        \n",
            "__________________________________________________________________________________________________\n",
            "conv3_block2_2_conv (Conv2D)    (None, None, None, 1 147456      conv3_block2_2_pad[0][0]         \n",
            "__________________________________________________________________________________________________\n",
            "conv3_block2_2_bn (BatchNormali (None, None, None, 1 512         conv3_block2_2_conv[0][0]        \n",
            "__________________________________________________________________________________________________\n",
            "conv3_block2_2_relu (Activation (None, None, None, 1 0           conv3_block2_2_bn[0][0]          \n",
            "__________________________________________________________________________________________________\n",
            "conv3_block2_3_conv (Conv2D)    (None, None, None, 5 66048       conv3_block2_2_relu[0][0]        \n",
            "__________________________________________________________________________________________________\n",
            "conv3_block2_out (Add)          (None, None, None, 5 0           conv3_block1_out[0][0]           \n",
            "                                                                 conv3_block2_3_conv[0][0]        \n",
            "__________________________________________________________________________________________________\n",
            "conv3_block3_preact_bn (BatchNo (None, None, None, 5 2048        conv3_block2_out[0][0]           \n",
            "__________________________________________________________________________________________________\n",
            "conv3_block3_preact_relu (Activ (None, None, None, 5 0           conv3_block3_preact_bn[0][0]     \n",
            "__________________________________________________________________________________________________\n",
            "conv3_block3_1_conv (Conv2D)    (None, None, None, 1 65536       conv3_block3_preact_relu[0][0]   \n",
            "__________________________________________________________________________________________________\n",
            "conv3_block3_1_bn (BatchNormali (None, None, None, 1 512         conv3_block3_1_conv[0][0]        \n",
            "__________________________________________________________________________________________________\n",
            "conv3_block3_1_relu (Activation (None, None, None, 1 0           conv3_block3_1_bn[0][0]          \n",
            "__________________________________________________________________________________________________\n",
            "conv3_block3_2_pad (ZeroPadding (None, None, None, 1 0           conv3_block3_1_relu[0][0]        \n",
            "__________________________________________________________________________________________________\n",
            "conv3_block3_2_conv (Conv2D)    (None, None, None, 1 147456      conv3_block3_2_pad[0][0]         \n",
            "__________________________________________________________________________________________________\n",
            "conv3_block3_2_bn (BatchNormali (None, None, None, 1 512         conv3_block3_2_conv[0][0]        \n",
            "__________________________________________________________________________________________________\n",
            "conv3_block3_2_relu (Activation (None, None, None, 1 0           conv3_block3_2_bn[0][0]          \n",
            "__________________________________________________________________________________________________\n",
            "conv3_block3_3_conv (Conv2D)    (None, None, None, 5 66048       conv3_block3_2_relu[0][0]        \n",
            "__________________________________________________________________________________________________\n",
            "conv3_block3_out (Add)          (None, None, None, 5 0           conv3_block2_out[0][0]           \n",
            "                                                                 conv3_block3_3_conv[0][0]        \n",
            "__________________________________________________________________________________________________\n",
            "conv3_block4_preact_bn (BatchNo (None, None, None, 5 2048        conv3_block3_out[0][0]           \n",
            "__________________________________________________________________________________________________\n",
            "conv3_block4_preact_relu (Activ (None, None, None, 5 0           conv3_block4_preact_bn[0][0]     \n",
            "__________________________________________________________________________________________________\n",
            "conv3_block4_1_conv (Conv2D)    (None, None, None, 1 65536       conv3_block4_preact_relu[0][0]   \n",
            "__________________________________________________________________________________________________\n",
            "conv3_block4_1_bn (BatchNormali (None, None, None, 1 512         conv3_block4_1_conv[0][0]        \n",
            "__________________________________________________________________________________________________\n",
            "conv3_block4_1_relu (Activation (None, None, None, 1 0           conv3_block4_1_bn[0][0]          \n",
            "__________________________________________________________________________________________________\n",
            "conv3_block4_2_pad (ZeroPadding (None, None, None, 1 0           conv3_block4_1_relu[0][0]        \n",
            "__________________________________________________________________________________________________\n",
            "conv3_block4_2_conv (Conv2D)    (None, None, None, 1 147456      conv3_block4_2_pad[0][0]         \n",
            "__________________________________________________________________________________________________\n",
            "conv3_block4_2_bn (BatchNormali (None, None, None, 1 512         conv3_block4_2_conv[0][0]        \n",
            "__________________________________________________________________________________________________\n",
            "conv3_block4_2_relu (Activation (None, None, None, 1 0           conv3_block4_2_bn[0][0]          \n",
            "__________________________________________________________________________________________________\n",
            "max_pooling2d_4 (MaxPooling2D)  (None, None, None, 5 0           conv3_block3_out[0][0]           \n",
            "__________________________________________________________________________________________________\n",
            "conv3_block4_3_conv (Conv2D)    (None, None, None, 5 66048       conv3_block4_2_relu[0][0]        \n",
            "__________________________________________________________________________________________________\n",
            "conv3_block4_out (Add)          (None, None, None, 5 0           max_pooling2d_4[0][0]            \n",
            "                                                                 conv3_block4_3_conv[0][0]        \n",
            "__________________________________________________________________________________________________\n",
            "conv4_block1_preact_bn (BatchNo (None, None, None, 5 2048        conv3_block4_out[0][0]           \n",
            "__________________________________________________________________________________________________\n",
            "conv4_block1_preact_relu (Activ (None, None, None, 5 0           conv4_block1_preact_bn[0][0]     \n",
            "__________________________________________________________________________________________________\n",
            "conv4_block1_1_conv (Conv2D)    (None, None, None, 2 131072      conv4_block1_preact_relu[0][0]   \n",
            "__________________________________________________________________________________________________\n",
            "conv4_block1_1_bn (BatchNormali (None, None, None, 2 1024        conv4_block1_1_conv[0][0]        \n",
            "__________________________________________________________________________________________________\n",
            "conv4_block1_1_relu (Activation (None, None, None, 2 0           conv4_block1_1_bn[0][0]          \n",
            "__________________________________________________________________________________________________\n",
            "conv4_block1_2_pad (ZeroPadding (None, None, None, 2 0           conv4_block1_1_relu[0][0]        \n",
            "__________________________________________________________________________________________________\n",
            "conv4_block1_2_conv (Conv2D)    (None, None, None, 2 589824      conv4_block1_2_pad[0][0]         \n",
            "__________________________________________________________________________________________________\n",
            "conv4_block1_2_bn (BatchNormali (None, None, None, 2 1024        conv4_block1_2_conv[0][0]        \n",
            "__________________________________________________________________________________________________\n",
            "conv4_block1_2_relu (Activation (None, None, None, 2 0           conv4_block1_2_bn[0][0]          \n",
            "__________________________________________________________________________________________________\n",
            "conv4_block1_0_conv (Conv2D)    (None, None, None, 1 525312      conv4_block1_preact_relu[0][0]   \n",
            "__________________________________________________________________________________________________\n",
            "conv4_block1_3_conv (Conv2D)    (None, None, None, 1 263168      conv4_block1_2_relu[0][0]        \n",
            "__________________________________________________________________________________________________\n",
            "conv4_block1_out (Add)          (None, None, None, 1 0           conv4_block1_0_conv[0][0]        \n",
            "                                                                 conv4_block1_3_conv[0][0]        \n",
            "__________________________________________________________________________________________________\n",
            "conv4_block2_preact_bn (BatchNo (None, None, None, 1 4096        conv4_block1_out[0][0]           \n",
            "__________________________________________________________________________________________________\n",
            "conv4_block2_preact_relu (Activ (None, None, None, 1 0           conv4_block2_preact_bn[0][0]     \n",
            "__________________________________________________________________________________________________\n",
            "conv4_block2_1_conv (Conv2D)    (None, None, None, 2 262144      conv4_block2_preact_relu[0][0]   \n",
            "__________________________________________________________________________________________________\n",
            "conv4_block2_1_bn (BatchNormali (None, None, None, 2 1024        conv4_block2_1_conv[0][0]        \n",
            "__________________________________________________________________________________________________\n",
            "conv4_block2_1_relu (Activation (None, None, None, 2 0           conv4_block2_1_bn[0][0]          \n",
            "__________________________________________________________________________________________________\n",
            "conv4_block2_2_pad (ZeroPadding (None, None, None, 2 0           conv4_block2_1_relu[0][0]        \n",
            "__________________________________________________________________________________________________\n",
            "conv4_block2_2_conv (Conv2D)    (None, None, None, 2 589824      conv4_block2_2_pad[0][0]         \n",
            "__________________________________________________________________________________________________\n",
            "conv4_block2_2_bn (BatchNormali (None, None, None, 2 1024        conv4_block2_2_conv[0][0]        \n",
            "__________________________________________________________________________________________________\n",
            "conv4_block2_2_relu (Activation (None, None, None, 2 0           conv4_block2_2_bn[0][0]          \n",
            "__________________________________________________________________________________________________\n",
            "conv4_block2_3_conv (Conv2D)    (None, None, None, 1 263168      conv4_block2_2_relu[0][0]        \n",
            "__________________________________________________________________________________________________\n",
            "conv4_block2_out (Add)          (None, None, None, 1 0           conv4_block1_out[0][0]           \n",
            "                                                                 conv4_block2_3_conv[0][0]        \n",
            "__________________________________________________________________________________________________\n",
            "conv4_block3_preact_bn (BatchNo (None, None, None, 1 4096        conv4_block2_out[0][0]           \n",
            "__________________________________________________________________________________________________\n",
            "conv4_block3_preact_relu (Activ (None, None, None, 1 0           conv4_block3_preact_bn[0][0]     \n",
            "__________________________________________________________________________________________________\n",
            "conv4_block3_1_conv (Conv2D)    (None, None, None, 2 262144      conv4_block3_preact_relu[0][0]   \n",
            "__________________________________________________________________________________________________\n",
            "conv4_block3_1_bn (BatchNormali (None, None, None, 2 1024        conv4_block3_1_conv[0][0]        \n",
            "__________________________________________________________________________________________________\n",
            "conv4_block3_1_relu (Activation (None, None, None, 2 0           conv4_block3_1_bn[0][0]          \n",
            "__________________________________________________________________________________________________\n",
            "conv4_block3_2_pad (ZeroPadding (None, None, None, 2 0           conv4_block3_1_relu[0][0]        \n",
            "__________________________________________________________________________________________________\n",
            "conv4_block3_2_conv (Conv2D)    (None, None, None, 2 589824      conv4_block3_2_pad[0][0]         \n",
            "__________________________________________________________________________________________________\n",
            "conv4_block3_2_bn (BatchNormali (None, None, None, 2 1024        conv4_block3_2_conv[0][0]        \n",
            "__________________________________________________________________________________________________\n",
            "conv4_block3_2_relu (Activation (None, None, None, 2 0           conv4_block3_2_bn[0][0]          \n",
            "__________________________________________________________________________________________________\n",
            "conv4_block3_3_conv (Conv2D)    (None, None, None, 1 263168      conv4_block3_2_relu[0][0]        \n",
            "__________________________________________________________________________________________________\n",
            "conv4_block3_out (Add)          (None, None, None, 1 0           conv4_block2_out[0][0]           \n",
            "                                                                 conv4_block3_3_conv[0][0]        \n",
            "__________________________________________________________________________________________________\n",
            "conv4_block4_preact_bn (BatchNo (None, None, None, 1 4096        conv4_block3_out[0][0]           \n",
            "__________________________________________________________________________________________________\n",
            "conv4_block4_preact_relu (Activ (None, None, None, 1 0           conv4_block4_preact_bn[0][0]     \n",
            "__________________________________________________________________________________________________\n",
            "conv4_block4_1_conv (Conv2D)    (None, None, None, 2 262144      conv4_block4_preact_relu[0][0]   \n",
            "__________________________________________________________________________________________________\n",
            "conv4_block4_1_bn (BatchNormali (None, None, None, 2 1024        conv4_block4_1_conv[0][0]        \n",
            "__________________________________________________________________________________________________\n",
            "conv4_block4_1_relu (Activation (None, None, None, 2 0           conv4_block4_1_bn[0][0]          \n",
            "__________________________________________________________________________________________________\n",
            "conv4_block4_2_pad (ZeroPadding (None, None, None, 2 0           conv4_block4_1_relu[0][0]        \n",
            "__________________________________________________________________________________________________\n",
            "conv4_block4_2_conv (Conv2D)    (None, None, None, 2 589824      conv4_block4_2_pad[0][0]         \n",
            "__________________________________________________________________________________________________\n",
            "conv4_block4_2_bn (BatchNormali (None, None, None, 2 1024        conv4_block4_2_conv[0][0]        \n",
            "__________________________________________________________________________________________________\n",
            "conv4_block4_2_relu (Activation (None, None, None, 2 0           conv4_block4_2_bn[0][0]          \n",
            "__________________________________________________________________________________________________\n",
            "conv4_block4_3_conv (Conv2D)    (None, None, None, 1 263168      conv4_block4_2_relu[0][0]        \n",
            "__________________________________________________________________________________________________\n",
            "conv4_block4_out (Add)          (None, None, None, 1 0           conv4_block3_out[0][0]           \n",
            "                                                                 conv4_block4_3_conv[0][0]        \n",
            "__________________________________________________________________________________________________\n",
            "conv4_block5_preact_bn (BatchNo (None, None, None, 1 4096        conv4_block4_out[0][0]           \n",
            "__________________________________________________________________________________________________\n",
            "conv4_block5_preact_relu (Activ (None, None, None, 1 0           conv4_block5_preact_bn[0][0]     \n",
            "__________________________________________________________________________________________________\n",
            "conv4_block5_1_conv (Conv2D)    (None, None, None, 2 262144      conv4_block5_preact_relu[0][0]   \n",
            "__________________________________________________________________________________________________\n",
            "conv4_block5_1_bn (BatchNormali (None, None, None, 2 1024        conv4_block5_1_conv[0][0]        \n",
            "__________________________________________________________________________________________________\n",
            "conv4_block5_1_relu (Activation (None, None, None, 2 0           conv4_block5_1_bn[0][0]          \n",
            "__________________________________________________________________________________________________\n",
            "conv4_block5_2_pad (ZeroPadding (None, None, None, 2 0           conv4_block5_1_relu[0][0]        \n",
            "__________________________________________________________________________________________________\n",
            "conv4_block5_2_conv (Conv2D)    (None, None, None, 2 589824      conv4_block5_2_pad[0][0]         \n",
            "__________________________________________________________________________________________________\n",
            "conv4_block5_2_bn (BatchNormali (None, None, None, 2 1024        conv4_block5_2_conv[0][0]        \n",
            "__________________________________________________________________________________________________\n",
            "conv4_block5_2_relu (Activation (None, None, None, 2 0           conv4_block5_2_bn[0][0]          \n",
            "__________________________________________________________________________________________________\n",
            "conv4_block5_3_conv (Conv2D)    (None, None, None, 1 263168      conv4_block5_2_relu[0][0]        \n",
            "__________________________________________________________________________________________________\n",
            "conv4_block5_out (Add)          (None, None, None, 1 0           conv4_block4_out[0][0]           \n",
            "                                                                 conv4_block5_3_conv[0][0]        \n",
            "__________________________________________________________________________________________________\n",
            "conv4_block6_preact_bn (BatchNo (None, None, None, 1 4096        conv4_block5_out[0][0]           \n",
            "__________________________________________________________________________________________________\n",
            "conv4_block6_preact_relu (Activ (None, None, None, 1 0           conv4_block6_preact_bn[0][0]     \n",
            "__________________________________________________________________________________________________\n",
            "conv4_block6_1_conv (Conv2D)    (None, None, None, 2 262144      conv4_block6_preact_relu[0][0]   \n",
            "__________________________________________________________________________________________________\n",
            "conv4_block6_1_bn (BatchNormali (None, None, None, 2 1024        conv4_block6_1_conv[0][0]        \n",
            "__________________________________________________________________________________________________\n",
            "conv4_block6_1_relu (Activation (None, None, None, 2 0           conv4_block6_1_bn[0][0]          \n",
            "__________________________________________________________________________________________________\n",
            "conv4_block6_2_pad (ZeroPadding (None, None, None, 2 0           conv4_block6_1_relu[0][0]        \n",
            "__________________________________________________________________________________________________\n",
            "conv4_block6_2_conv (Conv2D)    (None, None, None, 2 589824      conv4_block6_2_pad[0][0]         \n",
            "__________________________________________________________________________________________________\n",
            "conv4_block6_2_bn (BatchNormali (None, None, None, 2 1024        conv4_block6_2_conv[0][0]        \n",
            "__________________________________________________________________________________________________\n",
            "conv4_block6_2_relu (Activation (None, None, None, 2 0           conv4_block6_2_bn[0][0]          \n",
            "__________________________________________________________________________________________________\n",
            "max_pooling2d_5 (MaxPooling2D)  (None, None, None, 1 0           conv4_block5_out[0][0]           \n",
            "__________________________________________________________________________________________________\n",
            "conv4_block6_3_conv (Conv2D)    (None, None, None, 1 263168      conv4_block6_2_relu[0][0]        \n",
            "__________________________________________________________________________________________________\n",
            "conv4_block6_out (Add)          (None, None, None, 1 0           max_pooling2d_5[0][0]            \n",
            "                                                                 conv4_block6_3_conv[0][0]        \n",
            "__________________________________________________________________________________________________\n",
            "conv5_block1_preact_bn (BatchNo (None, None, None, 1 4096        conv4_block6_out[0][0]           \n",
            "__________________________________________________________________________________________________\n",
            "conv5_block1_preact_relu (Activ (None, None, None, 1 0           conv5_block1_preact_bn[0][0]     \n",
            "__________________________________________________________________________________________________\n",
            "conv5_block1_1_conv (Conv2D)    (None, None, None, 5 524288      conv5_block1_preact_relu[0][0]   \n",
            "__________________________________________________________________________________________________\n",
            "conv5_block1_1_bn (BatchNormali (None, None, None, 5 2048        conv5_block1_1_conv[0][0]        \n",
            "__________________________________________________________________________________________________\n",
            "conv5_block1_1_relu (Activation (None, None, None, 5 0           conv5_block1_1_bn[0][0]          \n",
            "__________________________________________________________________________________________________\n",
            "conv5_block1_2_pad (ZeroPadding (None, None, None, 5 0           conv5_block1_1_relu[0][0]        \n",
            "__________________________________________________________________________________________________\n",
            "conv5_block1_2_conv (Conv2D)    (None, None, None, 5 2359296     conv5_block1_2_pad[0][0]         \n",
            "__________________________________________________________________________________________________\n",
            "conv5_block1_2_bn (BatchNormali (None, None, None, 5 2048        conv5_block1_2_conv[0][0]        \n",
            "__________________________________________________________________________________________________\n",
            "conv5_block1_2_relu (Activation (None, None, None, 5 0           conv5_block1_2_bn[0][0]          \n",
            "__________________________________________________________________________________________________\n",
            "conv5_block1_0_conv (Conv2D)    (None, None, None, 2 2099200     conv5_block1_preact_relu[0][0]   \n",
            "__________________________________________________________________________________________________\n",
            "conv5_block1_3_conv (Conv2D)    (None, None, None, 2 1050624     conv5_block1_2_relu[0][0]        \n",
            "__________________________________________________________________________________________________\n",
            "conv5_block1_out (Add)          (None, None, None, 2 0           conv5_block1_0_conv[0][0]        \n",
            "                                                                 conv5_block1_3_conv[0][0]        \n",
            "__________________________________________________________________________________________________\n",
            "conv5_block2_preact_bn (BatchNo (None, None, None, 2 8192        conv5_block1_out[0][0]           \n",
            "__________________________________________________________________________________________________\n",
            "conv5_block2_preact_relu (Activ (None, None, None, 2 0           conv5_block2_preact_bn[0][0]     \n",
            "__________________________________________________________________________________________________\n",
            "conv5_block2_1_conv (Conv2D)    (None, None, None, 5 1048576     conv5_block2_preact_relu[0][0]   \n",
            "__________________________________________________________________________________________________\n",
            "conv5_block2_1_bn (BatchNormali (None, None, None, 5 2048        conv5_block2_1_conv[0][0]        \n",
            "__________________________________________________________________________________________________\n",
            "conv5_block2_1_relu (Activation (None, None, None, 5 0           conv5_block2_1_bn[0][0]          \n",
            "__________________________________________________________________________________________________\n",
            "conv5_block2_2_pad (ZeroPadding (None, None, None, 5 0           conv5_block2_1_relu[0][0]        \n",
            "__________________________________________________________________________________________________\n",
            "conv5_block2_2_conv (Conv2D)    (None, None, None, 5 2359296     conv5_block2_2_pad[0][0]         \n",
            "__________________________________________________________________________________________________\n",
            "conv5_block2_2_bn (BatchNormali (None, None, None, 5 2048        conv5_block2_2_conv[0][0]        \n",
            "__________________________________________________________________________________________________\n",
            "conv5_block2_2_relu (Activation (None, None, None, 5 0           conv5_block2_2_bn[0][0]          \n",
            "__________________________________________________________________________________________________\n",
            "conv5_block2_3_conv (Conv2D)    (None, None, None, 2 1050624     conv5_block2_2_relu[0][0]        \n",
            "__________________________________________________________________________________________________\n",
            "conv5_block2_out (Add)          (None, None, None, 2 0           conv5_block1_out[0][0]           \n",
            "                                                                 conv5_block2_3_conv[0][0]        \n",
            "__________________________________________________________________________________________________\n",
            "conv5_block3_preact_bn (BatchNo (None, None, None, 2 8192        conv5_block2_out[0][0]           \n",
            "__________________________________________________________________________________________________\n",
            "conv5_block3_preact_relu (Activ (None, None, None, 2 0           conv5_block3_preact_bn[0][0]     \n",
            "__________________________________________________________________________________________________\n",
            "conv5_block3_1_conv (Conv2D)    (None, None, None, 5 1048576     conv5_block3_preact_relu[0][0]   \n",
            "__________________________________________________________________________________________________\n",
            "conv5_block3_1_bn (BatchNormali (None, None, None, 5 2048        conv5_block3_1_conv[0][0]        \n",
            "__________________________________________________________________________________________________\n",
            "conv5_block3_1_relu (Activation (None, None, None, 5 0           conv5_block3_1_bn[0][0]          \n",
            "__________________________________________________________________________________________________\n",
            "conv5_block3_2_pad (ZeroPadding (None, None, None, 5 0           conv5_block3_1_relu[0][0]        \n",
            "__________________________________________________________________________________________________\n",
            "conv5_block3_2_conv (Conv2D)    (None, None, None, 5 2359296     conv5_block3_2_pad[0][0]         \n",
            "__________________________________________________________________________________________________\n",
            "conv5_block3_2_bn (BatchNormali (None, None, None, 5 2048        conv5_block3_2_conv[0][0]        \n",
            "__________________________________________________________________________________________________\n",
            "conv5_block3_2_relu (Activation (None, None, None, 5 0           conv5_block3_2_bn[0][0]          \n",
            "__________________________________________________________________________________________________\n",
            "conv5_block3_3_conv (Conv2D)    (None, None, None, 2 1050624     conv5_block3_2_relu[0][0]        \n",
            "__________________________________________________________________________________________________\n",
            "conv5_block3_out (Add)          (None, None, None, 2 0           conv5_block2_out[0][0]           \n",
            "                                                                 conv5_block3_3_conv[0][0]        \n",
            "__________________________________________________________________________________________________\n",
            "post_bn (BatchNormalization)    (None, None, None, 2 8192        conv5_block3_out[0][0]           \n",
            "__________________________________________________________________________________________________\n",
            "post_relu (Activation)          (None, None, None, 2 0           post_bn[0][0]                    \n",
            "__________________________________________________________________________________________________\n",
            "avg_pool (GlobalAveragePooling2 (None, 2048)         0           post_relu[0][0]                  \n",
            "__________________________________________________________________________________________________\n",
            "dropout_1 (Dropout)             (None, 2048)         0           avg_pool[0][0]                   \n",
            "__________________________________________________________________________________________________\n",
            "dense_1 (Dense)                 (None, 1)            2049        dropout_1[0][0]                  \n",
            "==================================================================================================\n",
            "Total params: 23,566,849\n",
            "Trainable params: 23,521,409\n",
            "Non-trainable params: 45,440\n",
            "__________________________________________________________________________________________________\n"
          ],
          "name": "stdout"
        }
      ]
    },
    {
      "cell_type": "code",
      "metadata": {
        "id": "z0GX2hg0vuOf"
      },
      "source": [
        "model.compile(optimizer='adam', loss='binary_crossentropy', metrics=['accuracy'])"
      ],
      "execution_count": null,
      "outputs": []
    },
    {
      "cell_type": "code",
      "metadata": {
        "id": "GsvpJnonPrla"
      },
      "source": [
        "data_train = Dataset(train_list, label_map, True, 5)\n",
        "data_test = Dataset(test_list, label_map, False, 5)"
      ],
      "execution_count": null,
      "outputs": []
    },
    {
      "cell_type": "code",
      "metadata": {
        "id": "CXi5qyQXv9iS",
        "outputId": "891d14b3-3911-4f3d-9327-2c5cc1e9854a",
        "colab": {
          "base_uri": "https://localhost:8080/",
          "height": 51
        }
      },
      "source": [
        "model.fit(data_train, validation_data=data_test, epochs=1)"
      ],
      "execution_count": null,
      "outputs": [
        {
          "output_type": "stream",
          "text": [
            "29/29 [==============================] - 35s 1s/step - loss: 1.5047e-04 - accuracy: 1.0000 - val_loss: 0.0054 - val_accuracy: 1.0000\n"
          ],
          "name": "stdout"
        },
        {
          "output_type": "execute_result",
          "data": {
            "text/plain": [
              "<tensorflow.python.keras.callbacks.History at 0x7f8ddad956d8>"
            ]
          },
          "metadata": {
            "tags": []
          },
          "execution_count": 31
        }
      ]
    },
    {
      "cell_type": "code",
      "metadata": {
        "id": "NglC6g4PwQ_u",
        "outputId": "4315cf36-4d38-410e-9310-46a303af40c9",
        "colab": {
          "base_uri": "https://localhost:8080/",
          "height": 51
        }
      },
      "source": [
        "model.evaluate(data_test, batch_size=64)"
      ],
      "execution_count": null,
      "outputs": [
        {
          "output_type": "stream",
          "text": [
            "7/7 [==============================] - 1s 213ms/step - loss: 0.0054 - accuracy: 1.0000\n"
          ],
          "name": "stdout"
        },
        {
          "output_type": "execute_result",
          "data": {
            "text/plain": [
              "[0.005369278136640787, 1.0]"
            ]
          },
          "metadata": {
            "tags": []
          },
          "execution_count": 32
        }
      ]
    }
  ]
}